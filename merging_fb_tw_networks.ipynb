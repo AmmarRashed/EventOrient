{
 "cells": [
  {
   "cell_type": "code",
   "execution_count": 1,
   "metadata": {},
   "outputs": [],
   "source": [
    "import psycopg2\n",
    "\n",
    "import pandas as pd\n",
    "import numpy as np\n",
    "\n",
    "from copy import deepcopy\n",
    "\n",
    "import ast\n",
    "\n",
    "import networkx as nx\n",
    "\n",
    "import itertools\n",
    "\n",
    "import matplotlib.pyplot as plt"
   ]
  },
  {
   "cell_type": "code",
   "execution_count": 2,
   "metadata": {},
   "outputs": [
    {
     "data": {
      "text/html": [
       "<div>\n",
       "<style scoped>\n",
       "    .dataframe tbody tr th:only-of-type {\n",
       "        vertical-align: middle;\n",
       "    }\n",
       "\n",
       "    .dataframe tbody tr th {\n",
       "        vertical-align: top;\n",
       "    }\n",
       "\n",
       "    .dataframe thead th {\n",
       "        text-align: right;\n",
       "    }\n",
       "</style>\n",
       "<table border=\"1\" class=\"dataframe\">\n",
       "  <thead>\n",
       "    <tr style=\"text-align: right;\">\n",
       "      <th></th>\n",
       "      <th>sehir_matches</th>\n",
       "      <th>twitter_screen_name</th>\n",
       "      <th>profile_description</th>\n",
       "      <th>followers_count</th>\n",
       "      <th>friends_count</th>\n",
       "      <th>favourites_count</th>\n",
       "      <th>statuses_count</th>\n",
       "      <th>lang</th>\n",
       "      <th>twitter_name</th>\n",
       "      <th>fb_ID</th>\n",
       "      <th>full_name</th>\n",
       "      <th>membership</th>\n",
       "    </tr>\n",
       "    <tr>\n",
       "      <th>twitter_ID</th>\n",
       "      <th></th>\n",
       "      <th></th>\n",
       "      <th></th>\n",
       "      <th></th>\n",
       "      <th></th>\n",
       "      <th></th>\n",
       "      <th></th>\n",
       "      <th></th>\n",
       "      <th></th>\n",
       "      <th></th>\n",
       "      <th></th>\n",
       "      <th></th>\n",
       "    </tr>\n",
       "  </thead>\n",
       "  <tbody>\n",
       "    <tr>\n",
       "      <th>190493057</th>\n",
       "      <td>ebru gunes</td>\n",
       "      <td>EbruGundes</td>\n",
       "      <td>NaN</td>\n",
       "      <td>2019824</td>\n",
       "      <td>46</td>\n",
       "      <td>3</td>\n",
       "      <td>5214</td>\n",
       "      <td>tr</td>\n",
       "      <td>ebru gundes</td>\n",
       "      <td>967246670094604</td>\n",
       "      <td>ebru gunes</td>\n",
       "      <td>Sehir Dersler&amp;Hocalar</td>\n",
       "    </tr>\n",
       "    <tr>\n",
       "      <th>150218525</th>\n",
       "      <td>ebru gunes</td>\n",
       "      <td>burcugunes</td>\n",
       "      <td>NaN</td>\n",
       "      <td>653528</td>\n",
       "      <td>126</td>\n",
       "      <td>1708</td>\n",
       "      <td>1789</td>\n",
       "      <td>tr</td>\n",
       "      <td>burcu gunes</td>\n",
       "      <td>967246670094604</td>\n",
       "      <td>ebru gunes</td>\n",
       "      <td>Sehir Dersler&amp;Hocalar</td>\n",
       "    </tr>\n",
       "    <tr>\n",
       "      <th>2279504925</th>\n",
       "      <td>ahmet kaya</td>\n",
       "      <td>ahmet_kayaa44</td>\n",
       "      <td>NaN</td>\n",
       "      <td>450</td>\n",
       "      <td>1949</td>\n",
       "      <td>45</td>\n",
       "      <td>46</td>\n",
       "      <td>tr</td>\n",
       "      <td>ahmet kaya</td>\n",
       "      <td>10156243626489736</td>\n",
       "      <td>ahmet kaya</td>\n",
       "      <td>Sehir Duyuru</td>\n",
       "    </tr>\n",
       "    <tr>\n",
       "      <th>183210005</th>\n",
       "      <td>ahmet kaya</td>\n",
       "      <td>AhmetKaya_Fan</td>\n",
       "      <td>Cihan Kaya #AhmetKaya Sevdasıdır Kavgamız http...</td>\n",
       "      <td>139316</td>\n",
       "      <td>296</td>\n",
       "      <td>35491</td>\n",
       "      <td>33185</td>\n",
       "      <td>tr</td>\n",
       "      <td>ahmet kaya</td>\n",
       "      <td>10156243626489736</td>\n",
       "      <td>ahmet kaya</td>\n",
       "      <td>Sehir Duyuru</td>\n",
       "    </tr>\n",
       "    <tr>\n",
       "      <th>791882910</th>\n",
       "      <td>ahmet kaya</td>\n",
       "      <td>sozlerimle</td>\n",
       "      <td>Akşamlar böyle biter. Hep böyle dertli biter.</td>\n",
       "      <td>131960</td>\n",
       "      <td>33</td>\n",
       "      <td>5500</td>\n",
       "      <td>7018</td>\n",
       "      <td>tr</td>\n",
       "      <td>ahmet kaya</td>\n",
       "      <td>10156243626489736</td>\n",
       "      <td>ahmet kaya</td>\n",
       "      <td>Sehir Duyuru</td>\n",
       "    </tr>\n",
       "  </tbody>\n",
       "</table>\n",
       "</div>"
      ],
      "text/plain": [
       "           sehir_matches twitter_screen_name  \\\n",
       "twitter_ID                                     \n",
       "190493057     ebru gunes          EbruGundes   \n",
       "150218525     ebru gunes          burcugunes   \n",
       "2279504925    ahmet kaya       ahmet_kayaa44   \n",
       "183210005     ahmet kaya       AhmetKaya_Fan   \n",
       "791882910     ahmet kaya          sozlerimle   \n",
       "\n",
       "                                          profile_description  \\\n",
       "twitter_ID                                                      \n",
       "190493057                                                 NaN   \n",
       "150218525                                                 NaN   \n",
       "2279504925                                                NaN   \n",
       "183210005   Cihan Kaya #AhmetKaya Sevdasıdır Kavgamız http...   \n",
       "791882910       Akşamlar böyle biter. Hep böyle dertli biter.   \n",
       "\n",
       "            followers_count  friends_count  favourites_count  statuses_count  \\\n",
       "twitter_ID                                                                     \n",
       "190493057           2019824             46                 3            5214   \n",
       "150218525            653528            126              1708            1789   \n",
       "2279504925              450           1949                45              46   \n",
       "183210005            139316            296             35491           33185   \n",
       "791882910            131960             33              5500            7018   \n",
       "\n",
       "           lang twitter_name              fb_ID   full_name  \\\n",
       "twitter_ID                                                    \n",
       "190493057    tr  ebru gundes    967246670094604  ebru gunes   \n",
       "150218525    tr  burcu gunes    967246670094604  ebru gunes   \n",
       "2279504925   tr   ahmet kaya  10156243626489736  ahmet kaya   \n",
       "183210005    tr   ahmet kaya  10156243626489736  ahmet kaya   \n",
       "791882910    tr   ahmet kaya  10156243626489736  ahmet kaya   \n",
       "\n",
       "                       membership  \n",
       "twitter_ID                         \n",
       "190493057   Sehir Dersler&Hocalar  \n",
       "150218525   Sehir Dersler&Hocalar  \n",
       "2279504925           Sehir Duyuru  \n",
       "183210005            Sehir Duyuru  \n",
       "791882910            Sehir Duyuru  "
      ]
     },
     "execution_count": 2,
     "metadata": {},
     "output_type": "execute_result"
    }
   ],
   "source": [
    "sehir_matches_by_id = pd.read_csv('datasets/twitter_fb_matches.csv', index_col=\"ID\").set_index(\"twitter_ID\")\n",
    "sehir_matches_by_id.head(5)"
   ]
  },
  {
   "cell_type": "code",
   "execution_count": 3,
   "metadata": {},
   "outputs": [
    {
     "data": {
      "text/plain": [
       "720"
      ]
     },
     "execution_count": 3,
     "metadata": {},
     "output_type": "execute_result"
    }
   ],
   "source": [
    "len(sehir_matches_by_id)"
   ]
  },
  {
   "cell_type": "markdown",
   "metadata": {},
   "source": [
    "## Connect to sql Database"
   ]
  },
  {
   "cell_type": "code",
   "execution_count": 4,
   "metadata": {},
   "outputs": [],
   "source": [
    "connection = psycopg2.connect('dbname=twitter_accounts_new host=localhost user=postgres password=1_sehir_1')\n",
    "\n",
    "twitter_users = pd.read_sql(\"SELECT * FROM twitter_user\", connection)\\\n",
    ".rename(columns={'id': 'GUID', \n",
    "                 'name': 'twitter_name',\n",
    "                 'description': 'profile_description',\n",
    "                 'screen_name': 'twitter_screen_name'})\n",
    "\n",
    "user_connections = pd.read_sql(\"SELECT * FROM twitter_connection\", connection).drop('id', axis=1)"
   ]
  },
  {
   "cell_type": "markdown",
   "metadata": {},
   "source": [
    "## Constructing the network"
   ]
  },
  {
   "cell_type": "code",
   "execution_count": 5,
   "metadata": {},
   "outputs": [],
   "source": [
    "G = nx.Graph()\n",
    "users_ids = dict()  # user name > id\n",
    "ids_users = dict()  # user id > (twitter_ID,username)"
   ]
  },
  {
   "cell_type": "code",
   "execution_count": 6,
   "metadata": {},
   "outputs": [],
   "source": [
    "for i, row in user_connections.iterrows():\n",
    "    from_ = row['from_user_id']\n",
    "    to = row['to_user_id']\n",
    "    try:\n",
    "        from_name = sehir_matches_by_id.loc[from_][\"sehir_matches\"]\n",
    "        to_name = sehir_matches_by_id.loc[to][\"sehir_matches\"]\n",
    "    except (KeyError,TypeError) as e:\n",
    "        continue\n",
    "#         print(from_name, to_name)\n",
    "    if \"sehir\" in from_name or \"sehir\" in to_name:\n",
    "        continue\n",
    "    if type(from_name) == str:\n",
    "        from_name = [from_name]\n",
    "    if type(to_name) == str:\n",
    "        to_name = [to_name]\n",
    "    from_to = itertools.product(list(from_name), list(to_name))\n",
    "    for f,t in from_to:\n",
    "        users_ids.setdefault(f, len(users_ids))\n",
    "        ids_users[users_ids[f]] = (from_, f)\n",
    "        \n",
    "        users_ids.setdefault(t, len(users_ids))\n",
    "        ids_users[users_ids[t]] = (to, t)\n",
    "        \n",
    "        G.add_edge(users_ids[f],users_ids[t])"
   ]
  },
  {
   "cell_type": "code",
   "execution_count": 7,
   "metadata": {},
   "outputs": [
    {
     "data": {
      "text/plain": [
       "(236, 236)"
      ]
     },
     "execution_count": 7,
     "metadata": {},
     "output_type": "execute_result"
    }
   ],
   "source": [
    "len(users_ids),G.number_of_nodes()"
   ]
  },
  {
   "cell_type": "code",
   "execution_count": 8,
   "metadata": {},
   "outputs": [
    {
     "data": {
      "text/plain": [
       "308"
      ]
     },
     "execution_count": 8,
     "metadata": {},
     "output_type": "execute_result"
    }
   ],
   "source": [
    "G.number_of_edges()"
   ]
  },
  {
   "cell_type": "markdown",
   "metadata": {},
   "source": [
    "## Augmenting the nodes with information"
   ]
  },
  {
   "cell_type": "code",
   "execution_count": 9,
   "metadata": {
    "scrolled": false
   },
   "outputs": [],
   "source": [
    "for ix in list(G.nodes()):\n",
    "    twitter_id, sehir_name = ids_users[ix]\n",
    "    match = sehir_matches_by_id.loc[twitter_id]\n",
    "    if type(match) == pd.DataFrame: # handling duplicate rows for the same twitter ids\n",
    "        # handling duplicate rows for the same twitter ids and sehir name (different fb ids)\n",
    "        if type(match.set_index(\"sehir_matches\").loc[sehir_name]) == pd.DataFrame:\n",
    "            match = list(match.iterrows())[0][1]  # just picking the first ones\n",
    "    for k, v in match.items():\n",
    "        try:\n",
    "            G.node[ix][k] = int(v)  # making sure it is not np.int64 to appeal to JSON\n",
    "        except ValueError:\n",
    "            G.node[ix][k] = str(v)"
   ]
  },
  {
   "cell_type": "markdown",
   "metadata": {},
   "source": [
    "## Adding Network metrics"
   ]
  },
  {
   "cell_type": "code",
   "execution_count": 10,
   "metadata": {},
   "outputs": [],
   "source": [
    "for ix,deg in list(G.degree()):\n",
    "    G.node[ix]['degree'] = deg\n",
    "    G.node[ix]['parity'] = (1-deg%2)"
   ]
  },
  {
   "cell_type": "code",
   "execution_count": 11,
   "metadata": {},
   "outputs": [],
   "source": [
    "evc = nx.eigenvector_centrality(G)\n",
    "closeness = nx.closeness_centrality(G)\n",
    "betweenness = nx.betweenness_centrality(G)"
   ]
  },
  {
   "cell_type": "code",
   "execution_count": 12,
   "metadata": {},
   "outputs": [],
   "source": [
    "metrics = {\"eigenvector_centrality\":evc,\n",
    "           \"closeness_centrality\":closeness,\n",
    "          \"betweenness\":betweenness}"
   ]
  },
  {
   "cell_type": "code",
   "execution_count": 13,
   "metadata": {},
   "outputs": [],
   "source": [
    "for metric_name, metric in metrics.items():\n",
    "    for ix,v in metric.items():\n",
    "        G.node[ix][metric_name] = v"
   ]
  },
  {
   "cell_type": "code",
   "execution_count": 14,
   "metadata": {
    "scrolled": true
   },
   "outputs": [
    {
     "data": {
      "text/plain": [
       "(0,\n",
       " {'betweenness': 0.0,\n",
       "  'closeness_centrality': 0.2631578947368421,\n",
       "  'degree': 1,\n",
       "  'eigenvector_centrality': 0.009582375811937868,\n",
       "  'favourites_count': 0,\n",
       "  'fb_ID': 597073473973832,\n",
       "  'followers_count': 0,\n",
       "  'friends_count': 9,\n",
       "  'full_name': 'ahmet sehir',\n",
       "  'lang': 'tr',\n",
       "  'membership': 'Sehir Dersler&Hocalar',\n",
       "  'parity': 0,\n",
       "  'profile_description': 'nan',\n",
       "  'sehir_matches': 'ahmet emir',\n",
       "  'statuses_count': 8,\n",
       "  'twitter_name': 'ahmet demir',\n",
       "  'twitter_screen_name': 'ahmetde43241739'})"
      ]
     },
     "execution_count": 14,
     "metadata": {},
     "output_type": "execute_result"
    }
   ],
   "source": [
    "list(G.nodes(data=True))[0]"
   ]
  },
  {
   "cell_type": "code",
   "execution_count": 15,
   "metadata": {},
   "outputs": [],
   "source": [
    "import json\n",
    "from networkx.readwrite import json_graph\n",
    "data = nx.node_link_data(G)\n",
    "with open('twitter_fb.json', 'w') as f:\n",
    "    json.dump(data, f, indent=4)"
   ]
  },
  {
   "cell_type": "code",
   "execution_count": null,
   "metadata": {},
   "outputs": [],
   "source": []
  }
 ],
 "metadata": {
  "kernelspec": {
   "display_name": "Python 3",
   "language": "python",
   "name": "python3"
  },
  "language_info": {
   "codemirror_mode": {
    "name": "ipython",
    "version": 3
   },
   "file_extension": ".py",
   "mimetype": "text/x-python",
   "name": "python",
   "nbconvert_exporter": "python",
   "pygments_lexer": "ipython3",
   "version": "3.5.2"
  }
 },
 "nbformat": 4,
 "nbformat_minor": 2
}
