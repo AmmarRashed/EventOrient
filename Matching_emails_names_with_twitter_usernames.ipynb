{
 "cells": [
  {
   "cell_type": "code",
   "execution_count": 1,
   "metadata": {},
   "outputs": [],
   "source": [
    "from fuzzywuzzy import process\n",
    "import pandas as pd, editdistance, numpy as np"
   ]
  },
  {
   "cell_type": "code",
   "execution_count": 17,
   "metadata": {},
   "outputs": [],
   "source": [
    "def get_subname(fullname, index=0, lower=True):\n",
    "    \"\"\" Takes fullname as input\n",
    "        returns name at specific index\n",
    "        e.g.\n",
    "        fullname=\"Ammar Adel Rashed\"\n",
    "        index=1\n",
    "        return 'adel'\n",
    "    \"\"\"\n",
    "    try:\n",
    "        name = fullname.strip().split()[index]\n",
    "    except IndexError:\n",
    "        name = \"\"\n",
    "    return name.lower() if lower else name"
   ]
  },
  {
   "cell_type": "code",
   "execution_count": 6,
   "metadata": {},
   "outputs": [],
   "source": [
    "def get_names_dist(fullname, twitter_name):\n",
    "    reference_names = fullname.strip().lower().split()\n",
    "    twitter_names = twitter_name.strip().lower().split()\n",
    "    return int(editdistance.eval(reference_names, twitter_names))"
   ]
  },
  {
   "cell_type": "markdown",
   "metadata": {},
   "source": [
    "###  preparing mock data"
   ]
  },
  {
   "cell_type": "code",
   "execution_count": 18,
   "metadata": {},
   "outputs": [
    {
     "data": {
      "text/html": [
       "<div>\n",
       "<style scoped>\n",
       "    .dataframe tbody tr th:only-of-type {\n",
       "        vertical-align: middle;\n",
       "    }\n",
       "\n",
       "    .dataframe tbody tr th {\n",
       "        vertical-align: top;\n",
       "    }\n",
       "\n",
       "    .dataframe thead th {\n",
       "        text-align: right;\n",
       "    }\n",
       "</style>\n",
       "<table border=\"1\" class=\"dataframe\">\n",
       "  <thead>\n",
       "    <tr style=\"text-align: right;\">\n",
       "      <th></th>\n",
       "      <th>fullname</th>\n",
       "      <th>email</th>\n",
       "    </tr>\n",
       "  </thead>\n",
       "  <tbody>\n",
       "    <tr>\n",
       "      <th>0</th>\n",
       "      <td>Aaditya Vijay</td>\n",
       "      <td>aadityavijay@std.sehir.edu.tr</td>\n",
       "    </tr>\n",
       "    <tr>\n",
       "      <th>1</th>\n",
       "      <td>Abbas Furkan Cangir</td>\n",
       "      <td>abbascangir@std.sehir.edu.tr</td>\n",
       "    </tr>\n",
       "    <tr>\n",
       "      <th>2</th>\n",
       "      <td>Abbas Kutay</td>\n",
       "      <td>abbaskutay@std.sehir.edu.tr</td>\n",
       "    </tr>\n",
       "    <tr>\n",
       "      <th>3</th>\n",
       "      <td>Abbas Samadi</td>\n",
       "      <td>abbassamadi@std.sehir.edu.tr</td>\n",
       "    </tr>\n",
       "    <tr>\n",
       "      <th>4</th>\n",
       "      <td>Abbass El Abbass</td>\n",
       "      <td>abbasselabbass@std.sehir.edu.tr</td>\n",
       "    </tr>\n",
       "  </tbody>\n",
       "</table>\n",
       "</div>"
      ],
      "text/plain": [
       "              fullname                            email\n",
       "0        Aaditya Vijay    aadityavijay@std.sehir.edu.tr\n",
       "1  Abbas Furkan Cangir     abbascangir@std.sehir.edu.tr\n",
       "2          Abbas Kutay      abbaskutay@std.sehir.edu.tr\n",
       "3         Abbas Samadi     abbassamadi@std.sehir.edu.tr\n",
       "4     Abbass El Abbass  abbasselabbass@std.sehir.edu.tr"
      ]
     },
     "execution_count": 18,
     "metadata": {},
     "output_type": "execute_result"
    }
   ],
   "source": [
    "df = pd.read_csv(\"ns.csv\")\n",
    "cols = df.columns[0:2]\n",
    "df = df[cols]\n",
    "ren = {cols[0]:\"fullname\", cols[1]:\"email\"}\n",
    "df = df.rename(columns=ren)\n",
    "df.head(5)"
   ]
  },
  {
   "cell_type": "markdown",
   "metadata": {},
   "source": [
    "### Clearing out invalid rows (e.g. non-string names)"
   ]
  },
  {
   "cell_type": "code",
   "execution_count": 25,
   "metadata": {},
   "outputs": [
    {
     "data": {
      "text/html": [
       "<div>\n",
       "<style scoped>\n",
       "    .dataframe tbody tr th:only-of-type {\n",
       "        vertical-align: middle;\n",
       "    }\n",
       "\n",
       "    .dataframe tbody tr th {\n",
       "        vertical-align: top;\n",
       "    }\n",
       "\n",
       "    .dataframe thead th {\n",
       "        text-align: right;\n",
       "    }\n",
       "</style>\n",
       "<table border=\"1\" class=\"dataframe\">\n",
       "  <thead>\n",
       "    <tr style=\"text-align: right;\">\n",
       "      <th></th>\n",
       "      <th>fullname</th>\n",
       "      <th>email</th>\n",
       "      <th>name_length</th>\n",
       "    </tr>\n",
       "  </thead>\n",
       "  <tbody>\n",
       "    <tr>\n",
       "      <th>0</th>\n",
       "      <td>Aaditya Vijay</td>\n",
       "      <td>aadityavijay@std.sehir.edu.tr</td>\n",
       "      <td>2</td>\n",
       "    </tr>\n",
       "    <tr>\n",
       "      <th>1</th>\n",
       "      <td>Abbas Furkan Cangir</td>\n",
       "      <td>abbascangir@std.sehir.edu.tr</td>\n",
       "      <td>3</td>\n",
       "    </tr>\n",
       "    <tr>\n",
       "      <th>2</th>\n",
       "      <td>Abbas Kutay</td>\n",
       "      <td>abbaskutay@std.sehir.edu.tr</td>\n",
       "      <td>2</td>\n",
       "    </tr>\n",
       "    <tr>\n",
       "      <th>3</th>\n",
       "      <td>Abbas Samadi</td>\n",
       "      <td>abbassamadi@std.sehir.edu.tr</td>\n",
       "      <td>2</td>\n",
       "    </tr>\n",
       "    <tr>\n",
       "      <th>4</th>\n",
       "      <td>Abbass El Abbass</td>\n",
       "      <td>abbasselabbass@std.sehir.edu.tr</td>\n",
       "      <td>3</td>\n",
       "    </tr>\n",
       "  </tbody>\n",
       "</table>\n",
       "</div>"
      ],
      "text/plain": [
       "              fullname                            email  name_length\n",
       "0        Aaditya Vijay    aadityavijay@std.sehir.edu.tr            2\n",
       "1  Abbas Furkan Cangir     abbascangir@std.sehir.edu.tr            3\n",
       "2          Abbas Kutay      abbaskutay@std.sehir.edu.tr            2\n",
       "3         Abbas Samadi     abbassamadi@std.sehir.edu.tr            2\n",
       "4     Abbass El Abbass  abbasselabbass@std.sehir.edu.tr            3"
      ]
     },
     "execution_count": 25,
     "metadata": {},
     "output_type": "execute_result"
    }
   ],
   "source": [
    "filtered_df = df[\"name_length\"]=df[\"fullname\"].apply(lambda x: len(x.strip().split()) if type(x) == str else -1)\n",
    "filtered_df = df.drop(df[df['name_length'] < 0].index)\n",
    "filtered_df.head(5)"
   ]
  },
  {
   "cell_type": "markdown",
   "metadata": {},
   "source": [
    "### Trying out editdistance"
   ]
  },
  {
   "cell_type": "code",
   "execution_count": 44,
   "metadata": {},
   "outputs": [
    {
     "data": {
      "text/html": [
       "<div>\n",
       "<style scoped>\n",
       "    .dataframe tbody tr th:only-of-type {\n",
       "        vertical-align: middle;\n",
       "    }\n",
       "\n",
       "    .dataframe tbody tr th {\n",
       "        vertical-align: top;\n",
       "    }\n",
       "\n",
       "    .dataframe thead th {\n",
       "        text-align: right;\n",
       "    }\n",
       "</style>\n",
       "<table border=\"1\" class=\"dataframe\">\n",
       "  <thead>\n",
       "    <tr style=\"text-align: right;\">\n",
       "      <th></th>\n",
       "      <th>fullname</th>\n",
       "      <th>email</th>\n",
       "      <th>name_length</th>\n",
       "      <th>names_dist</th>\n",
       "    </tr>\n",
       "  </thead>\n",
       "  <tbody>\n",
       "    <tr>\n",
       "      <th>0</th>\n",
       "      <td>Aaditya Vijay</td>\n",
       "      <td>aadityavijay@std.sehir.edu.tr</td>\n",
       "      <td>2</td>\n",
       "      <td>2</td>\n",
       "    </tr>\n",
       "    <tr>\n",
       "      <th>1</th>\n",
       "      <td>Abbas Furkan Cangir</td>\n",
       "      <td>abbascangir@std.sehir.edu.tr</td>\n",
       "      <td>3</td>\n",
       "      <td>3</td>\n",
       "    </tr>\n",
       "    <tr>\n",
       "      <th>2</th>\n",
       "      <td>Abbas Kutay</td>\n",
       "      <td>abbaskutay@std.sehir.edu.tr</td>\n",
       "      <td>2</td>\n",
       "      <td>2</td>\n",
       "    </tr>\n",
       "    <tr>\n",
       "      <th>3</th>\n",
       "      <td>Abbas Samadi</td>\n",
       "      <td>abbassamadi@std.sehir.edu.tr</td>\n",
       "      <td>2</td>\n",
       "      <td>2</td>\n",
       "    </tr>\n",
       "    <tr>\n",
       "      <th>4</th>\n",
       "      <td>Abbass El Abbass</td>\n",
       "      <td>abbasselabbass@std.sehir.edu.tr</td>\n",
       "      <td>3</td>\n",
       "      <td>3</td>\n",
       "    </tr>\n",
       "  </tbody>\n",
       "</table>\n",
       "</div>"
      ],
      "text/plain": [
       "              fullname                            email  name_length  \\\n",
       "0        Aaditya Vijay    aadityavijay@std.sehir.edu.tr            2   \n",
       "1  Abbas Furkan Cangir     abbascangir@std.sehir.edu.tr            3   \n",
       "2          Abbas Kutay      abbaskutay@std.sehir.edu.tr            2   \n",
       "3         Abbas Samadi     abbassamadi@std.sehir.edu.tr            2   \n",
       "4     Abbass El Abbass  abbasselabbass@std.sehir.edu.tr            3   \n",
       "\n",
       "   names_dist  \n",
       "0           2  \n",
       "1           3  \n",
       "2           2  \n",
       "3           2  \n",
       "4           3  "
      ]
     },
     "execution_count": 44,
     "metadata": {},
     "output_type": "execute_result"
    }
   ],
   "source": [
    "scored_df = filtered_df.copy()\n",
    "scored_df[\"names_dist\"] = scored_df[[\"fullname\", \"email\"]].apply(lambda x: get_names_dist(x[0], x[1]), axis=1)\n",
    "scored_df.head(5)"
   ]
  },
  {
   "cell_type": "code",
   "execution_count": null,
   "metadata": {},
   "outputs": [],
   "source": [
    "df"
   ]
  }
 ],
 "metadata": {
  "kernelspec": {
   "display_name": "Python 3",
   "language": "python",
   "name": "python3"
  },
  "language_info": {
   "codemirror_mode": {
    "name": "ipython",
    "version": 2
   },
   "file_extension": ".py",
   "mimetype": "text/x-python",
   "name": "python",
   "nbconvert_exporter": "python",
   "pygments_lexer": "ipython2",
   "version": "2.7.13"
  }
 },
 "nbformat": 4,
 "nbformat_minor": 2
}
