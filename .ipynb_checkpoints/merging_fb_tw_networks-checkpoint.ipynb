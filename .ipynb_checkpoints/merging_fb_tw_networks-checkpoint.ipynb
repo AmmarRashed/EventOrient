{
 "cells": [
  {
   "cell_type": "code",
   "execution_count": 57,
   "metadata": {},
   "outputs": [],
   "source": [
    "import psycopg2\n",
    "\n",
    "import pandas as pd\n",
    "import numpy as np\n",
    "\n",
    "from copy import deepcopy\n",
    "\n",
    "import ast\n",
    "\n",
    "import networkx as nx\n",
    "\n",
    "import itertools\n",
    "\n",
    "import matplotlib.pyplot as plt"
   ]
  },
  {
   "cell_type": "code",
   "execution_count": 17,
   "metadata": {},
   "outputs": [
    {
     "data": {
      "text/html": [
       "<div>\n",
       "<style scoped>\n",
       "    .dataframe tbody tr th:only-of-type {\n",
       "        vertical-align: middle;\n",
       "    }\n",
       "\n",
       "    .dataframe tbody tr th {\n",
       "        vertical-align: top;\n",
       "    }\n",
       "\n",
       "    .dataframe thead th {\n",
       "        text-align: right;\n",
       "    }\n",
       "</style>\n",
       "<table border=\"1\" class=\"dataframe\">\n",
       "  <thead>\n",
       "    <tr style=\"text-align: right;\">\n",
       "      <th></th>\n",
       "      <th>sehir_matches</th>\n",
       "      <th>twitter_screen_name</th>\n",
       "      <th>profile_description</th>\n",
       "      <th>followers_count</th>\n",
       "      <th>friends_count</th>\n",
       "      <th>favourites_count</th>\n",
       "      <th>statuses_count</th>\n",
       "      <th>lang</th>\n",
       "      <th>twitter_name</th>\n",
       "      <th>fb_ID</th>\n",
       "      <th>full_name</th>\n",
       "      <th>membership</th>\n",
       "    </tr>\n",
       "    <tr>\n",
       "      <th>twitter_ID</th>\n",
       "      <th></th>\n",
       "      <th></th>\n",
       "      <th></th>\n",
       "      <th></th>\n",
       "      <th></th>\n",
       "      <th></th>\n",
       "      <th></th>\n",
       "      <th></th>\n",
       "      <th></th>\n",
       "      <th></th>\n",
       "      <th></th>\n",
       "      <th></th>\n",
       "    </tr>\n",
       "  </thead>\n",
       "  <tbody>\n",
       "    <tr>\n",
       "      <th>185410794</th>\n",
       "      <td>muhammed caki</td>\n",
       "      <td>m_sysL</td>\n",
       "      <td>iühf 🐎</td>\n",
       "      <td>349</td>\n",
       "      <td>323</td>\n",
       "      <td>1852</td>\n",
       "      <td>7807</td>\n",
       "      <td>tr</td>\n",
       "      <td>muhammed mucahit</td>\n",
       "      <td>10211725757681071</td>\n",
       "      <td>muhammed cak</td>\n",
       "      <td>Sehir Dersler&amp;Hocalar</td>\n",
       "    </tr>\n",
       "    <tr>\n",
       "      <th>849869543522656256</th>\n",
       "      <td>muhammed caki</td>\n",
       "      <td>Muhamme74015968</td>\n",
       "      <td>Haber Gündem Spor Futbol Müzik</td>\n",
       "      <td>2</td>\n",
       "      <td>57</td>\n",
       "      <td>1</td>\n",
       "      <td>7</td>\n",
       "      <td>tr</td>\n",
       "      <td>muhammed ali</td>\n",
       "      <td>10211725757681071</td>\n",
       "      <td>muhammed cak</td>\n",
       "      <td>Sehir Dersler&amp;Hocalar</td>\n",
       "    </tr>\n",
       "    <tr>\n",
       "      <th>938059400744456192</th>\n",
       "      <td>muhammed caki</td>\n",
       "      <td>Muhammed4166</td>\n",
       "      <td>NaN</td>\n",
       "      <td>335</td>\n",
       "      <td>2220</td>\n",
       "      <td>1068</td>\n",
       "      <td>114</td>\n",
       "      <td>tr</td>\n",
       "      <td>muhammed ali</td>\n",
       "      <td>10211725757681071</td>\n",
       "      <td>muhammed cak</td>\n",
       "      <td>Sehir Dersler&amp;Hocalar</td>\n",
       "    </tr>\n",
       "    <tr>\n",
       "      <th>401477209</th>\n",
       "      <td>muhammed caki</td>\n",
       "      <td>maliustun</td>\n",
       "      <td>a değil.</td>\n",
       "      <td>366</td>\n",
       "      <td>271</td>\n",
       "      <td>1251</td>\n",
       "      <td>1186</td>\n",
       "      <td>tr</td>\n",
       "      <td>muhammed ali</td>\n",
       "      <td>10211725757681071</td>\n",
       "      <td>muhammed cak</td>\n",
       "      <td>Sehir Dersler&amp;Hocalar</td>\n",
       "    </tr>\n",
       "    <tr>\n",
       "      <th>218821230</th>\n",
       "      <td>muhammed caki</td>\n",
       "      <td>MuhammedCiya21</td>\n",
       "      <td>NaN</td>\n",
       "      <td>173</td>\n",
       "      <td>290</td>\n",
       "      <td>85</td>\n",
       "      <td>0</td>\n",
       "      <td>tr</td>\n",
       "      <td>muhammed ciya</td>\n",
       "      <td>10211725757681071</td>\n",
       "      <td>muhammed cak</td>\n",
       "      <td>Sehir Dersler&amp;Hocalar</td>\n",
       "    </tr>\n",
       "  </tbody>\n",
       "</table>\n",
       "</div>"
      ],
      "text/plain": [
       "                    sehir_matches twitter_screen_name  \\\n",
       "twitter_ID                                              \n",
       "185410794           muhammed caki              m_sysL   \n",
       "849869543522656256  muhammed caki     Muhamme74015968   \n",
       "938059400744456192  muhammed caki        Muhammed4166   \n",
       "401477209           muhammed caki           maliustun   \n",
       "218821230           muhammed caki      MuhammedCiya21   \n",
       "\n",
       "                               profile_description  followers_count  \\\n",
       "twitter_ID                                                            \n",
       "185410794                                   iühf 🐎              349   \n",
       "849869543522656256  Haber Gündem Spor Futbol Müzik                2   \n",
       "938059400744456192                             NaN              335   \n",
       "401477209                                 a değil.              366   \n",
       "218821230                                      NaN              173   \n",
       "\n",
       "                    friends_count  favourites_count  statuses_count lang  \\\n",
       "twitter_ID                                                                 \n",
       "185410794                     323              1852            7807   tr   \n",
       "849869543522656256             57                 1               7   tr   \n",
       "938059400744456192           2220              1068             114   tr   \n",
       "401477209                     271              1251            1186   tr   \n",
       "218821230                     290                85               0   tr   \n",
       "\n",
       "                        twitter_name              fb_ID     full_name  \\\n",
       "twitter_ID                                                              \n",
       "185410794           muhammed mucahit  10211725757681071  muhammed cak   \n",
       "849869543522656256      muhammed ali  10211725757681071  muhammed cak   \n",
       "938059400744456192      muhammed ali  10211725757681071  muhammed cak   \n",
       "401477209               muhammed ali  10211725757681071  muhammed cak   \n",
       "218821230              muhammed ciya  10211725757681071  muhammed cak   \n",
       "\n",
       "                               membership  \n",
       "twitter_ID                                 \n",
       "185410794           Sehir Dersler&Hocalar  \n",
       "849869543522656256  Sehir Dersler&Hocalar  \n",
       "938059400744456192  Sehir Dersler&Hocalar  \n",
       "401477209           Sehir Dersler&Hocalar  \n",
       "218821230           Sehir Dersler&Hocalar  "
      ]
     },
     "execution_count": 17,
     "metadata": {},
     "output_type": "execute_result"
    }
   ],
   "source": [
    "sehir_matches_by_id = pd.read_csv('datasets/twitter_fb_matches.csv', index_col=\"ID\").set_index(\"twitter_ID\")\n",
    "sehir_matches_by_id.head(5)"
   ]
  },
  {
   "cell_type": "code",
   "execution_count": 22,
   "metadata": {},
   "outputs": [
    {
     "data": {
      "text/plain": [
       "1800"
      ]
     },
     "execution_count": 22,
     "metadata": {},
     "output_type": "execute_result"
    }
   ],
   "source": [
    "len(sehir_matches_by_id)"
   ]
  },
  {
   "cell_type": "markdown",
   "metadata": {},
   "source": [
    "## Connect to sql Database"
   ]
  },
  {
   "cell_type": "code",
   "execution_count": 10,
   "metadata": {},
   "outputs": [],
   "source": [
    "connection = psycopg2.connect('dbname=twitter_accounts_new host=localhost user=postgres password=1_sehir_1')\n",
    "\n",
    "twitter_users = pd.read_sql(\"SELECT * FROM twitter_user\", connection)\\\n",
    ".rename(columns={'id': 'GUID', \n",
    "                 'name': 'twitter_name',\n",
    "                 'description': 'profile_description',\n",
    "                 'screen_name': 'twitter_screen_name'})\n",
    "\n",
    "user_connections = pd.read_sql(\"SELECT * FROM twitter_connection\", connection).drop('id', axis=1)"
   ]
  },
  {
   "cell_type": "markdown",
   "metadata": {},
   "source": [
    "## Constructing the network"
   ]
  },
  {
   "cell_type": "code",
   "execution_count": 184,
   "metadata": {},
   "outputs": [],
   "source": [
    "G = nx.Graph()\n",
    "users_ids = dict()  # user name > id\n",
    "ids_users = dict()  # user id > (twitter_ID,username)"
   ]
  },
  {
   "cell_type": "code",
   "execution_count": 185,
   "metadata": {},
   "outputs": [],
   "source": [
    "for i, row in user_connections.iterrows():\n",
    "    from_ = row['from_user_id']\n",
    "    to = row['to_user_id']\n",
    "    try:\n",
    "        from_name = sehir_matches_by_id.loc[from_][\"sehir_matches\"]\n",
    "        to_name = sehir_matches_by_id.loc[to][\"sehir_matches\"]\n",
    "    except (KeyError,TypeError) as e:\n",
    "        continue\n",
    "#         print(from_name, to_name)\n",
    "    if \"sehir\" in from_name or \"sehir\" in to_name:\n",
    "        continue\n",
    "    if type(from_name) == str:\n",
    "        from_name = [from_name]\n",
    "    if type(to_name) == str:\n",
    "        to_name = [to_name]\n",
    "    from_to = itertools.product(list(from_name), list(to_name))\n",
    "    for f,t in from_to:\n",
    "        users_ids.setdefault(f, len(users_ids))\n",
    "        ids_users[users_ids[f]] = (from_, f)\n",
    "        \n",
    "        users_ids.setdefault(t, len(users_ids))\n",
    "        ids_users[users_ids[t]] = (to, t)\n",
    "        \n",
    "        G.add_edge(users_ids[f],users_ids[t])"
   ]
  },
  {
   "cell_type": "code",
   "execution_count": 186,
   "metadata": {},
   "outputs": [
    {
     "data": {
      "text/plain": [
       "(459, 459)"
      ]
     },
     "execution_count": 186,
     "metadata": {},
     "output_type": "execute_result"
    }
   ],
   "source": [
    "len(users_ids),G.number_of_nodes()"
   ]
  },
  {
   "cell_type": "code",
   "execution_count": 187,
   "metadata": {},
   "outputs": [
    {
     "data": {
      "text/plain": [
       "699"
      ]
     },
     "execution_count": 187,
     "metadata": {},
     "output_type": "execute_result"
    }
   ],
   "source": [
    "G.number_of_edges()"
   ]
  },
  {
   "cell_type": "markdown",
   "metadata": {},
   "source": [
    "## Augmenting the nodes with information"
   ]
  },
  {
   "cell_type": "code",
   "execution_count": 214,
   "metadata": {
    "scrolled": false
   },
   "outputs": [],
   "source": [
    "for ix in list(G.nodes()):\n",
    "    twitter_id, sehir_name = ids_users[ix]\n",
    "    match = sehir_matches_by_id.loc[twitter_id]\n",
    "    if type(match) == pd.DataFrame: # handling duplicate rows for the same twitter ids\n",
    "        # handling duplicate rows for the same twitter ids and sehir name (different fb ids)\n",
    "        if type(match.set_index(\"sehir_matches\").loc[sehir_name]) == pd.DataFrame:\n",
    "            match = list(match.iterrows())[0][1]  # just picking the first ones\n",
    "    for k, v in match.items():\n",
    "        try:\n",
    "            G.node[ix][k] = int(v)  # making sure it is not np.int64 to appeal to JSON\n",
    "        except ValueError:\n",
    "            G.node[ix][k] = str(v)"
   ]
  },
  {
   "cell_type": "markdown",
   "metadata": {},
   "source": [
    "## Adding Network metrics"
   ]
  },
  {
   "cell_type": "code",
   "execution_count": 215,
   "metadata": {},
   "outputs": [],
   "source": [
    "for ix,deg in list(G.degree()):\n",
    "    G.node[ix]['degree'] = deg\n",
    "    G.node[ix]['parity'] = (1-deg%2)"
   ]
  },
  {
   "cell_type": "code",
   "execution_count": 216,
   "metadata": {},
   "outputs": [],
   "source": [
    "evc = nx.eigenvector_centrality(G)\n",
    "closeness = nx.closeness_centrality(G)\n",
    "betweenness = nx.betweenness_centrality(G)"
   ]
  },
  {
   "cell_type": "code",
   "execution_count": 217,
   "metadata": {},
   "outputs": [],
   "source": [
    "metrics = {\"eigenvector_centrality\":evc,\n",
    "           \"closeness_centrality\":closeness,\n",
    "          \"betweenness\":betweenness}"
   ]
  },
  {
   "cell_type": "code",
   "execution_count": 218,
   "metadata": {},
   "outputs": [],
   "source": [
    "for metric_name, metric in metrics.items():\n",
    "    for ix,v in metric.items():\n",
    "        G.node[ix][metric_name] = v"
   ]
  },
  {
   "cell_type": "code",
   "execution_count": 219,
   "metadata": {
    "scrolled": true
   },
   "outputs": [
    {
     "data": {
      "text/plain": [
       "(0,\n",
       " {'betweenness': 0.0,\n",
       "  'closeness_centrality': 0.281499692685925,\n",
       "  'degree': 1,\n",
       "  'eigenvector_centrality': 0.013644429140367793,\n",
       "  'favourites_count': 0,\n",
       "  'fb_ID': 597073473973832,\n",
       "  'followers_count': 0,\n",
       "  'friends_count': 9,\n",
       "  'full_name': 'ahmet sehir',\n",
       "  'lang': 'tr',\n",
       "  'membership': 'Sehir Dersler&Hocalar',\n",
       "  'parity': 0,\n",
       "  'profile_description': 'nan',\n",
       "  'sehir_matches': 'ahmet emir',\n",
       "  'statuses_count': 8,\n",
       "  'twitter_name': 'ahmet demir',\n",
       "  'twitter_screen_name': 'ahmetde43241739'})"
      ]
     },
     "execution_count": 219,
     "metadata": {},
     "output_type": "execute_result"
    }
   ],
   "source": [
    "list(G.nodes(data=True))[0]"
   ]
  },
  {
   "cell_type": "code",
   "execution_count": 220,
   "metadata": {},
   "outputs": [],
   "source": [
    "import json\n",
    "from networkx.readwrite import json_graph\n",
    "data = nx.node_link_data(G)\n",
    "with open('twitter_fb.json', 'w') as f:\n",
    "    json.dump(data, f, indent=4)"
   ]
  },
  {
   "cell_type": "code",
   "execution_count": null,
   "metadata": {},
   "outputs": [],
   "source": []
  }
 ],
 "metadata": {
  "kernelspec": {
   "display_name": "Python 3",
   "language": "python",
   "name": "python3"
  },
  "language_info": {
   "codemirror_mode": {
    "name": "ipython",
    "version": 3
   },
   "file_extension": ".py",
   "mimetype": "text/x-python",
   "name": "python",
   "nbconvert_exporter": "python",
   "pygments_lexer": "ipython3",
   "version": "3.5.2"
  }
 },
 "nbformat": 4,
 "nbformat_minor": 2
}
