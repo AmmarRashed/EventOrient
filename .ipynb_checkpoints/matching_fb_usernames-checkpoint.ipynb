{
 "cells": [
  {
   "cell_type": "code",
   "execution_count": 1,
   "metadata": {},
   "outputs": [],
   "source": [
    "from SehirParser import *"
   ]
  },
  {
   "cell_type": "code",
   "execution_count": 2,
   "metadata": {},
   "outputs": [
    {
     "data": {
      "text/html": [
       "<div>\n",
       "<style scoped>\n",
       "    .dataframe tbody tr th:only-of-type {\n",
       "        vertical-align: middle;\n",
       "    }\n",
       "\n",
       "    .dataframe tbody tr th {\n",
       "        vertical-align: top;\n",
       "    }\n",
       "\n",
       "    .dataframe thead th {\n",
       "        text-align: right;\n",
       "    }\n",
       "</style>\n",
       "<table border=\"1\" class=\"dataframe\">\n",
       "  <thead>\n",
       "    <tr style=\"text-align: right;\">\n",
       "      <th></th>\n",
       "      <th>id</th>\n",
       "      <th>title</th>\n",
       "      <th>membership</th>\n",
       "      <th>first_name</th>\n",
       "      <th>middle_name</th>\n",
       "      <th>last_name</th>\n",
       "      <th>nick_name</th>\n",
       "      <th>full_name</th>\n",
       "    </tr>\n",
       "  </thead>\n",
       "  <tbody>\n",
       "    <tr>\n",
       "      <th>0</th>\n",
       "      <td>10205567317451196</td>\n",
       "      <td>NaN</td>\n",
       "      <td>Şehir Dersler&amp;Hocalar</td>\n",
       "      <td>abdelrahman</td>\n",
       "      <td>NaN</td>\n",
       "      <td>talaat</td>\n",
       "      <td>NaN</td>\n",
       "      <td>abdelrahman talaat</td>\n",
       "    </tr>\n",
       "    <tr>\n",
       "      <th>1</th>\n",
       "      <td>118404845632188</td>\n",
       "      <td>NaN</td>\n",
       "      <td>Şehir Dersler&amp;Hocalar</td>\n",
       "      <td>muhammed</td>\n",
       "      <td>murat</td>\n",
       "      <td>ylmaz</td>\n",
       "      <td>NaN</td>\n",
       "      <td>muhammed murat ylmaz</td>\n",
       "    </tr>\n",
       "    <tr>\n",
       "      <th>2</th>\n",
       "      <td>127659998039364</td>\n",
       "      <td>NaN</td>\n",
       "      <td>Şehir Dersler&amp;Hocalar</td>\n",
       "      <td>selman</td>\n",
       "      <td>NaN</td>\n",
       "      <td>yetkin</td>\n",
       "      <td>NaN</td>\n",
       "      <td>selman yetkin</td>\n",
       "    </tr>\n",
       "    <tr>\n",
       "      <th>3</th>\n",
       "      <td>984761058207720</td>\n",
       "      <td>NaN</td>\n",
       "      <td>Şehir Dersler&amp;Hocalar</td>\n",
       "      <td>m</td>\n",
       "      <td>talha</td>\n",
       "      <td>ozdemir</td>\n",
       "      <td>NaN</td>\n",
       "      <td>m talha ozdemir</td>\n",
       "    </tr>\n",
       "    <tr>\n",
       "      <th>4</th>\n",
       "      <td>10203049808699022</td>\n",
       "      <td>NaN</td>\n",
       "      <td>Şehir Dersler&amp;Hocalar</td>\n",
       "      <td>hilal</td>\n",
       "      <td>ebru</td>\n",
       "      <td>yakar</td>\n",
       "      <td>NaN</td>\n",
       "      <td>hilal ebru yakar</td>\n",
       "    </tr>\n",
       "  </tbody>\n",
       "</table>\n",
       "</div>"
      ],
      "text/plain": [
       "                  id title             membership   first_name middle_name  \\\n",
       "0  10205567317451196   NaN  Şehir Dersler&Hocalar  abdelrahman         NaN   \n",
       "1    118404845632188   NaN  Şehir Dersler&Hocalar     muhammed       murat   \n",
       "2    127659998039364   NaN  Şehir Dersler&Hocalar       selman         NaN   \n",
       "3    984761058207720   NaN  Şehir Dersler&Hocalar            m       talha   \n",
       "4  10203049808699022   NaN  Şehir Dersler&Hocalar        hilal        ebru   \n",
       "\n",
       "  last_name  nick_name             full_name  \n",
       "0    talaat        NaN    abdelrahman talaat  \n",
       "1     ylmaz        NaN  muhammed murat ylmaz  \n",
       "2    yetkin        NaN         selman yetkin  \n",
       "3   ozdemir        NaN       m talha ozdemir  \n",
       "4     yakar        NaN      hilal ebru yakar  "
      ]
     },
     "execution_count": 2,
     "metadata": {},
     "output_type": "execute_result"
    }
   ],
   "source": [
    "df = pd.read_csv(\"datasets/fb_users.csv\", index_col=\"Unnamed: 0\")\n",
    "df.head()"
   ]
  },
  {
   "cell_type": "code",
   "execution_count": 3,
   "metadata": {},
   "outputs": [],
   "source": [
    "# df.head(10).to_csv(\"datasets/fb_users_toy.csv\")"
   ]
  },
  {
   "cell_type": "code",
   "execution_count": 4,
   "metadata": {},
   "outputs": [],
   "source": [
    "cols = {\"id\":\"id\", \"name\":\"full_name\", \"screen_name\":\"full_name\"}\n",
    "s = SehirParser('datasets/contacts.csv', \"datasets/fb_users.csv\", cols)"
   ]
  },
  {
   "cell_type": "code",
   "execution_count": 5,
   "metadata": {},
   "outputs": [
    {
     "data": {
      "text/plain": [
       "4238"
      ]
     },
     "execution_count": 5,
     "metadata": {},
     "output_type": "execute_result"
    }
   ],
   "source": [
    "s.twitter_users_count"
   ]
  },
  {
   "cell_type": "code",
   "execution_count": 6,
   "metadata": {},
   "outputs": [
    {
     "name": "stderr",
     "output_type": "stream",
     "text": [
      "/home/ammar/Sehir_Network_Analysis/SehirParser.py:53: UserWarning: NaN name\n",
      "  warnings.warn(\"NaN name\")\n",
      "/home/ammar/Sehir_Network_Analysis/SehirParser.py:53: UserWarning: NaN name\n",
      "  warnings.warn(\"NaN name\")\n",
      "/home/ammar/Sehir_Network_Analysis/SehirParser.py:53: UserWarning: NaN name\n",
      "  warnings.warn(\"NaN name\")\n",
      "/home/ammar/Sehir_Network_Analysis/SehirParser.py:53: UserWarning: NaN name\n",
      "  warnings.warn(\"NaN name\")\n",
      "/home/ammar/Sehir_Network_Analysis/SehirParser.py:53: UserWarning: NaN name\n",
      "  warnings.warn(\"NaN name\")\n",
      "/home/ammar/Sehir_Network_Analysis/SehirParser.py:53: UserWarning: NaN name\n",
      "  warnings.warn(\"NaN name\")\n",
      "/home/ammar/Sehir_Network_Analysis/SehirParser.py:53: UserWarning: NaN name\n",
      "  warnings.warn(\"NaN name\")\n"
     ]
    }
   ],
   "source": [
    "merged, sehir_matches_df = s.get_sehir_matches_df()"
   ]
  },
  {
   "cell_type": "code",
   "execution_count": 7,
   "metadata": {},
   "outputs": [
    {
     "data": {
      "text/html": [
       "<div>\n",
       "<style scoped>\n",
       "    .dataframe tbody tr th:only-of-type {\n",
       "        vertical-align: middle;\n",
       "    }\n",
       "\n",
       "    .dataframe tbody tr th {\n",
       "        vertical-align: top;\n",
       "    }\n",
       "\n",
       "    .dataframe thead th {\n",
       "        text-align: right;\n",
       "    }\n",
       "</style>\n",
       "<table border=\"1\" class=\"dataframe\">\n",
       "  <thead>\n",
       "    <tr style=\"text-align: right;\">\n",
       "      <th></th>\n",
       "      <th>full_name</th>\n",
       "      <th>sehir_matches</th>\n",
       "    </tr>\n",
       "  </thead>\n",
       "  <tbody>\n",
       "    <tr>\n",
       "      <th>0</th>\n",
       "      <td>mustafa salih oguz</td>\n",
       "      <td>[(mustafa salih oguz, 100)]</td>\n",
       "    </tr>\n",
       "    <tr>\n",
       "      <th>1</th>\n",
       "      <td>taha yasin citil</td>\n",
       "      <td>[(taha yasin citil, 100)]</td>\n",
       "    </tr>\n",
       "    <tr>\n",
       "      <th>2</th>\n",
       "      <td>kuralay sagidollayeva</td>\n",
       "      <td>[(kurulay sagidollayeva, 95)]</td>\n",
       "    </tr>\n",
       "    <tr>\n",
       "      <th>3</th>\n",
       "      <td>habib ayrlmaz</td>\n",
       "      <td>[(habib ayrilmaz, 96)]</td>\n",
       "    </tr>\n",
       "    <tr>\n",
       "      <th>4</th>\n",
       "      <td>ahmet gezmisoglu</td>\n",
       "      <td>[(ahmet gezmisoglu, 100)]</td>\n",
       "    </tr>\n",
       "  </tbody>\n",
       "</table>\n",
       "</div>"
      ],
      "text/plain": [
       "               full_name                  sehir_matches\n",
       "0     mustafa salih oguz    [(mustafa salih oguz, 100)]\n",
       "1       taha yasin citil      [(taha yasin citil, 100)]\n",
       "2  kuralay sagidollayeva  [(kurulay sagidollayeva, 95)]\n",
       "3          habib ayrlmaz         [(habib ayrilmaz, 96)]\n",
       "4       ahmet gezmisoglu      [(ahmet gezmisoglu, 100)]"
      ]
     },
     "execution_count": 7,
     "metadata": {},
     "output_type": "execute_result"
    }
   ],
   "source": [
    "sehir_matches_df.head()"
   ]
  },
  {
   "cell_type": "code",
   "execution_count": 9,
   "metadata": {},
   "outputs": [
    {
     "data": {
      "text/plain": [
       "2610"
      ]
     },
     "execution_count": 9,
     "metadata": {},
     "output_type": "execute_result"
    }
   ],
   "source": [
    "len(sehir_matches_df)"
   ]
  },
  {
   "cell_type": "code",
   "execution_count": 11,
   "metadata": {},
   "outputs": [],
   "source": [
    "merged.set_index(\"GUID\", inplace=True)\n",
    "merged = merged[[\"full_name\",\"sehir_matches\"]]"
   ]
  },
  {
   "cell_type": "code",
   "execution_count": 12,
   "metadata": {},
   "outputs": [
    {
     "data": {
      "text/html": [
       "<div>\n",
       "<style scoped>\n",
       "    .dataframe tbody tr th:only-of-type {\n",
       "        vertical-align: middle;\n",
       "    }\n",
       "\n",
       "    .dataframe tbody tr th {\n",
       "        vertical-align: top;\n",
       "    }\n",
       "\n",
       "    .dataframe thead th {\n",
       "        text-align: right;\n",
       "    }\n",
       "</style>\n",
       "<table border=\"1\" class=\"dataframe\">\n",
       "  <thead>\n",
       "    <tr style=\"text-align: right;\">\n",
       "      <th></th>\n",
       "      <th>full_name</th>\n",
       "      <th>sehir_matches</th>\n",
       "    </tr>\n",
       "    <tr>\n",
       "      <th>GUID</th>\n",
       "      <th></th>\n",
       "      <th></th>\n",
       "    </tr>\n",
       "  </thead>\n",
       "  <tbody>\n",
       "    <tr>\n",
       "      <th>780643935343317</th>\n",
       "      <td>mustafa salih oguz</td>\n",
       "      <td>[(mustafa salih oguz, 100)]</td>\n",
       "    </tr>\n",
       "    <tr>\n",
       "      <th>780643935343317</th>\n",
       "      <td>mustafa salih oguz</td>\n",
       "      <td>[(mustafa salih oguz, 100)]</td>\n",
       "    </tr>\n",
       "    <tr>\n",
       "      <th>10210904462584126</th>\n",
       "      <td>taha yasin citil</td>\n",
       "      <td>[(taha yasin citil, 100)]</td>\n",
       "    </tr>\n",
       "    <tr>\n",
       "      <th>1582789278680745</th>\n",
       "      <td>kuralay sagidollayeva</td>\n",
       "      <td>[(kurulay sagidollayeva, 95)]</td>\n",
       "    </tr>\n",
       "    <tr>\n",
       "      <th>1582789278680745</th>\n",
       "      <td>kuralay sagidollayeva</td>\n",
       "      <td>[(kurulay sagidollayeva, 95)]</td>\n",
       "    </tr>\n",
       "  </tbody>\n",
       "</table>\n",
       "</div>"
      ],
      "text/plain": [
       "                               full_name                  sehir_matches\n",
       "GUID                                                                   \n",
       "780643935343317       mustafa salih oguz    [(mustafa salih oguz, 100)]\n",
       "780643935343317       mustafa salih oguz    [(mustafa salih oguz, 100)]\n",
       "10210904462584126       taha yasin citil      [(taha yasin citil, 100)]\n",
       "1582789278680745   kuralay sagidollayeva  [(kurulay sagidollayeva, 95)]\n",
       "1582789278680745   kuralay sagidollayeva  [(kurulay sagidollayeva, 95)]"
      ]
     },
     "execution_count": 12,
     "metadata": {},
     "output_type": "execute_result"
    }
   ],
   "source": [
    "merged.head()"
   ]
  },
  {
   "cell_type": "code",
   "execution_count": 13,
   "metadata": {},
   "outputs": [],
   "source": [
    "merged.to_csv('datasets/sehir_fb_matches.csv', index_label=\"GUID\")"
   ]
  },
  {
   "cell_type": "code",
   "execution_count": null,
   "metadata": {},
   "outputs": [],
   "source": []
  }
 ],
 "metadata": {
  "kernelspec": {
   "display_name": "Python 3",
   "language": "python",
   "name": "python3"
  },
  "language_info": {
   "codemirror_mode": {
    "name": "ipython",
    "version": 3
   },
   "file_extension": ".py",
   "mimetype": "text/x-python",
   "name": "python",
   "nbconvert_exporter": "python",
   "pygments_lexer": "ipython3",
   "version": "3.5.2"
  }
 },
 "nbformat": 4,
 "nbformat_minor": 2
}
