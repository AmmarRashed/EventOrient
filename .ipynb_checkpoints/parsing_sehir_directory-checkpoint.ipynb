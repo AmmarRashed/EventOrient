{
 "cells": [
  {
   "cell_type": "code",
   "execution_count": 1,
   "metadata": {},
   "outputs": [],
   "source": [
    "import psycopg2\n",
    "\n",
    "import pandas as pd\n",
    "import numpy as np\n",
    "\n",
    "from fuzzywuzzy import fuzz\n",
    "from fuzzywuzzy import process\n",
    "\n",
    "from copy import deepcopy\n",
    "\n",
    "import re, unicodedata\n",
    "\n",
    "# from joblib import Parallel,\n",
    "delayed\n",
    "# from graph_tool.all import *"
   ]
  },
  {
   "cell_type": "markdown",
   "metadata": {},
   "source": [
    "### parse sehir contacts directory (full names, emails)"
   ]
  },
  {
   "cell_type": "code",
   "execution_count": 2,
   "metadata": {},
   "outputs": [],
   "source": [
    "sehir_directory = pd.read_csv('datasets/contacts.csv', \n",
    "                               encoding = \"ISO-8859-1\", \n",
    "                               usecols=['First Name', 'Last Name', 'Primary Email']).dropna()"
   ]
  },
  {
   "cell_type": "code",
   "execution_count": 3,
   "metadata": {},
   "outputs": [
    {
     "data": {
      "text/html": [
       "<div>\n",
       "<style scoped>\n",
       "    .dataframe tbody tr th:only-of-type {\n",
       "        vertical-align: middle;\n",
       "    }\n",
       "\n",
       "    .dataframe tbody tr th {\n",
       "        vertical-align: top;\n",
       "    }\n",
       "\n",
       "    .dataframe thead th {\n",
       "        text-align: right;\n",
       "    }\n",
       "</style>\n",
       "<table border=\"1\" class=\"dataframe\">\n",
       "  <thead>\n",
       "    <tr style=\"text-align: right;\">\n",
       "      <th></th>\n",
       "      <th>First Name</th>\n",
       "      <th>Last Name</th>\n",
       "      <th>Primary Email</th>\n",
       "    </tr>\n",
       "  </thead>\n",
       "  <tbody>\n",
       "    <tr>\n",
       "      <th>102</th>\n",
       "      <td>Burak</td>\n",
       "      <td>Fidan</td>\n",
       "      <td>burakfidan@std.sehir.edu.tr</td>\n",
       "    </tr>\n",
       "    <tr>\n",
       "      <th>103</th>\n",
       "      <td>Muhammed</td>\n",
       "      <td>Aydin</td>\n",
       "      <td>cihadaydin@std.sehir.edu.tr</td>\n",
       "    </tr>\n",
       "    <tr>\n",
       "      <th>104</th>\n",
       "      <td>Muhammet Masuk</td>\n",
       "      <td>Aktas</td>\n",
       "      <td>muhammetaktas@std.sehir.edu.tr</td>\n",
       "    </tr>\n",
       "    <tr>\n",
       "      <th>105</th>\n",
       "      <td>Sezer</td>\n",
       "      <td>Aktas</td>\n",
       "      <td>sezeraktas@std.sehir.edu.tr</td>\n",
       "    </tr>\n",
       "    <tr>\n",
       "      <th>106</th>\n",
       "      <td>Ayse Nur</td>\n",
       "      <td>Salk</td>\n",
       "      <td>aysesalk@std.sehir.edu.tr</td>\n",
       "    </tr>\n",
       "  </tbody>\n",
       "</table>\n",
       "</div>"
      ],
      "text/plain": [
       "         First Name Last Name                   Primary Email\n",
       "102           Burak     Fidan     burakfidan@std.sehir.edu.tr\n",
       "103        Muhammed     Aydin     cihadaydin@std.sehir.edu.tr\n",
       "104  Muhammet Masuk     Aktas  muhammetaktas@std.sehir.edu.tr\n",
       "105           Sezer     Aktas     sezeraktas@std.sehir.edu.tr\n",
       "106        Ayse Nur      Salk       aysesalk@std.sehir.edu.tr"
      ]
     },
     "execution_count": 3,
     "metadata": {},
     "output_type": "execute_result"
    }
   ],
   "source": [
    "sehir_directory.head()"
   ]
  },
  {
   "cell_type": "code",
   "execution_count": 4,
   "metadata": {},
   "outputs": [
    {
     "data": {
      "text/plain": [
       "'9088 sehir contacts'"
      ]
     },
     "execution_count": 4,
     "metadata": {},
     "output_type": "execute_result"
    }
   ],
   "source": [
    "\"{} sehir contacts\".format(len(sehir_directory))"
   ]
  },
  {
   "cell_type": "code",
   "execution_count": 5,
   "metadata": {},
   "outputs": [],
   "source": [
    "fullnames = [' '.join(first_last_name).lower() \n",
    "                 for first_last_name in sehir_directory[['First Name', 'Last Name']].values]"
   ]
  },
  {
   "cell_type": "code",
   "execution_count": 28,
   "metadata": {},
   "outputs": [],
   "source": [
    "def get_matches_edit_distance(item, choices, limit, scorer=fuzz.token_sort_ratio):\n",
    "    return process.extract(item, choices, limit=limit, scorer=scorer)\n",
    "counter = 0\n",
    "def get_sehir_twitter_matches(twitter_users, sehir_directory, limit=2):\n",
    "    global fullnames,twitter_users_count\n",
    "    twitter_user_by_screen_name = twitter_users.set_index('twitter_screen_name')\n",
    "    \n",
    "    for twitter_screen_name in twitter_users['twitter_screen_name']:\n",
    "        twitter_name = twitter_user_by_screen_name.loc[twitter_screen_name]['cleaned_twitter_name']\n",
    "        sehir_matches = get_matches_edit_distance(twitter_name, fullnames, limit)\n",
    "        counter += 1\n",
    "        if counter %100 == 0:\n",
    "            print(counter, \"out of \", twitter_users_count)\n",
    "        yield (twitter_screen_name, sehir_matches)\n",
    "        \n",
    "def filter_matches_by_threshold(matches_dict, threshold=70):\n",
    "    filtered_dict = dict()\n",
    "    for twitter_screen_name, matches in matches_dict.items():\n",
    "        filtered = [(match, score) for match, score in matches if score > threshold]\n",
    "        \n",
    "        if filtered:\n",
    "            filtered_dict[twitter_screen_name] = filtered\n",
    "        \n",
    "    return filtered_dict\n",
    "\n",
    "def get_matches_dataframe(twitter_users, sehir_directory, threshold, limit):\n",
    "    matches = {screen_name : sehir_matches for screen_name, sehir_matches in \n",
    "               get_sehir_twitter_matches(twitter_users, sehir_directory, limit=limit)}\n",
    "    \n",
    "    filtered_matches = filter_matches_by_threshold(matches, threshold=threshold)\n",
    "    screen_names = filtered_matches.keys()\n",
    "    return pd.DataFrame({'twitter_screen_name': list(screen_names),\n",
    "                         'sehir_matches': [filtered_matches[screen_name] for screen_name in screen_names]})\n",
    "\n",
    "def clean(name):\n",
    "    return unicodedata.normalize('NFKD', name).encode('ascii', 'ignore').lower().decode(\"ascii\")"
   ]
  },
  {
   "cell_type": "markdown",
   "metadata": {},
   "source": [
    "### connect to sql database"
   ]
  },
  {
   "cell_type": "code",
   "execution_count": 20,
   "metadata": {},
   "outputs": [],
   "source": [
    "connection = psycopg2.connect('dbname=twitter_accounts_new host=localhost user=postgres password=1_sehir_1')\n",
    "\n",
    "twitter_users = pd.read_sql(\"SELECT * FROM twitter_user\", connection)\\\n",
    ".rename(columns={'id': 'GUID', \n",
    "                 'name': 'twitter_name',\n",
    "                 'description': 'profile_description',\n",
    "                 'screen_name': 'twitter_screen_name'})\n",
    "\n",
    "user_connections = pd.read_sql(\"SELECT * FROM twitter_connection\", connection).drop('id', axis=1)"
   ]
  },
  {
   "cell_type": "code",
   "execution_count": 21,
   "metadata": {},
   "outputs": [
    {
     "data": {
      "text/html": [
       "<div>\n",
       "<style scoped>\n",
       "    .dataframe tbody tr th:only-of-type {\n",
       "        vertical-align: middle;\n",
       "    }\n",
       "\n",
       "    .dataframe tbody tr th {\n",
       "        vertical-align: top;\n",
       "    }\n",
       "\n",
       "    .dataframe thead th {\n",
       "        text-align: right;\n",
       "    }\n",
       "</style>\n",
       "<table border=\"1\" class=\"dataframe\">\n",
       "  <thead>\n",
       "    <tr style=\"text-align: right;\">\n",
       "      <th></th>\n",
       "      <th>GUID</th>\n",
       "      <th>twitter_name</th>\n",
       "      <th>twitter_screen_name</th>\n",
       "      <th>profile_description</th>\n",
       "      <th>followers_count</th>\n",
       "      <th>friends_count</th>\n",
       "      <th>favourites_count</th>\n",
       "      <th>statuses_count</th>\n",
       "      <th>lang</th>\n",
       "      <th>cleaned_twitter_name</th>\n",
       "    </tr>\n",
       "  </thead>\n",
       "  <tbody>\n",
       "    <tr>\n",
       "      <th>0</th>\n",
       "      <td>2924769794</td>\n",
       "      <td>Elif Öztürk</td>\n",
       "      <td>bidikshowtime</td>\n",
       "      <td>Çanakkale Fen Lisesi'nde okumuş, Boğaziçi Üniv...</td>\n",
       "      <td>46</td>\n",
       "      <td>146</td>\n",
       "      <td>1</td>\n",
       "      <td>2</td>\n",
       "      <td>en</td>\n",
       "      <td>elif ozturk</td>\n",
       "    </tr>\n",
       "    <tr>\n",
       "      <th>2</th>\n",
       "      <td>78362287</td>\n",
       "      <td>Ozan Kublay</td>\n",
       "      <td>ozankublay</td>\n",
       "      <td></td>\n",
       "      <td>307</td>\n",
       "      <td>892</td>\n",
       "      <td>1093</td>\n",
       "      <td>69</td>\n",
       "      <td>en</td>\n",
       "      <td>ozan kublay</td>\n",
       "    </tr>\n",
       "    <tr>\n",
       "      <th>3</th>\n",
       "      <td>927559556</td>\n",
       "      <td>Dilay Kirişçi</td>\n",
       "      <td>annebanafalbak</td>\n",
       "      <td></td>\n",
       "      <td>119</td>\n",
       "      <td>146</td>\n",
       "      <td>34</td>\n",
       "      <td>307</td>\n",
       "      <td>tr</td>\n",
       "      <td>dilay kirisci</td>\n",
       "    </tr>\n",
       "    <tr>\n",
       "      <th>4</th>\n",
       "      <td>567346178</td>\n",
       "      <td>Aslı Atay</td>\n",
       "      <td>asliatayy</td>\n",
       "      <td></td>\n",
       "      <td>156</td>\n",
       "      <td>523</td>\n",
       "      <td>69</td>\n",
       "      <td>1687</td>\n",
       "      <td>tr</td>\n",
       "      <td>asl atay</td>\n",
       "    </tr>\n",
       "    <tr>\n",
       "      <th>5</th>\n",
       "      <td>94153120</td>\n",
       "      <td>Özgecan</td>\n",
       "      <td>theewayfarer</td>\n",
       "      <td>Student athlete and research assistant</td>\n",
       "      <td>136</td>\n",
       "      <td>472</td>\n",
       "      <td>1097</td>\n",
       "      <td>1513</td>\n",
       "      <td>en</td>\n",
       "      <td>ozgecan</td>\n",
       "    </tr>\n",
       "  </tbody>\n",
       "</table>\n",
       "</div>"
      ],
      "text/plain": [
       "         GUID   twitter_name twitter_screen_name  \\\n",
       "0  2924769794    Elif Öztürk       bidikshowtime   \n",
       "2    78362287    Ozan Kublay          ozankublay   \n",
       "3   927559556  Dilay Kirişçi      annebanafalbak   \n",
       "4   567346178      Aslı Atay           asliatayy   \n",
       "5    94153120        Özgecan        theewayfarer   \n",
       "\n",
       "                                 profile_description  followers_count  \\\n",
       "0  Çanakkale Fen Lisesi'nde okumuş, Boğaziçi Üniv...               46   \n",
       "2                                                                 307   \n",
       "3                                                                 119   \n",
       "4                                                                 156   \n",
       "5             Student athlete and research assistant              136   \n",
       "\n",
       "   friends_count  favourites_count  statuses_count lang cleaned_twitter_name  \n",
       "0            146                 1               2   en          elif ozturk  \n",
       "2            892              1093              69   en          ozan kublay  \n",
       "3            146                34             307   tr        dilay kirisci  \n",
       "4            523                69            1687   tr             asl atay  \n",
       "5            472              1097            1513   en              ozgecan  "
      ]
     },
     "execution_count": 21,
     "metadata": {},
     "output_type": "execute_result"
    }
   ],
   "source": [
    "twitter_users[\"cleaned_twitter_name\"] = twitter_users[\"twitter_name\"].apply(lambda x:clean(x) if len(clean(x))>4 else np.NaN)\n",
    "twitter_users.dropna(inplace=True)\n",
    "twitter_users.head(5)"
   ]
  },
  {
   "cell_type": "code",
   "execution_count": 27,
   "metadata": {},
   "outputs": [
    {
     "data": {
      "text/plain": [
       "34142"
      ]
     },
     "execution_count": 27,
     "metadata": {},
     "output_type": "execute_result"
    }
   ],
   "source": [
    "twitter_users_count = len(twitter_users)\n",
    "twitter_users_count"
   ]
  },
  {
   "cell_type": "code",
   "execution_count": 23,
   "metadata": {},
   "outputs": [],
   "source": [
    "fullnames = [' '.join(first_last_name).lower() \n",
    "                 for first_last_name in sehir_directory[['First Name', 'Last Name']].values]"
   ]
  },
  {
   "cell_type": "markdown",
   "metadata": {},
   "source": [
    "### user_connections contains follower/followee relationships by GUID"
   ]
  },
  {
   "cell_type": "code",
   "execution_count": 24,
   "metadata": {},
   "outputs": [
    {
     "data": {
      "text/html": [
       "<div>\n",
       "<style scoped>\n",
       "    .dataframe tbody tr th:only-of-type {\n",
       "        vertical-align: middle;\n",
       "    }\n",
       "\n",
       "    .dataframe tbody tr th {\n",
       "        vertical-align: top;\n",
       "    }\n",
       "\n",
       "    .dataframe thead th {\n",
       "        text-align: right;\n",
       "    }\n",
       "</style>\n",
       "<table border=\"1\" class=\"dataframe\">\n",
       "  <thead>\n",
       "    <tr style=\"text-align: right;\">\n",
       "      <th></th>\n",
       "      <th>from_user_id</th>\n",
       "      <th>to_user_id</th>\n",
       "    </tr>\n",
       "  </thead>\n",
       "  <tbody>\n",
       "    <tr>\n",
       "      <th>0</th>\n",
       "      <td>2924769794</td>\n",
       "      <td>566810673</td>\n",
       "    </tr>\n",
       "    <tr>\n",
       "      <th>1</th>\n",
       "      <td>2924769794</td>\n",
       "      <td>78362287</td>\n",
       "    </tr>\n",
       "  </tbody>\n",
       "</table>\n",
       "</div>"
      ],
      "text/plain": [
       "   from_user_id  to_user_id\n",
       "0    2924769794   566810673\n",
       "1    2924769794    78362287"
      ]
     },
     "execution_count": 24,
     "metadata": {},
     "output_type": "execute_result"
    }
   ],
   "source": [
    "user_connections.head(2)"
   ]
  },
  {
   "cell_type": "markdown",
   "metadata": {},
   "source": [
    "### matching subset of sehir twitter accounts _ALL_"
   ]
  },
  {
   "cell_type": "code",
   "execution_count": 25,
   "metadata": {},
   "outputs": [
    {
     "name": "stderr",
     "output_type": "stream",
     "text": [
      "WARNING:root:Applied processor reduces input query to empty string, all comparisons will have score 0. [Query: '.....']\n",
      "WARNING:root:Applied processor reduces input query to empty string, all comparisons will have score 0. [Query: ' .  .']\n",
      "WARNING:root:Applied processor reduces input query to empty string, all comparisons will have score 0. [Query: '.....']\n",
      "WARNING:root:Applied processor reduces input query to empty string, all comparisons will have score 0. [Query: '(*-*)']\n",
      "WARNING:root:Applied processor reduces input query to empty string, all comparisons will have score 0. [Query: '. . .']\n",
      "WARNING:root:Applied processor reduces input query to empty string, all comparisons will have score 0. [Query: ' ..  ']\n",
      "WARNING:root:Applied processor reduces input query to empty string, all comparisons will have score 0. [Query: '--------']\n",
      "WARNING:root:Applied processor reduces input query to empty string, all comparisons will have score 0. [Query: '?????']\n",
      "WARNING:root:Applied processor reduces input query to empty string, all comparisons will have score 0. [Query: ' (  )']\n",
      "WARNING:root:Applied processor reduces input query to empty string, all comparisons will have score 0. [Query: ':) :) :)']\n",
      "WARNING:root:Applied processor reduces input query to empty string, all comparisons will have score 0. [Query: '.......']\n"
     ]
    }
   ],
   "source": [
    "sehir_matches_df = get_matches_dataframe(twitter_users,\n",
    "                                         sehir_directory, threshold=80, limit=2)"
   ]
  },
  {
   "cell_type": "code",
   "execution_count": 34,
   "metadata": {},
   "outputs": [
    {
     "name": "stdout",
     "output_type": "stream",
     "text": [
      "There are 4063 matches\n"
     ]
    },
    {
     "data": {
      "text/html": [
       "<div>\n",
       "<style scoped>\n",
       "    .dataframe tbody tr th:only-of-type {\n",
       "        vertical-align: middle;\n",
       "    }\n",
       "\n",
       "    .dataframe tbody tr th {\n",
       "        vertical-align: top;\n",
       "    }\n",
       "\n",
       "    .dataframe thead th {\n",
       "        text-align: right;\n",
       "    }\n",
       "</style>\n",
       "<table border=\"1\" class=\"dataframe\">\n",
       "  <thead>\n",
       "    <tr style=\"text-align: right;\">\n",
       "      <th></th>\n",
       "      <th>sehir_matches</th>\n",
       "      <th>twitter_screen_name</th>\n",
       "    </tr>\n",
       "  </thead>\n",
       "  <tbody>\n",
       "    <tr>\n",
       "      <th>0</th>\n",
       "      <td>[(mustafa demir, 100), (mustafa gokdemir, 90)]</td>\n",
       "      <td>mustafedemir</td>\n",
       "    </tr>\n",
       "    <tr>\n",
       "      <th>1</th>\n",
       "      <td>[(melisa yalin, 83)]</td>\n",
       "      <td>selambenmelissa</td>\n",
       "    </tr>\n",
       "    <tr>\n",
       "      <th>2</th>\n",
       "      <td>[(mustafa durdu, 81), (mustafa duman, 81)]</td>\n",
       "      <td>dundar_mstf</td>\n",
       "    </tr>\n",
       "    <tr>\n",
       "      <th>3</th>\n",
       "      <td>[(ahmet karanfil, 81)]</td>\n",
       "      <td>AhmetMaranki</td>\n",
       "    </tr>\n",
       "    <tr>\n",
       "      <th>4</th>\n",
       "      <td>[(derya genc, 82)]</td>\n",
       "      <td>bayan_sukela</td>\n",
       "    </tr>\n",
       "  </tbody>\n",
       "</table>\n",
       "</div>"
      ],
      "text/plain": [
       "                                    sehir_matches twitter_screen_name\n",
       "0  [(mustafa demir, 100), (mustafa gokdemir, 90)]        mustafedemir\n",
       "1                            [(melisa yalin, 83)]     selambenmelissa\n",
       "2      [(mustafa durdu, 81), (mustafa duman, 81)]         dundar_mstf\n",
       "3                          [(ahmet karanfil, 81)]        AhmetMaranki\n",
       "4                              [(derya genc, 82)]        bayan_sukela"
      ]
     },
     "execution_count": 34,
     "metadata": {},
     "output_type": "execute_result"
    }
   ],
   "source": [
    "print(\"There are {} matches\".format(len(sehir_matches_df)))\n",
    "sehir_matches_df.head(5)"
   ]
  },
  {
   "cell_type": "code",
   "execution_count": 35,
   "metadata": {},
   "outputs": [],
   "source": [
    "merged = sehir_matches_df.merge(twitter_users, left_on='twitter_screen_name', right_on='twitter_screen_name')"
   ]
  },
  {
   "cell_type": "code",
   "execution_count": 36,
   "metadata": {},
   "outputs": [
    {
     "data": {
      "text/html": [
       "<div>\n",
       "<style scoped>\n",
       "    .dataframe tbody tr th:only-of-type {\n",
       "        vertical-align: middle;\n",
       "    }\n",
       "\n",
       "    .dataframe tbody tr th {\n",
       "        vertical-align: top;\n",
       "    }\n",
       "\n",
       "    .dataframe thead th {\n",
       "        text-align: right;\n",
       "    }\n",
       "</style>\n",
       "<table border=\"1\" class=\"dataframe\">\n",
       "  <thead>\n",
       "    <tr style=\"text-align: right;\">\n",
       "      <th></th>\n",
       "      <th>GUID</th>\n",
       "      <th>twitter_screen_name</th>\n",
       "      <th>cleaned_twitter_name</th>\n",
       "      <th>sehir_matches</th>\n",
       "    </tr>\n",
       "  </thead>\n",
       "  <tbody>\n",
       "    <tr>\n",
       "      <th>4058</th>\n",
       "      <td>3855028132</td>\n",
       "      <td>busra1i</td>\n",
       "      <td>busra zengin</td>\n",
       "      <td>[(busra ozzengin, 92), (busra sezgin, 83)]</td>\n",
       "    </tr>\n",
       "    <tr>\n",
       "      <th>4059</th>\n",
       "      <td>1029280640</td>\n",
       "      <td>kbuluts</td>\n",
       "      <td>suleyman karabulut</td>\n",
       "      <td>[(uluhan karabulut, 82), (suleyman karatas, 82)]</td>\n",
       "    </tr>\n",
       "    <tr>\n",
       "      <th>4060</th>\n",
       "      <td>477198346</td>\n",
       "      <td>merveaktas92</td>\n",
       "      <td>merve aktas</td>\n",
       "      <td>[(merve altas, 91), (merve akkus, 82)]</td>\n",
       "    </tr>\n",
       "    <tr>\n",
       "      <th>4061</th>\n",
       "      <td>1479485390</td>\n",
       "      <td>yagmurdan_once</td>\n",
       "      <td>sevim erdogan</td>\n",
       "      <td>[(sevde erdogan, 85)]</td>\n",
       "    </tr>\n",
       "    <tr>\n",
       "      <th>4062</th>\n",
       "      <td>1180515096</td>\n",
       "      <td>demirb0</td>\n",
       "      <td>furkan demir</td>\n",
       "      <td>[(furkan demir, 100), (furkan emer, 87)]</td>\n",
       "    </tr>\n",
       "  </tbody>\n",
       "</table>\n",
       "</div>"
      ],
      "text/plain": [
       "            GUID twitter_screen_name cleaned_twitter_name  \\\n",
       "4058  3855028132             busra1i         busra zengin   \n",
       "4059  1029280640             kbuluts   suleyman karabulut   \n",
       "4060   477198346        merveaktas92          merve aktas   \n",
       "4061  1479485390      yagmurdan_once        sevim erdogan   \n",
       "4062  1180515096             demirb0         furkan demir   \n",
       "\n",
       "                                         sehir_matches  \n",
       "4058        [(busra ozzengin, 92), (busra sezgin, 83)]  \n",
       "4059  [(uluhan karabulut, 82), (suleyman karatas, 82)]  \n",
       "4060            [(merve altas, 91), (merve akkus, 82)]  \n",
       "4061                             [(sevde erdogan, 85)]  \n",
       "4062          [(furkan demir, 100), (furkan emer, 87)]  "
      ]
     },
     "execution_count": 36,
     "metadata": {},
     "output_type": "execute_result"
    }
   ],
   "source": [
    "merged[['GUID', 'twitter_screen_name', 'cleaned_twitter_name', 'sehir_matches']].tail(5)"
   ]
  },
  {
   "cell_type": "code",
   "execution_count": 38,
   "metadata": {},
   "outputs": [],
   "source": [
    "merged.to_csv('datasets/sehir_matches.csv', index_label=\"GUID\")"
   ]
  },
  {
   "cell_type": "code",
   "execution_count": 39,
   "metadata": {},
   "outputs": [],
   "source": [
    "merged = pd.read_csv('datasets/sehir_matches.csv', index_col=\"GUID\")"
   ]
  },
  {
   "cell_type": "code",
   "execution_count": 40,
   "metadata": {},
   "outputs": [
    {
     "data": {
      "text/html": [
       "<div>\n",
       "<style scoped>\n",
       "    .dataframe tbody tr th:only-of-type {\n",
       "        vertical-align: middle;\n",
       "    }\n",
       "\n",
       "    .dataframe tbody tr th {\n",
       "        vertical-align: top;\n",
       "    }\n",
       "\n",
       "    .dataframe thead th {\n",
       "        text-align: right;\n",
       "    }\n",
       "</style>\n",
       "<table border=\"1\" class=\"dataframe\">\n",
       "  <thead>\n",
       "    <tr style=\"text-align: right;\">\n",
       "      <th></th>\n",
       "      <th>sehir_matches</th>\n",
       "      <th>twitter_screen_name</th>\n",
       "      <th>GUID.1</th>\n",
       "      <th>twitter_name</th>\n",
       "      <th>profile_description</th>\n",
       "      <th>followers_count</th>\n",
       "      <th>friends_count</th>\n",
       "      <th>favourites_count</th>\n",
       "      <th>statuses_count</th>\n",
       "      <th>lang</th>\n",
       "      <th>cleaned_twitter_name</th>\n",
       "    </tr>\n",
       "    <tr>\n",
       "      <th>GUID</th>\n",
       "      <th></th>\n",
       "      <th></th>\n",
       "      <th></th>\n",
       "      <th></th>\n",
       "      <th></th>\n",
       "      <th></th>\n",
       "      <th></th>\n",
       "      <th></th>\n",
       "      <th></th>\n",
       "      <th></th>\n",
       "      <th></th>\n",
       "    </tr>\n",
       "  </thead>\n",
       "  <tbody>\n",
       "    <tr>\n",
       "      <th>0</th>\n",
       "      <td>[('mustafa demir', 100), ('mustafa gokdemir', ...</td>\n",
       "      <td>mustafedemir</td>\n",
       "      <td>294557248</td>\n",
       "      <td>Mustafa DEMİR</td>\n",
       "      <td>BEDEN EĞİTİMİ ÖĞRETMENİ \\nAli Akkanat Anadolu ...</td>\n",
       "      <td>45</td>\n",
       "      <td>53</td>\n",
       "      <td>349</td>\n",
       "      <td>261</td>\n",
       "      <td>tr</td>\n",
       "      <td>mustafa demir</td>\n",
       "    </tr>\n",
       "    <tr>\n",
       "      <th>1</th>\n",
       "      <td>[('melisa yalin', 83)]</td>\n",
       "      <td>selambenmelissa</td>\n",
       "      <td>3410655087</td>\n",
       "      <td>Melissa Yanıcı</td>\n",
       "      <td>gizlilikten dolayı fotoğraf yayınlamıyorum</td>\n",
       "      <td>115870</td>\n",
       "      <td>514</td>\n",
       "      <td>117</td>\n",
       "      <td>495</td>\n",
       "      <td>tr</td>\n",
       "      <td>melissa yanc</td>\n",
       "    </tr>\n",
       "    <tr>\n",
       "      <th>2</th>\n",
       "      <td>[('mustafa durdu', 81), ('mustafa duman', 81)]</td>\n",
       "      <td>dundar_mstf</td>\n",
       "      <td>2996348915</td>\n",
       "      <td>Mustafa Dündar</td>\n",
       "      <td>NaN</td>\n",
       "      <td>869</td>\n",
       "      <td>306</td>\n",
       "      <td>3669</td>\n",
       "      <td>302</td>\n",
       "      <td>tr</td>\n",
       "      <td>mustafa dundar</td>\n",
       "    </tr>\n",
       "    <tr>\n",
       "      <th>3</th>\n",
       "      <td>[('ahmet karanfil', 81)]</td>\n",
       "      <td>AhmetMaranki</td>\n",
       "      <td>89203798</td>\n",
       "      <td>Ahmet MARANKİ</td>\n",
       "      <td>Prof. Dr. Ahmet Maranki'nin çalışmalarının yay...</td>\n",
       "      <td>4762</td>\n",
       "      <td>28</td>\n",
       "      <td>0</td>\n",
       "      <td>0</td>\n",
       "      <td>tr</td>\n",
       "      <td>ahmet maranki</td>\n",
       "    </tr>\n",
       "    <tr>\n",
       "      <th>4</th>\n",
       "      <td>[('derya genc', 82)]</td>\n",
       "      <td>bayan_sukela</td>\n",
       "      <td>239841117</td>\n",
       "      <td>Derya E.</td>\n",
       "      <td>Büyük adam olmana lüzum yok, sadece adam ol ye...</td>\n",
       "      <td>567</td>\n",
       "      <td>70</td>\n",
       "      <td>1</td>\n",
       "      <td>2615</td>\n",
       "      <td>tr</td>\n",
       "      <td>derya e.</td>\n",
       "    </tr>\n",
       "  </tbody>\n",
       "</table>\n",
       "</div>"
      ],
      "text/plain": [
       "                                          sehir_matches twitter_screen_name  \\\n",
       "GUID                                                                          \n",
       "0     [('mustafa demir', 100), ('mustafa gokdemir', ...        mustafedemir   \n",
       "1                                [('melisa yalin', 83)]     selambenmelissa   \n",
       "2        [('mustafa durdu', 81), ('mustafa duman', 81)]         dundar_mstf   \n",
       "3                              [('ahmet karanfil', 81)]        AhmetMaranki   \n",
       "4                                  [('derya genc', 82)]        bayan_sukela   \n",
       "\n",
       "          GUID.1    twitter_name  \\\n",
       "GUID                               \n",
       "0      294557248   Mustafa DEMİR   \n",
       "1     3410655087  Melissa Yanıcı   \n",
       "2     2996348915  Mustafa Dündar   \n",
       "3       89203798   Ahmet MARANKİ   \n",
       "4      239841117        Derya E.   \n",
       "\n",
       "                                    profile_description  followers_count  \\\n",
       "GUID                                                                       \n",
       "0     BEDEN EĞİTİMİ ÖĞRETMENİ \\nAli Akkanat Anadolu ...               45   \n",
       "1            gizlilikten dolayı fotoğraf yayınlamıyorum           115870   \n",
       "2                                                   NaN              869   \n",
       "3     Prof. Dr. Ahmet Maranki'nin çalışmalarının yay...             4762   \n",
       "4     Büyük adam olmana lüzum yok, sadece adam ol ye...              567   \n",
       "\n",
       "      friends_count  favourites_count  statuses_count lang  \\\n",
       "GUID                                                         \n",
       "0                53               349             261   tr   \n",
       "1               514               117             495   tr   \n",
       "2               306              3669             302   tr   \n",
       "3                28                 0               0   tr   \n",
       "4                70                 1            2615   tr   \n",
       "\n",
       "     cleaned_twitter_name  \n",
       "GUID                       \n",
       "0           mustafa demir  \n",
       "1            melissa yanc  \n",
       "2          mustafa dundar  \n",
       "3           ahmet maranki  \n",
       "4                derya e.  "
      ]
     },
     "execution_count": 40,
     "metadata": {},
     "output_type": "execute_result"
    }
   ],
   "source": [
    "merged.head(5)"
   ]
  },
  {
   "cell_type": "code",
   "execution_count": 42,
   "metadata": {},
   "outputs": [],
   "source": [
    "# merged.set_index('GUID.1').loc[291122559]"
   ]
  },
  {
   "cell_type": "code",
   "execution_count": 43,
   "metadata": {},
   "outputs": [
    {
     "data": {
      "text/plain": [
       "'4063 twitter accounts have been matched successfully'"
      ]
     },
     "execution_count": 43,
     "metadata": {},
     "output_type": "execute_result"
    }
   ],
   "source": [
    "'{} twitter accounts have been matched successfully'.format(len(merged))"
   ]
  },
  {
   "cell_type": "code",
   "execution_count": null,
   "metadata": {},
   "outputs": [],
   "source": [
    "# sehir_matches_by_guid = merged.set_index('GUID')"
   ]
  },
  {
   "cell_type": "code",
   "execution_count": null,
   "metadata": {},
   "outputs": [],
   "source": [
    "number_of_matches, _ = merged.shape\n",
    "\n",
    "network = Graph(directed=True)\n",
    "network.add_vertex(number_of_matches)\n",
    "\n",
    "vprop = network.new_vertex_property(\"string\")\n",
    "\n",
    "for vertex, twitter_screen_name in zip(network.vertices(), merged['twitter_screen_name'].values):\n",
    "    vprop[vertex] = twitter_screen_name\n",
    "    \n",
    "network.vertex_properties[\"twitter_screen_name\"] = vprop\n",
    "\n",
    "for i, row in user_connections.iterrows():\n",
    "    from_ = row['from_user_id']\n",
    "    to = row['to_user_id']\n",
    "    \n",
    "    try:\n",
    "        network.add_edge(find_vertex(network, vprop, sehir_matches_by_guid.loc[from_]['twitter_name']), \n",
    "                         find_vertex(network, vprop, sehir_matches_by_guid.loc[to]['twitter_name']))\n",
    "    except Exception as e:\n",
    "        pass"
   ]
  },
  {
   "cell_type": "code",
   "execution_count": null,
   "metadata": {},
   "outputs": [],
   "source": [
    "graph_draw(network, vertex_text=network.vertex_properties[\"twitter_screen_name\"],\n",
    "           vertex_font_size=40,\n",
    "           output_size=(10000, 10000), output=\"sehir_subset.png\")"
   ]
  },
  {
   "cell_type": "code",
   "execution_count": null,
   "metadata": {},
   "outputs": [],
   "source": []
  }
 ],
 "metadata": {
  "anaconda-cloud": {},
  "kernelspec": {
   "display_name": "Python 3",
   "language": "python",
   "name": "python3"
  },
  "language_info": {
   "codemirror_mode": {
    "name": "ipython",
    "version": 3
   },
   "file_extension": ".py",
   "mimetype": "text/x-python",
   "name": "python",
   "nbconvert_exporter": "python",
   "pygments_lexer": "ipython3",
   "version": "3.5.2"
  }
 },
 "nbformat": 4,
 "nbformat_minor": 2
}
