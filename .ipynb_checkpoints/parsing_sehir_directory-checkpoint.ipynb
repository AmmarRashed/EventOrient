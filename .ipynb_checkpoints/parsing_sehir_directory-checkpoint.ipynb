{
 "cells": [
  {
   "cell_type": "code",
   "execution_count": 29,
   "metadata": {
    "collapsed": true
   },
   "outputs": [],
   "source": [
    "import psycopg2\n",
    "\n",
    "import pandas as pd\n",
    "import numpy as np\n",
    "\n",
    "from fuzzywuzzy import fuzz\n",
    "from fuzzywuzzy import process\n",
    "\n",
    "from copy import deepcopy"
   ]
  },
  {
   "cell_type": "markdown",
   "metadata": {},
   "source": [
    "### parse sehir contacts directory (full names, emails)"
   ]
  },
  {
   "cell_type": "code",
   "execution_count": 2,
   "metadata": {
    "collapsed": true
   },
   "outputs": [],
   "source": [
    "contacts = pd.read_csv('datasets/contacts.csv', encoding = \"ISO-8859-1\", usecols=['First Name', 'Last Name', 'Primary Email'])\n",
    "contacts_no_nans = contacts.dropna()\n",
    "\n",
    "fullnames = [' '.join(c) for c in contacts_no_nans[['First Name', 'Last Name']].values]"
   ]
  },
  {
   "cell_type": "code",
   "execution_count": 72,
   "metadata": {},
   "outputs": [],
   "source": [
    "def get_matches_edit_distance(item, choices, limit):\n",
    "    return process.extract(item, choices, limit=limit, scorer=fuzz.token_sort_ratio)\n",
    "\n",
    "def match_twitter_handles_to_names(twitter_users, sehir_student_names, twitter_handle_column='screen_name', limit=2):\n",
    "    twitter_user_by_screen_name = twitter_users.set_index(twitter_handle_column)\n",
    "    for screen_name in twitter_users[twitter_handle_column]:\n",
    "        name = twitter_user_by_screen_name.loc[screen_name, 'name']\n",
    "        yield screen_name, get_matches_edit_distance(name, sehir_student_names, limit)\n",
    "        \n",
    "def filter_matches_by_threshold(matches_dict, threshold=70):\n",
    "    filtered_dict = dict()\n",
    "    for key, matches in matches_dict.items():\n",
    "        filtered = list(filter(lambda match_score: match_score[1] > threshold, matches))\n",
    "        \n",
    "        if filtered:\n",
    "            filtered_dict[key] = filtered\n",
    "        \n",
    "    return filtered_dict"
   ]
  },
  {
   "cell_type": "markdown",
   "metadata": {},
   "source": [
    "### connect to sql database"
   ]
  },
  {
   "cell_type": "code",
   "execution_count": 68,
   "metadata": {
    "collapsed": true
   },
   "outputs": [],
   "source": [
    "connection = psycopg2.connect(\"dbname=twitter_accounts user=postgres\")\n",
    "twitter_users = pd.read_sql(\"SELECT * FROM twitter_user\", connection)\n",
    "user_connections = pd.read_sql(\"SELECT * FROM twitter_connection\", connection).drop('id', axis=1)"
   ]
  },
  {
   "cell_type": "code",
   "execution_count": 69,
   "metadata": {},
   "outputs": [
    {
     "data": {
      "text/html": [
       "<div>\n",
       "<style>\n",
       "    .dataframe thead tr:only-child th {\n",
       "        text-align: right;\n",
       "    }\n",
       "\n",
       "    .dataframe thead th {\n",
       "        text-align: left;\n",
       "    }\n",
       "\n",
       "    .dataframe tbody tr th {\n",
       "        vertical-align: top;\n",
       "    }\n",
       "</style>\n",
       "<table border=\"1\" class=\"dataframe\">\n",
       "  <thead>\n",
       "    <tr style=\"text-align: right;\">\n",
       "      <th></th>\n",
       "      <th>id</th>\n",
       "      <th>name</th>\n",
       "      <th>screen_name</th>\n",
       "      <th>description</th>\n",
       "      <th>followers_count</th>\n",
       "      <th>friends_count</th>\n",
       "      <th>favourites_count</th>\n",
       "      <th>statuses_count</th>\n",
       "      <th>lang</th>\n",
       "    </tr>\n",
       "  </thead>\n",
       "  <tbody>\n",
       "    <tr>\n",
       "      <th>0</th>\n",
       "      <td>106086098</td>\n",
       "      <td>ŞEHİR Üniversitesi</td>\n",
       "      <td>SehirUniversite</td>\n",
       "      <td>İstanbul Şehir Üniversitesi'nin Resmi Twitter ...</td>\n",
       "      <td>11367</td>\n",
       "      <td>165</td>\n",
       "      <td>387</td>\n",
       "      <td>3346</td>\n",
       "      <td>tr</td>\n",
       "    </tr>\n",
       "    <tr>\n",
       "      <th>1</th>\n",
       "      <td>813478272910630913</td>\n",
       "      <td>SehirCHES</td>\n",
       "      <td>SehirCHES</td>\n",
       "      <td>Official Twitter for @SehirUniversite 's Cente...</td>\n",
       "      <td>102</td>\n",
       "      <td>201</td>\n",
       "      <td>27</td>\n",
       "      <td>44</td>\n",
       "      <td>tr</td>\n",
       "    </tr>\n",
       "  </tbody>\n",
       "</table>\n",
       "</div>"
      ],
      "text/plain": [
       "                   id                name      screen_name  \\\n",
       "0           106086098  ŞEHİR Üniversitesi  SehirUniversite   \n",
       "1  813478272910630913           SehirCHES        SehirCHES   \n",
       "\n",
       "                                         description  followers_count  \\\n",
       "0  İstanbul Şehir Üniversitesi'nin Resmi Twitter ...            11367   \n",
       "1  Official Twitter for @SehirUniversite 's Cente...              102   \n",
       "\n",
       "   friends_count  favourites_count  statuses_count lang  \n",
       "0            165               387            3346   tr  \n",
       "1            201                27              44   tr  "
      ]
     },
     "execution_count": 69,
     "metadata": {},
     "output_type": "execute_result"
    }
   ],
   "source": [
    "twitter_users.head(2)"
   ]
  },
  {
   "cell_type": "markdown",
   "metadata": {},
   "source": [
    "### user_connections contains follower/followee relationships by GUID"
   ]
  },
  {
   "cell_type": "code",
   "execution_count": 70,
   "metadata": {},
   "outputs": [
    {
     "data": {
      "text/html": [
       "<div>\n",
       "<style>\n",
       "    .dataframe thead tr:only-child th {\n",
       "        text-align: right;\n",
       "    }\n",
       "\n",
       "    .dataframe thead th {\n",
       "        text-align: left;\n",
       "    }\n",
       "\n",
       "    .dataframe tbody tr th {\n",
       "        vertical-align: top;\n",
       "    }\n",
       "</style>\n",
       "<table border=\"1\" class=\"dataframe\">\n",
       "  <thead>\n",
       "    <tr style=\"text-align: right;\">\n",
       "      <th></th>\n",
       "      <th>from_user_id</th>\n",
       "      <th>to_user_id</th>\n",
       "    </tr>\n",
       "  </thead>\n",
       "  <tbody>\n",
       "    <tr>\n",
       "      <th>0</th>\n",
       "      <td>106086098</td>\n",
       "      <td>813478272910630913</td>\n",
       "    </tr>\n",
       "    <tr>\n",
       "      <th>1</th>\n",
       "      <td>106086098</td>\n",
       "      <td>835028362032742400</td>\n",
       "    </tr>\n",
       "  </tbody>\n",
       "</table>\n",
       "</div>"
      ],
      "text/plain": [
       "   from_user_id          to_user_id\n",
       "0     106086098  813478272910630913\n",
       "1     106086098  835028362032742400"
      ]
     },
     "execution_count": 70,
     "metadata": {},
     "output_type": "execute_result"
    }
   ],
   "source": [
    "user_connections.head(2)"
   ]
  },
  {
   "cell_type": "code",
   "execution_count": 86,
   "metadata": {},
   "outputs": [],
   "source": [
    "matches_dict, match_first = dict(), 100\n",
    "gen = match_twitter_handles_to_names(twitter_users, fullnames, limit=2)\n",
    "\n",
    "for i in range(match_first):\n",
    "    screen_name, match = next(gen)\n",
    "    matches_dict[screen_name] = match\n",
    "\n",
    "filtered = filter_matches_by_threshold(matches_dict, 80)"
   ]
  },
  {
   "cell_type": "code",
   "execution_count": 87,
   "metadata": {},
   "outputs": [
    {
     "data": {
      "text/plain": [
       "{'Imanov_Resadet': [('Resadet Imanov', 100)],\n",
       " 'MustafaOzelden': [('Mustafa Ozel', 96), ('Mustafa Pekel', 83)],\n",
       " 'SehirCycling': [('Sehir Cycling Club', 94)],\n",
       " 'SehirGirisim': [('Girisimcilik Kulubu', 89)],\n",
       " '_apollo_7': [('Abdullah Kaplan', 83)],\n",
       " 'aatcil': [('Abdurrahman Patur', 85), ('Abdurrahman Altundal', 83)],\n",
       " 'ak1gokhan': [('Gokhan Ak', 94)],\n",
       " 'haticeaynurr': [('Hatice Aygen', 83), ('Hatice Aygor', 83)],\n",
       " 'malibuyukkara': [('Mehmet Ali Kahraman', 81)],\n",
       " 'malpergumus': [('Mustafa Alper Eroglu', 81)],\n",
       " 'meneserkan': [('Enes Erkan', 100), ('Serkan Senel', 82)],\n",
       " 'mfatihaysan': [('Fatih Mehmet Arslan', 92), ('Fatih Mehmet Agan', 91)],\n",
       " 'nurpuytu': [('Fatmanur Puytu', 100)],\n",
       " 'sehiricebreaker': [('Icebreakers PR', 84), ('Sehir Icebreakers Club', 82)],\n",
       " 'ycbenli': [('Cengiz Benli', 100)]}"
      ]
     },
     "execution_count": 87,
     "metadata": {},
     "output_type": "execute_result"
    }
   ],
   "source": [
    "filtered"
   ]
  },
  {
   "cell_type": "code",
   "execution_count": null,
   "metadata": {
    "collapsed": true
   },
   "outputs": [],
   "source": []
  }
 ],
 "metadata": {
  "kernelspec": {
   "display_name": "Python 3",
   "language": "python",
   "name": "python3"
  },
  "language_info": {
   "codemirror_mode": {
    "name": "ipython",
    "version": 3
   },
   "file_extension": ".py",
   "mimetype": "text/x-python",
   "name": "python",
   "nbconvert_exporter": "python",
   "pygments_lexer": "ipython3",
   "version": "3.6.3"
  }
 },
 "nbformat": 4,
 "nbformat_minor": 2
}
