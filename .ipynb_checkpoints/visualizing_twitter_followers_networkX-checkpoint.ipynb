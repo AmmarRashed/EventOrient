{
 "cells": [
  {
   "cell_type": "code",
   "execution_count": 1,
   "metadata": {},
   "outputs": [],
   "source": [
    "import psycopg2\n",
    "\n",
    "import pandas as pd\n",
    "import numpy as np\n",
    "\n",
    "from copy import deepcopy\n",
    "\n",
    "import ast\n",
    "\n",
    "import networkx as nx\n",
    "\n",
    "\n",
    "import matplotlib.pyplot as plt"
   ]
  },
  {
   "cell_type": "code",
   "execution_count": 2,
   "metadata": {},
   "outputs": [
    {
     "data": {
      "text/html": [
       "<div>\n",
       "<style scoped>\n",
       "    .dataframe tbody tr th:only-of-type {\n",
       "        vertical-align: middle;\n",
       "    }\n",
       "\n",
       "    .dataframe tbody tr th {\n",
       "        vertical-align: top;\n",
       "    }\n",
       "\n",
       "    .dataframe thead th {\n",
       "        text-align: right;\n",
       "    }\n",
       "</style>\n",
       "<table border=\"1\" class=\"dataframe\">\n",
       "  <thead>\n",
       "    <tr style=\"text-align: right;\">\n",
       "      <th></th>\n",
       "      <th>sehir_matches</th>\n",
       "      <th>twitter_screen_name</th>\n",
       "      <th>twitter_name</th>\n",
       "      <th>profile_description</th>\n",
       "      <th>followers_count</th>\n",
       "      <th>friends_count</th>\n",
       "      <th>favourites_count</th>\n",
       "      <th>statuses_count</th>\n",
       "      <th>lang</th>\n",
       "      <th>cleaned_twitter_name</th>\n",
       "    </tr>\n",
       "    <tr>\n",
       "      <th>GUID.1</th>\n",
       "      <th></th>\n",
       "      <th></th>\n",
       "      <th></th>\n",
       "      <th></th>\n",
       "      <th></th>\n",
       "      <th></th>\n",
       "      <th></th>\n",
       "      <th></th>\n",
       "      <th></th>\n",
       "      <th></th>\n",
       "    </tr>\n",
       "  </thead>\n",
       "  <tbody>\n",
       "    <tr>\n",
       "      <th>294557248</th>\n",
       "      <td>[('mustafa demir', 100), ('mustafa gokdemir', ...</td>\n",
       "      <td>mustafedemir</td>\n",
       "      <td>Mustafa DEMİR</td>\n",
       "      <td>BEDEN EĞİTİMİ ÖĞRETMENİ \\nAli Akkanat Anadolu ...</td>\n",
       "      <td>45</td>\n",
       "      <td>53</td>\n",
       "      <td>349</td>\n",
       "      <td>261</td>\n",
       "      <td>tr</td>\n",
       "      <td>mustafa demir</td>\n",
       "    </tr>\n",
       "    <tr>\n",
       "      <th>3410655087</th>\n",
       "      <td>[('melisa yalin', 83)]</td>\n",
       "      <td>selambenmelissa</td>\n",
       "      <td>Melissa Yanıcı</td>\n",
       "      <td>gizlilikten dolayı fotoğraf yayınlamıyorum</td>\n",
       "      <td>115870</td>\n",
       "      <td>514</td>\n",
       "      <td>117</td>\n",
       "      <td>495</td>\n",
       "      <td>tr</td>\n",
       "      <td>melissa yanc</td>\n",
       "    </tr>\n",
       "    <tr>\n",
       "      <th>2996348915</th>\n",
       "      <td>[('mustafa durdu', 81), ('mustafa duman', 81)]</td>\n",
       "      <td>dundar_mstf</td>\n",
       "      <td>Mustafa Dündar</td>\n",
       "      <td>NaN</td>\n",
       "      <td>869</td>\n",
       "      <td>306</td>\n",
       "      <td>3669</td>\n",
       "      <td>302</td>\n",
       "      <td>tr</td>\n",
       "      <td>mustafa dundar</td>\n",
       "    </tr>\n",
       "    <tr>\n",
       "      <th>89203798</th>\n",
       "      <td>[('ahmet karanfil', 81)]</td>\n",
       "      <td>AhmetMaranki</td>\n",
       "      <td>Ahmet MARANKİ</td>\n",
       "      <td>Prof. Dr. Ahmet Maranki'nin çalışmalarının yay...</td>\n",
       "      <td>4762</td>\n",
       "      <td>28</td>\n",
       "      <td>0</td>\n",
       "      <td>0</td>\n",
       "      <td>tr</td>\n",
       "      <td>ahmet maranki</td>\n",
       "    </tr>\n",
       "    <tr>\n",
       "      <th>239841117</th>\n",
       "      <td>[('derya genc', 82)]</td>\n",
       "      <td>bayan_sukela</td>\n",
       "      <td>Derya E.</td>\n",
       "      <td>Büyük adam olmana lüzum yok, sadece adam ol ye...</td>\n",
       "      <td>567</td>\n",
       "      <td>70</td>\n",
       "      <td>1</td>\n",
       "      <td>2615</td>\n",
       "      <td>tr</td>\n",
       "      <td>derya e.</td>\n",
       "    </tr>\n",
       "  </tbody>\n",
       "</table>\n",
       "</div>"
      ],
      "text/plain": [
       "                                                sehir_matches  \\\n",
       "GUID.1                                                          \n",
       "294557248   [('mustafa demir', 100), ('mustafa gokdemir', ...   \n",
       "3410655087                             [('melisa yalin', 83)]   \n",
       "2996348915     [('mustafa durdu', 81), ('mustafa duman', 81)]   \n",
       "89203798                             [('ahmet karanfil', 81)]   \n",
       "239841117                                [('derya genc', 82)]   \n",
       "\n",
       "           twitter_screen_name    twitter_name  \\\n",
       "GUID.1                                           \n",
       "294557248         mustafedemir   Mustafa DEMİR   \n",
       "3410655087     selambenmelissa  Melissa Yanıcı   \n",
       "2996348915         dundar_mstf  Mustafa Dündar   \n",
       "89203798          AhmetMaranki   Ahmet MARANKİ   \n",
       "239841117         bayan_sukela        Derya E.   \n",
       "\n",
       "                                          profile_description  \\\n",
       "GUID.1                                                          \n",
       "294557248   BEDEN EĞİTİMİ ÖĞRETMENİ \\nAli Akkanat Anadolu ...   \n",
       "3410655087         gizlilikten dolayı fotoğraf yayınlamıyorum   \n",
       "2996348915                                                NaN   \n",
       "89203798    Prof. Dr. Ahmet Maranki'nin çalışmalarının yay...   \n",
       "239841117   Büyük adam olmana lüzum yok, sadece adam ol ye...   \n",
       "\n",
       "            followers_count  friends_count  favourites_count  statuses_count  \\\n",
       "GUID.1                                                                         \n",
       "294557248                45             53               349             261   \n",
       "3410655087           115870            514               117             495   \n",
       "2996348915              869            306              3669             302   \n",
       "89203798               4762             28                 0               0   \n",
       "239841117               567             70                 1            2615   \n",
       "\n",
       "           lang cleaned_twitter_name  \n",
       "GUID.1                                \n",
       "294557248    tr        mustafa demir  \n",
       "3410655087   tr         melissa yanc  \n",
       "2996348915   tr       mustafa dundar  \n",
       "89203798     tr        ahmet maranki  \n",
       "239841117    tr             derya e.  "
      ]
     },
     "execution_count": 2,
     "metadata": {},
     "output_type": "execute_result"
    }
   ],
   "source": [
    "sehir_matches_by_guid = pd.read_csv('datasets/sehir_matches.csv', index_col=\"GUID.1\").drop(\"GUID\", axis=1)\n",
    "sehir_matches_by_guid.head(5)"
   ]
  },
  {
   "cell_type": "code",
   "execution_count": 3,
   "metadata": {},
   "outputs": [
    {
     "data": {
      "text/html": [
       "<div>\n",
       "<style scoped>\n",
       "    .dataframe tbody tr th:only-of-type {\n",
       "        vertical-align: middle;\n",
       "    }\n",
       "\n",
       "    .dataframe tbody tr th {\n",
       "        vertical-align: top;\n",
       "    }\n",
       "\n",
       "    .dataframe thead th {\n",
       "        text-align: right;\n",
       "    }\n",
       "</style>\n",
       "<table border=\"1\" class=\"dataframe\">\n",
       "  <thead>\n",
       "    <tr style=\"text-align: right;\">\n",
       "      <th></th>\n",
       "      <th>sehir_matches</th>\n",
       "      <th>twitter_screen_name</th>\n",
       "      <th>twitter_name</th>\n",
       "      <th>profile_description</th>\n",
       "      <th>followers_count</th>\n",
       "      <th>friends_count</th>\n",
       "      <th>favourites_count</th>\n",
       "      <th>statuses_count</th>\n",
       "      <th>lang</th>\n",
       "    </tr>\n",
       "    <tr>\n",
       "      <th>cleaned_twitter_name</th>\n",
       "      <th></th>\n",
       "      <th></th>\n",
       "      <th></th>\n",
       "      <th></th>\n",
       "      <th></th>\n",
       "      <th></th>\n",
       "      <th></th>\n",
       "      <th></th>\n",
       "      <th></th>\n",
       "    </tr>\n",
       "  </thead>\n",
       "  <tbody>\n",
       "    <tr>\n",
       "      <th>mustafa demir</th>\n",
       "      <td>[('mustafa demir', 100), ('mustafa gokdemir', ...</td>\n",
       "      <td>mustafedemir</td>\n",
       "      <td>Mustafa DEMİR</td>\n",
       "      <td>BEDEN EĞİTİMİ ÖĞRETMENİ \\nAli Akkanat Anadolu ...</td>\n",
       "      <td>45</td>\n",
       "      <td>53</td>\n",
       "      <td>349</td>\n",
       "      <td>261</td>\n",
       "      <td>tr</td>\n",
       "    </tr>\n",
       "    <tr>\n",
       "      <th>melissa yanc</th>\n",
       "      <td>[('melisa yalin', 83)]</td>\n",
       "      <td>selambenmelissa</td>\n",
       "      <td>Melissa Yanıcı</td>\n",
       "      <td>gizlilikten dolayı fotoğraf yayınlamıyorum</td>\n",
       "      <td>115870</td>\n",
       "      <td>514</td>\n",
       "      <td>117</td>\n",
       "      <td>495</td>\n",
       "      <td>tr</td>\n",
       "    </tr>\n",
       "    <tr>\n",
       "      <th>mustafa dundar</th>\n",
       "      <td>[('mustafa durdu', 81), ('mustafa duman', 81)]</td>\n",
       "      <td>dundar_mstf</td>\n",
       "      <td>Mustafa Dündar</td>\n",
       "      <td>NaN</td>\n",
       "      <td>869</td>\n",
       "      <td>306</td>\n",
       "      <td>3669</td>\n",
       "      <td>302</td>\n",
       "      <td>tr</td>\n",
       "    </tr>\n",
       "    <tr>\n",
       "      <th>ahmet maranki</th>\n",
       "      <td>[('ahmet karanfil', 81)]</td>\n",
       "      <td>AhmetMaranki</td>\n",
       "      <td>Ahmet MARANKİ</td>\n",
       "      <td>Prof. Dr. Ahmet Maranki'nin çalışmalarının yay...</td>\n",
       "      <td>4762</td>\n",
       "      <td>28</td>\n",
       "      <td>0</td>\n",
       "      <td>0</td>\n",
       "      <td>tr</td>\n",
       "    </tr>\n",
       "    <tr>\n",
       "      <th>derya e.</th>\n",
       "      <td>[('derya genc', 82)]</td>\n",
       "      <td>bayan_sukela</td>\n",
       "      <td>Derya E.</td>\n",
       "      <td>Büyük adam olmana lüzum yok, sadece adam ol ye...</td>\n",
       "      <td>567</td>\n",
       "      <td>70</td>\n",
       "      <td>1</td>\n",
       "      <td>2615</td>\n",
       "      <td>tr</td>\n",
       "    </tr>\n",
       "  </tbody>\n",
       "</table>\n",
       "</div>"
      ],
      "text/plain": [
       "                                                          sehir_matches  \\\n",
       "cleaned_twitter_name                                                      \n",
       "mustafa demir         [('mustafa demir', 100), ('mustafa gokdemir', ...   \n",
       "melissa yanc                                     [('melisa yalin', 83)]   \n",
       "mustafa dundar           [('mustafa durdu', 81), ('mustafa duman', 81)]   \n",
       "ahmet maranki                                  [('ahmet karanfil', 81)]   \n",
       "derya e.                                           [('derya genc', 82)]   \n",
       "\n",
       "                     twitter_screen_name    twitter_name  \\\n",
       "cleaned_twitter_name                                       \n",
       "mustafa demir               mustafedemir   Mustafa DEMİR   \n",
       "melissa yanc             selambenmelissa  Melissa Yanıcı   \n",
       "mustafa dundar               dundar_mstf  Mustafa Dündar   \n",
       "ahmet maranki               AhmetMaranki   Ahmet MARANKİ   \n",
       "derya e.                    bayan_sukela        Derya E.   \n",
       "\n",
       "                                                    profile_description  \\\n",
       "cleaned_twitter_name                                                      \n",
       "mustafa demir         BEDEN EĞİTİMİ ÖĞRETMENİ \\nAli Akkanat Anadolu ...   \n",
       "melissa yanc                 gizlilikten dolayı fotoğraf yayınlamıyorum   \n",
       "mustafa dundar                                                      NaN   \n",
       "ahmet maranki         Prof. Dr. Ahmet Maranki'nin çalışmalarının yay...   \n",
       "derya e.              Büyük adam olmana lüzum yok, sadece adam ol ye...   \n",
       "\n",
       "                      followers_count  friends_count  favourites_count  \\\n",
       "cleaned_twitter_name                                                     \n",
       "mustafa demir                      45             53               349   \n",
       "melissa yanc                   115870            514               117   \n",
       "mustafa dundar                    869            306              3669   \n",
       "ahmet maranki                    4762             28                 0   \n",
       "derya e.                          567             70                 1   \n",
       "\n",
       "                      statuses_count lang  \n",
       "cleaned_twitter_name                       \n",
       "mustafa demir                    261   tr  \n",
       "melissa yanc                     495   tr  \n",
       "mustafa dundar                   302   tr  \n",
       "ahmet maranki                      0   tr  \n",
       "derya e.                        2615   tr  "
      ]
     },
     "execution_count": 3,
     "metadata": {},
     "output_type": "execute_result"
    }
   ],
   "source": [
    "df_by_twitter_name = sehir_matches_by_guid.set_index(\"cleaned_twitter_name\")\n",
    "df_by_twitter_name.head()"
   ]
  },
  {
   "cell_type": "code",
   "execution_count": 4,
   "metadata": {},
   "outputs": [
    {
     "data": {
      "text/plain": [
       "4063"
      ]
     },
     "execution_count": 4,
     "metadata": {},
     "output_type": "execute_result"
    }
   ],
   "source": [
    "len(df_by_twitter_name)"
   ]
  },
  {
   "cell_type": "code",
   "execution_count": 5,
   "metadata": {},
   "outputs": [],
   "source": [
    "# for twitter_name in df_by_twitter_name.index:\n",
    "#     G.add_node(twitter_name)"
   ]
  },
  {
   "cell_type": "code",
   "execution_count": 6,
   "metadata": {},
   "outputs": [],
   "source": [
    "# for std in sehir_matches_by_guid.index:\n",
    "#     G.add_node(std)"
   ]
  },
  {
   "cell_type": "markdown",
   "metadata": {},
   "source": [
    "## Connect to sql Database"
   ]
  },
  {
   "cell_type": "code",
   "execution_count": 7,
   "metadata": {},
   "outputs": [],
   "source": [
    "connection = psycopg2.connect('dbname=twitter_accounts_new host=localhost user=postgres password=1_sehir_1')\n",
    "\n",
    "twitter_users = pd.read_sql(\"SELECT * FROM twitter_user\", connection)\\\n",
    ".rename(columns={'id': 'GUID', \n",
    "                 'name': 'twitter_name',\n",
    "                 'description': 'profile_description',\n",
    "                 'screen_name': 'twitter_screen_name'})\n",
    "\n",
    "user_connections = pd.read_sql(\"SELECT * FROM twitter_connection\", connection).drop('id', axis=1)"
   ]
  },
  {
   "cell_type": "code",
   "execution_count": 8,
   "metadata": {},
   "outputs": [],
   "source": [
    "G = nx.Graph()\n",
    "users_ids = dict()  # user name > id\n",
    "ids_users = dict()  # user id > name"
   ]
  },
  {
   "cell_type": "code",
   "execution_count": 9,
   "metadata": {
    "scrolled": true
   },
   "outputs": [],
   "source": [
    "for i, row in user_connections.iterrows():\n",
    "    from_ = row['from_user_id']\n",
    "    to = row['to_user_id']\n",
    "    try:\n",
    "        from_name = sehir_matches_by_guid.loc[from_][\"cleaned_twitter_name\"]\n",
    "        to_name = sehir_matches_by_guid.loc[to][\"cleaned_twitter_name\"]\n",
    "    except (KeyError,TypeError) as e:\n",
    "        continue\n",
    "#         print(from_name, to_name)\n",
    "    if \"sehir\" in from_name or \"sehir\" in to_name:\n",
    "        continue\n",
    "\n",
    "    for user in [from_name, to_name]:\n",
    "        users_ids.setdefault(user, len(users_ids))\n",
    "        ids_users[users_ids[user]] = user\n",
    "        \n",
    "    G.add_edge(users_ids[from_name],users_ids[to_name])"
   ]
  },
  {
   "cell_type": "code",
   "execution_count": 10,
   "metadata": {},
   "outputs": [
    {
     "data": {
      "text/plain": [
       "3670"
      ]
     },
     "execution_count": 10,
     "metadata": {},
     "output_type": "execute_result"
    }
   ],
   "source": [
    "len(users_ids)"
   ]
  },
  {
   "cell_type": "code",
   "execution_count": 11,
   "metadata": {},
   "outputs": [
    {
     "data": {
      "text/plain": [
       "3670"
      ]
     },
     "execution_count": 11,
     "metadata": {},
     "output_type": "execute_result"
    }
   ],
   "source": [
    "G.number_of_nodes()"
   ]
  },
  {
   "cell_type": "code",
   "execution_count": 12,
   "metadata": {},
   "outputs": [
    {
     "data": {
      "text/plain": [
       "5093"
      ]
     },
     "execution_count": 12,
     "metadata": {},
     "output_type": "execute_result"
    }
   ],
   "source": [
    "G.number_of_edges()"
   ]
  },
  {
   "cell_type": "markdown",
   "metadata": {},
   "source": [
    "## Adding Network metrics"
   ]
  },
  {
   "cell_type": "code",
   "execution_count": 13,
   "metadata": {},
   "outputs": [],
   "source": [
    "for ix,deg in list(G.degree()):\n",
    "    G.node[ix]['degree'] = deg\n",
    "    G.node[ix]['parity'] = (1-deg%2)\n",
    "    G.node[ix]['name'] = ids_users[ix]"
   ]
  },
  {
   "cell_type": "code",
   "execution_count": 14,
   "metadata": {},
   "outputs": [],
   "source": [
    "evc = nx.eigenvector_centrality(G)\n",
    "closeness = nx.closeness_centrality(G)\n",
    "betweenness = nx.betweenness_centrality(G)"
   ]
  },
  {
   "cell_type": "code",
   "execution_count": 15,
   "metadata": {},
   "outputs": [],
   "source": [
    "# com_cen = nx.communicability_betweenness_centrality(G)"
   ]
  },
  {
   "cell_type": "code",
   "execution_count": 16,
   "metadata": {},
   "outputs": [],
   "source": [
    "metrics = {\"eigenvector_centrality\":evc,\n",
    "           \"closeness_centrality\":closeness,\n",
    "          \"betweenness\":betweenness}"
   ]
  },
  {
   "cell_type": "code",
   "execution_count": 17,
   "metadata": {},
   "outputs": [],
   "source": [
    "for metric_name, metric in metrics.items():\n",
    "    for ix,v in metric.items():\n",
    "        G.node[ix][metric_name] = v"
   ]
  },
  {
   "cell_type": "code",
   "execution_count": 18,
   "metadata": {},
   "outputs": [
    {
     "data": {
      "text/plain": [
       "(0,\n",
       " {'betweenness': 0.0039696955301306396,\n",
       "  'closeness_centrality': 0.28871193488717206,\n",
       "  'degree': 14,\n",
       "  'eigenvector_centrality': 0.014345969031633458,\n",
       "  'name': 'elif ozturk',\n",
       "  'parity': 1})"
      ]
     },
     "execution_count": 18,
     "metadata": {},
     "output_type": "execute_result"
    }
   ],
   "source": [
    "list(G.nodes(data=True))[0]"
   ]
  },
  {
   "cell_type": "markdown",
   "metadata": {},
   "source": [
    "## Dumping the graph to json file for D3 interactive visualization"
   ]
  },
  {
   "cell_type": "code",
   "execution_count": 19,
   "metadata": {},
   "outputs": [],
   "source": [
    "import json\n",
    "from networkx.readwrite import json_graph\n",
    "data = nx.node_link_data(G)\n",
    "with open('twitter_users_graph2.json', 'w') as f:\n",
    "    json.dump(data, f, indent=4)"
   ]
  },
  {
   "cell_type": "markdown",
   "metadata": {},
   "source": [
    "## Drawing the Network"
   ]
  },
  {
   "cell_type": "code",
   "execution_count": 12,
   "metadata": {},
   "outputs": [
    {
     "data": {
      "image/png": "[encoded data removed]",
      "text/plain": [
       "<matplotlib.figure.Figure at 0x7f906cc55550>"
      ]
     },
     "metadata": {},
     "output_type": "display_data"
    }
   ],
   "source": [
    "# plt.figure(figsize=(12, 7))\n",
    "plt.figure(figsize=(200, 100))\n",
    "graph_no_labels = nx.draw(G, pos=nx.spring_layout(G),with_labels=False)\n",
    "# plt.savefig('no_label_graph.pdf', format='pdf')"
   ]
  },
  {
   "cell_type": "code",
   "execution_count": null,
   "metadata": {},
   "outputs": [],
   "source": [
    "plt.figure(figsize=(12, 7))\n",
    "# plt.figure(figsize=(200, 100))\n",
    "graph_no_labels = nx.draw(G, pos=nx.spring_layout(G),with_labels=True)\n",
    "# plt.savefig('graph.pdf', format='pdf')"
   ]
  },
  {
   "cell_type": "code",
   "execution_count": null,
   "metadata": {},
   "outputs": [],
   "source": []
  }
 ],
 "metadata": {
  "kernelspec": {
   "display_name": "Python 3",
   "language": "python",
   "name": "python3"
  },
  "language_info": {
   "codemirror_mode": {
    "name": "ipython",
    "version": 3
   },
   "file_extension": ".py",
   "mimetype": "text/x-python",
   "name": "python",
   "nbconvert_exporter": "python",
   "pygments_lexer": "ipython3",
   "version": "3.5.2"
  }
 },
 "nbformat": 4,
 "nbformat_minor": 2
}
