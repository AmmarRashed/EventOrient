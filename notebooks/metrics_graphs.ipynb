{
 "cells": [
  {
   "cell_type": "code",
   "execution_count": 1,
   "metadata": {},
   "outputs": [
    {
     "name": "stdout",
     "output_type": "stream",
     "text": [
      "Pixiedust database opened successfully\n"
     ]
    },
    {
     "data": {
      "text/html": [
       "\n",
       "        <div style=\"margin:10px\">\n",
       "            <a href=\"https://github.com/ibm-watson-data-lab/pixiedust\" target=\"_new\">\n",
       "                <img src=\"https://github.com/ibm-watson-data-lab/pixiedust/raw/master/docs/_static/pd_icon32.png\" style=\"float:left;margin-right:10px\"/>\n",
       "            </a>\n",
       "            <span>Pixiedust version 1.1.10</span>\n",
       "        </div>\n",
       "        "
      ],
      "text/plain": [
       "<IPython.core.display.HTML object>"
      ]
     },
     "metadata": {},
     "output_type": "display_data"
    }
   ],
   "source": [
    "import snap\n",
    "import time, gensim, pickle, json, networkx as nx, numpy as np\n",
    "from networkx.readwrite import json_graph\n",
    "\n",
    "import matplotlib.pyplot as plt\n",
    "import pixiedust, pandas as pd\n",
    "%matplotlib inline"
   ]
  },
  {
   "cell_type": "code",
   "execution_count": 2,
   "metadata": {},
   "outputs": [],
   "source": [
    "with open('twitter_users_graph2.json', 'r') as f:\n",
    "    data = json.load(f)\n",
    "    nxg = json_graph.node_link_graph(data, directed=True)\n",
    "nxg = nxg.to_directed()"
   ]
  },
  {
   "cell_type": "code",
   "execution_count": 3,
   "metadata": {},
   "outputs": [],
   "source": [
    "def networkx_to_snappy(nxg, directed=False):\n",
    "    if directed:\n",
    "        g = snap.PNGraph.New()\n",
    "    else:\n",
    "        g = snap.PUNGraph.New()\n",
    "        \n",
    "    for n in nxg.nodes():\n",
    "        g.AddNode(n)\n",
    "    for f,t in nxg.edges():\n",
    "        g.AddEdge(f, t)\n",
    "        \n",
    "    return g\n",
    "    "
   ]
  },
  {
   "cell_type": "markdown",
   "metadata": {},
   "source": [
    "## 1) Degree\n",
    "## 2) Betweenness\n",
    "## 3) Eigenvector Centrality\n",
    "## 4) Closeness Centrality\n",
    "## 5) Page rank\n",
    "## 6) Modularity*\n",
    "## 7) Network Diameter*\n",
    "## 8) Number of Communities*\n",
    "#### * means this metric is for the network as a whole, not the average of each node"
   ]
  },
  {
   "cell_type": "markdown",
   "metadata": {},
   "source": [
    "# Degree"
   ]
  },
  {
   "cell_type": "code",
   "execution_count": 4,
   "metadata": {},
   "outputs": [
    {
     "data": {
      "text/plain": [
       "<Container object of 54 artists>"
      ]
     },
     "execution_count": 4,
     "metadata": {},
     "output_type": "execute_result"
    },
    {
     "data": {
      "image/png": "[encoded data removed]",
      "text/plain": [
       "<matplotlib.figure.Figure at 0x7ffb337d0190>"
      ]
     },
     "metadata": {},
     "output_type": "display_data"
    }
   ],
   "source": [
    "# Histogram\n",
    "Graph = networkx_to_snappy(nxg, directed=True)\n",
    "DegToCntV = snap.TIntPrV()\n",
    "snap.GetDegCnt(Graph, DegToCntV)\n",
    "degrees_counts = sorted([(item.GetVal1(),item.GetVal2()) for item in DegToCntV])\n",
    "plt.bar([x[0] for x in degrees_counts], [y[1] for y in degrees_counts])"
   ]
  },
  {
   "cell_type": "code",
   "execution_count": 5,
   "metadata": {},
   "outputs": [
    {
     "data": {
      "text/plain": [
       "[(2, 900),\n",
       " (4, 250),\n",
       " (6, 98),\n",
       " (8, 60),\n",
       " (10, 28),\n",
       " (12, 20),\n",
       " (14, 11),\n",
       " (16, 15),\n",
       " (18, 7),\n",
       " (20, 6),\n",
       " (22, 7),\n",
       " (24, 9),\n",
       " (26, 1),\n",
       " (28, 4),\n",
       " (30, 2),\n",
       " (32, 1),\n",
       " (34, 3),\n",
       " (36, 3),\n",
       " (38, 1),\n",
       " (40, 1),\n",
       " (42, 4),\n",
       " (44, 1),\n",
       " (48, 2),\n",
       " (58, 2),\n",
       " (60, 1),\n",
       " (62, 1),\n",
       " (64, 2),\n",
       " (66, 3),\n",
       " (68, 1),\n",
       " (72, 1),\n",
       " (76, 1),\n",
       " (80, 1),\n",
       " (84, 1),\n",
       " (86, 1),\n",
       " (90, 1),\n",
       " (96, 1),\n",
       " (102, 2),\n",
       " (104, 1),\n",
       " (112, 1),\n",
       " (116, 1),\n",
       " (126, 1),\n",
       " (156, 1),\n",
       " (170, 1),\n",
       " (176, 1),\n",
       " (196, 1),\n",
       " (210, 1),\n",
       " (224, 1),\n",
       " (228, 1),\n",
       " (246, 1),\n",
       " (258, 1),\n",
       " (262, 1),\n",
       " (292, 1),\n",
       " (326, 1),\n",
       " (360, 1)]"
      ]
     },
     "execution_count": 5,
     "metadata": {},
     "output_type": "execute_result"
    }
   ],
   "source": [
    "degrees_counts"
   ]
  },
  {
   "cell_type": "code",
   "execution_count": 6,
   "metadata": {},
   "outputs": [
    {
     "data": {
      "text/plain": [
       "<Container object of 15 artists>"
      ]
     },
     "execution_count": 6,
     "metadata": {},
     "output_type": "execute_result"
    },
    {
     "data": {
      "image/png": "[encoded data removed]",
      "text/plain": [
       "<matplotlib.figure.Figure at 0x7ffaf3d4f990>"
      ]
     },
     "metadata": {},
     "output_type": "display_data"
    }
   ],
   "source": [
    "plt.bar([x[0] for x in degrees_counts[:15]], [y[1] for y in degrees_counts[:15]])"
   ]
  },
  {
   "cell_type": "markdown",
   "metadata": {},
   "source": [
    "# Let's flood our graph\n",
    "<img src=\"https://www.nasa.gov/images/content/134306main_pia06674.gif\" />"
   ]
  },
  {
   "cell_type": "code",
   "execution_count": 7,
   "metadata": {},
   "outputs": [],
   "source": [
    "for ix,deg in nxg.degree(nxg.nodes()):\n",
    "    nxg.node[ix]['degree'] = deg\n",
    "    nxg.node[ix]['parity'] = (1-deg%2)\n",
    "    \n",
    "for ix,in_deg in nxg.in_degree(nxg.nodes()):\n",
    "    nxg.node[ix]['in_degree'] = in_deg\n",
    "    \n",
    "for ix,out_deg in nxg.out_degree(nxg.nodes()):\n",
    "    nxg.node[ix]['out_degree'] = out_deg"
   ]
  },
  {
   "cell_type": "code",
   "execution_count": 8,
   "metadata": {},
   "outputs": [
    {
     "name": "stdout",
     "output_type": "stream",
     "text": [
      "('Took: ', 11.656232833862305)\n"
     ]
    }
   ],
   "source": [
    "start = time.time()\n",
    "evc = nx.eigenvector_centrality(nxg)\n",
    "closeness = nx.closeness_centrality(nxg)\n",
    "betweenness = nx.betweenness_centrality(nxg)\n",
    "pagerank = nx.pagerank(nxg)\n",
    "cntr_metrics = {\"eigenvector_centrality\":evc,\n",
    "           \"closeness_centrality\":closeness,\n",
    "              \"betweenness\":betweenness,\n",
    "               \"pagerank\":pagerank}\n",
    "print(\"Took: \", time.time()-start)"
   ]
  },
  {
   "cell_type": "code",
   "execution_count": 9,
   "metadata": {},
   "outputs": [],
   "source": [
    "for metric_name, metric in cntr_metrics.items():\n",
    "    for ix,v in metric.items():\n",
    "        nxg.node[ix][metric_name] = v"
   ]
  },
  {
   "cell_type": "code",
   "execution_count": 22,
   "metadata": {},
   "outputs": [
    {
     "data": {
      "text/plain": [
       "{u'betweenness': 4.383264653312519e-05,\n",
       " u'cleaned_twitter_name': u'mehmet ekinci',\n",
       " u'closeness_centrality': 0.2862431800467654,\n",
       " u'degree': 6,\n",
       " u'eigenvector_centrality': 0.013167920875487035,\n",
       " u'favourites_count': 21273,\n",
       " u'followers_count': 35287,\n",
       " u'friends_count': 595,\n",
       " 'in_degree': 3,\n",
       " u'lang': u'tr',\n",
       " 'out_degree': 3,\n",
       " 'pagerank': 0.0005010176118114327,\n",
       " u'parity': 1,\n",
       " u'sehir_matches': u' mehmet akinci',\n",
       " u'statuses_count': 24993,\n",
       " u'twitter_name': u'Mehmet EK\\u0130NC\\u0130',\n",
       " u'twitter_screen_name': u'MehmetEkinci63'}"
      ]
     },
     "execution_count": 22,
     "metadata": {},
     "output_type": "execute_result"
    }
   ],
   "source": [
    "nxg.nodes[133]"
   ]
  },
  {
   "cell_type": "code",
   "execution_count": 31,
   "metadata": {},
   "outputs": [],
   "source": [
    "def get_island(graph, level, metric):\n",
    "    island = graph.copy()\n",
    "    for node in graph.nodes():\n",
    "        if graph.nodes[node][metric]<level:\n",
    "            island.remove_node(node)\n",
    "            \n",
    "    return island"
   ]
  },
  {
   "cell_type": "code",
   "execution_count": 32,
   "metadata": {},
   "outputs": [],
   "source": [
    "cntr_range = [i/10.0 for i in range(11)]  # 0 to 1\n",
    "ranges = [(\"degree\",range(0, 31, 2)),\n",
    "          (\"in_degree\",range(0, 31, 2)),\n",
    "          (\"out_degree\",range(0, 31, 2)),\n",
    "          (\"eigenvector_centrality\",cntr_range),\n",
    "          (\"closeness_centrality\",cntr_range),\n",
    "          (\"betweenness\",cntr_range),\n",
    "          (\"pagerank\",cntr_range)]\n",
    "\n",
    "## for parallelization\n",
    "def get_islands(metric, range_):\n",
    "    return {level:get_island(nxg, level, metric) for level in range_}"
   ]
  },
  {
   "cell_type": "code",
   "execution_count": 33,
   "metadata": {},
   "outputs": [],
   "source": [
    "# from joblib import parallel, delay\n",
    "\n",
    "# islands = Parallel(n_jobs=-1)(\n",
    "#                             delayed(get_islands)\n",
    "#                             (metric, range_)\n",
    "#                             for metric,range_ in ranges)"
   ]
  },
  {
   "cell_type": "code",
   "execution_count": 54,
   "metadata": {},
   "outputs": [],
   "source": [
    "islands = {metric:get_islands(metric, range_) for metric,range_ in ranges}"
   ]
  },
  {
   "cell_type": "code",
   "execution_count": 55,
   "metadata": {},
   "outputs": [
    {
     "data": {
      "text/plain": [
       "['closeness_centrality',\n",
       " 'out_degree',\n",
       " 'degree',\n",
       " 'in_degree',\n",
       " 'betweenness',\n",
       " 'eigenvector_centrality',\n",
       " 'pagerank']"
      ]
     },
     "execution_count": 55,
     "metadata": {},
     "output_type": "execute_result"
    }
   ],
   "source": [
    "islands.keys()"
   ]
  },
  {
   "cell_type": "code",
   "execution_count": 56,
   "metadata": {},
   "outputs": [],
   "source": [
    "def get_avg_metric(graph, metric):\n",
    "    result = 0.0\n",
    "    for node in graph.nodes():\n",
    "        result += graph.nodes[node][metric]\n",
    "    return result/len(graph.nodes)"
   ]
  },
  {
   "cell_type": "code",
   "execution_count": 68,
   "metadata": {},
   "outputs": [],
   "source": [
    "def describe_island(island):\n",
    "    if len(island.nodes())<1:\n",
    "        description = {\"modularity\":None,\n",
    "            \"communities\":None,\n",
    "            \"diameter_dir\":None,\n",
    "            \"diameter_undir\": None}\n",
    "        for metric, _ in ranges:\n",
    "            description[\"avg_\"+metric] = None\n",
    "        return description\n",
    "    island_snappy = networkx_to_snappy(island)\n",
    "    CmtyV = snap.TCnComV()\n",
    "    start = time.time()\n",
    "    \n",
    "    modularity = snap.CommunityGirvanNewman(island_snappy, CmtyV)\n",
    "    num_of_communities = len(CmtyV)\n",
    "    print(\"calculated modularity, Took: \", time.time()-start)\n",
    "    directed_island_snappy = networkx_to_snappy(island, True)\n",
    "    diam_directed = snap.GetBfsFullDiam(directed_island_snappy, 100, True)\n",
    "    diam_undirected = snap.GetBfsFullDiam(island_snappy, 100, False)\n",
    "    description = {\"modularity\":modularity,\n",
    "            \"communities\":num_of_communities,\n",
    "            \"diameter_dir\":diam_directed,\n",
    "            \"diameter_undir\": diam_undirected}\n",
    "    for metric, _ in ranges:\n",
    "        description[\"avg_\"+metric] = get_avg_metric(island, metric)\n",
    "    return description"
   ]
  },
  {
   "cell_type": "code",
   "execution_count": 69,
   "metadata": {},
   "outputs": [
    {
     "name": "stdout",
     "output_type": "stream",
     "text": [
      "('calculated modularity, Took: ', 531.4226760864258)\n",
      "('calculated modularity, Took: ', 555.4742681980133)\n",
      "('calculated modularity, Took: ', 0.00011110305786132812)\n",
      "('calculated modularity, Took: ', 22.356173038482666)\n",
      "('calculated modularity, Took: ', 534.9627759456635)\n",
      "('calculated modularity, Took: ', 529.5784118175507)\n",
      "('calculated modularity, Took: ', 131.06810879707336)\n",
      "('calculated modularity, Took: ', 17.28294801712036)\n",
      "('calculated modularity, Took: ', 4.977022886276245)\n",
      "('calculated modularity, Took: ', 2.0906341075897217)\n",
      "('calculated modularity, Took: ', 0.9230711460113525)\n",
      "('calculated modularity, Took: ', 0.4794158935546875)\n",
      "('calculated modularity, Took: ', 0.2424330711364746)\n",
      "('calculated modularity, Took: ', 0.18091988563537598)\n",
      "('calculated modularity, Took: ', 0.08350610733032227)\n",
      "('calculated modularity, Took: ', 0.05338692665100098)\n",
      "('calculated modularity, Took: ', 0.03132200241088867)\n",
      "('calculated modularity, Took: ', 0.0260159969329834)\n",
      "('calculated modularity, Took: ', 0.019368886947631836)\n",
      "('calculated modularity, Took: ', 0.02037811279296875)\n",
      "('calculated modularity, Took: ', 0.017274856567382812)\n",
      "('calculated modularity, Took: ', 510.8799650669098)\n",
      "('calculated modularity, Took: ', 517.3421769142151)\n",
      "('calculated modularity, Took: ', 131.26611709594727)\n",
      "('calculated modularity, Took: ', 43.06263303756714)\n",
      "('calculated modularity, Took: ', 16.746690034866333)\n",
      "('calculated modularity, Took: ', 7.748662948608398)\n",
      "('calculated modularity, Took: ', 4.428833961486816)\n",
      "('calculated modularity, Took: ', 2.558933973312378)\n",
      "('calculated modularity, Took: ', 1.9104340076446533)\n",
      "('calculated modularity, Took: ', 1.2346999645233154)\n",
      "('calculated modularity, Took: ', 0.8562610149383545)\n",
      "('calculated modularity, Took: ', 0.5848979949951172)\n",
      "('calculated modularity, Took: ', 0.450300931930542)\n",
      "('calculated modularity, Took: ', 0.22712492942810059)\n",
      "('calculated modularity, Took: ', 0.2230842113494873)\n",
      "('calculated modularity, Took: ', 0.1587228775024414)\n",
      "('calculated modularity, Took: ', 508.02774119377136)\n",
      "('calculated modularity, Took: ', 125.08723497390747)\n",
      "('calculated modularity, Took: ', 16.80989408493042)\n",
      "('calculated modularity, Took: ', 4.308665990829468)\n",
      "('calculated modularity, Took: ', 1.9113779067993164)\n",
      "('calculated modularity, Took: ', 0.857184886932373)\n",
      "('calculated modularity, Took: ', 0.4493448734283447)\n",
      "('calculated modularity, Took: ', 0.22046613693237305)\n",
      "('calculated modularity, Took: ', 0.13558602333068848)\n",
      "('calculated modularity, Took: ', 0.07599115371704102)\n",
      "('calculated modularity, Took: ', 0.04996991157531738)\n",
      "('calculated modularity, Took: ', 0.026997089385986328)\n",
      "('calculated modularity, Took: ', 0.02486109733581543)\n",
      "('calculated modularity, Took: ', 0.018698930740356445)\n",
      "('calculated modularity, Took: ', 0.01842784881591797)\n",
      "('calculated modularity, Took: ', 0.014266014099121094)\n",
      "('calculated modularity, Took: ', 512.6037359237671)\n",
      "('calculated modularity, Took: ', 4.601478576660156e-05)\n",
      "('calculated modularity, Took: ', 531.3913540840149)\n",
      "('calculated modularity, Took: ', 7.987022399902344e-05)\n",
      "('calculated modularity, Took: ', 8.821487426757812e-06)\n",
      "('calculated modularity, Took: ', 0.01503896713256836)\n",
      "('calculated modularity, Took: ', 534.7258689403534)\n"
     ]
    }
   ],
   "source": [
    "islands_described = {metric:{\n",
    "    level:describe_island(island) for level, island in levels.items()}\n",
    "                     for metric,levels in islands.items()}"
   ]
  },
  {
   "cell_type": "code",
   "execution_count": 70,
   "metadata": {},
   "outputs": [],
   "source": [
    "with open('../datasets/twitter_islands.pkl', 'wb') as f:\n",
    "    pickle.dump(islands, f, protocol=2)\n",
    "    \n",
    "with open('../datasets/twitter_islands_describ.pkl', 'wb') as f:\n",
    "    pickle.dump(islands_described, f, protocol=2)"
   ]
  },
  {
   "cell_type": "code",
   "execution_count": 71,
   "metadata": {},
   "outputs": [],
   "source": [
    "data = nx.node_link_data(nxg)\n",
    "with open('../visualization/twitter_users_graph2.json', 'w') as f:\n",
    "    json.dump(data, f, indent=4)\n",
    "    \n",
    "with open('../REST/static/networks/twitter_users_graph2.json', 'w') as f:\n",
    "    json.dump(data, f, indent=4)"
   ]
  },
  {
   "cell_type": "markdown",
   "metadata": {},
   "source": [
    "# Visualizations\n",
    "### Filtering by each metric and plotting it against other metrics"
   ]
  },
  {
   "cell_type": "code",
   "execution_count": 2,
   "metadata": {},
   "outputs": [],
   "source": [
    "with open('../datasets/twitter_islands.pkl', 'rb') as f:\n",
    "    islands = pickle.load(f)"
   ]
  },
  {
   "cell_type": "code",
   "execution_count": 3,
   "metadata": {},
   "outputs": [],
   "source": [
    "with open('../datasets/twitter_islands_describ.pkl', 'rb') as f:\n",
    "    islands_described = pickle.load(f)"
   ]
  },
  {
   "cell_type": "code",
   "execution_count": 4,
   "metadata": {},
   "outputs": [
    {
     "data": {
      "text/plain": [
       "['closeness_centrality',\n",
       " 'out_degree',\n",
       " 'degree',\n",
       " 'in_degree',\n",
       " 'betweenness',\n",
       " 'eigenvector_centrality',\n",
       " 'pagerank']"
      ]
     },
     "execution_count": 4,
     "metadata": {},
     "output_type": "execute_result"
    }
   ],
   "source": [
    "islands_described.keys()"
   ]
  },
  {
   "cell_type": "code",
   "execution_count": 37,
   "metadata": {
    "pixiedust": {
     "displayParams": {
      "handlerId": "barChart"
     }
    }
   },
   "outputs": [],
   "source": [
    "for metric in islands_described.keys():\n",
    "    globals()[metric+\"_df\"] = pd.DataFrame(\n",
    "        islands_described['closeness_centrality'], dtype=float).T.reset_index().rename(columns={\"index\":\"threshold\"})"
   ]
  },
  {
   "cell_type": "code",
   "execution_count": 39,
   "metadata": {
    "pixiedust": {
     "displayParams": {
      "chartsize": "100",
      "charttype": "grouped",
      "handlerId": "barChart",
      "keyFields": "threshold",
      "legend": "true",
      "mpld3": "false",
      "title": "Closeness Centrality",
      "valueFields": "avg_closeness_centrality,avg_betweenness,avg_eigenvector_centrality,modularity"
     }
    }
   },
   "outputs": [
    {
     "data": {
      "text/html": [
       "<style type=\"text/css\">.pd_warning{display:none;}</style><div class=\"pd_warning\"><em>Hey, there's something awesome here! To see it, open this notebook outside GitHub, in a viewer like Jupyter</em></div><img style=\"max-width:initial !important\" src=\"data:image/png;base64,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\" class=\"pd_save is-viewer-good\">"
      ],
      "text/plain": [
       "<IPython.core.display.HTML object>"
      ]
     },
     "metadata": {},
     "output_type": "display_data"
    }
   ],
   "source": [
    "display(closeness_centrality_df)"
   ]
  },
  {
   "cell_type": "code",
   "execution_count": 40,
   "metadata": {
    "pixiedust": {
     "displayParams": {
      "handlerId": "barChart",
      "keyFields": "threshold",
      "timeseries": "false",
      "valueFields": "avg_degree,avg_in_degree,avg_out_degree"
     }
    }
   },
   "outputs": [
    {
     "data": {
      "text/html": [
       "<style type=\"text/css\">.pd_warning{display:none;}</style><div class=\"pd_warning\"><em>Hey, there's something awesome here! To see it, open this notebook outside GitHub, in a viewer like Jupyter</em></div><img style=\"max-width:initial !important\" src=\"data:image/png;base64,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\" class=\"pd_save is-viewer-good\">"
      ],
      "text/plain": [
       "<IPython.core.display.HTML object>"
      ]
     },
     "metadata": {},
     "output_type": "display_data"
    }
   ],
   "source": [
    "display(closeness_centrality_df)"
   ]
  },
  {
   "cell_type": "code",
   "execution_count": 41,
   "metadata": {
    "pixiedust": {
     "displayParams": {
      "handlerId": "barChart",
      "keyFields": "threshold",
      "valueFields": "communities"
     }
    }
   },
   "outputs": [
    {
     "data": {
      "text/html": [
       "<style type=\"text/css\">.pd_warning{display:none;}</style><div class=\"pd_warning\"><em>Hey, there's something awesome here! To see it, open this notebook outside GitHub, in a viewer like Jupyter</em></div>\n",
       "        <div class=\"pd_save is-viewer-good\" style=\"padding-right:10px;text-align: center;line-height:initial !important;font-size: xx-large;font-weight: 500;color: coral;\">\n",
       "            \n",
       "        </div>\n",
       "    <div id=\"chartFigure48669d8f\" class=\"pd_save is-viewer-good\" style=\"overflow-x:auto\">\n",
       "            \n",
       "                    \n",
       "                            <center><img style=\"max-width:initial !important\" src=\"data:image/png;base64,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\" class=\"pd_save\"></center>\n",
       "                        \n",
       "                    \n",
       "                \n",
       "        </div>"
      ],
      "text/plain": [
       "<IPython.core.display.HTML object>"
      ]
     },
     "metadata": {},
     "output_type": "display_data"
    }
   ],
   "source": [
    "display(closeness_centrality_df)"
   ]
  },
  {
   "cell_type": "code",
   "execution_count": 42,
   "metadata": {
    "pixiedust": {
     "displayParams": {
      "handlerId": "barChart",
      "keyFields": "threshold",
      "mpld3": "false",
      "valueFields": "diameter_dir"
     }
    }
   },
   "outputs": [
    {
     "data": {
      "text/html": [
       "<style type=\"text/css\">.pd_warning{display:none;}</style><div class=\"pd_warning\"><em>Hey, there's something awesome here! To see it, open this notebook outside GitHub, in a viewer like Jupyter</em></div>\n",
       "        <div class=\"pd_save is-viewer-good\" style=\"padding-right:10px;text-align: center;line-height:initial !important;font-size: xx-large;font-weight: 500;color: coral;\">\n",
       "            \n",
       "        </div>\n",
       "    \n",
       "        <div id=\"chartFigure9ad473ea\" class=\"pd_save\" style=\"overflow-x:auto\">\n",
       "            \n",
       "                    \n",
       "                            <center><img style=\"max-width:initial !important\" src=\"data:image/png;base64,iVBORw0KGgoAAAANSUhEUgAAAnIAAAHMCAYAAABRBkUNAAAABHNCSVQICAgIfAhkiAAAAAlwSFlzAAAOwwAADsMBx2+oZAAAIABJREFUeJzt3Xt00/X9x/FX2qb0fudSKLYF7xO1omhhIE4uuk0HbM4BehR0myDqmVQFKpZOq46DotuUMTfF+2VzcphzMNhEZKBDoSIqysWigNxaeiOBJs3n94eH/Kxt2qS0ST/wfJyTc0jyJXl/mjY8+X6bxGGMMQIAAIB1oiI9AAAAANqHkAMAALBUTKQHABAZPp9PHo8n0mOgC4iNjZXD4Yj0GADagZADTjDGGO3bt09VVVWRHgVdRHR0tPLz8+V0OiM9CoAQOXixA3Bi2bt3r6qqqtSzZ08lJCSwJ+YE5/P5tHv3bjmdTvXt25fvB8Ay7JEDTiA+n88fcRkZGTLGqKGhQY2NjeL/dCeu5ORk7d69W16vV/n5+cQcYBFCDjiBHP2duISEBBlj5Ha7VVdXJ5/PF+HJEEler1eHDx/WmjVrNGjQIA0cOJCYAyxByAEnIIfDIY/Ho7q6OjkcDsXGxkZ6JESQw+FQTEyM4uLi9NZbbykzM1P5+fmRHgtAEHj7EeAE1djYKJ/Pp+jo6EiPgi4iOTlZXq9XNTU1kR4FQJDYIwecoIwxTQ6fZWX9Piz3e+DAtLDcD9qvsbEx0iMACBJ75ABYx+v1KisrS6tXr9batWuVm5t7wsbH9u3blZWVpS+++EKS9Je//EUXXnhhhKcCEC6EHACrFRYWaseOHRE/RFxQUKBnn302ojNI0lVXXaV333030mMACBNCDgC6iKO/t9iZGhoaOvX2AYQXIQegy9u/f7+uu+469evXTwMHDtRrr73mv2716tXKysqS1+v1n7/88st1yimnqH///hozZow+/PDDZtu/9tprGjRokPr27asJEyaopqZGDzzwgM4880ydeuqpevDBB5vMsGXLFo0fP15nnHGGzjrrLN1xxx06dOiQJOnqq6/Wzp07NWPGDOXm5mrIkCH+v/fyyy/r4osvVn5+voYMGaK//e1vzWb529/+5p9l//79rX4tPv/8c40dO1Z5eXkqLCzU6tWrm1z/4osvasCAAf7z06ZN0w033KCioiKddtppuvbaa4P9sgOwACEHoMubMmWK3G633n//fa1YsaJJDH2b0+lUaWmpPvroI5WXlys/P1/XXnttsz1Ry5cv17///W+tX79eW7du1ahRo9S9e3dt3LhRL7zwgubPn69169ZJkiorK/XDH/5Qw4YNU3l5ud566y1t27ZNxcXFkr6OtZycHD344IPasWOH/vvf/0r6Oqruv/9+PfLII9q2bZseeugh3X777XrnnXeazLJ48WItXbpUn3/+ubKysgKurbGxURMnTlROTo4++ugjvfrqq0Edzv3HP/6hgoICbdq0SU899VSb2wOwByEHoEv76quvtHLlSs2ZM0fp6elKT0/X7NmzA25/4YUXatCgQYqNjVVycrJKSkq0c+dObd26tcl2xcXFSk5OVvfu3TVy5EhJ0o033qiYmBidf/75OvXUU7V+/XpJX4dafn6+pkyZom7duikzM1N33XWXXnnllVZfZLFgwQL96le/UkFBgaKionTRRRdpzJgxevHFF5tsN3v2bGVkZKhbt26t/q7fe++9p61bt6qsrEyJiYnq3bu3pk+f3ubX8Nxzz9XEiRPldDqVkJDQ5vYA7MHbjwDo0nbv3i1JOumkk/yXffPP3/bRRx+prKxMGzduVH19vaKivv7/6oEDB5ps17NnT/+fExMTm5yXvv70i/r6eklfvzL0gw8+UL9+/fzXH337ln379ik7O7vFWbZv366SkhL9+te/9l/W2NiowsLCJtvl5uYGXM837d69W2lpaUpJSQnp77b29QJgN0IOQJfWu3dvSdKXX36pM844w//nQCZPnqwRI0bo8ccfV1pamqqrq3XyyScf02fJ9ujRQxdeeKEWL14ccJujwfjtv3fXXXfp6quvbvX2W/q7Lendu7eqq6tVW1vrj7mjbzvSEbcPwD78dAPo0rKzszVs2DCVlpaqurpa1dXVuu+++wJuX1dXp6SkJKWkpOjgwYO65557jnmGCRMm6MMPP9STTz4pl8slY4x27dqlN954w79Njx49mh2+/eUvf6l58+Zp/fr18vl8OnLkiNavX6/y8vJ2zTFw4ED169dPs2fP1qFDh/TVV1/p4YcfPqa1AbAbe+QASOran7iwYMECFRUVqaCgQOnp6Zo5c6aWLVvW4raPPvqo7rnnHi1YsEC9evVScXGxXnjhhWO6/5ycHC1dulT33nuv5s2bJ7fbrezsbI0bN07f//73JUlFRUWaOXOmnn32WeXk5GjVqlX65S9/qYyMDBUVFamiokIxMTE6/fTTNWPGjHbNERMTo+eff17Tp0/Xd77zHWVnZ2vKlCl6//33j2l9AOzlMMdyvAGAVY4cOaLt27erX79+amxsVG1trZxOZ6THQoR5PB7t3LlTn3/+ubZv364RI0Zo4MCBkR4LQBA4tAoAAGApDq0CQBcS6FWoKSkpTd7YGAAkQg4AupQdO3ZEegQAFuHQKnAC4ldj8W18TwB2IuSAE8jRFza4XK4IT4KuxOv1yhjT6qdUAOiaOLQKnECioqKUkZGhvXv3Kj09XR6PJ9IjIcKMMaqurlZdXZ18Pl+kxwEQIkIOOMH06NFDkrRnzx653W7FxPA0cCIzxqihoaHJR5jxPQHYg59W4ATjcDjUs2dP+Xw+/f3vf5fP51NGRoYcDkekR0MEGGP8h1YrKysVFxenzMzMSI8FIEi8ITBwAtuyZYuWLVumQ4cORXoUdAHx8fEaOXKk/zNtAXR9hBxwgjtw4ICqq6vl9XojPQoiKDo6WmlpaerevXukRwEQAkIOAADAUrz9CAAAgKUIOQAAAEsRcgAAAJYi5AAAACxFyAEAAFiKkAMAALAUIQcAAGApQg4AAMBShBwAAIClCDkAAABLEXIAAACWIuQAAAAsRcgBAABYipADAACwFCEHAABgKUIOAADAUoQcAACApQg5AAAAS8V01g37fD5VV1crLi5ODoejs+4GAADguGSM0eHDh5WWlqaoqJb3vXVayFVXVyszM7Ozbh4AAOCEUFlZqYyMjBav67SQi4uL8995fHx8Z90NAADAccntdiszM9PfVC3ptJA7ejg1Pj6ekAMAAGin1n5FjRc7AAAAWIqQAwAAsBQhBwAAYClCDgAAwFKEHAAAgKUIOQAAAEsRcgAAAJYi5AAAACxFyAEAAFiKkAMAALAUIQcAAGCpNkNu7dq1+t73vqfk5GSlpaVp8ODB8vl84ZgNAAAArYhp7cq1a9fq8ssv129/+1u9/vrrio2N1fvvv9/qh7cCAAAgPBzGGBPoyqFDh2rQoEF66KGH2rwhj8cjr9frP+92u5WZmSmXy6X4+PiOmRYAAOAE4Xa7lZCQ0GpLBdwj53K5tGbNGhUWFmrQoEHatm2b8vLyNGvWLP34xz9utn1ZWZlKS0uPeWiH49hvI1jGlITtvo7XdUnH99oAAOjKAv6OXFVVlXw+n55++mk99thj2rt3r4qLizV+/HitXbu22fbFxcVyuVz+U2VlZacODgAAcKILGHLJycmSpOuvv14XXHCBYmJiNG7cOF1yySVavHhxs+2dTqfi4+ObnAAAANB5AoZcamqq+vfvzwsbAAAAuqhW337klltu0aJFi1ReXi6fz6clS5borbfe0rhx48I1HwAAAAJo9e1HbrvtNrlcLl1xxRWqrq7WKaecopdfflkXXnhhuOYDAABAAK2GnCTNnDlTM2fODMcsAAAACAEf0QUAAGApQg4AAMBShBwAAIClCDkAAABLEXIAAACWIuQAAAAsRcgBAABYipADAACwFCEHAABgKUIOAADAUoQcAACApQg5AAAASxFyAAAAliLkAAAALEXIAQAAWIqQAwAAsBQhBwAAYClCDgAAwFKEHAAAgKUIOQAAAEsRcgAAAJYi5AAAACxFyAEAAFiKkAMAALAUIQcAAGApQg4AAMBShBwAAIClCDkAAABLEXIAAACWIuQAAAAsRcgBAABYipADAACwFCEHAABgKUIOAADAUoQcAACApQg5AAAASxFyAAAAliLkAAAALEXIAQAAWIqQAwAAsBQhBwAAYClCDgAAwFKEHAAAgKUIOQAAAEsRcgAAAJYi5AAAACxFyAEAAFgqYMjNmTNH0dHRSkpK8p/Gjx8fztkAAADQipjWriwsLNTq1avDNQsAAABCwKFVAAAAS7Uachs2bFD37t2Vm5urCRMm6PPPPw+4rcfjkdvtbnICAABA5wkYcj/5yU/08ccfa9++fVqzZo0cDodGjBih+vr6FrcvKytTQkKC/5SZmdlpQwMAAKCVkDvrrLOUm5srh8OhPn366Mknn9SuXbu0Zs2aFrcvLi6Wy+XynyorKzttaAAAALTxYodvcjgccjgcMsa0eL3T6ZTT6eywwQAAANC6gHvkXnnlFR04cECStHfvXt14443q2bOnBg8eHLbhAAAAEFjAkHvuued0xhlnKCEhQeedd548Ho9WrFih5OTkcM4HAACAAAIeWl2yZEk45wAAAECIeB85AAAASxFyAAAAliLkAAAALEXIAQAAWIqQAwAAsBQhBwAAYClCDgAAwFKEHAAAgKUIOQAAAEsRcgAAAJYi5AAAACxFyAEAAFiKkAMAALAUIQcAAGApQg4AAMBShBwAAIClCDkAAABLEXIAAACWIuQAAAAsRcgBAABYipADAACwFCEHAABgKUIOAADAUoQcAACApQg5AAAASxFyAAAAliLkAAAALEXIAQAAWIqQAwAAsBQhBwAAYClCDgAAwFKEHAAAgKUIOQAAAEsRcgAAAJYi5AAAACxFyAEAAFiKkAMAALAUIQcAAGApQg4AAMBShBwAAIClCDkAAABLEXIAAACWIuQAAAAsRcgBAABYipADAACwFCEHAABgKUIOAADAUoQcAACApYIOubFjx8rhcGjFihWdOQ8AAACCFFTIPfPMM3K5XJ09CwAAAEIQ09YGO3fu1N13363Vq1crNzc34HYej0der9d/3u12d8yEAAAAaFGrIWeM0eTJk3X33XfrpJNOavWGysrKVFpa2qHDAZHkcITv+9mYkrDdFwDg+NHqodUFCxbIGKNf/OIXbd5QcXGxXC6X/1RZWdlhQwIAAKC5gHvktm3bpnvvvVfvvPNOUDfkdDrldDo7bDAAAAC0LuAeubfffluVlZUaOHCgsrKylJWVJUn68Y9/HNQeOgAAAHSugHvkfvrTn2rEiBFNLuvbt68WLlyoUaNGdfpgAAAAaF3AkEtISFBCQkKzy7OyspSRkdGpQwEAAKBtbb79yDcZYzprDgAAAISIj+gCAACwFCEHAABgKUIOAADAUoQcAACApQg5AAAASxFyAAAAliLkAAAALEXIAQAAWIqQAwAAsBQhBwAAYClCDgAAwFKEHAAAgKUIOQAAAEsRcgAAAJYi5AAAACxFyAEAAFiKkAMAALAUIQcAAGApQg4AAMBShBwAAIClCDkAAABLEXIAAACWIuQAAAAsRcgBAABYipADAACwFCEHAABgKUIOAADAUoQcAACApQg5AAAASxFyAAAAliLkAAAALEXIAQAAWIqQAwAAsBQhBwAAYClCDgAAwFKEHAAAgKUIOQAAAEsRcgAAAJYi5AAAACxFyAEAAFiKkAMAALAUIQcAAGApQg4AAMBShBwAAIClCDkAAABLEXIAAACWIuQAAAAsFTDkSktL1b9/f6WmpiorK0ujR49WeXl5OGcDAABAKwKG3M9+9jO99957qqmp0e7duzVq1CiNHj1ajY2N4ZwPAAAAAQQMudNOO03p6emSJGOMoqOjtW/fPlVVVYVtOAAAAAQW09qV//jHPzRx4kTV1NTI4XDoV7/6lbp3797ith6PR16v13/e7XZ37KQAAABootUXO/zgBz9QdXW1Kisr9dBDD6mwsDDgtmVlZUpISPCfMjMzO3xYAAAA/L+gXrWakZGh2267TTfeeKM++OCDFrcpLi6Wy+XynyorKzt0UAAAADQV9NuP+Hw+eTwebdmypcXrnU6n4uPjm5wAAADQeQKG3KOPPqq9e/dKkvbv36+pU6cqNjZWQ4YMCdtwAAAACCxgyC1fvlxnn322EhMTdfbZZ2vPnj1asWKFsrOzwzkfAAAAAgj4qtXXX389nHMAAAAgRHxEFwAAgKUIOQAAAEsRcgAAAJYi5AAAACxFyAEAAFiKkAMAALAUIQcAAGApQg4AAMBShBwAAIClCDkAAABLEXIAAACWIuQAAAAsRcgBAABYipADAACwFCEHAABgKUIOAADAUoQcAACApQg5AAAASxFyAAAAliLkAAAALEXIAQAAWIqQAwAAsBQhBwAAYClCDgAAwFKEHAAAgKUIOQAAAEsRcgAAAJYi5AAAACxFyAEAAFiKkAMAALAUIQcAAGApQg4AAMBShBwAAIClCDkAAABLEXIAAACWIuQAAAAsRcgBAABYipADAACwFCEHAABgKUIOAADAUoQcAACApQg5AAAASxFyAAAAliLkAAAALEXIAQAAWIqQAwAAsBQhBwAAYClCDgAAwFIBQ27GjBkaMGCAUlJSlJ2drfHjx+vLL78M52wAAABoRcCQczgcWrRokQ4cOKBPPvlEDodDV1xxRThnAwAAQCtiAl3xwAMP+P8cGxurO++8UwUFBTp48KDS09Obbe/xeOT1ev3n3W53B48KAACAbwoYct/2r3/9S7m5uS1GnCSVlZWptLS0wwYD0DkcjvD9nBpTErb7AoATUVAvdlixYoVKS0v1hz/8IeA2xcXFcrlc/lNlZWWHDQkAAIDm2twj9/rrr+uaa67Rc889p8suuyzgdk6nU06ns0OHAwAAQGCt7pF7/vnnNXHiRL388ssaO3ZsuGYCAABAEAKG3O9//3tNmzZNr7/+ukaPHh3OmQAAABCEgCF3yy23qL6+XpdffrmSkpL8p7fffjuc8wEAACCAgL8jZ4wJ5xwAAAAIER/RBQAAYClCDgAAwFKEHAAAgKUIOQAAAEsRcgAAAJYi5AAAACxFyAEAAFiKkAMAALAUIQcAAGApQg4AAMBShBwAAIClCDkAAABLEXIAAACWIuQAAAAsRcgBAABYipADAACwFCEHAABgKUIOAADAUoQcAACApQg5AAAASxFyAAAAliLkAAAALEXIAQAAWIqQAwAAsBQhBwAAYClCDgAAwFKEHAAAgKUIOQAAAEsRcgAAAJYi5AAAACxFyAEAAFiKkAMAALAUIQcAAGApQg4AAMBShBwAAIClCDkAAABLEXIAAACWIuQAAAAsRcgBAABYipADAACwFCEHAABgKUIOAADAUoQcAACApQg5AAAASxFyAAAAliLkAAAALEXIAQAAWCpgyL300ksaOnSoUlJS5HA45PV6wzkXAAAA2hAT6Ir09HRNnTpVbrdbN9xwQzhnAgAAQBAChtzo0aMlSStXrgzXLAAAAAhBwJALlcfjaXL41e12d9RNAwAAoAUd9mKHsrIyJSQk+E+ZmZkdddMAAABoQYeFXHFxsVwul/9UWVnZUTcNAACAFnTYoVWn0ymn09lRNwcAAIA2BAy5xsZGeTweNTQ0SJKOHDkir9er2NhYRUXx9nMAAACRFrDInn32WcXHx/tfvZqUlKT4+HitWrUqbMMBAAAgsIAhd/3118sY0+w0fPjwMI4HAACAQDhGCgAAYClCDgAAwFKEHAAAgKUIOQAAAEsRcgAAAJYi5AAAACxFyAEAAFiKkAMAALAUIQcAAGApQg4AAMBShBwAAIClCDkAAABLEXIAAACWIuQAAAAsRcgBAABYipADAACwFCEHAABgKUIOAADAUoQcAACApQg5AAAASxFyAAAAliLkAAAALEXIAQAAWIqQAwAAsBQhBwAAYClCDgAAwFKEHAAAgKUIOQAAAEsRcgAAAJYi5AAAACxFyAEAAFiKkAMAALAUIQcAAGApQg4AAMBShBwAAIClCDkAAABLEXIAAACWIuQAAAAsRcgBAABYipADAACwFCEHAABgKUIOAADAUoQcAACApQg5AAAASxFyAAAAliLkAAAALEXIAQAAWIqQAwAAsFSrIWeMUUlJiXr37q3ExEQNGzZMmzZtCtdsAAAAaEWrITdv3jw9+eSTWrZsmQ4cOKAhQ4Zo9OjRqq+vD9d8AAAACKDVkHv88cdVVFSkAQMGKD4+Xvfee68aGhr02muvhWs+AAAABBAT6IqamhpVVFRo0KBB/79xTIwKCgq0YcMGXXvttU2293g88nq9/vMul0uS5Ha7QxzJE+L27Rf6bMfieF2XdPyujXUdq/B/LwLA8ePoc6gxJuA2AUOutrZWkpSWltbk8vT0dP9131RWVqbS0tJml2dmZgY3bQQkJJRFeoROcbyuSzp+18a6AACBHD58WAkJCS1eFzDkUlJSJEnV1dVNLj948KD69OnTbPvi4mLddddd/vM+n0/19fVKTk6Ww+Fo1+DBcrvdyszMVGVlpeLj4zv1vsKJddmFddmFddnneF0b67JLONdljNHhw4eb7VT7poAhl5qaqry8PK1bt06FhYWSJK/Xq/Ly8maHVSXJ6XTK6XQ2uSwxMbG9s7dLfHz8cfXNchTrsgvrsgvrss/xujbWZZdwrSvQnrijWn2xw9SpUzVv3jxt2rRJbrdbJSUlcjqdGjt2bIcOCQAAgNAF3CMnSUVFRaqrq9OIESNUW1ur888/X0uXLlVSUlK45gMAAEAA0XPmzJkT6EqHw6FLLrlERUVFKi4u1qRJk9SzZ88wjhe8qKgoDR8+XNHR0ZEepUOxLruwLruwLvscr2tjXXbpSutymNZe0woAAIAui89aBQAAsBQhBwAAYClCDgAAwFJWhJwxRiUlJerdu7cSExM1bNgwbdq0KeD2Bw8e1MSJE5Wamqq0tDRNnDix2RsbdwWhruvuu+9WQUGBYmNj9d3vfjeMk4YmlHXt27dP1113nfLz85WUlKS8vDzNnDlTR44cCfPUbQv18bryyivVp08fpaSkKDs7W5MmTVJlZWUYJw5eqGs7qra2Vnl5eXI4HE0+oq+rCHVdw4cPV2xsrJKSkvynxx9/PIwTB6c9j9eiRYs0YMAAJSYmqkePHrr11lvDNG3wQlnXF1980eRxSkpKUrdu3RQdHa0DBw6EefLWhfp4rVu3TpdcconS09OVlZWlsWPHaseOHWGcODihruuTTz7R5ZdfrqysLGVkZGjy5Mmqq6sL48TBeemllzR06FClpKQE9dwW8eYwFpg7d67JyckxGzduNC6Xy8yYMcP07t3b1NXVtbj997//fXPppZea/fv3m/3795tLL73UXHnllWGeum2hruvJJ580S5YsMTfffLMZMmRImKcNXijr2rZtmykrKzNbt241jY2NZsuWLWbAgAHmtttui8DkrQv18SovLzcul8sYY0xVVZW5+uqrzbhx48I5ctBCXdtRkyZNMqNGjTKSjMfjCdO0wQt1XRdffLEpLi4O85ShC3Vd8+bNM3l5eWbVqlXG4/GY+vp68/7774d56ra19/vwqLFjx5of/OAHnTxl6EJZV2Njo+nevbu59dZbzeHDh01tba256qqrTGFhYQQmb10o66qpqTE5OTlm1qxZ5vDhw2bPnj1m2LBhZuzYsRGYvHVLly41L7zwgvnzn/8c1HNbpJvDipDLy8szjzzyiP+8x+MxWVlZ5plnnmm2bUVFhZFkysvL/ZeVl5cbSWbHjh1hmTdYoazrm0pKSrp0yLV3XUfNnz/fnH322Z01Xrsdy7qqqqrM+PHjzXe+853OHLHd2rO2JUuWmPPPP98sX768y4ZcqOuyJeRCWVdNTY1JTEw0S5YsCeeI7XIsP2M7d+40MTEx5o033ujMEdsllHVVVVU1+zfs73//u4mLiwvLrKEIZV1vvPGGSUhIMI2Njf7Lli9fbhwOh/niiy/CMm+o3nzzzTaf27pCc3T5Q6s1NTWqqKjQoEGD/JfFxMSooKBAGzZsaLZ9eXm5unXrpnPOOcd/2TnnnKPY2FiVl5eHZeZghLouW3TEuv71r3+poKCgs0Zsl/aua+bMmUpOTlZGRoYWL16skpKScIwbkvasrbKyUtOmTdNTTz2lmJhW31c8Ytr7mC1YsEDp6ek6/fTTNWPGDNXX14dj3KCFuq41a9bo0KFD+uyzz3TKKaeoR48eGj16tD744INwjt2mY33uWLhwoU466SRddtllnTlmyEJdV3p6um6++WY98cQTcrlcqq6u1qJFizRu3Lhwjt2mUNdlvt5xJPONdzzz+XwyxnSpf5tD1RWao8uHXG1trSQ1+8DY9PR0/3Xf3j41NbXZ5WlpaS1uHymhrssWx7que++9Vxs2bNB9993XKfO1V3vX9cADD6iurk5btmzR7bffrlNPPbVT52yP9qxtypQp+vnPf66zzjqr0+drr/as6/7779eWLVtUWVmpl19+WcuWLdMNN9zQ6bOGItR1Hf19scWLF2vlypXasWOHzj33XF122WWqqanp/IGDdCzPHR6PR3/605900003yeFwdNqM7dGedV111VX697//7f9P4Pbt2/Xwww93+qyhCHVdgwcPVnJysmbNmiW3261du3b5n+dt/zcv0s3R5UMuJSVFkpr94uDBgwf91317+5aenKqrq1vcPlJCXZctjmVds2fP1h//+EetXLlSOTk5nTZjexzr43XyySfryiuv1OjRo+XxeDplxvYKdW0vvfSStm3bphkzZoRlvvZqz2M2ePBgZWRkKCoqSuecc47mz5+vV199VW63u9PnDVZ7nhMladasWerTp4/i4+N1//33q6amRmvWrOn8gYN0LD9jr732mg4ePKjJkyd32nztFeq6tmzZopEjR+qWW26Ry+VSXV2dfvjDH2rw4ME6dOhQWGYORqjrSktL09KlS7V+/Xrl5ubq4osv1oQJEyRJWVlZnT9wJ+kKzdHlQy41NVV5eXlat24m/9sRAAAIKklEQVSd/zKv16vy8vIWD7+de+65OnLkiDZu3Oi/bOPGjWpoaNC5554blpmDEeq6bNGedRljdPPNN+vFF1/U22+/rdNOOy1c4watIx4vj8ejvXv3dqm9IFLoa1u6dKk2b96sXr16KSsrSz/60Y8kSb169dLTTz8dtrnb0hGPWVTU10+Rpgt9AE6o6zp6WVfbU/Vtx/J4Pf744/rpT3+qzMzMzh4zZKGua+PGjYqPj9fUqVPVrVs3JSYmqqioSNu3bw/qleTh0p7Hq6CgQMuXL9e+ffu0detWZWdnKyEhQRdddFG4xu5wXaI5wvKbeMdo7ty5pm/fvubDDz80LpfLzJo1q81XrY4cOdL/CpKRI0eaK664IsxTty3UdTU0NBi3222Ki4vN4MGDjdvtNm63O8xTty2UdXk8HjNhwgRz5plnmt27d0dg2uCFsq5PP/3UvPrqq6ampsb4fD6zefNmU1hYaC644IIITN62UNZWVVVlvvzyS//plVdeMZJMRUWFqa+vj8D0gYWyrj179ph//vOfpr6+3vh8PrNp0yYzcODALvmqulCfO8aMGWOGDh1q9uzZYw4fPmxmzpxpevfubWpqasI8eetCXZcxxnz00UdGknnnnXfCOGloQllXRUWFiYuLMwsXLjQej8e43W4zZ84ck5SUZKqqqiIwfWChPl7vvfeeqa+vNx6Px6xatcrk5eWZuXPnhnnqtnm9XuN2u82yZcuMJFNfX2/cbneTF2p8U6Sbw4qQ8/l8Zvbs2aZnz54mPj7eDB061GzcuNEYY8yOHTtMYmKiWbVqlX/7yspKM378eJOSkmJSUlLMhAkTzMGDByM1fkChruu6664zkpqduppQ1rVy5UojyXTr1s0kJiY2OXU1oaxr8+bNZsiQISY1NdUkJiaa3Nxc84tf/MJ89dVXkVxCQKF+L35TMK/sipRQ1lVRUWEuuOACk5KSYhITE03//v3NHXfcYWprayO5hBaF+njV1NSYSZMmmbS0NJORkWFGjx5tPvzww0iNH1B7vg+nTZtmzjvvvEiMG7RQ17Vs2TJz0UUXmbS0NJOWlmaGDh1qVq5cGanxAwp1XVOmTDEZGRkmPj7enHnmmeaJJ56I1Oiteuqpp1r8t/bNN9/sks3hMKYLHTMAAABA0Lr878gBAACgZYQcAACApQg5AAAASxFyAAAAliLkAAAALEXIAQAAWIqQAwAAsBQhBwAAYClCDkCXs2jRIuXk5IT1PisqKuRwOLR169Z230Ywc+fk5GjRokXtvg8A+CZCDkDEDR8+XHfffXekxwAA6xByAI4LHo8n0iMAQNgRcgAi6qabbtLbb7+tuXPnKikpSUlJSf7rFi5cqLy8PKWmpuqqq65SbW2t/7q8vDyVlJTosssuU3Jysh566CFJ0rvvvqvhw4crMzNTubm5mj17trxerySpoaFBU6dOVa9evZScnKy8vDz97ne/azLPf//7X51zzjlKTk7WRRddpI8//th/3eHDh3XXXXcpPz9f6enpGjp0qN59992Aa6uvr9cNN9ygzMxM9enTR48++miHfM0A4ChCDkBE/eEPf9DQoUN15513qr6+XvX19ZKkPXv2aPPmzfrkk0+0efNmlZeX+2PtqIULF6qkpES1tbW69dZb9emnn+rSSy/VTTfdpL1792rVqlVasmSJfvOb30iSnn76aa1du1abNm1SXV2d3nnnHQ0ZMqTJbT777LNaunSp9u/fr5ycHE2ZMsV/3R133KE33nhDy5cv1969ezVmzBiNGDFCO3fubHFtt99+uzZs2KAPPvhAn332mcrLy7Vnz56O/PIBOMERcgC6pJiYGM2dO1fx8fHKzs7WmDFj9L///a/JNpMmTVJhYaEcDocSEhL02GOP6YorrtDPfvYzxcTEKDc3V3feeaeeeuopSVJsbKzq6+v18ccfy+PxqFevXjrvvPOa3OY999yj7OxsxcXFadKkSVq3bp0kyefz6c9//rPuu+8+nXzyyYqNjdX06dPVr18/Pffcc83m9/l8euaZZ1RaWqqcnBwlJibqkUcekc/n66SvGIATUUykBwCAlmRlZcnpdPrPJyYmqq6ursk2+fn5Tc5v2bJFb775ptLS0vyX+Xw+fzxdc8012r9/v+644w5t3rxZgwcP1n333aeBAwf6t+/du3eT+3S73fJ6vaqqqpLb7Vb//v2b3OfJJ5+sL774otn8+/fv15EjR5rMmJqaqoyMjFC+DADQKvbIAYi4qKj2PRV9++/16tVLEyZMUHV1tf9UW1vrP1wbHR2toqIivfvuu9q1a5fOOOMM/ehHPwrqvrKyshQXF6dt27Y1uXzbtm066aSTmm3fvXt3devWTRUVFf7LampqdPDgwRBXCQCBEXIAIq5Xr1767LPPjvl2pk6dqr/+9a/6y1/+ooaGBjU2Nmrr1q1aunSpJOk///mP3nvvPTU0NCguLk5JSUmKjo4O6rajoqI0efJk3XPPPdq+fbsaGho0f/58bd26VRMnTmxx+2uuuUZz5szRrl27dOjQIU2fPl0Oh+OY1wkARxFyACJu+vTp+vTTT5Went7ksGioLrjgAi1fvlxPPPGE+vTpo8zMTP3kJz/Rjh07JEn79u3T9ddfr4yMDHXv3l1vvfWW/vrXvwZ9+/PmzdOoUaN0ySWXqEePHnr11Ve1fPly9e3bt8Xt58+frwEDBmjAgAE69dRTNWDAAPXq1avd6wOAb3MYY0ykhwAAAEDo2CMHAABgKUIOAADAUoQcAACApQg5AAAASxFyAAAAliLkAAAALPV/SRxyKJ7HkG4AAAAASUVORK5CYII=\" class=\"pd_save\"></center>\n",
       "                        \n",
       "                    \n",
       "                \n",
       "        </div>\n",
       "    "
      ],
      "text/plain": [
       "<IPython.core.display.HTML object>"
      ]
     },
     "metadata": {},
     "output_type": "display_data"
    }
   ],
   "source": [
    "display(closeness_centrality_df)"
   ]
  },
  {
   "cell_type": "code",
   "execution_count": null,
   "metadata": {},
   "outputs": [],
   "source": []
  }
 ],
 "metadata": {
  "kernelspec": {
   "display_name": "Python 2",
   "language": "python",
   "name": "python2"
  },
  "language_info": {
   "codemirror_mode": {
    "name": "ipython",
    "version": 2
   },
   "file_extension": ".py",
   "mimetype": "text/x-python",
   "name": "python",
   "nbconvert_exporter": "python",
   "pygments_lexer": "ipython2",
   "version": "2.7.12"
  }
 },
 "nbformat": 4,
 "nbformat_minor": 2
}
