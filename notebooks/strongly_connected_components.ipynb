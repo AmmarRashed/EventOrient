{
 "cells": [
  {
   "cell_type": "code",
   "execution_count": 90,
   "metadata": {},
   "outputs": [],
   "source": [
    "import snap\n",
    "\n",
    "from joblib import Parallel, delayed\n",
    "from datetime import datetime\n",
    "\n",
    "import ast, operator\n",
    "from copy import deepcopy\n",
    "\n",
    "import time, pandas as pd, pickle, json, networkx as nx, numpy as np\n",
    "from networkx.readwrite import json_graph"
   ]
  },
  {
   "cell_type": "code",
   "execution_count": 2,
   "metadata": {},
   "outputs": [
    {
     "data": {
      "text/html": [
       "<div>\n",
       "<style scoped>\n",
       "    .dataframe tbody tr th:only-of-type {\n",
       "        vertical-align: middle;\n",
       "    }\n",
       "\n",
       "    .dataframe tbody tr th {\n",
       "        vertical-align: top;\n",
       "    }\n",
       "\n",
       "    .dataframe thead th {\n",
       "        text-align: right;\n",
       "    }\n",
       "</style>\n",
       "<table border=\"1\" class=\"dataframe\">\n",
       "  <thead>\n",
       "    <tr style=\"text-align: right;\">\n",
       "      <th></th>\n",
       "      <th>from_user_id</th>\n",
       "      <th>to_user_id</th>\n",
       "      <th>formation</th>\n",
       "    </tr>\n",
       "    <tr>\n",
       "      <th>id</th>\n",
       "      <th></th>\n",
       "      <th></th>\n",
       "      <th></th>\n",
       "    </tr>\n",
       "  </thead>\n",
       "  <tbody>\n",
       "    <tr>\n",
       "      <th>2429</th>\n",
       "      <td>450639507</td>\n",
       "      <td>315899534</td>\n",
       "      <td>{u'2018.05.08': True}</td>\n",
       "    </tr>\n",
       "    <tr>\n",
       "      <th>4990</th>\n",
       "      <td>1650479899</td>\n",
       "      <td>3064906390</td>\n",
       "      <td>{u'2018.05.08': True}</td>\n",
       "    </tr>\n",
       "    <tr>\n",
       "      <th>6905</th>\n",
       "      <td>3035004082</td>\n",
       "      <td>2545544532</td>\n",
       "      <td>{u'2018.05.08': True}</td>\n",
       "    </tr>\n",
       "    <tr>\n",
       "      <th>6042</th>\n",
       "      <td>2529427087</td>\n",
       "      <td>806218540328120320</td>\n",
       "      <td>{u'2018.05.08': True}</td>\n",
       "    </tr>\n",
       "    <tr>\n",
       "      <th>3507</th>\n",
       "      <td>630367566</td>\n",
       "      <td>4904375001</td>\n",
       "      <td>{u'2018.05.24': True}</td>\n",
       "    </tr>\n",
       "  </tbody>\n",
       "</table>\n",
       "</div>"
      ],
      "text/plain": [
       "      from_user_id          to_user_id              formation\n",
       "id                                                           \n",
       "2429     450639507           315899534  {u'2018.05.08': True}\n",
       "4990    1650479899          3064906390  {u'2018.05.08': True}\n",
       "6905    3035004082          2545544532  {u'2018.05.08': True}\n",
       "6042    2529427087  806218540328120320  {u'2018.05.08': True}\n",
       "3507     630367566          4904375001  {u'2018.05.24': True}"
      ]
     },
     "execution_count": 2,
     "metadata": {},
     "output_type": "execute_result"
    }
   ],
   "source": [
    "cons = pd.read_csv(\"../REST/static/filtered_twitter_connections.csv\", index_col=\"id\")\n",
    "str2dict = lambda d : ast.literal_eval(d)\n",
    "cons.formation = cons.formation.apply(str2dict)\n",
    "cons.sample(5)"
   ]
  },
  {
   "cell_type": "code",
   "execution_count": 3,
   "metadata": {},
   "outputs": [
    {
     "data": {
      "text/html": [
       "<div>\n",
       "<style scoped>\n",
       "    .dataframe tbody tr th:only-of-type {\n",
       "        vertical-align: middle;\n",
       "    }\n",
       "\n",
       "    .dataframe tbody tr th {\n",
       "        vertical-align: top;\n",
       "    }\n",
       "\n",
       "    .dataframe thead th {\n",
       "        text-align: right;\n",
       "    }\n",
       "</style>\n",
       "<table border=\"1\" class=\"dataframe\">\n",
       "  <thead>\n",
       "    <tr style=\"text-align: right;\">\n",
       "      <th></th>\n",
       "      <th>followers_count</th>\n",
       "      <th>friends_count</th>\n",
       "      <th>is_org</th>\n",
       "      <th>lang</th>\n",
       "      <th>match_name</th>\n",
       "      <th>match_ratio</th>\n",
       "      <th>name</th>\n",
       "      <th>screen_name</th>\n",
       "      <th>truncated_id</th>\n",
       "      <th>community</th>\n",
       "    </tr>\n",
       "    <tr>\n",
       "      <th>id</th>\n",
       "      <th></th>\n",
       "      <th></th>\n",
       "      <th></th>\n",
       "      <th></th>\n",
       "      <th></th>\n",
       "      <th></th>\n",
       "      <th></th>\n",
       "      <th></th>\n",
       "      <th></th>\n",
       "      <th></th>\n",
       "    </tr>\n",
       "  </thead>\n",
       "  <tbody>\n",
       "    <tr>\n",
       "      <th>2.507063e+09</th>\n",
       "      <td>2062.0</td>\n",
       "      <td>2010.0</td>\n",
       "      <td>False</td>\n",
       "      <td>tr</td>\n",
       "      <td>elif demirel</td>\n",
       "      <td>91.0</td>\n",
       "      <td>Elif Demir</td>\n",
       "      <td>eelifdem</td>\n",
       "      <td>250706324</td>\n",
       "      <td>1</td>\n",
       "    </tr>\n",
       "    <tr>\n",
       "      <th>9.384949e+17</th>\n",
       "      <td>0.0</td>\n",
       "      <td>53.0</td>\n",
       "      <td>False</td>\n",
       "      <td>tr</td>\n",
       "      <td>abdullah kaya</td>\n",
       "      <td>100.0</td>\n",
       "      <td>Abdullah Kaya</td>\n",
       "      <td>Abdulla23830994</td>\n",
       "      <td>938494926</td>\n",
       "      <td>1</td>\n",
       "    </tr>\n",
       "    <tr>\n",
       "      <th>2.224082e+08</th>\n",
       "      <td>151.0</td>\n",
       "      <td>1188.0</td>\n",
       "      <td>False</td>\n",
       "      <td>en</td>\n",
       "      <td>aslan bakirov</td>\n",
       "      <td>100.0</td>\n",
       "      <td>Aslan Bakirov</td>\n",
       "      <td>abekir</td>\n",
       "      <td>222408208</td>\n",
       "      <td>1</td>\n",
       "    </tr>\n",
       "    <tr>\n",
       "      <th>6.107436e+08</th>\n",
       "      <td>88.0</td>\n",
       "      <td>70.0</td>\n",
       "      <td>False</td>\n",
       "      <td>en</td>\n",
       "      <td>mohammed elkhateeb</td>\n",
       "      <td>94.0</td>\n",
       "      <td>Mohammad Elkhateeb</td>\n",
       "      <td>Hatib2014</td>\n",
       "      <td>610743648</td>\n",
       "      <td>1</td>\n",
       "    </tr>\n",
       "    <tr>\n",
       "      <th>3.004022e+09</th>\n",
       "      <td>58.0</td>\n",
       "      <td>190.0</td>\n",
       "      <td>False</td>\n",
       "      <td>tr</td>\n",
       "      <td>rabia sila aydin</td>\n",
       "      <td>95.0</td>\n",
       "      <td>rabia aydin</td>\n",
       "      <td>benrabiaay</td>\n",
       "      <td>300402232</td>\n",
       "      <td>1</td>\n",
       "    </tr>\n",
       "  </tbody>\n",
       "</table>\n",
       "</div>"
      ],
      "text/plain": [
       "              followers_count  friends_count  is_org lang          match_name  \\\n",
       "id                                                                              \n",
       "2.507063e+09           2062.0         2010.0   False   tr        elif demirel   \n",
       "9.384949e+17              0.0           53.0   False   tr       abdullah kaya   \n",
       "2.224082e+08            151.0         1188.0   False   en       aslan bakirov   \n",
       "6.107436e+08             88.0           70.0   False   en  mohammed elkhateeb   \n",
       "3.004022e+09             58.0          190.0   False   tr    rabia sila aydin   \n",
       "\n",
       "              match_ratio                name      screen_name  truncated_id  \\\n",
       "id                                                                             \n",
       "2.507063e+09         91.0          Elif Demir         eelifdem     250706324   \n",
       "9.384949e+17        100.0       Abdullah Kaya  Abdulla23830994     938494926   \n",
       "2.224082e+08        100.0       Aslan Bakirov           abekir     222408208   \n",
       "6.107436e+08         94.0  Mohammad Elkhateeb        Hatib2014     610743648   \n",
       "3.004022e+09         95.0         rabia aydin       benrabiaay     300402232   \n",
       "\n",
       "             community  \n",
       "id                      \n",
       "2.507063e+09         1  \n",
       "9.384949e+17         1  \n",
       "2.224082e+08         1  \n",
       "6.107436e+08         1  \n",
       "3.004022e+09         1  "
      ]
     },
     "execution_count": 3,
     "metadata": {},
     "output_type": "execute_result"
    }
   ],
   "source": [
    "twu_with_orgs = pd.read_csv(\"../REST/static/filtered_twitter_users.csv\", index_col=\"id\")\n",
    "twu_with_orgs = twu_with_orgs[twu_with_orgs.is_org==False]\n",
    "twu_with_orgs.sample(5,random_state=42)"
   ]
  },
  {
   "cell_type": "markdown",
   "metadata": {},
   "source": [
    "### Filtering the network by link-formation dates\n",
    "#### Refer to <a href=\"https://github.com/AmmarRashed/EventOrient/blob/master/notebooks/calculating_closures.ipynb\"> Calculating Closures</a>"
   ]
  },
  {
   "cell_type": "code",
   "execution_count": 4,
   "metadata": {},
   "outputs": [],
   "source": [
    "def present_in_date(changes_dates, queried_date):\n",
    "    \"\"\"\n",
    "    checking if a connection is present in a queried date\n",
    "    changes_dates: {d1:True, d2:False, d3:True} connection added or removed\n",
    "    queried_date: e.g. \"2018.05.08\"\n",
    "    \"\"\"\n",
    "    str2date = lambda strdate: datetime.strptime(strdate, '%Y.%m.%d')  # 2018.05.08\n",
    "    changes = sorted(changes_dates,key=lambda d: str2date(d))\n",
    "    queried_date = datetime.strptime(queried_date, '%Y.%m.%d')\n",
    "    present = False\n",
    "    for d in changes:\n",
    "        if queried_date < str2date(d):\n",
    "            break\n",
    "        present = changes_dates[d]\n",
    "    return present\n",
    "\n",
    "def get_dates(cons):\n",
    "    all_dates = set()\n",
    "    str2date = lambda strdate: datetime.strptime(strdate, '%Y.%m.%d')  # 2018.05.08\n",
    "\n",
    "    for dates in cons.formation.apply(lambda x: list(x)):\n",
    "        for date in dates:\n",
    "            all_dates.add(str2date(date))\n",
    "    return [d.strftime('%Y.%m.%d') for d in sorted(all_dates)]\n",
    "\n",
    "def get_connections_by_date(cons, date, present=True):\n",
    "    nw = deepcopy(cons)\n",
    "    for_col = nw.formation.apply(lambda dates: present_in_date(dates,date))\n",
    "    return cons[for_col == present]\n",
    "\n",
    "def networkx_to_snappy(nxg, directed=False):\n",
    "    if directed:\n",
    "        g = snap.PNGraph.New()\n",
    "    else:\n",
    "        g = snap.PUNGraph.New()\n",
    "        \n",
    "    for n in nxg.nodes():\n",
    "        g.AddNode(n)\n",
    "    for f,t in nxg.edges():\n",
    "        g.AddEdge(f, t)\n",
    "        \n",
    "    return g"
   ]
  },
  {
   "cell_type": "code",
   "execution_count": 5,
   "metadata": {},
   "outputs": [
    {
     "data": {
      "text/plain": [
       "['2018.05.08', '2018.05.24']"
      ]
     },
     "execution_count": 5,
     "metadata": {},
     "output_type": "execute_result"
    }
   ],
   "source": [
    "dates = get_dates(cons)\n",
    "dates"
   ]
  },
  {
   "cell_type": "code",
   "execution_count": 6,
   "metadata": {},
   "outputs": [],
   "source": [
    "date = dates[-1]"
   ]
  },
  {
   "cell_type": "code",
   "execution_count": 7,
   "metadata": {},
   "outputs": [
    {
     "data": {
      "text/html": [
       "<div>\n",
       "<style scoped>\n",
       "    .dataframe tbody tr th:only-of-type {\n",
       "        vertical-align: middle;\n",
       "    }\n",
       "\n",
       "    .dataframe tbody tr th {\n",
       "        vertical-align: top;\n",
       "    }\n",
       "\n",
       "    .dataframe thead th {\n",
       "        text-align: right;\n",
       "    }\n",
       "</style>\n",
       "<table border=\"1\" class=\"dataframe\">\n",
       "  <thead>\n",
       "    <tr style=\"text-align: right;\">\n",
       "      <th></th>\n",
       "      <th>from_user_id</th>\n",
       "      <th>to_user_id</th>\n",
       "      <th>formation</th>\n",
       "    </tr>\n",
       "    <tr>\n",
       "      <th>id</th>\n",
       "      <th></th>\n",
       "      <th></th>\n",
       "      <th></th>\n",
       "    </tr>\n",
       "  </thead>\n",
       "  <tbody>\n",
       "    <tr>\n",
       "      <th>5481</th>\n",
       "      <td>2234861247</td>\n",
       "      <td>3064906390</td>\n",
       "      <td>{u'2018.05.08': True}</td>\n",
       "    </tr>\n",
       "    <tr>\n",
       "      <th>8395</th>\n",
       "      <td>806720898036338688</td>\n",
       "      <td>443009716</td>\n",
       "      <td>{u'2018.05.08': True}</td>\n",
       "    </tr>\n",
       "    <tr>\n",
       "      <th>8353</th>\n",
       "      <td>796350154639048704</td>\n",
       "      <td>995806488</td>\n",
       "      <td>{u'2018.05.24': True}</td>\n",
       "    </tr>\n",
       "    <tr>\n",
       "      <th>6011</th>\n",
       "      <td>2529427087</td>\n",
       "      <td>609301446</td>\n",
       "      <td>{u'2018.05.08': True}</td>\n",
       "    </tr>\n",
       "    <tr>\n",
       "      <th>1316</th>\n",
       "      <td>253229470</td>\n",
       "      <td>3064906390</td>\n",
       "      <td>{u'2018.05.08': True}</td>\n",
       "    </tr>\n",
       "  </tbody>\n",
       "</table>\n",
       "</div>"
      ],
      "text/plain": [
       "            from_user_id  to_user_id              formation\n",
       "id                                                         \n",
       "5481          2234861247  3064906390  {u'2018.05.08': True}\n",
       "8395  806720898036338688   443009716  {u'2018.05.08': True}\n",
       "8353  796350154639048704   995806488  {u'2018.05.24': True}\n",
       "6011          2529427087   609301446  {u'2018.05.08': True}\n",
       "1316           253229470  3064906390  {u'2018.05.08': True}"
      ]
     },
     "execution_count": 7,
     "metadata": {},
     "output_type": "execute_result"
    }
   ],
   "source": [
    "ondate_cons = get_connections_by_date(cons, date)\n",
    "ondate_cons.sample(5)"
   ]
  },
  {
   "cell_type": "markdown",
   "metadata": {},
   "source": [
    "### Constructing the graph"
   ]
  },
  {
   "cell_type": "code",
   "execution_count": 8,
   "metadata": {},
   "outputs": [],
   "source": [
    "non_orgs = twu_with_orgs[~twu_with_orgs.is_org]\n",
    "\n",
    "nxg = nx.DiGraph()\n",
    "truncate = lambda x: int(str(int(x))[:9])\n",
    "for _, row in ondate_cons.iterrows():    \n",
    "    from_ = truncate(row[\"from_user_id\"])\n",
    "    to = truncate(row[\"to_user_id\"])\n",
    "    if from_ in non_orgs.truncated_id and to in non_orgs.truncated_id:\n",
    "        nxg.add_edge(from_, to)\n",
    "nxg = nxg.to_directed()"
   ]
  },
  {
   "cell_type": "markdown",
   "metadata": {},
   "source": [
    "### Calculating Strongly-Connected components \n",
    "#### <a href=\"https://www.geeksforgeeks.org/strongly-connected-components/\">Kosaraju's algorithm</a>\n",
    "<img src=\"https://github.com/AmmarRashed/EventOrient/blob/master/misc/pics/scc.jpeg?raw=true\">"
   ]
  },
  {
   "cell_type": "code",
   "execution_count": 17,
   "metadata": {},
   "outputs": [],
   "source": [
    "snappy_directed = networkx_to_snappy(nxg, True)\n",
    "components = snap.TCnComV()\n",
    "sccs = snap.GetSccs(snappy_directed, components)"
   ]
  },
  {
   "cell_type": "code",
   "execution_count": 32,
   "metadata": {},
   "outputs": [
    {
     "name": "stdout",
     "output_type": "stream",
     "text": [
      "Size of component: 163\n",
      "Size of component: 6\n",
      "Size of component: 5\n",
      "Size of component: 3\n"
     ]
    }
   ],
   "source": [
    "for CnCom in components:\n",
    "    if (CnCom.Len()>1):\n",
    "        print (\"Size of component: %d\" % CnCom.Len())"
   ]
  },
  {
   "cell_type": "code",
   "execution_count": 86,
   "metadata": {},
   "outputs": [],
   "source": [
    "super_graph = nx.Graph()"
   ]
  },
  {
   "cell_type": "code",
   "execution_count": 87,
   "metadata": {},
   "outputs": [],
   "source": [
    "for i,c1 in enumerate(components):\n",
    "#     if c1.Len()>1:\n",
    "    for j, c2 in enumerate(components):\n",
    "        if  i != j:\n",
    "            weight = 0\n",
    "            for n1 in c1:\n",
    "                for n2 in c2:\n",
    "                    if nxg.has_edge(n1, n2):\n",
    "                        weight += 1\n",
    "            if weight>0:\n",
    "                super_graph.add_edge(i, j, weight=weight)"
   ]
  },
  {
   "cell_type": "code",
   "execution_count": 88,
   "metadata": {},
   "outputs": [],
   "source": [
    "def get_biggest_community(component):\n",
    "    truncated_twu = twu_with_orgs.set_index('truncated_id')\n",
    "    coms = dict()\n",
    "    for node in component:\n",
    "        com = truncated_twu.loc[node]['community']\n",
    "        coms.setdefault(com, 0)\n",
    "        coms[com] += 1\n",
    "    \n",
    "    return max(coms.iteritems(), key=operator.itemgetter(1))[0]"
   ]
  },
  {
   "cell_type": "code",
   "execution_count": 91,
   "metadata": {},
   "outputs": [],
   "source": [
    "for ix,deg in super_graph.degree(super_graph.nodes()):\n",
    "    nodes = list(set(components[ix]))\n",
    "    super_graph.node[ix]['degree'] = deg\n",
    "    super_graph.nodes[ix]['nodes'] = nodes\n",
    "    super_graph.nodes[ix]['biggest_community'] = get_biggest_community(nodes)"
   ]
  },
  {
   "cell_type": "code",
   "execution_count": 92,
   "metadata": {},
   "outputs": [],
   "source": [
    "data = nx.node_link_data(super_graph)\n",
    "with open('../REST/static/networks/SCC_graph.json', 'w') as f:\n",
    "    json.dump(data, f, indent=4)"
   ]
  }
 ],
 "metadata": {
  "kernelspec": {
   "display_name": "Python 3",
   "language": "python",
   "name": "python3"
  },
  "language_info": {
   "codemirror_mode": {
    "name": "ipython",
    "version": 2
   },
   "file_extension": ".py",
   "mimetype": "text/x-python",
   "name": "python",
   "nbconvert_exporter": "python",
   "pygments_lexer": "ipython2",
   "version": "2.7.12"
  }
 },
 "nbformat": 4,
 "nbformat_minor": 2
}
