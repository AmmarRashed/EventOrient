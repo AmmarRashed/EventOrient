{
 "cells": [
  {
   "cell_type": "markdown",
   "metadata": {},
   "source": [
    "### In this notebook we find nodes with the highest degree and/or betweenness centrality in each community and manually investigate the those nodes to get a better understanding of what that community is about"
   ]
  },
  {
   "cell_type": "code",
   "execution_count": 1,
   "metadata": {},
   "outputs": [],
   "source": [
    "import snap\n",
    "\n",
    "from joblib import Parallel, delayed\n",
    "from datetime import datetime\n",
    "\n",
    "import ast, operator\n",
    "from copy import deepcopy\n",
    "\n",
    "import time, pandas as pd, pickle, json, networkx as nx, numpy as np\n",
    "from networkx.readwrite import json_graph"
   ]
  },
  {
   "cell_type": "code",
   "execution_count": 2,
   "metadata": {},
   "outputs": [],
   "source": [
    "data = json.load(open(\"../REST/static/networks/latest_tw_ntw.json\"))\n",
    "graph = json_graph.node_link_graph(data, directed=True)\n",
    "del data"
   ]
  },
  {
   "cell_type": "code",
   "execution_count": 3,
   "metadata": {},
   "outputs": [
    {
     "data": {
      "text/plain": [
       "(396662786,\n",
       " {'betweenness': 0.0,\n",
       "  'closeness_centrality': 0.0,\n",
       "  'clustering_coefficient': 1.0,\n",
       "  'community': 'foci',\n",
       "  'degree': 2,\n",
       "  'eigenvector_centrality': 2.4260626929564234e-24,\n",
       "  'followers_count': 33.0,\n",
       "  'friends_count': 284.0,\n",
       "  'in_degree': 0,\n",
       "  'lang': 'tr',\n",
       "  'match_name': ' Sehir MBA',\n",
       "  'name': 'nemasehir',\n",
       "  'out_degree': 2,\n",
       "  'pagerank': 0.00018450710615505045,\n",
       "  'screen_name': 'nemasehir'})"
      ]
     },
     "execution_count": 3,
     "metadata": {},
     "output_type": "execute_result"
    }
   ],
   "source": [
    "list(graph.nodes(data=True))[0]"
   ]
  },
  {
   "cell_type": "code",
   "execution_count": 5,
   "metadata": {},
   "outputs": [],
   "source": [
    "communities_dict = dict()  # {community: {user_id:(betweenness_centrality, degree)}}\n",
    "\n",
    "for user_id, user_data in graph.nodes(data=True):\n",
    "    \n",
    "    community = user_data[\"community\"]\n",
    "    communities_dict.setdefault(community, dict())\n",
    "    \n",
    "    btw = user_data[\"betweenness\"]\n",
    "    deg = user_data[\"degree\"]\n",
    "    communities_dict[community][user_id] = (btw, deg)"
   ]
  },
  {
   "cell_type": "markdown",
   "metadata": {},
   "source": [
    "### Getting top 5 users by betweenness in each community"
   ]
  },
  {
   "cell_type": "code",
   "execution_count": 69,
   "metadata": {},
   "outputs": [],
   "source": [
    "def sort_com_by_users_metric(communities_dict, metric_idx, top_k=2, name='screen_name'):\n",
    "    \"\"\"comms: {community: {user_id:(metric 0, metric 1, ...)}}\n",
    "    returns {community: [top k user_ids data sorted by metric at metric_idx]}\n",
    "    e.g. [(179250667, (0.005290261280310729, 17)), (231908931, (0.0, 4))]\"\"\"\n",
    "    sorted_coms = {comm: sorted(users_data.items(), key=lambda x:x[1][metric_idx], reverse=True)[:top_k]\n",
    "               for comm, users_data in communities_dict.items()}\n",
    "    if name is not None:\n",
    "        for k, v in sorted_coms.items():\n",
    "            named_v = [(graph.nodes[i][name], j) for i,j in v]\n",
    "            sorted_coms[k] = named_v\n",
    "    return sorted_coms"
   ]
  },
  {
   "cell_type": "code",
   "execution_count": 70,
   "metadata": {},
   "outputs": [
    {
     "data": {
      "text/plain": [
       "[('akalikoc', (0.005290261280310729, 17)),\n",
       " ('HALILYILDIZ63', (0.0, 1)),\n",
       " ('burakkayhan11', (0.0, 2)),\n",
       " ('bayramogluali', (0.0, 4)),\n",
       " ('hilalebruuuu', (0.0, 2))]"
      ]
     },
     "execution_count": 70,
     "metadata": {},
     "output_type": "execute_result"
    }
   ],
   "source": [
    "sorted_coms_btw = sort_com_by_users_metric(communities_dict, 0, 5)\n",
    "sorted_coms_btw['10']"
   ]
  },
  {
   "cell_type": "code",
   "execution_count": 71,
   "metadata": {},
   "outputs": [
    {
     "data": {
      "text/plain": [
       "[('akalikoc', (0.005290261280310729, 17)),\n",
       " ('bayramogluali', (0.0, 4)),\n",
       " ('burakkayhan11', (0.0, 2)),\n",
       " ('hilalebruuuu', (0.0, 2)),\n",
       " ('salihcolak96', (0.0, 2))]"
      ]
     },
     "execution_count": 71,
     "metadata": {},
     "output_type": "execute_result"
    }
   ],
   "source": [
    "sorted_coms_btw = sort_com_by_users_metric(communities_dict, 1, 5)\n",
    "sorted_coms_btw['10']"
   ]
  },
  {
   "cell_type": "markdown",
   "metadata": {},
   "source": [
    "### Investigating SCC dominant communities"
   ]
  },
  {
   "cell_type": "code",
   "execution_count": 72,
   "metadata": {},
   "outputs": [],
   "source": [
    "scc_data = json.load(open(\"../REST/static/networks/SCC_graph.json\"))\n",
    "scc_graph = json_graph.node_link_graph(scc_data, directed=True)\n",
    "del scc_data"
   ]
  },
  {
   "cell_type": "code",
   "execution_count": 73,
   "metadata": {},
   "outputs": [],
   "source": [
    "def get_top_k_nodes_in_scc(communities_dict, scc_graph, metric_idx, top_k=2):\n",
    "    \"\"\"comms: {community: {user_id:(metric 0, metric 1, ...)}}\n",
    "    returns {scc_id: [(user_id, (metric 0, metric 1, ...))] top k users sorted by metric_index}\"\"\"\n",
    "    sorted_coms = sort_com_by_users_metric(communities_dict, metric_idx, top_k)\n",
    "    \n",
    "    influential_nodes_per_scc = dict()  # {scc: top_k_nodes}\n",
    "\n",
    "    for n, d in scc_graph.nodes(data=True):\n",
    "        if d['degree']>1:\n",
    "            influential_nodes_per_scc[n] = sorted_coms[d['biggest_community']]\n",
    "    return influential_nodes_per_scc"
   ]
  },
  {
   "cell_type": "code",
   "execution_count": 74,
   "metadata": {},
   "outputs": [
    {
     "data": {
      "text/plain": [
       "{0: [('hakanbayrakk', (0.025097580520380414, 81)),\n",
       "  ('Cengizbeyza', (0.018701713785200642, 62))],\n",
       " 1: [('AkinciMehmet', (0.007097456024185624, 20)),\n",
       "  ('aytenkoldemir', (0.0, 3))],\n",
       " 2: [('dilaraboyraz', (0.002963211342957341, 11)),\n",
       "  ('SCansuYaman', (0.0012636631231703853, 4))],\n",
       " 3: [('Ali_Ulker', (0.03718076845945561, 143)),\n",
       "  ('ondermy', (4.5512783121060325e-06, 5))],\n",
       " 8: [('sadievrenseker', (0.0, 71)),\n",
       "  ('hasannkocaturk', (5.01818911596035e-05, 8))],\n",
       " 124: [('myel34', (0.0, 18)), ('_ahmetaltan', (0.0, 2))],\n",
       " 209: [('Ali_Ulker', (0.03718076845945561, 143)),\n",
       "  ('ondermy', (4.5512783121060325e-06, 5))],\n",
       " 211: [('myel34', (0.0, 18)), ('_ahmetaltan', (0.0, 2))],\n",
       " 225: [('ahmet_ademoglu', (9.122626071305532e-05, 20)),\n",
       "  ('EbruAdemoglu', (0.0, 2))],\n",
       " 236: [('akalikoc', (0.005290261280310729, 17)), ('bayramogluali', (0.0, 4))],\n",
       " 251: [('Talha_Kose1', (0.0379104467976198, 176)),\n",
       "  ('ahdamar', (0.02038580064030419, 14))],\n",
       " 265: [('dilaraboyraz', (0.002963211342957341, 11)),\n",
       "  ('SCansuYaman', (0.0012636631231703853, 4))],\n",
       " 286: [('sadievrenseker', (0.0, 71)),\n",
       "  ('hasannkocaturk', (5.01818911596035e-05, 8))],\n",
       " 299: [('alimarli_', (0.0599150342016525, 202)),\n",
       "  ('ReyyanBilge', (0.010484074274162695, 99))],\n",
       " 309: [('Ali_Ulker', (0.03718076845945561, 143)),\n",
       "  ('ondermy', (4.5512783121060325e-06, 5))],\n",
       " 320: [('myel34', (0.0, 18)), ('_ahmetaltan', (0.0, 2))],\n",
       " 361: [('ahmethc', (0.0, 6)), ('siyadari', (0.0, 3))],\n",
       " 365: [('sadievrenseker', (0.0, 71)),\n",
       "  ('hasannkocaturk', (5.01818911596035e-05, 8))],\n",
       " 366: [('Ali_Ulker', (0.03718076845945561, 143)),\n",
       "  ('ondermy', (4.5512783121060325e-06, 5))],\n",
       " 376: [('myel34', (0.0, 18)), ('_ahmetaltan', (0.0, 2))]}"
      ]
     },
     "execution_count": 74,
     "metadata": {},
     "output_type": "execute_result"
    }
   ],
   "source": [
    "btw_index = 0\n",
    "deg_index = 1\n",
    "\n",
    "influential_nodes_per_scc = get_top_k_nodes_in_scc(communities_dict, scc_graph, deg_index, 2)\n",
    "influential_nodes_per_scc"
   ]
  },
  {
   "cell_type": "code",
   "execution_count": null,
   "metadata": {},
   "outputs": [],
   "source": []
  }
 ],
 "metadata": {
  "kernelspec": {
   "display_name": "Python 3",
   "language": "python",
   "name": "python3"
  },
  "language_info": {
   "codemirror_mode": {
    "name": "ipython",
    "version": 3
   },
   "file_extension": ".py",
   "mimetype": "text/x-python",
   "name": "python",
   "nbconvert_exporter": "python",
   "pygments_lexer": "ipython3",
   "version": "3.5.2"
  }
 },
 "nbformat": 4,
 "nbformat_minor": 2
}
