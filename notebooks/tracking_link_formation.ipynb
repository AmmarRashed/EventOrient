{
 "cells": [
  {
   "cell_type": "code",
   "execution_count": 32,
   "metadata": {},
   "outputs": [],
   "source": [
    "import psycopg2\n",
    "\n",
    "import pandas as pd\n",
    "import numpy as np\n",
    "\n",
    "from copy import deepcopy\n",
    "\n",
    "import ast\n",
    "\n",
    "import networkx as nx\n",
    "\n",
    "import itertools\n",
    "\n",
    "from fuzzywuzzy import fuzz\n",
    "from fuzzywuzzy import process\n",
    "\n",
    "from joblib import Parallel, delayed"
   ]
  },
  {
   "cell_type": "code",
   "execution_count": 2,
   "metadata": {},
   "outputs": [],
   "source": [
    "connection = psycopg2.connect('dbname=link_formation host=localhost user=postgres password=1_sehir_1')\n",
    "\n",
    "twitter_users = pd.read_sql(\"SELECT * FROM twitter_user\", connection)\n",
    "\n",
    "user_connections = pd.read_sql(\"SELECT * FROM twitter_connection\", connection).drop('id', axis=1)"
   ]
  },
  {
   "cell_type": "code",
   "execution_count": 4,
   "metadata": {},
   "outputs": [
    {
     "data": {
      "text/html": [
       "<div>\n",
       "<style scoped>\n",
       "    .dataframe tbody tr th:only-of-type {\n",
       "        vertical-align: middle;\n",
       "    }\n",
       "\n",
       "    .dataframe tbody tr th {\n",
       "        vertical-align: top;\n",
       "    }\n",
       "\n",
       "    .dataframe thead th {\n",
       "        text-align: right;\n",
       "    }\n",
       "</style>\n",
       "<table border=\"1\" class=\"dataframe\">\n",
       "  <thead>\n",
       "    <tr style=\"text-align: right;\">\n",
       "      <th></th>\n",
       "      <th>id</th>\n",
       "      <th>name</th>\n",
       "      <th>screen_name</th>\n",
       "      <th>lang</th>\n",
       "      <th>match_name</th>\n",
       "      <th>match_ratio</th>\n",
       "      <th>followers_count</th>\n",
       "      <th>friends_count</th>\n",
       "    </tr>\n",
       "  </thead>\n",
       "  <tbody>\n",
       "    <tr>\n",
       "      <th>19646</th>\n",
       "      <td>535425870</td>\n",
       "      <td>Aykut Kurt</td>\n",
       "      <td>AykutKurt13</td>\n",
       "      <td>tr</td>\n",
       "      <td>Aykut Ucar</td>\n",
       "      <td>67</td>\n",
       "      <td>97</td>\n",
       "      <td>122</td>\n",
       "    </tr>\n",
       "    <tr>\n",
       "      <th>8905</th>\n",
       "      <td>706425190</td>\n",
       "      <td>Büsra</td>\n",
       "      <td>Bsrayrkcglu</td>\n",
       "      <td>tr</td>\n",
       "      <td>Busra Yorukcuoglu</td>\n",
       "      <td>79</td>\n",
       "      <td>261</td>\n",
       "      <td>290</td>\n",
       "    </tr>\n",
       "    <tr>\n",
       "      <th>12447</th>\n",
       "      <td>1007383164</td>\n",
       "      <td>osman urper</td>\n",
       "      <td>osmanurper</td>\n",
       "      <td>tr</td>\n",
       "      <td>Osman Nurettin Sen</td>\n",
       "      <td>72</td>\n",
       "      <td>260</td>\n",
       "      <td>249</td>\n",
       "    </tr>\n",
       "    <tr>\n",
       "      <th>22147</th>\n",
       "      <td>2962557225</td>\n",
       "      <td>Abdullah Demir</td>\n",
       "      <td>a_demirr55</td>\n",
       "      <td>tr</td>\n",
       "      <td>Kadem</td>\n",
       "      <td>72</td>\n",
       "      <td>139</td>\n",
       "      <td>273</td>\n",
       "    </tr>\n",
       "    <tr>\n",
       "      <th>2584</th>\n",
       "      <td>926331128100937728</td>\n",
       "      <td>Murat Demirci</td>\n",
       "      <td>MuratDe49231258</td>\n",
       "      <td>tr</td>\n",
       "      <td>Murat Er</td>\n",
       "      <td>68</td>\n",
       "      <td>2</td>\n",
       "      <td>100</td>\n",
       "    </tr>\n",
       "  </tbody>\n",
       "</table>\n",
       "</div>"
      ],
      "text/plain": [
       "                       id            name      screen_name lang  \\\n",
       "19646           535425870      Aykut Kurt      AykutKurt13   tr   \n",
       "8905            706425190           Büsra      Bsrayrkcglu   tr   \n",
       "12447          1007383164     osman urper       osmanurper   tr   \n",
       "22147          2962557225  Abdullah Demir       a_demirr55   tr   \n",
       "2584   926331128100937728   Murat Demirci  MuratDe49231258   tr   \n",
       "\n",
       "               match_name  match_ratio  followers_count  friends_count  \n",
       "19646          Aykut Ucar           67               97            122  \n",
       "8905    Busra Yorukcuoglu           79              261            290  \n",
       "12447  Osman Nurettin Sen           72              260            249  \n",
       "22147               Kadem           72              139            273  \n",
       "2584             Murat Er           68                2            100  "
      ]
     },
     "execution_count": 4,
     "metadata": {},
     "output_type": "execute_result"
    }
   ],
   "source": [
    "twitter_users.sample(5)"
   ]
  },
  {
   "cell_type": "code",
   "execution_count": 5,
   "metadata": {
    "scrolled": false
   },
   "outputs": [
    {
     "data": {
      "text/html": [
       "<div>\n",
       "<style scoped>\n",
       "    .dataframe tbody tr th:only-of-type {\n",
       "        vertical-align: middle;\n",
       "    }\n",
       "\n",
       "    .dataframe tbody tr th {\n",
       "        vertical-align: top;\n",
       "    }\n",
       "\n",
       "    .dataframe thead th {\n",
       "        text-align: right;\n",
       "    }\n",
       "</style>\n",
       "<table border=\"1\" class=\"dataframe\">\n",
       "  <thead>\n",
       "    <tr style=\"text-align: right;\">\n",
       "      <th></th>\n",
       "      <th>name</th>\n",
       "      <th>screen_name</th>\n",
       "      <th>lang</th>\n",
       "      <th>match_name</th>\n",
       "      <th>match_ratio</th>\n",
       "      <th>followers_count</th>\n",
       "      <th>friends_count</th>\n",
       "    </tr>\n",
       "    <tr>\n",
       "      <th>id</th>\n",
       "      <th></th>\n",
       "      <th></th>\n",
       "      <th></th>\n",
       "      <th></th>\n",
       "      <th></th>\n",
       "      <th></th>\n",
       "      <th></th>\n",
       "    </tr>\n",
       "  </thead>\n",
       "  <tbody>\n",
       "    <tr>\n",
       "      <th>3.955128e+09</th>\n",
       "      <td>esra</td>\n",
       "      <td>esrakpk1</td>\n",
       "      <td>tr</td>\n",
       "      <td>Esra Kucuk</td>\n",
       "      <td>67.0</td>\n",
       "      <td>5.0</td>\n",
       "      <td>131.0</td>\n",
       "    </tr>\n",
       "    <tr>\n",
       "      <th>1.858418e+09</th>\n",
       "      <td>Burak</td>\n",
       "      <td>BurakErenTR</td>\n",
       "      <td>tr</td>\n",
       "      <td>Burak Eren</td>\n",
       "      <td>86.0</td>\n",
       "      <td>308.0</td>\n",
       "      <td>256.0</td>\n",
       "    </tr>\n",
       "    <tr>\n",
       "      <th>1.498686e+09</th>\n",
       "      <td>Gevrek Gündem</td>\n",
       "      <td>canozcan22</td>\n",
       "      <td>tr</td>\n",
       "      <td>Selin Banu Ozcan</td>\n",
       "      <td>63.0</td>\n",
       "      <td>466.0</td>\n",
       "      <td>3580.0</td>\n",
       "    </tr>\n",
       "    <tr>\n",
       "      <th>3.972518e+08</th>\n",
       "      <td>z e y n e p</td>\n",
       "      <td>zeynpchn</td>\n",
       "      <td>tr</td>\n",
       "      <td>Zeynep Cihan</td>\n",
       "      <td>80.0</td>\n",
       "      <td>141.0</td>\n",
       "      <td>223.0</td>\n",
       "    </tr>\n",
       "    <tr>\n",
       "      <th>9.289916e+17</th>\n",
       "      <td>Samet Ay</td>\n",
       "      <td>SametAy93763453</td>\n",
       "      <td>tr</td>\n",
       "      <td>! Some</td>\n",
       "      <td>68.0</td>\n",
       "      <td>0.0</td>\n",
       "      <td>94.0</td>\n",
       "    </tr>\n",
       "  </tbody>\n",
       "</table>\n",
       "</div>"
      ],
      "text/plain": [
       "                       name      screen_name lang        match_name  \\\n",
       "id                                                                    \n",
       "3.955128e+09           esra         esrakpk1   tr        Esra Kucuk   \n",
       "1.858418e+09          Burak      BurakErenTR   tr        Burak Eren   \n",
       "1.498686e+09  Gevrek Gündem       canozcan22   tr  Selin Banu Ozcan   \n",
       "3.972518e+08    z e y n e p         zeynpchn   tr      Zeynep Cihan   \n",
       "9.289916e+17       Samet Ay  SametAy93763453   tr            ! Some   \n",
       "\n",
       "              match_ratio  followers_count  friends_count  \n",
       "id                                                         \n",
       "3.955128e+09         67.0              5.0          131.0  \n",
       "1.858418e+09         86.0            308.0          256.0  \n",
       "1.498686e+09         63.0            466.0         3580.0  \n",
       "3.972518e+08         80.0            141.0          223.0  \n",
       "9.289916e+17         68.0              0.0           94.0  "
      ]
     },
     "execution_count": 5,
     "metadata": {},
     "output_type": "execute_result"
    }
   ],
   "source": [
    "twitter_users = pd.read_sql(\"SELECT * FROM twitter_user\", connection)\n",
    "twitter_users = twitter_users.where(twitter_users.match_name.str.len()>6)\\\n",
    "                             .where(~twitter_users.name.str.contains(\"(?i)sehir\"))\\\n",
    "                             .dropna().set_index(\"id\")\n",
    "#         .where(twitter_users.match_ratio>85)\n",
    "twitter_users.sample(5)"
   ]
  },
  {
   "cell_type": "code",
   "execution_count": 6,
   "metadata": {},
   "outputs": [],
   "source": [
    "truncate = lambda x: int(str(int(x))[:9])"
   ]
  },
  {
   "cell_type": "code",
   "execution_count": 7,
   "metadata": {},
   "outputs": [
    {
     "data": {
      "text/html": [
       "<div>\n",
       "<style scoped>\n",
       "    .dataframe tbody tr th:only-of-type {\n",
       "        vertical-align: middle;\n",
       "    }\n",
       "\n",
       "    .dataframe tbody tr th {\n",
       "        vertical-align: top;\n",
       "    }\n",
       "\n",
       "    .dataframe thead th {\n",
       "        text-align: right;\n",
       "    }\n",
       "</style>\n",
       "<table border=\"1\" class=\"dataframe\">\n",
       "  <thead>\n",
       "    <tr style=\"text-align: right;\">\n",
       "      <th></th>\n",
       "      <th>tw_id</th>\n",
       "      <th>name</th>\n",
       "      <th>screen_name</th>\n",
       "      <th>lang</th>\n",
       "      <th>match_name</th>\n",
       "      <th>match_ratio</th>\n",
       "      <th>followers_count</th>\n",
       "      <th>friends_count</th>\n",
       "    </tr>\n",
       "    <tr>\n",
       "      <th>id</th>\n",
       "      <th></th>\n",
       "      <th></th>\n",
       "      <th></th>\n",
       "      <th></th>\n",
       "      <th></th>\n",
       "      <th></th>\n",
       "      <th></th>\n",
       "      <th></th>\n",
       "    </tr>\n",
       "  </thead>\n",
       "  <tbody>\n",
       "    <tr>\n",
       "      <th>504378378</th>\n",
       "      <td>5.043784e+08</td>\n",
       "      <td>Mustafa Zengin</td>\n",
       "      <td>mustafazengins</td>\n",
       "      <td>tr</td>\n",
       "      <td>Mustafa Talip Zengin</td>\n",
       "      <td>76.0</td>\n",
       "      <td>218.0</td>\n",
       "      <td>237.0</td>\n",
       "    </tr>\n",
       "    <tr>\n",
       "      <th>378779702</th>\n",
       "      <td>3.787797e+08</td>\n",
       "      <td>Rukiye YOLDAŞ</td>\n",
       "      <td>rukiyeyolds</td>\n",
       "      <td>tr</td>\n",
       "      <td>Rukiye Aydin</td>\n",
       "      <td>70.0</td>\n",
       "      <td>50.0</td>\n",
       "      <td>62.0</td>\n",
       "    </tr>\n",
       "    <tr>\n",
       "      <th>720976032</th>\n",
       "      <td>7.209760e+08</td>\n",
       "      <td>Bekir G. Çekirge</td>\n",
       "      <td>bahadirbektas61</td>\n",
       "      <td>tr</td>\n",
       "      <td>Ahmet Bahadir Bektas</td>\n",
       "      <td>74.0</td>\n",
       "      <td>139.0</td>\n",
       "      <td>176.0</td>\n",
       "    </tr>\n",
       "    <tr>\n",
       "      <th>427666672</th>\n",
       "      <td>4.276667e+08</td>\n",
       "      <td>Melis</td>\n",
       "      <td>degisiikinsann</td>\n",
       "      <td>tr</td>\n",
       "      <td>! Isif</td>\n",
       "      <td>68.0</td>\n",
       "      <td>614.0</td>\n",
       "      <td>1002.0</td>\n",
       "    </tr>\n",
       "    <tr>\n",
       "      <th>159950817</th>\n",
       "      <td>1.599508e+09</td>\n",
       "      <td>7den70eNano</td>\n",
       "      <td>7den70eNano</td>\n",
       "      <td>tr</td>\n",
       "      <td>! Dekan</td>\n",
       "      <td>54.0</td>\n",
       "      <td>41.0</td>\n",
       "      <td>98.0</td>\n",
       "    </tr>\n",
       "  </tbody>\n",
       "</table>\n",
       "</div>"
      ],
      "text/plain": [
       "                  tw_id              name      screen_name lang  \\\n",
       "id                                                                \n",
       "504378378  5.043784e+08    Mustafa Zengin   mustafazengins   tr   \n",
       "378779702  3.787797e+08     Rukiye YOLDAŞ      rukiyeyolds   tr   \n",
       "720976032  7.209760e+08  Bekir G. Çekirge  bahadirbektas61   tr   \n",
       "427666672  4.276667e+08             Melis   degisiikinsann   tr   \n",
       "159950817  1.599508e+09       7den70eNano      7den70eNano   tr   \n",
       "\n",
       "                     match_name  match_ratio  followers_count  friends_count  \n",
       "id                                                                            \n",
       "504378378  Mustafa Talip Zengin         76.0            218.0          237.0  \n",
       "378779702          Rukiye Aydin         70.0             50.0           62.0  \n",
       "720976032  Ahmet Bahadir Bektas         74.0            139.0          176.0  \n",
       "427666672                ! Isif         68.0            614.0         1002.0  \n",
       "159950817               ! Dekan         54.0             41.0           98.0  "
      ]
     },
     "execution_count": 7,
     "metadata": {},
     "output_type": "execute_result"
    }
   ],
   "source": [
    "resetted = twitter_users.reset_index()\n",
    "index = resetted.id.apply(truncate)\n",
    "resetted.rename(columns={\"id\":\"tw_id\"}, inplace=True)\n",
    "resetted.index = index\n",
    "\n",
    "twitter_users = resetted\n",
    "twitter_users.sample(5)"
   ]
  },
  {
   "cell_type": "code",
   "execution_count": 43,
   "metadata": {},
   "outputs": [],
   "source": [
    "import time"
   ]
  },
  {
   "cell_type": "code",
   "execution_count": 63,
   "metadata": {},
   "outputs": [],
   "source": [
    "def clean(name, min_len=5, junk_replacement=''):\n",
    "    try:\n",
    "        cleaned = unicodedata.normalize('NFKD', name).encode('ascii', 'ignore').lower().decode(\"ascii\")\n",
    "    except TypeError:\n",
    "        return junk_replacement\n",
    "    if len(cleaned) < min_len:\n",
    "        return junk_replacement\n",
    "    return cleaned\n",
    "\n",
    "def get_matches_edit_distance(item, choices, limit, scorer=fuzz.token_sort_ratio):\n",
    "    return process.extract(item, choices, limit=limit, scorer=scorer)\n",
    "counter = 0\n",
    "def get_sehir_twitter_matches(twitter_users, sehir_directory, limit=1):\n",
    "    global fullnames, counter\n",
    "    twitter_user_by_screen_name = twitter_users.set_index('screen_name')\n",
    "    start = time.time()\n",
    "    for screen_name in twitter_users['screen_name']:\n",
    "        twitter_name = twitter_user_by_screen_name.loc[screen_name]['name']\n",
    "        match_name = get_matches_edit_distance(twitter_name, fullnames, limit)\n",
    "        counter += 1\n",
    "        if counter %100 == 0:\n",
    "            print(counter, \"out of \", len(twitter_users))\n",
    "            start_ = time.time()\n",
    "            print(start_-start, \"seconds\")\n",
    "            start = start_\n",
    "        yield (screen_name, match_name)\n",
    "        \n",
    "def filter_matches_by_threshold(matches_dict, threshold=85):\n",
    "    filtered_dict = dict()\n",
    "    for screen_name, matches in matches_dict.items():\n",
    "        filtered = [(match, score) for match, score in matches if score > threshold]\n",
    "        \n",
    "        if filtered:\n",
    "            filtered_dict[screen_name] = filtered\n",
    "        \n",
    "    return filtered_dict\n",
    "\n",
    "def get_matches_dataframe(twitter_users, sehir_directory, threshold=85, limit=1):\n",
    "    matches = {screen_name : match_name for screen_name, match_name in \n",
    "               get_sehir_twitter_matches(twitter_users, sehir_directory, limit=limit)}\n",
    "    \n",
    "    filtered_matches = filter_matches_by_threshold(matches, threshold=threshold)\n",
    "    screen_names = filtered_matches.keys()\n",
    "    return pd.DataFrame({'screen_name': list(screen_names),\n",
    "                         'match_name': [filtered_matches[screen_name] for screen_name in screen_names]})"
   ]
  },
  {
   "cell_type": "code",
   "execution_count": 64,
   "metadata": {},
   "outputs": [],
   "source": [
    "sehir_directory = pd.read_csv('../datasets/contacts.csv', \n",
    "                               encoding = \"ISO-8859-1\", \n",
    "                               usecols=['First Name', 'Last Name', 'Primary Email'])\n",
    "sehir_directory.replace(np.nan, '', regex=True, inplace=True)"
   ]
  },
  {
   "cell_type": "code",
   "execution_count": 65,
   "metadata": {},
   "outputs": [],
   "source": [
    "fullnames = [' '.join(first_last_name).lower() \n",
    "                 for first_last_name in sehir_directory[['First Name', 'Last Name']].values]"
   ]
  },
  {
   "cell_type": "code",
   "execution_count": 66,
   "metadata": {},
   "outputs": [
    {
     "name": "stderr",
     "output_type": "stream",
     "text": [
      "WARNING:root:Applied processor reduces input query to empty string, all comparisons will have score 0. [Query: '.']\n",
      "WARNING:root:Applied processor reduces input query to empty string, all comparisons will have score 0. [Query: '.']\n",
      "WARNING:root:Applied processor reduces input query to empty string, all comparisons will have score 0. [Query: '❌❌❌❌❌❌❌❌❌']\n",
      "WARNING:root:Applied processor reduces input query to empty string, all comparisons will have score 0. [Query: '.']\n",
      "WARNING:root:Applied processor reduces input query to empty string, all comparisons will have score 0. [Query: '♕♡']\n",
      "WARNING:root:Applied processor reduces input query to empty string, all comparisons will have score 0. [Query: '..']\n"
     ]
    },
    {
     "name": "stdout",
     "output_type": "stream",
     "text": [
      "100 out of  2607\n",
      "17.601778984069824 seconds\n",
      "100 out of  2607\n",
      "17.979655981063843 seconds\n",
      "100 out of  2607\n",
      "18.0801682472229 seconds\n",
      "100 out of  2607\n",
      "18.159130811691284 seconds\n",
      "100 out of  2607\n",
      "18.274653673171997 seconds\n",
      "100 out of  2607\n",
      "18.388170957565308 seconds\n",
      "100 out of  2607\n"
     ]
    },
    {
     "name": "stderr",
     "output_type": "stream",
     "text": [
      "WARNING:root:Applied processor reduces input query to empty string, all comparisons will have score 0. [Query: '.']\n"
     ]
    },
    {
     "name": "stdout",
     "output_type": "stream",
     "text": [
      "19.683095455169678 seconds\n",
      "100 out of  2606\n",
      "20.11982250213623 seconds\n"
     ]
    },
    {
     "name": "stderr",
     "output_type": "stream",
     "text": [
      "WARNING:root:Applied processor reduces input query to empty string, all comparisons will have score 0. [Query: '~']\n",
      "WARNING:root:Applied processor reduces input query to empty string, all comparisons will have score 0. [Query: '?']\n",
      "WARNING:root:Applied processor reduces input query to empty string, all comparisons will have score 0. [Query: '-']\n",
      "WARNING:root:Applied processor reduces input query to empty string, all comparisons will have score 0. [Query: '...']\n"
     ]
    },
    {
     "name": "stdout",
     "output_type": "stream",
     "text": [
      "200 out of  2607\n",
      "18.50369381904602 seconds\n",
      "200 out of  2607\n",
      "18.751721382141113 seconds\n",
      "200 out of  2607\n",
      "18.925511598587036 seconds\n",
      "200 out of  2607\n",
      "19.635064601898193 seconds\n",
      "200 out of  2607\n",
      "19.997876405715942 seconds\n",
      "200 out of  2607\n",
      "19.642518043518066 seconds\n",
      "200 out of  2607\n",
      "18.974292993545532 seconds\n",
      "200 out of  2606\n",
      "18.664579153060913 seconds\n"
     ]
    },
    {
     "name": "stderr",
     "output_type": "stream",
     "text": [
      "WARNING:root:Applied processor reduces input query to empty string, all comparisons will have score 0. [Query: '&']\n",
      "WARNING:root:Applied processor reduces input query to empty string, all comparisons will have score 0. [Query: '.']\n"
     ]
    },
    {
     "name": "stdout",
     "output_type": "stream",
     "text": [
      "300 out of  2607\n",
      "18.837618589401245 seconds\n",
      "300 out of  2607\n",
      "18.51528811454773 seconds\n",
      "300 out of  2607\n",
      "18.670929670333862 seconds\n",
      "300 out of  2607\n",
      "18.36874222755432 seconds\n",
      "300 out of  2607\n",
      "18.477618932724 seconds\n"
     ]
    },
    {
     "name": "stderr",
     "output_type": "stream",
     "text": [
      "WARNING:root:Applied processor reduces input query to empty string, all comparisons will have score 0. [Query: '.']\n"
     ]
    },
    {
     "name": "stdout",
     "output_type": "stream",
     "text": [
      "300 out of  2606\n",
      "18.260138988494873 seconds\n",
      "300 out of  2607\n",
      "19.428550004959106 seconds\n"
     ]
    },
    {
     "name": "stderr",
     "output_type": "stream",
     "text": [
      "WARNING:root:Applied processor reduces input query to empty string, all comparisons will have score 0. [Query: '...']\n",
      "WARNING:root:Applied processor reduces input query to empty string, all comparisons will have score 0. [Query: '~']\n"
     ]
    },
    {
     "name": "stdout",
     "output_type": "stream",
     "text": [
      "300 out of  2607\n",
      "19.209506034851074 seconds\n"
     ]
    },
    {
     "name": "stderr",
     "output_type": "stream",
     "text": [
      "WARNING:root:Applied processor reduces input query to empty string, all comparisons will have score 0. [Query: '.']\n",
      "WARNING:root:Applied processor reduces input query to empty string, all comparisons will have score 0. [Query: '🌿']\n",
      "WARNING:root:Applied processor reduces input query to empty string, all comparisons will have score 0. [Query: '.....']\n",
      "WARNING:root:Applied processor reduces input query to empty string, all comparisons will have score 0. [Query: '.']\n",
      "WARNING:root:Applied processor reduces input query to empty string, all comparisons will have score 0. [Query: 'Ⓝⓘⓝⓞ']\n",
      "WARNING:root:Applied processor reduces input query to empty string, all comparisons will have score 0. [Query: '.']\n",
      "WARNING:root:Applied processor reduces input query to empty string, all comparisons will have score 0. [Query: '🦋']\n",
      "WARNING:root:Applied processor reduces input query to empty string, all comparisons will have score 0. [Query: '☾']\n",
      "WARNING:root:Applied processor reduces input query to empty string, all comparisons will have score 0. [Query: '😃']\n",
      "WARNING:root:Applied processor reduces input query to empty string, all comparisons will have score 0. [Query: '.']\n"
     ]
    },
    {
     "name": "stdout",
     "output_type": "stream",
     "text": [
      "400 out of  2607\n",
      "18.26480221748352 seconds\n",
      "400 out of  2607\n",
      "18.251703023910522 seconds\n",
      "400 out of  2607\n",
      "18.222472190856934 seconds\n",
      "400 out of  2607\n",
      "18.77705216407776 seconds\n"
     ]
    },
    {
     "name": "stderr",
     "output_type": "stream",
     "text": [
      "WARNING:root:Applied processor reduces input query to empty string, all comparisons will have score 0. [Query: '.']\n"
     ]
    },
    {
     "name": "stdout",
     "output_type": "stream",
     "text": [
      "400 out of  2607\n",
      "18.791274070739746 seconds\n"
     ]
    },
    {
     "name": "stderr",
     "output_type": "stream",
     "text": [
      "WARNING:root:Applied processor reduces input query to empty string, all comparisons will have score 0. [Query: '-']\n"
     ]
    },
    {
     "name": "stdout",
     "output_type": "stream",
     "text": [
      "400 out of  2607\n",
      "18.942397117614746 seconds\n",
      "400 out of  2606\n",
      "19.048925399780273 seconds\n",
      "400 out of  2607\n",
      "18.55292773246765 seconds\n"
     ]
    },
    {
     "name": "stderr",
     "output_type": "stream",
     "text": [
      "WARNING:root:Applied processor reduces input query to empty string, all comparisons will have score 0. [Query: '.']\n",
      "WARNING:root:Applied processor reduces input query to empty string, all comparisons will have score 0. [Query: '-']\n",
      "WARNING:root:Applied processor reduces input query to empty string, all comparisons will have score 0. [Query: '.']\n",
      "WARNING:root:Applied processor reduces input query to empty string, all comparisons will have score 0. [Query: '.']\n",
      "WARNING:root:Applied processor reduces input query to empty string, all comparisons will have score 0. [Query: '....']\n",
      "WARNING:root:Applied processor reduces input query to empty string, all comparisons will have score 0. [Query: '///////']\n",
      "WARNING:root:Applied processor reduces input query to empty string, all comparisons will have score 0. [Query: '💙']\n"
     ]
    },
    {
     "name": "stdout",
     "output_type": "stream",
     "text": [
      "500 out of  2607\n",
      "19.126152753829956 seconds\n",
      "500 out of  2607\n",
      "18.321242809295654 seconds\n",
      "500 out of  2607\n",
      "19.573856592178345 seconds\n",
      "500 out of  2607\n",
      "19.29475164413452 seconds\n",
      "500 out of  2607\n",
      "19.30411958694458 seconds\n",
      "500 out of  2607\n",
      "18.133468627929688 seconds\n",
      "500 out of  2607\n",
      "18.92292284965515 seconds\n",
      "500 out of  2606\n",
      "18.925984382629395 seconds\n"
     ]
    },
    {
     "name": "stderr",
     "output_type": "stream",
     "text": [
      "WARNING:root:Applied processor reduces input query to empty string, all comparisons will have score 0. [Query: '.']\n",
      "WARNING:root:Applied processor reduces input query to empty string, all comparisons will have score 0. [Query: '☁']\n"
     ]
    },
    {
     "name": "stdout",
     "output_type": "stream",
     "text": [
      "600 out of  2607\n",
      "18.992857217788696 seconds\n",
      "600 out of  2607\n",
      "19.386595010757446 seconds\n",
      "600 out of  2607\n",
      "19.287845373153687 seconds\n",
      "600 out of  2607\n",
      "600 out of  2607\n",
      "19.945143222808838 seconds\n",
      "19.608407258987427 seconds\n"
     ]
    },
    {
     "name": "stderr",
     "output_type": "stream",
     "text": [
      "WARNING:root:Applied processor reduces input query to empty string, all comparisons will have score 0. [Query: '.']\n"
     ]
    },
    {
     "name": "stdout",
     "output_type": "stream",
     "text": [
      "600 out of  2607\n",
      "19.79609775543213 seconds\n"
     ]
    },
    {
     "name": "stderr",
     "output_type": "stream",
     "text": [
      "WARNING:root:Applied processor reduces input query to empty string, all comparisons will have score 0. [Query: '.']\n",
      "WARNING:root:Applied processor reduces input query to empty string, all comparisons will have score 0. [Query: '.']\n"
     ]
    },
    {
     "name": "stdout",
     "output_type": "stream",
     "text": [
      "600 out of  2606\n",
      "19.647539138793945 seconds\n",
      "600 out of  2607\n",
      "19.782474040985107 seconds\n"
     ]
    },
    {
     "name": "stderr",
     "output_type": "stream",
     "text": [
      "WARNING:root:Applied processor reduces input query to empty string, all comparisons will have score 0. [Query: '👁']\n",
      "WARNING:root:Applied processor reduces input query to empty string, all comparisons will have score 0. [Query: '!!!']\n",
      "WARNING:root:Applied processor reduces input query to empty string, all comparisons will have score 0. [Query: '-']\n"
     ]
    },
    {
     "name": "stdout",
     "output_type": "stream",
     "text": [
      "700 out of  2607\n",
      "18.29442834854126 seconds\n",
      "700 out of  2607\n",
      "18.640382289886475 seconds\n",
      "700 out of  2607\n",
      "18.565898418426514 seconds\n",
      "700 out of  2607\n",
      "17.880581378936768 seconds\n",
      "700 out of  2607\n",
      "17.971168518066406 seconds\n",
      "700 out of  2606\n",
      "17.804824590682983 seconds\n",
      "700 out of  2607\n",
      "18.820051670074463 seconds\n",
      "700 out of  2607\n",
      "17.980276107788086 seconds\n"
     ]
    },
    {
     "name": "stderr",
     "output_type": "stream",
     "text": [
      "WARNING:root:Applied processor reduces input query to empty string, all comparisons will have score 0. [Query: '⭐☀']\n",
      "WARNING:root:Applied processor reduces input query to empty string, all comparisons will have score 0. [Query: '.']\n",
      "WARNING:root:Applied processor reduces input query to empty string, all comparisons will have score 0. [Query: '☁']\n",
      "WARNING:root:Applied processor reduces input query to empty string, all comparisons will have score 0. [Query: '..']\n",
      "WARNING:root:Applied processor reduces input query to empty string, all comparisons will have score 0. [Query: '-']\n",
      "WARNING:root:Applied processor reduces input query to empty string, all comparisons will have score 0. [Query: '🌙']\n"
     ]
    },
    {
     "name": "stdout",
     "output_type": "stream",
     "text": [
      "800 out of  2607\n",
      "18.25684094429016 seconds\n",
      "800 out of  2607\n",
      "18.034735202789307 seconds\n",
      "800 out of  2607\n",
      "18.712382316589355 seconds\n",
      "800 out of  2607\n",
      "18.54503083229065 seconds\n",
      "800 out of  2606\n",
      "17.69546604156494 seconds\n"
     ]
    },
    {
     "name": "stderr",
     "output_type": "stream",
     "text": [
      "WARNING:root:Applied processor reduces input query to empty string, all comparisons will have score 0. [Query: '.']\n"
     ]
    },
    {
     "name": "stdout",
     "output_type": "stream",
     "text": [
      "800 out of  2607\n",
      "17.878977298736572 seconds\n",
      "800 out of  2607\n",
      "17.948001623153687 seconds\n",
      "800 out of  2607\n",
      "18.868534803390503 seconds\n"
     ]
    },
    {
     "name": "stderr",
     "output_type": "stream",
     "text": [
      "WARNING:root:Applied processor reduces input query to empty string, all comparisons will have score 0. [Query: '.']\n",
      "WARNING:root:Applied processor reduces input query to empty string, all comparisons will have score 0. [Query: '…']\n",
      "WARNING:root:Applied processor reduces input query to empty string, all comparisons will have score 0. [Query: '.....']\n",
      "WARNING:root:Applied processor reduces input query to empty string, all comparisons will have score 0. [Query: '.....']\n",
      "WARNING:root:Applied processor reduces input query to empty string, all comparisons will have score 0. [Query: '.']\n",
      "WARNING:root:Applied processor reduces input query to empty string, all comparisons will have score 0. [Query: '.']\n"
     ]
    },
    {
     "name": "stdout",
     "output_type": "stream",
     "text": [
      "900 out of  2607\n",
      "18.362433433532715 seconds\n",
      "900 out of  2607\n",
      "17.988468170166016 seconds\n",
      "900 out of  2606\n",
      "18.122073888778687 seconds\n",
      "900 out of  2607\n",
      "18.5509033203125 seconds\n",
      "900 out of  2607\n",
      "18.94234037399292 seconds\n",
      "900 out of  2607\n",
      "18.068663835525513 seconds\n",
      "900 out of  2607\n",
      "17.69741463661194 seconds\n",
      "900 out of  2607\n",
      "19.02702832221985 seconds\n"
     ]
    },
    {
     "name": "stderr",
     "output_type": "stream",
     "text": [
      "WARNING:root:Applied processor reduces input query to empty string, all comparisons will have score 0. [Query: '...']\n",
      "WARNING:root:Applied processor reduces input query to empty string, all comparisons will have score 0. [Query: '.']\n",
      "WARNING:root:Applied processor reduces input query to empty string, all comparisons will have score 0. [Query: '.']\n",
      "WARNING:root:Applied processor reduces input query to empty string, all comparisons will have score 0. [Query: '🌹']\n",
      "WARNING:root:Applied processor reduces input query to empty string, all comparisons will have score 0. [Query: '🐧']\n"
     ]
    },
    {
     "name": "stdout",
     "output_type": "stream",
     "text": [
      "1000 out of  2607\n",
      "18.38359808921814 seconds\n",
      "1000 out of  2606\n",
      "17.752562522888184 seconds\n",
      "1000 out of  2607\n",
      "19.00369930267334 seconds\n",
      "1000 out of  2607\n",
      "18.037434816360474 seconds\n",
      "1000 out of  2607\n",
      "18.46794080734253 seconds\n",
      "1000 out of  2607\n",
      "18.30044674873352 seconds\n"
     ]
    },
    {
     "name": "stderr",
     "output_type": "stream",
     "text": [
      "WARNING:root:Applied processor reduces input query to empty string, all comparisons will have score 0. [Query: '.']\n"
     ]
    },
    {
     "name": "stdout",
     "output_type": "stream",
     "text": [
      "1000 out of  2607\n",
      "19.016515731811523 seconds\n",
      "1000 out of  2607\n",
      "18.63906192779541 seconds\n"
     ]
    },
    {
     "name": "stderr",
     "output_type": "stream",
     "text": [
      "WARNING:root:Applied processor reduces input query to empty string, all comparisons will have score 0. [Query: '🎬☕']\n",
      "WARNING:root:Applied processor reduces input query to empty string, all comparisons will have score 0. [Query: '???']\n",
      "WARNING:root:Applied processor reduces input query to empty string, all comparisons will have score 0. [Query: '✈️']\n",
      "WARNING:root:Applied processor reduces input query to empty string, all comparisons will have score 0. [Query: '.']\n",
      "WARNING:root:Applied processor reduces input query to empty string, all comparisons will have score 0. [Query: '💫']\n"
     ]
    },
    {
     "name": "stdout",
     "output_type": "stream",
     "text": [
      "1100 out of  2607\n",
      "18.264430284500122 seconds\n",
      "1100 out of  2606\n",
      "17.65688991546631 seconds\n"
     ]
    },
    {
     "name": "stderr",
     "output_type": "stream",
     "text": [
      "WARNING:root:Applied processor reduces input query to empty string, all comparisons will have score 0. [Query: '....']\n"
     ]
    },
    {
     "name": "stdout",
     "output_type": "stream",
     "text": [
      "1100 out of  2607\n",
      "17.803961992263794 seconds\n"
     ]
    },
    {
     "name": "stderr",
     "output_type": "stream",
     "text": [
      "WARNING:root:Applied processor reduces input query to empty string, all comparisons will have score 0. [Query: '...']\n"
     ]
    },
    {
     "name": "stdout",
     "output_type": "stream",
     "text": [
      "1100 out of  2607\n",
      "17.918266534805298 seconds\n",
      "1100 out of  2607\n",
      "17.88193941116333 seconds\n",
      "1100 out of  2607\n",
      "18.547052145004272 seconds\n",
      "1100 out of  2607\n",
      "18.834577560424805 seconds\n",
      "1100 out of  2607\n",
      "19.770782232284546 seconds\n"
     ]
    },
    {
     "name": "stderr",
     "output_type": "stream",
     "text": [
      "WARNING:root:Applied processor reduces input query to empty string, all comparisons will have score 0. [Query: '*-*']\n",
      "WARNING:root:Applied processor reduces input query to empty string, all comparisons will have score 0. [Query: '.']\n",
      "WARNING:root:Applied processor reduces input query to empty string, all comparisons will have score 0. [Query: '.']\n",
      "WARNING:root:Applied processor reduces input query to empty string, all comparisons will have score 0. [Query: '.']\n",
      "WARNING:root:Applied processor reduces input query to empty string, all comparisons will have score 0. [Query: '*']\n"
     ]
    },
    {
     "name": "stdout",
     "output_type": "stream",
     "text": [
      "1200 out of  2606\n",
      "17.73782205581665 seconds\n",
      "1200 out of  2607\n",
      "18.32061243057251 seconds\n",
      "1200 out of  2607\n",
      "17.8209331035614 seconds\n",
      "1200 out of  2607\n",
      "18.27237820625305 seconds\n",
      "1200 out of  2607\n",
      "17.820871591567993 seconds\n"
     ]
    },
    {
     "name": "stderr",
     "output_type": "stream",
     "text": [
      "WARNING:root:Applied processor reduces input query to empty string, all comparisons will have score 0. [Query: '......']\n"
     ]
    },
    {
     "name": "stdout",
     "output_type": "stream",
     "text": [
      "1200 out of  2607\n",
      "18.163027048110962 seconds\n",
      "1200 out of  2607\n",
      "19.238821029663086 seconds\n",
      "1200 out of  2607\n",
      "19.123322248458862 seconds\n"
     ]
    },
    {
     "name": "stderr",
     "output_type": "stream",
     "text": [
      "WARNING:root:Applied processor reduces input query to empty string, all comparisons will have score 0. [Query: '🍀']\n",
      "WARNING:root:Applied processor reduces input query to empty string, all comparisons will have score 0. [Query: '.']\n",
      "WARNING:root:Applied processor reduces input query to empty string, all comparisons will have score 0. [Query: '...']\n"
     ]
    },
    {
     "name": "stdout",
     "output_type": "stream",
     "text": [
      "1300 out of  2606\n",
      "18.676377296447754 seconds\n",
      "1300 out of  2607\n",
      "18.389013051986694 seconds\n",
      "1300 out of  2607\n",
      "19.016536712646484 seconds\n"
     ]
    },
    {
     "name": "stderr",
     "output_type": "stream",
     "text": [
      "WARNING:root:Applied processor reduces input query to empty string, all comparisons will have score 0. [Query: '-']\n"
     ]
    },
    {
     "name": "stdout",
     "output_type": "stream",
     "text": [
      "1300 out of  2607\n",
      "19.52384042739868 seconds\n"
     ]
    },
    {
     "name": "stderr",
     "output_type": "stream",
     "text": [
      "WARNING:root:Applied processor reduces input query to empty string, all comparisons will have score 0. [Query: '....']\n"
     ]
    },
    {
     "name": "stdout",
     "output_type": "stream",
     "text": [
      "1300 out of  2607\n",
      "19.061097860336304 seconds\n"
     ]
    },
    {
     "name": "stderr",
     "output_type": "stream",
     "text": [
      "WARNING:root:Applied processor reduces input query to empty string, all comparisons will have score 0. [Query: '🎈']\n"
     ]
    },
    {
     "name": "stdout",
     "output_type": "stream",
     "text": [
      "1300 out of  2607\n",
      "20.062785148620605 seconds\n",
      "1300 out of  2607\n",
      "19.548556804656982 seconds\n",
      "1300 out of  2607\n",
      "19.738104343414307 seconds\n"
     ]
    },
    {
     "name": "stderr",
     "output_type": "stream",
     "text": [
      "WARNING:root:Applied processor reduces input query to empty string, all comparisons will have score 0. [Query: '💙💖💚💛💜']\n",
      "WARNING:root:Applied processor reduces input query to empty string, all comparisons will have score 0. [Query: '']\n",
      "WARNING:root:Applied processor reduces input query to empty string, all comparisons will have score 0. [Query: '.']\n",
      "WARNING:root:Applied processor reduces input query to empty string, all comparisons will have score 0. [Query: '....']\n",
      "WARNING:root:Applied processor reduces input query to empty string, all comparisons will have score 0. [Query: '...']\n",
      "WARNING:root:Applied processor reduces input query to empty string, all comparisons will have score 0. [Query: '.']\n"
     ]
    },
    {
     "name": "stdout",
     "output_type": "stream",
     "text": [
      "1400 out of  2606\n",
      "18.093520641326904 seconds\n"
     ]
    },
    {
     "name": "stderr",
     "output_type": "stream",
     "text": [
      "WARNING:root:Applied processor reduces input query to empty string, all comparisons will have score 0. [Query: '.']\n"
     ]
    },
    {
     "name": "stdout",
     "output_type": "stream",
     "text": [
      "1400 out of  2607\n",
      "18.38483452796936 seconds\n",
      "1400 out of  2607\n",
      "19.21505379676819 seconds\n"
     ]
    },
    {
     "name": "stderr",
     "output_type": "stream",
     "text": [
      "WARNING:root:Applied processor reduces input query to empty string, all comparisons will have score 0. [Query: '...']\n"
     ]
    },
    {
     "name": "stdout",
     "output_type": "stream",
     "text": [
      "1400 out of  2607\n",
      "18.65570306777954 seconds\n",
      "1400 out of  2607\n",
      "18.839444160461426 seconds\n",
      "1400 out of  2607\n",
      "18.88334560394287 seconds\n",
      "1400 out of  2607\n",
      "18.324923038482666 seconds\n",
      "1400 out of  2607\n",
      "19.03600835800171 seconds\n"
     ]
    },
    {
     "name": "stderr",
     "output_type": "stream",
     "text": [
      "WARNING:root:Applied processor reduces input query to empty string, all comparisons will have score 0. [Query: '-']\n",
      "WARNING:root:Applied processor reduces input query to empty string, all comparisons will have score 0. [Query: '.']\n",
      "WARNING:root:Applied processor reduces input query to empty string, all comparisons will have score 0. [Query: '']\n",
      "WARNING:root:Applied processor reduces input query to empty string, all comparisons will have score 0. [Query: '...']\n"
     ]
    },
    {
     "name": "stdout",
     "output_type": "stream",
     "text": [
      "1500 out of  2606\n",
      "19.607434511184692 seconds\n",
      "1500 out of  2607\n",
      "18.03382158279419 seconds\n",
      "1500 out of  2607\n",
      "19.4196994304657 seconds\n",
      "1500 out of  2607\n",
      "18.54140615463257 seconds\n",
      "1500 out of  2607\n",
      "19.13676619529724 seconds\n",
      "1500 out of  2607\n",
      "19.273595571517944 seconds\n"
     ]
    },
    {
     "name": "stderr",
     "output_type": "stream",
     "text": [
      "WARNING:root:Applied processor reduces input query to empty string, all comparisons will have score 0. [Query: '...']\n"
     ]
    },
    {
     "name": "stdout",
     "output_type": "stream",
     "text": [
      "1500 out of  2607\n",
      "18.39806890487671 seconds\n",
      "1500 out of  2607\n",
      "18.48033356666565 seconds\n"
     ]
    },
    {
     "name": "stderr",
     "output_type": "stream",
     "text": [
      "WARNING:root:Applied processor reduces input query to empty string, all comparisons will have score 0. [Query: ',']\n",
      "WARNING:root:Applied processor reduces input query to empty string, all comparisons will have score 0. [Query: '•']\n",
      "WARNING:root:Applied processor reduces input query to empty string, all comparisons will have score 0. [Query: ':::']\n"
     ]
    },
    {
     "name": "stdout",
     "output_type": "stream",
     "text": [
      "1600 out of  2607\n",
      "18.585228443145752 seconds\n",
      "1600 out of  2606\n",
      "18.985143184661865 seconds\n",
      "1600 out of  2607\n",
      "18.750675916671753 seconds\n",
      "1600 out of  2607\n",
      "18.879899501800537 seconds\n",
      "1600 out of  2607\n",
      "18.837127447128296 seconds\n",
      "1600 out of  2607\n",
      "18.498170375823975 seconds\n",
      "1600 out of  2607\n",
      "18.89079976081848 seconds\n",
      "1600 out of  2607\n",
      "18.687073469161987 seconds\n"
     ]
    },
    {
     "name": "stderr",
     "output_type": "stream",
     "text": [
      "WARNING:root:Applied processor reduces input query to empty string, all comparisons will have score 0. [Query: '📎📝']\n",
      "WARNING:root:Applied processor reduces input query to empty string, all comparisons will have score 0. [Query: '&']\n",
      "WARNING:root:Applied processor reduces input query to empty string, all comparisons will have score 0. [Query: '🌍']\n",
      "WARNING:root:Applied processor reduces input query to empty string, all comparisons will have score 0. [Query: '.']\n",
      "WARNING:root:Applied processor reduces input query to empty string, all comparisons will have score 0. [Query: '---']\n",
      "WARNING:root:Applied processor reduces input query to empty string, all comparisons will have score 0. [Query: '.']\n"
     ]
    },
    {
     "name": "stdout",
     "output_type": "stream",
     "text": [
      "1700 out of  2607\n",
      "18.626246690750122 seconds\n",
      "1700 out of  2607\n",
      "18.618980407714844 seconds\n",
      "1700 out of  2606\n",
      "19.01197600364685 seconds\n",
      "1700 out of  2607\n",
      "18.467183351516724 seconds\n",
      "1700 out of  2607\n",
      "17.80379319190979 seconds\n",
      "1700 out of  2607\n",
      "18.49267816543579 seconds\n"
     ]
    },
    {
     "name": "stderr",
     "output_type": "stream",
     "text": [
      "WARNING:root:Applied processor reduces input query to empty string, all comparisons will have score 0. [Query: '•']\n"
     ]
    },
    {
     "name": "stdout",
     "output_type": "stream",
     "text": [
      "1700 out of  2607\n",
      "18.246891736984253 seconds\n",
      "1700 out of  2607\n",
      "19.62067437171936 seconds\n"
     ]
    },
    {
     "name": "stderr",
     "output_type": "stream",
     "text": [
      "WARNING:root:Applied processor reduces input query to empty string, all comparisons will have score 0. [Query: '.']\n"
     ]
    },
    {
     "name": "stdout",
     "output_type": "stream",
     "text": [
      "1800 out of  2607\n",
      "17.893614530563354 seconds\n",
      "1800 out of  2606\n",
      "17.991312742233276 seconds\n",
      "1800 out of  2607\n",
      "19.095197200775146 seconds\n",
      "1800 out of  2607\n",
      "18.94851565361023 seconds\n",
      "1800 out of  2607\n",
      "18.780385494232178 seconds\n",
      "1800 out of  2607\n",
      "19.191673517227173 seconds\n",
      "1800 out of  2607\n",
      "18.462826013565063 seconds\n"
     ]
    },
    {
     "name": "stderr",
     "output_type": "stream",
     "text": [
      "WARNING:root:Applied processor reduces input query to empty string, all comparisons will have score 0. [Query: '.']\n"
     ]
    },
    {
     "name": "stdout",
     "output_type": "stream",
     "text": [
      "1800 out of  2607\n",
      "18.867945194244385 seconds\n"
     ]
    },
    {
     "name": "stderr",
     "output_type": "stream",
     "text": [
      "WARNING:root:Applied processor reduces input query to empty string, all comparisons will have score 0. [Query: '.']\n",
      "WARNING:root:Applied processor reduces input query to empty string, all comparisons will have score 0. [Query: '.']\n",
      "WARNING:root:Applied processor reduces input query to empty string, all comparisons will have score 0. [Query: ':-)']\n",
      "WARNING:root:Applied processor reduces input query to empty string, all comparisons will have score 0. [Query: '.']\n"
     ]
    },
    {
     "name": "stdout",
     "output_type": "stream",
     "text": [
      "1900 out of  2607\n",
      "18.4413104057312 seconds\n"
     ]
    },
    {
     "name": "stderr",
     "output_type": "stream",
     "text": [
      "WARNING:root:Applied processor reduces input query to empty string, all comparisons will have score 0. [Query: '🌦🌦🌦']\n"
     ]
    },
    {
     "name": "stdout",
     "output_type": "stream",
     "text": [
      "1900 out of  2606\n",
      "19.19005513191223 seconds\n",
      "1900 out of  2607\n",
      "18.829771757125854 seconds\n",
      "1900 out of  2607\n",
      "18.905718088150024 seconds\n",
      "1900 out of  2607\n",
      "18.583195686340332 seconds\n",
      "1900 out of  2607\n",
      "18.701343536376953 seconds\n",
      "1900 out of  2607\n",
      "19.351768970489502 seconds\n",
      "1900 out of  2607\n",
      "18.88402223587036 seconds\n"
     ]
    },
    {
     "name": "stderr",
     "output_type": "stream",
     "text": [
      "WARNING:root:Applied processor reduces input query to empty string, all comparisons will have score 0. [Query: '🍎']\n"
     ]
    },
    {
     "name": "stdout",
     "output_type": "stream",
     "text": [
      "2000 out of  2607\n",
      "18.555516481399536 seconds\n",
      "2000 out of  2606\n",
      "18.16269087791443 seconds\n",
      "2000 out of  2607\n",
      "18.31580877304077 seconds\n",
      "2000 out of  2607\n",
      "18.696837186813354 seconds\n"
     ]
    },
    {
     "name": "stderr",
     "output_type": "stream",
     "text": [
      "WARNING:root:Applied processor reduces input query to empty string, all comparisons will have score 0. [Query: '?']\n"
     ]
    },
    {
     "name": "stdout",
     "output_type": "stream",
     "text": [
      "2000 out of  2607\n",
      "17.898046493530273 seconds\n",
      "2000 out of  2607\n",
      "18.790157556533813 seconds\n",
      "2000 out of  2607\n",
      "18.824148416519165 seconds\n"
     ]
    },
    {
     "name": "stderr",
     "output_type": "stream",
     "text": [
      "WARNING:root:Applied processor reduces input query to empty string, all comparisons will have score 0. [Query: '🎼🎵🎶🎵🎼🎵🎶']\n"
     ]
    },
    {
     "name": "stdout",
     "output_type": "stream",
     "text": [
      "2000 out of  2607\n",
      "18.572276830673218 seconds\n",
      "2100 out of  2607\n",
      "18.479661226272583 seconds\n",
      "2100 out of  2606\n",
      "18.591996431350708 seconds\n",
      "2100 out of  2607\n",
      "18.394065618515015 seconds\n"
     ]
    },
    {
     "name": "stderr",
     "output_type": "stream",
     "text": [
      "WARNING:root:Applied processor reduces input query to empty string, all comparisons will have score 0. [Query: '.']\n"
     ]
    },
    {
     "name": "stdout",
     "output_type": "stream",
     "text": [
      "2100 out of  2607\n",
      "18.918586254119873 seconds\n",
      "2100 out of  2607\n",
      "18.782835483551025 seconds\n",
      "2100 out of  2607\n",
      "18.988621950149536 seconds\n",
      "2100 out of  2607\n",
      "19.08047127723694 seconds\n",
      "2100 out of  2607\n",
      "19.178890466690063 seconds\n"
     ]
    },
    {
     "name": "stderr",
     "output_type": "stream",
     "text": [
      "WARNING:root:Applied processor reduces input query to empty string, all comparisons will have score 0. [Query: '@**!!#:']\n",
      "WARNING:root:Applied processor reduces input query to empty string, all comparisons will have score 0. [Query: '.']\n"
     ]
    },
    {
     "name": "stdout",
     "output_type": "stream",
     "text": [
      "2200 out of  2607\n",
      "19.33840298652649 seconds\n",
      "2200 out of  2606\n",
      "19.712522268295288 seconds\n"
     ]
    },
    {
     "name": "stderr",
     "output_type": "stream",
     "text": [
      "WARNING:root:Applied processor reduces input query to empty string, all comparisons will have score 0. [Query: '☁']\n"
     ]
    },
    {
     "name": "stdout",
     "output_type": "stream",
     "text": [
      "2200 out of  2607\n",
      "19.993552684783936 seconds\n",
      "2200 out of  2607\n",
      "19.881781101226807 seconds\n",
      "2200 out of  2607\n",
      "19.311137676239014 seconds\n",
      "2200 out of  2607\n",
      "19.12686252593994 seconds\n",
      "2200 out of  2607\n",
      "20.547650814056396 seconds\n"
     ]
    },
    {
     "name": "stderr",
     "output_type": "stream",
     "text": [
      "WARNING:root:Applied processor reduces input query to empty string, all comparisons will have score 0. [Query: '🇴 🇸 🇲 🇦 🇳']\n"
     ]
    },
    {
     "name": "stdout",
     "output_type": "stream",
     "text": [
      "2200 out of  2607\n",
      "19.813966989517212 seconds\n"
     ]
    },
    {
     "name": "stderr",
     "output_type": "stream",
     "text": [
      "WARNING:root:Applied processor reduces input query to empty string, all comparisons will have score 0. [Query: '.']\n"
     ]
    },
    {
     "name": "stdout",
     "output_type": "stream",
     "text": [
      "2300 out of  2607\n",
      "18.960391759872437 seconds\n",
      "2300 out of  2606\n",
      "18.4914231300354 seconds\n"
     ]
    },
    {
     "name": "stderr",
     "output_type": "stream",
     "text": [
      "WARNING:root:Applied processor reduces input query to empty string, all comparisons will have score 0. [Query: '-']\n"
     ]
    },
    {
     "name": "stdout",
     "output_type": "stream",
     "text": [
      "2300 out of  2607\n",
      "19.177921533584595 seconds\n",
      "2300 out of  2607\n",
      "19.451819896697998 seconds\n",
      "2300 out of  2607\n",
      "19.37364673614502 seconds\n",
      "2300 out of  2607\n",
      "18.622823476791382 seconds\n",
      "2300 out of  2607\n",
      "19.29547381401062 seconds\n",
      "2300 out of  2607\n",
      "20.072364330291748 seconds\n",
      "2400 out of  2606\n",
      "18.099098920822144 seconds\n",
      "2400 out of  2607\n",
      "18.786582231521606 seconds\n",
      "2400 out of  2607\n",
      "19.119632959365845 seconds\n",
      "2400 out of  2607\n",
      "18.411205291748047 seconds\n",
      "2400 out of  2607\n",
      "19.12824034690857 seconds\n",
      "2400 out of  2607\n",
      "18.94279146194458 seconds\n",
      "2400 out of  2607\n",
      "19.39888620376587 seconds\n",
      "2400 out of  2607\n",
      "19.009617567062378 seconds\n"
     ]
    },
    {
     "name": "stderr",
     "output_type": "stream",
     "text": [
      "WARNING:root:Applied processor reduces input query to empty string, all comparisons will have score 0. [Query: '....']\n",
      "WARNING:root:Applied processor reduces input query to empty string, all comparisons will have score 0. [Query: '']\n",
      "WARNING:root:Applied processor reduces input query to empty string, all comparisons will have score 0. [Query: '...']\n",
      "WARNING:root:Applied processor reduces input query to empty string, all comparisons will have score 0. [Query: '..']\n"
     ]
    },
    {
     "name": "stdout",
     "output_type": "stream",
     "text": [
      "2500 out of  2607\n",
      "18.21216058731079 seconds\n",
      "2500 out of  2606\n",
      "18.455554485321045 seconds\n"
     ]
    },
    {
     "name": "stderr",
     "output_type": "stream",
     "text": [
      "WARNING:root:Applied processor reduces input query to empty string, all comparisons will have score 0. [Query: '.']\n",
      "WARNING:root:Applied processor reduces input query to empty string, all comparisons will have score 0. [Query: '🤸🏻‍♀️']\n"
     ]
    },
    {
     "name": "stdout",
     "output_type": "stream",
     "text": [
      "2500 out of  2607\n",
      "19.55046534538269 seconds\n"
     ]
    },
    {
     "name": "stderr",
     "output_type": "stream",
     "text": [
      "WARNING:root:Applied processor reduces input query to empty string, all comparisons will have score 0. [Query: '✨']\n"
     ]
    },
    {
     "name": "stdout",
     "output_type": "stream",
     "text": [
      "2500 out of  2607\n",
      "18.540338039398193 seconds\n",
      "2500 out of  2607\n",
      "18.581695556640625 seconds\n"
     ]
    },
    {
     "name": "stderr",
     "output_type": "stream",
     "text": [
      "WARNING:root:Applied processor reduces input query to empty string, all comparisons will have score 0. [Query: '🐡']\n"
     ]
    },
    {
     "name": "stdout",
     "output_type": "stream",
     "text": [
      "2500 out of  2607\n",
      "19.281773328781128 seconds\n",
      "2500 out of  2607\n",
      "18.590744018554688 seconds\n"
     ]
    },
    {
     "name": "stderr",
     "output_type": "stream",
     "text": [
      "WARNING:root:Applied processor reduces input query to empty string, all comparisons will have score 0. [Query: '......']\n",
      "WARNING:root:Applied processor reduces input query to empty string, all comparisons will have score 0. [Query: '.']\n"
     ]
    },
    {
     "name": "stdout",
     "output_type": "stream",
     "text": [
      "2500 out of  2607\n",
      "19.140007734298706 seconds\n"
     ]
    },
    {
     "name": "stderr",
     "output_type": "stream",
     "text": [
      "WARNING:root:Applied processor reduces input query to empty string, all comparisons will have score 0. [Query: '.']\n",
      "WARNING:root:Applied processor reduces input query to empty string, all comparisons will have score 0. [Query: '...']\n",
      "WARNING:root:Applied processor reduces input query to empty string, all comparisons will have score 0. [Query: '-']\n",
      "WARNING:root:Applied processor reduces input query to empty string, all comparisons will have score 0. [Query: '.....']\n",
      "WARNING:root:Applied processor reduces input query to empty string, all comparisons will have score 0. [Query: '.......']\n",
      "WARNING:root:Applied processor reduces input query to empty string, all comparisons will have score 0. [Query: '.']\n"
     ]
    },
    {
     "name": "stdout",
     "output_type": "stream",
     "text": [
      "2600 out of  2606\n",
      "19.329821586608887 seconds\n",
      "2600 out of  2607\n",
      "19.440301179885864 seconds\n"
     ]
    },
    {
     "name": "stderr",
     "output_type": "stream",
     "text": [
      "WARNING:root:Applied processor reduces input query to empty string, all comparisons will have score 0. [Query: '◼️']\n"
     ]
    },
    {
     "name": "stdout",
     "output_type": "stream",
     "text": [
      "2600 out of  2607\n",
      "18.718732595443726 seconds\n",
      "2600 out of  2607\n",
      "18.349258184432983 seconds\n"
     ]
    },
    {
     "name": "stderr",
     "output_type": "stream",
     "text": [
      "WARNING:root:Applied processor reduces input query to empty string, all comparisons will have score 0. [Query: '.']\n"
     ]
    },
    {
     "name": "stdout",
     "output_type": "stream",
     "text": [
      "2600 out of  2607\n",
      "19.233174324035645 seconds\n",
      "2600 out of  2607\n",
      "18.336395740509033 seconds\n",
      "2600 out of  2607\n",
      "17.82541561126709 seconds\n",
      "2600 out of  2607\n",
      "16.10215926170349 seconds\n",
      "took:  491.66715931892395\n"
     ]
    }
   ],
   "source": [
    "start = time.time()\n",
    "sehir_matches = Parallel(n_jobs=-1)(delayed(get_matches_dataframe)(\n",
    "    twitter_users[int(i*(len(twitter_users)/8)):int((i+1)*(len(twitter_users)/8))],\n",
    "    sehir_directory) for i in range(8))\n",
    "print(\"took: \", time.time()-start)"
   ]
  },
  {
   "cell_type": "code",
   "execution_count": 69,
   "metadata": {},
   "outputs": [
    {
     "name": "stdout",
     "output_type": "stream",
     "text": [
      "There are 2089 matches\n"
     ]
    },
    {
     "data": {
      "text/html": [
       "<div>\n",
       "<style scoped>\n",
       "    .dataframe tbody tr th:only-of-type {\n",
       "        vertical-align: middle;\n",
       "    }\n",
       "\n",
       "    .dataframe tbody tr th {\n",
       "        vertical-align: top;\n",
       "    }\n",
       "\n",
       "    .dataframe thead th {\n",
       "        text-align: right;\n",
       "    }\n",
       "</style>\n",
       "<table border=\"1\" class=\"dataframe\">\n",
       "  <thead>\n",
       "    <tr style=\"text-align: right;\">\n",
       "      <th></th>\n",
       "      <th>match_name</th>\n",
       "      <th>screen_name</th>\n",
       "    </tr>\n",
       "  </thead>\n",
       "  <tbody>\n",
       "    <tr>\n",
       "      <th>1117</th>\n",
       "      <td>[(sinan yavuz, 100)]</td>\n",
       "      <td>Sinan53Yavuz</td>\n",
       "    </tr>\n",
       "    <tr>\n",
       "      <th>1196</th>\n",
       "      <td>[(zeynep ulusan, 92)]</td>\n",
       "      <td>UlusalZ</td>\n",
       "    </tr>\n",
       "    <tr>\n",
       "      <th>784</th>\n",
       "      <td>[(yasir bali, 90)]</td>\n",
       "      <td>A_AliJnr</td>\n",
       "    </tr>\n",
       "    <tr>\n",
       "      <th>754</th>\n",
       "      <td>[(fatma seker, 86)]</td>\n",
       "      <td>FatimaFtmanur</td>\n",
       "    </tr>\n",
       "    <tr>\n",
       "      <th>1885</th>\n",
       "      <td>[(gulcin kayhan, 96)]</td>\n",
       "      <td>GulinKayhan</td>\n",
       "    </tr>\n",
       "  </tbody>\n",
       "</table>\n",
       "</div>"
      ],
      "text/plain": [
       "                 match_name    screen_name\n",
       "1117   [(sinan yavuz, 100)]   Sinan53Yavuz\n",
       "1196  [(zeynep ulusan, 92)]        UlusalZ\n",
       "784      [(yasir bali, 90)]       A_AliJnr\n",
       "754     [(fatma seker, 86)]  FatimaFtmanur\n",
       "1885  [(gulcin kayhan, 96)]    GulinKayhan"
      ]
     },
     "execution_count": 69,
     "metadata": {},
     "output_type": "execute_result"
    }
   ],
   "source": [
    "sehir_matches_df = pd.concat(sehir_matches)\n",
    "sehir_matches_df.index = range(len(sehir_matches_df))\n",
    "print(\"There are {} matches\".format(len(sehir_matches_df)))\n",
    "sehir_matches_df.sample(5)"
   ]
  },
  {
   "cell_type": "code",
   "execution_count": 70,
   "metadata": {},
   "outputs": [
    {
     "data": {
      "text/html": [
       "<div>\n",
       "<style scoped>\n",
       "    .dataframe tbody tr th:only-of-type {\n",
       "        vertical-align: middle;\n",
       "    }\n",
       "\n",
       "    .dataframe tbody tr th {\n",
       "        vertical-align: top;\n",
       "    }\n",
       "\n",
       "    .dataframe thead th {\n",
       "        text-align: right;\n",
       "    }\n",
       "</style>\n",
       "<table border=\"1\" class=\"dataframe\">\n",
       "  <thead>\n",
       "    <tr style=\"text-align: right;\">\n",
       "      <th></th>\n",
       "      <th>match_name</th>\n",
       "      <th>screen_name</th>\n",
       "    </tr>\n",
       "  </thead>\n",
       "  <tbody>\n",
       "    <tr>\n",
       "      <th>660</th>\n",
       "      <td>omer can</td>\n",
       "      <td>mertcantwitt</td>\n",
       "    </tr>\n",
       "    <tr>\n",
       "      <th>542</th>\n",
       "      <td>esra balanli</td>\n",
       "      <td>balanli_esra</td>\n",
       "    </tr>\n",
       "    <tr>\n",
       "      <th>786</th>\n",
       "      <td>mehmet demir</td>\n",
       "      <td>mdemir_61</td>\n",
       "    </tr>\n",
       "    <tr>\n",
       "      <th>1628</th>\n",
       "      <td>aysel mutlu</td>\n",
       "      <td>Ayse__Mutlu</td>\n",
       "    </tr>\n",
       "    <tr>\n",
       "      <th>1502</th>\n",
       "      <td>! tarih</td>\n",
       "      <td>tarihdergi</td>\n",
       "    </tr>\n",
       "    <tr>\n",
       "      <th>109</th>\n",
       "      <td>omer faruk karakaya</td>\n",
       "      <td>KarakulaOmer</td>\n",
       "    </tr>\n",
       "    <tr>\n",
       "      <th>1315</th>\n",
       "      <td>seyma arslan</td>\n",
       "      <td>eseyman</td>\n",
       "    </tr>\n",
       "    <tr>\n",
       "      <th>1109</th>\n",
       "      <td>elyesa turgut</td>\n",
       "      <td>elyesaturgut</td>\n",
       "    </tr>\n",
       "    <tr>\n",
       "      <th>864</th>\n",
       "      <td>abdullah mursel</td>\n",
       "      <td>AbdullahMursel</td>\n",
       "    </tr>\n",
       "    <tr>\n",
       "      <th>1970</th>\n",
       "      <td>abdurrahman yavuz</td>\n",
       "      <td>ayvz25</td>\n",
       "    </tr>\n",
       "  </tbody>\n",
       "</table>\n",
       "</div>"
      ],
      "text/plain": [
       "               match_name     screen_name\n",
       "660              omer can    mertcantwitt\n",
       "542          esra balanli    balanli_esra\n",
       "786          mehmet demir       mdemir_61\n",
       "1628          aysel mutlu     Ayse__Mutlu\n",
       "1502              ! tarih      tarihdergi\n",
       "109   omer faruk karakaya    KarakulaOmer\n",
       "1315         seyma arslan         eseyman\n",
       "1109        elyesa turgut    elyesaturgut\n",
       "864       abdullah mursel  AbdullahMursel\n",
       "1970    abdurrahman yavuz          ayvz25"
      ]
     },
     "execution_count": 70,
     "metadata": {},
     "output_type": "execute_result"
    }
   ],
   "source": [
    "sehir_matches_df.match_name = sehir_matches_df.match_name.apply(lambda x: x[0][0])\n",
    "sehir_matches_df.sample(10)"
   ]
  },
  {
   "cell_type": "code",
   "execution_count": 87,
   "metadata": {},
   "outputs": [],
   "source": [
    "tu=twitter_users.drop([\"match_name\",\"match_ratio\"], axis=1)"
   ]
  },
  {
   "cell_type": "code",
   "execution_count": 110,
   "metadata": {},
   "outputs": [
    {
     "data": {
      "text/html": [
       "<div>\n",
       "<style scoped>\n",
       "    .dataframe tbody tr th:only-of-type {\n",
       "        vertical-align: middle;\n",
       "    }\n",
       "\n",
       "    .dataframe tbody tr th {\n",
       "        vertical-align: top;\n",
       "    }\n",
       "\n",
       "    .dataframe thead th {\n",
       "        text-align: right;\n",
       "    }\n",
       "</style>\n",
       "<table border=\"1\" class=\"dataframe\">\n",
       "  <thead>\n",
       "    <tr style=\"text-align: right;\">\n",
       "      <th></th>\n",
       "      <th>match_name</th>\n",
       "      <th>screen_name</th>\n",
       "      <th>tw_id</th>\n",
       "      <th>name</th>\n",
       "      <th>lang</th>\n",
       "      <th>followers_count</th>\n",
       "      <th>friends_count</th>\n",
       "    </tr>\n",
       "    <tr>\n",
       "      <th>tw_id</th>\n",
       "      <th></th>\n",
       "      <th></th>\n",
       "      <th></th>\n",
       "      <th></th>\n",
       "      <th></th>\n",
       "      <th></th>\n",
       "      <th></th>\n",
       "    </tr>\n",
       "  </thead>\n",
       "  <tbody>\n",
       "    <tr>\n",
       "      <th>291820987</th>\n",
       "      <td>serkan akcay</td>\n",
       "      <td>serkankocaa</td>\n",
       "      <td>2.918210e+09</td>\n",
       "      <td>Serkan KOCA</td>\n",
       "      <td>tr</td>\n",
       "      <td>1042.0</td>\n",
       "      <td>707.0</td>\n",
       "    </tr>\n",
       "    <tr>\n",
       "      <th>249663199</th>\n",
       "      <td>derya guven</td>\n",
       "      <td>deryaguvenn</td>\n",
       "      <td>2.496632e+09</td>\n",
       "      <td>Derya Güven</td>\n",
       "      <td>tr</td>\n",
       "      <td>88.0</td>\n",
       "      <td>125.0</td>\n",
       "    </tr>\n",
       "    <tr>\n",
       "      <th>147551716</th>\n",
       "      <td>samet sevgi</td>\n",
       "      <td>SametSvg</td>\n",
       "      <td>1.475517e+09</td>\n",
       "      <td>Samet Sevgi</td>\n",
       "      <td>en</td>\n",
       "      <td>13.0</td>\n",
       "      <td>72.0</td>\n",
       "    </tr>\n",
       "    <tr>\n",
       "      <th>306589073</th>\n",
       "      <td>ayhan yilmaz</td>\n",
       "      <td>TweetAyhan</td>\n",
       "      <td>3.065891e+09</td>\n",
       "      <td>Ayhan Yilmaz</td>\n",
       "      <td>en</td>\n",
       "      <td>35.0</td>\n",
       "      <td>289.0</td>\n",
       "    </tr>\n",
       "    <tr>\n",
       "      <th>233713046</th>\n",
       "      <td>merve kandemir</td>\n",
       "      <td>Mrve_Dmr1453</td>\n",
       "      <td>2.337130e+09</td>\n",
       "      <td>Merve Demir</td>\n",
       "      <td>tr</td>\n",
       "      <td>46.0</td>\n",
       "      <td>317.0</td>\n",
       "    </tr>\n",
       "  </tbody>\n",
       "</table>\n",
       "</div>"
      ],
      "text/plain": [
       "               match_name   screen_name         tw_id          name lang  \\\n",
       "tw_id                                                                      \n",
       "291820987    serkan akcay   serkankocaa  2.918210e+09   Serkan KOCA   tr   \n",
       "249663199     derya guven   deryaguvenn  2.496632e+09   Derya Güven   tr   \n",
       "147551716     samet sevgi      SametSvg  1.475517e+09   Samet Sevgi   en   \n",
       "306589073    ayhan yilmaz    TweetAyhan  3.065891e+09  Ayhan Yilmaz   en   \n",
       "233713046  merve kandemir  Mrve_Dmr1453  2.337130e+09   Merve Demir   tr   \n",
       "\n",
       "           followers_count  friends_count  \n",
       "tw_id                                      \n",
       "291820987           1042.0          707.0  \n",
       "249663199             88.0          125.0  \n",
       "147551716             13.0           72.0  \n",
       "306589073             35.0          289.0  \n",
       "233713046             46.0          317.0  "
      ]
     },
     "execution_count": 110,
     "metadata": {},
     "output_type": "execute_result"
    }
   ],
   "source": [
    "twitter_users = sehir_matches_df.merge(tu, on=\"screen_name\")\n",
    "index = twitter_users.tw_id.apply(truncate)\n",
    "twitter_users.index = index\n",
    "twitter_users.sample(5)"
   ]
  },
  {
   "cell_type": "code",
   "execution_count": 111,
   "metadata": {},
   "outputs": [],
   "source": [
    "twitter_users.to_csv(\"../datasets/twitter_users.csv\", index_label=\"id\")"
   ]
  },
  {
   "cell_type": "markdown",
   "metadata": {},
   "source": [
    "## Construct the network"
   ]
  },
  {
   "cell_type": "code",
   "execution_count": 112,
   "metadata": {},
   "outputs": [],
   "source": [
    "G = nx.DiGraph()\n",
    "for _, row in user_connections.iterrows():\n",
    "    from_ = truncate(row[\"from_user_id\"])\n",
    "    to = truncate(row[\"to_user_id\"])\n",
    "    if from_ in twitter_users.index and to in twitter_users.index:\n",
    "        G.add_edge(from_, to)"
   ]
  },
  {
   "cell_type": "code",
   "execution_count": 113,
   "metadata": {},
   "outputs": [],
   "source": [
    "import unicodedata\n",
    "augs = [\"name\", \"screen_name\",\"match_name\", \"followers_count\",\"friends_count\"]\n",
    "for node in G.nodes():\n",
    "    user = twitter_users.loc[node]\n",
    "    for aug in augs:\n",
    "        if type(user[aug])==str:\n",
    "            m = clean(user[aug])\n",
    "        else:\n",
    "            m = user[aug]\n",
    "        G.nodes[node][aug] = m"
   ]
  },
  {
   "cell_type": "code",
   "execution_count": 114,
   "metadata": {},
   "outputs": [
    {
     "data": {
      "text/plain": [
       "238"
      ]
     },
     "execution_count": 114,
     "metadata": {},
     "output_type": "execute_result"
    }
   ],
   "source": [
    "len(G.nodes())"
   ]
  },
  {
   "cell_type": "code",
   "execution_count": 115,
   "metadata": {},
   "outputs": [
    {
     "data": {
      "text/plain": [
       "291"
      ]
     },
     "execution_count": 115,
     "metadata": {},
     "output_type": "execute_result"
    }
   ],
   "source": [
    "len(G.edges())"
   ]
  },
  {
   "cell_type": "code",
   "execution_count": 116,
   "metadata": {},
   "outputs": [],
   "source": [
    "for ix,deg in G.degree(G.nodes()):\n",
    "    G.node[ix]['degree'] = deg\n",
    "    G.node[ix]['parity'] = (1-deg%2)\n",
    "    \n",
    "for ix,in_deg in G.in_degree(G.nodes()):\n",
    "    G.node[ix]['in_degree'] = in_deg\n",
    "    \n",
    "for ix,out_deg in G.out_degree(G.nodes()):\n",
    "    G.node[ix]['out_degree'] = out_deg"
   ]
  },
  {
   "cell_type": "code",
   "execution_count": 117,
   "metadata": {},
   "outputs": [],
   "source": [
    "evc = nx.eigenvector_centrality(G)\n",
    "closeness = nx.closeness_centrality(G)\n",
    "betweenness = nx.betweenness_centrality(G)\n",
    "pagerank = nx.pagerank(G)"
   ]
  },
  {
   "cell_type": "code",
   "execution_count": 118,
   "metadata": {},
   "outputs": [],
   "source": [
    "metrics = {\"eigenvector_centrality\":evc,\n",
    "           \"closeness_centrality\":closeness,\n",
    "          \"betweenness\":betweenness,\n",
    "          \"pagerank\":pagerank}"
   ]
  },
  {
   "cell_type": "code",
   "execution_count": 125,
   "metadata": {},
   "outputs": [],
   "source": [
    "for metric_name, metric in metrics.items():\n",
    "    for ix,v in metric.items():\n",
    "        G.nodes[ix][metric_name] = v"
   ]
  },
  {
   "cell_type": "code",
   "execution_count": 130,
   "metadata": {},
   "outputs": [
    {
     "data": {
      "text/plain": [
       "{'betweenness': 0.0,\n",
       " 'closeness_centrality': 0.0,\n",
       " 'degree': 1,\n",
       " 'eigenvector_centrality': 8.290679621515326e-35,\n",
       " 'followers_count': 71.0,\n",
       " 'friends_count': 310.0,\n",
       " 'in_degree': 0,\n",
       " 'match_name': 'ayhan turkoglu',\n",
       " 'name': 'talha turkoglu',\n",
       " 'out_degree': 1,\n",
       " 'pagerank': 0.0008750669358888037,\n",
       " 'parity': 0,\n",
       " 'screen_name': 'talha_turkoglu'}"
      ]
     },
     "execution_count": 130,
     "metadata": {},
     "output_type": "execute_result"
    }
   ],
   "source": [
    "G.nodes[595297280]"
   ]
  },
  {
   "cell_type": "code",
   "execution_count": 120,
   "metadata": {},
   "outputs": [
    {
     "data": {
      "text/plain": [
       "(595297280,\n",
       " {'betweenness': 0.0,\n",
       "  'closeness_centrality': 0.0,\n",
       "  'degree': 1,\n",
       "  'eigenvector_centrality': 8.290679621515326e-35,\n",
       "  'followers_count': 71.0,\n",
       "  'friends_count': 310.0,\n",
       "  'in_degree': 0,\n",
       "  'match_name': 'ayhan turkoglu',\n",
       "  'name': 'talha turkoglu',\n",
       "  'out_degree': 1,\n",
       "  'pagerank': 0.0008750669358888037,\n",
       "  'parity': 0,\n",
       "  'screen_name': 'talha_turkoglu'})"
      ]
     },
     "execution_count": 120,
     "metadata": {},
     "output_type": "execute_result"
    }
   ],
   "source": [
    "list(G.nodes(data=True))[0]"
   ]
  },
  {
   "cell_type": "code",
   "execution_count": 122,
   "metadata": {},
   "outputs": [],
   "source": [
    "import json\n",
    "from networkx.readwrite import json_graph\n",
    "data = nx.node_link_data(G)\n",
    "with open('../REST/static/networks/twitter_users_graph2.json', 'w') as f:\n",
    "    json.dump(data, f, indent=4)"
   ]
  },
  {
   "cell_type": "code",
   "execution_count": null,
   "metadata": {},
   "outputs": [],
   "source": []
  }
 ],
 "metadata": {
  "kernelspec": {
   "display_name": "Python 3",
   "language": "python",
   "name": "python3"
  },
  "language_info": {
   "codemirror_mode": {
    "name": "ipython",
    "version": 3
   },
   "file_extension": ".py",
   "mimetype": "text/x-python",
   "name": "python",
   "nbconvert_exporter": "python",
   "pygments_lexer": "ipython3",
   "version": "3.5.2"
  }
 },
 "nbformat": 4,
 "nbformat_minor": 2
}
