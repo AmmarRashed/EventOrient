{
 "cells": [
  {
   "cell_type": "code",
   "execution_count": 1,
   "metadata": {},
   "outputs": [],
   "source": [
    "import psycopg2\n",
    "\n",
    "import pandas as pd\n",
    "import numpy as np\n",
    "\n",
    "from copy import deepcopy\n",
    "\n",
    "import ast\n",
    "import random\n",
    "import networkx as nx\n",
    "import time, unicodedata\n",
    "import itertools\n",
    "\n",
    "from fuzzywuzzy import fuzz\n",
    "from fuzzywuzzy import process\n",
    "\n",
    "from joblib import Parallel, delayed"
   ]
  },
  {
   "cell_type": "code",
   "execution_count": 2,
   "metadata": {},
   "outputs": [],
   "source": [
    "def clean(name, min_len=5, junk_replacement=''):\n",
    "    try:\n",
    "        cleaned = unicodedata.normalize('NFKD', name).encode('ascii', 'ignore').lower().decode(\"ascii\")\n",
    "    except TypeError:\n",
    "        return junk_replacement\n",
    "    if len(cleaned) < min_len:\n",
    "        return junk_replacement\n",
    "    return cleaned\n",
    "\n",
    "def get_matches_edit_distance(item, choices, limit, scorer=fuzz.WRatio):\n",
    "    return process.extract(item, choices, limit=limit, scorer=scorer)\n",
    "counter = 0\n",
    "def get_sehir_twitter_matches(twitter_users, sehir_directory, limit=1):\n",
    "    global fullnames, counter\n",
    "    twitter_user_by_screen_name = twitter_users.set_index('screen_name')\n",
    "    start = time.time()\n",
    "    for screen_name in twitter_users['screen_name']:\n",
    "        twitter_name = twitter_user_by_screen_name.loc[screen_name]['name']\n",
    "        match_name = get_matches_edit_distance(twitter_name, fullnames, limit)\n",
    "        counter += 1\n",
    "#         if counter %100 == 0:\n",
    "#             print(counter, \"out of \", len(twitter_users))\n",
    "#             start_ = time.time()\n",
    "#             print(start_-start, \"seconds\")\n",
    "#             start = start_\n",
    "        yield (screen_name, match_name)\n",
    "        \n",
    "def filter_matches_by_threshold(matches_dict, threshold=70):\n",
    "    filtered_dict = dict()\n",
    "    for screen_name, matches in matches_dict.items():\n",
    "        filtered = [(match, score) for match, score in matches if score > threshold]\n",
    "        \n",
    "        if filtered:\n",
    "            filtered_dict[screen_name] = filtered\n",
    "        \n",
    "    return filtered_dict\n",
    "\n",
    "def get_matches_dataframe(twitter_users, sehir_directory, threshold=70, limit=1):\n",
    "    matches = {screen_name : match_name for screen_name, match_name in \n",
    "               get_sehir_twitter_matches(twitter_users, sehir_directory, limit=limit)}\n",
    "    \n",
    "    filtered_matches = filter_matches_by_threshold(matches, threshold=threshold)\n",
    "    screen_names = filtered_matches.keys()\n",
    "    return pd.DataFrame({'screen_name': list(screen_names),\n",
    "                         'match_name': [filtered_matches[screen_name] for screen_name in screen_names]})"
   ]
  },
  {
   "cell_type": "code",
   "execution_count": 3,
   "metadata": {},
   "outputs": [],
   "source": [
    "connection = psycopg2.connect('dbname=link_formation host=localhost user=postgres password=1_sehir_1')\n",
    "\n",
    "user_connections = pd.read_sql(\"SELECT * FROM twitter_connection\", connection).drop('id', axis=1)"
   ]
  },
  {
   "cell_type": "code",
   "execution_count": 4,
   "metadata": {
    "scrolled": false
   },
   "outputs": [
    {
     "data": {
      "text/html": [
       "<div>\n",
       "<style scoped>\n",
       "    .dataframe tbody tr th:only-of-type {\n",
       "        vertical-align: middle;\n",
       "    }\n",
       "\n",
       "    .dataframe tbody tr th {\n",
       "        vertical-align: top;\n",
       "    }\n",
       "\n",
       "    .dataframe thead th {\n",
       "        text-align: right;\n",
       "    }\n",
       "</style>\n",
       "<table border=\"1\" class=\"dataframe\">\n",
       "  <thead>\n",
       "    <tr style=\"text-align: right;\">\n",
       "      <th></th>\n",
       "      <th>id</th>\n",
       "      <th>name</th>\n",
       "      <th>screen_name</th>\n",
       "      <th>lang</th>\n",
       "      <th>match_name</th>\n",
       "      <th>match_ratio</th>\n",
       "      <th>followers_count</th>\n",
       "      <th>friends_count</th>\n",
       "      <th>truncated_id</th>\n",
       "    </tr>\n",
       "  </thead>\n",
       "  <tbody>\n",
       "    <tr>\n",
       "      <th>2774</th>\n",
       "      <td>9.206008e+17</td>\n",
       "      <td>Meryem Selva</td>\n",
       "      <td>meryem_selva</td>\n",
       "      <td>tr</td>\n",
       "      <td>Meryem Selva Ince</td>\n",
       "      <td>95.0</td>\n",
       "      <td>65.0</td>\n",
       "      <td>341.0</td>\n",
       "      <td>920600836</td>\n",
       "    </tr>\n",
       "    <tr>\n",
       "      <th>40547</th>\n",
       "      <td>2.589457e+09</td>\n",
       "      <td>Tacettin Serkaya.</td>\n",
       "      <td>tacettin_sertka</td>\n",
       "      <td>tr</td>\n",
       "      <td>Ali Cetinkaya</td>\n",
       "      <td>69.0</td>\n",
       "      <td>4.0</td>\n",
       "      <td>136.0</td>\n",
       "      <td>258945691</td>\n",
       "    </tr>\n",
       "    <tr>\n",
       "      <th>5468</th>\n",
       "      <td>1.898813e+08</td>\n",
       "      <td>Merve Sancaktar</td>\n",
       "      <td>sancaktarmerve</td>\n",
       "      <td>tr</td>\n",
       "      <td>Merve Sancaktar</td>\n",
       "      <td>100.0</td>\n",
       "      <td>147.0</td>\n",
       "      <td>150.0</td>\n",
       "      <td>189881254</td>\n",
       "    </tr>\n",
       "    <tr>\n",
       "      <th>11955</th>\n",
       "      <td>6.249528e+07</td>\n",
       "      <td>asım devran</td>\n",
       "      <td>asimdevran</td>\n",
       "      <td>en</td>\n",
       "      <td>Burhan Devran</td>\n",
       "      <td>71.0</td>\n",
       "      <td>39.0</td>\n",
       "      <td>823.0</td>\n",
       "      <td>62495284</td>\n",
       "    </tr>\n",
       "    <tr>\n",
       "      <th>33026</th>\n",
       "      <td>7.667776e+17</td>\n",
       "      <td>Kadir Aşkın</td>\n",
       "      <td>kkadiraskin</td>\n",
       "      <td>tr</td>\n",
       "      <td>Kadir San</td>\n",
       "      <td>89.0</td>\n",
       "      <td>30.0</td>\n",
       "      <td>482.0</td>\n",
       "      <td>766777552</td>\n",
       "    </tr>\n",
       "  </tbody>\n",
       "</table>\n",
       "</div>"
      ],
      "text/plain": [
       "                 id               name      screen_name lang  \\\n",
       "2774   9.206008e+17       Meryem Selva     meryem_selva   tr   \n",
       "40547  2.589457e+09  Tacettin Serkaya.  tacettin_sertka   tr   \n",
       "5468   1.898813e+08    Merve Sancaktar   sancaktarmerve   tr   \n",
       "11955  6.249528e+07        asım devran       asimdevran   en   \n",
       "33026  7.667776e+17        Kadir Aşkın      kkadiraskin   tr   \n",
       "\n",
       "               match_name  match_ratio  followers_count  friends_count  \\\n",
       "2774    Meryem Selva Ince         95.0             65.0          341.0   \n",
       "40547       Ali Cetinkaya         69.0              4.0          136.0   \n",
       "5468      Merve Sancaktar        100.0            147.0          150.0   \n",
       "11955       Burhan Devran         71.0             39.0          823.0   \n",
       "33026           Kadir San         89.0             30.0          482.0   \n",
       "\n",
       "       truncated_id  \n",
       "2774      920600836  \n",
       "40547     258945691  \n",
       "5468      189881254  \n",
       "11955      62495284  \n",
       "33026     766777552  "
      ]
     },
     "execution_count": 4,
     "metadata": {},
     "output_type": "execute_result"
    }
   ],
   "source": [
    "truncate = lambda x: int(str(int(x))[:9])\n",
    "\n",
    "twitter_users = pd.read_sql(\"SELECT * FROM twitter_user\", connection)\n",
    "twitter_users = twitter_users.where(twitter_users.match_name.str.len()>6)\\\n",
    "                             .dropna()\n",
    "twitter_users[\"truncated_id\"] = twitter_users.id.apply(truncate)\n",
    "\n",
    "#         .where(twitter_users.match_ratio>85)\n",
    "# .where(~twitter_users.name.str.contains(\"(?i)sehir\"))\\\n",
    "twitter_users.sample(5)"
   ]
  },
  {
   "cell_type": "code",
   "execution_count": 5,
   "metadata": {},
   "outputs": [
    {
     "data": {
      "text/html": [
       "<div>\n",
       "<style scoped>\n",
       "    .dataframe tbody tr th:only-of-type {\n",
       "        vertical-align: middle;\n",
       "    }\n",
       "\n",
       "    .dataframe tbody tr th {\n",
       "        vertical-align: top;\n",
       "    }\n",
       "\n",
       "    .dataframe thead th {\n",
       "        text-align: right;\n",
       "    }\n",
       "</style>\n",
       "<table border=\"1\" class=\"dataframe\">\n",
       "  <thead>\n",
       "    <tr style=\"text-align: right;\">\n",
       "      <th></th>\n",
       "      <th>id</th>\n",
       "      <th>name</th>\n",
       "      <th>screen_name</th>\n",
       "      <th>lang</th>\n",
       "      <th>match_name</th>\n",
       "      <th>match_ratio</th>\n",
       "      <th>followers_count</th>\n",
       "      <th>friends_count</th>\n",
       "      <th>truncated_id</th>\n",
       "      <th>is_org</th>\n",
       "    </tr>\n",
       "  </thead>\n",
       "  <tbody>\n",
       "    <tr>\n",
       "      <th>7321</th>\n",
       "      <td>9.338589e+07</td>\n",
       "      <td>Nezih Erdogan</td>\n",
       "      <td>neziherdogan</td>\n",
       "      <td>en</td>\n",
       "      <td>Nezih Erdogan</td>\n",
       "      <td>100.0</td>\n",
       "      <td>484.0</td>\n",
       "      <td>243.0</td>\n",
       "      <td>93385894</td>\n",
       "      <td>False</td>\n",
       "    </tr>\n",
       "    <tr>\n",
       "      <th>49239</th>\n",
       "      <td>9.073842e+17</td>\n",
       "      <td>Celal Eren Çelik</td>\n",
       "      <td>yazparov</td>\n",
       "      <td>tr</td>\n",
       "      <td>Eren Yener</td>\n",
       "      <td>86.0</td>\n",
       "      <td>28459.0</td>\n",
       "      <td>7580.0</td>\n",
       "      <td>907384171</td>\n",
       "      <td>False</td>\n",
       "    </tr>\n",
       "    <tr>\n",
       "      <th>8534</th>\n",
       "      <td>1.110093e+08</td>\n",
       "      <td>ALİ MERCAN</td>\n",
       "      <td>mercanalim</td>\n",
       "      <td>en</td>\n",
       "      <td>Ali Ihsan Aydin</td>\n",
       "      <td>86.0</td>\n",
       "      <td>69.0</td>\n",
       "      <td>104.0</td>\n",
       "      <td>111009344</td>\n",
       "      <td>False</td>\n",
       "    </tr>\n",
       "    <tr>\n",
       "      <th>25454</th>\n",
       "      <td>8.194892e+17</td>\n",
       "      <td>Derin</td>\n",
       "      <td>nedemekderin</td>\n",
       "      <td>tr</td>\n",
       "      <td>Feyyaz Derinoglu</td>\n",
       "      <td>90.0</td>\n",
       "      <td>37432.0</td>\n",
       "      <td>31476.0</td>\n",
       "      <td>819489187</td>\n",
       "      <td>False</td>\n",
       "    </tr>\n",
       "    <tr>\n",
       "      <th>44961</th>\n",
       "      <td>2.486276e+07</td>\n",
       "      <td>BPS Research Digest</td>\n",
       "      <td>ResearchDigest</td>\n",
       "      <td>en</td>\n",
       "      <td>! Psy Search</td>\n",
       "      <td>72.0</td>\n",
       "      <td>80253.0</td>\n",
       "      <td>2086.0</td>\n",
       "      <td>24862758</td>\n",
       "      <td>False</td>\n",
       "    </tr>\n",
       "  </tbody>\n",
       "</table>\n",
       "</div>"
      ],
      "text/plain": [
       "                 id                 name     screen_name lang  \\\n",
       "7321   9.338589e+07        Nezih Erdogan    neziherdogan   en   \n",
       "49239  9.073842e+17     Celal Eren Çelik        yazparov   tr   \n",
       "8534   1.110093e+08           ALİ MERCAN      mercanalim   en   \n",
       "25454  8.194892e+17                Derin    nedemekderin   tr   \n",
       "44961  2.486276e+07  BPS Research Digest  ResearchDigest   en   \n",
       "\n",
       "             match_name  match_ratio  followers_count  friends_count  \\\n",
       "7321      Nezih Erdogan        100.0            484.0          243.0   \n",
       "49239        Eren Yener         86.0          28459.0         7580.0   \n",
       "8534    Ali Ihsan Aydin         86.0             69.0          104.0   \n",
       "25454  Feyyaz Derinoglu         90.0          37432.0        31476.0   \n",
       "44961      ! Psy Search         72.0          80253.0         2086.0   \n",
       "\n",
       "       truncated_id  is_org  \n",
       "7321       93385894   False  \n",
       "49239     907384171   False  \n",
       "8534      111009344   False  \n",
       "25454     819489187   False  \n",
       "44961      24862758   False  "
      ]
     },
     "execution_count": 5,
     "metadata": {},
     "output_type": "execute_result"
    }
   ],
   "source": [
    "is_org = lambda x:\"sehir\" in clean(x)\n",
    "twitter_users[\"is_org\"] = twitter_users.screen_name.apply(is_org)\n",
    "twitter_users.sample(5)"
   ]
  },
  {
   "cell_type": "code",
   "execution_count": 6,
   "metadata": {},
   "outputs": [],
   "source": [
    "sehir_orgs = twitter_users[twitter_users.is_org==True].set_index(\"id\")\n",
    "sehir_users = twitter_users[twitter_users.is_org==False]"
   ]
  },
  {
   "cell_type": "code",
   "execution_count": 7,
   "metadata": {},
   "outputs": [
    {
     "data": {
      "text/plain": [
       "231"
      ]
     },
     "execution_count": 7,
     "metadata": {},
     "output_type": "execute_result"
    }
   ],
   "source": [
    "len(sehir_orgs)"
   ]
  },
  {
   "cell_type": "code",
   "execution_count": 8,
   "metadata": {},
   "outputs": [
    {
     "data": {
      "text/html": [
       "<div>\n",
       "<style scoped>\n",
       "    .dataframe tbody tr th:only-of-type {\n",
       "        vertical-align: middle;\n",
       "    }\n",
       "\n",
       "    .dataframe tbody tr th {\n",
       "        vertical-align: top;\n",
       "    }\n",
       "\n",
       "    .dataframe thead th {\n",
       "        text-align: right;\n",
       "    }\n",
       "</style>\n",
       "<table border=\"1\" class=\"dataframe\">\n",
       "  <thead>\n",
       "    <tr style=\"text-align: right;\">\n",
       "      <th></th>\n",
       "      <th>name</th>\n",
       "      <th>screen_name</th>\n",
       "      <th>lang</th>\n",
       "      <th>match_name</th>\n",
       "      <th>match_ratio</th>\n",
       "      <th>followers_count</th>\n",
       "      <th>friends_count</th>\n",
       "      <th>truncated_id</th>\n",
       "      <th>is_org</th>\n",
       "    </tr>\n",
       "    <tr>\n",
       "      <th>id</th>\n",
       "      <th></th>\n",
       "      <th></th>\n",
       "      <th></th>\n",
       "      <th></th>\n",
       "      <th></th>\n",
       "      <th></th>\n",
       "      <th></th>\n",
       "      <th></th>\n",
       "      <th></th>\n",
       "    </tr>\n",
       "  </thead>\n",
       "  <tbody>\n",
       "    <tr>\n",
       "      <th>4.506395e+08</th>\n",
       "      <td>Şehir Politika</td>\n",
       "      <td>sehirpolitika</td>\n",
       "      <td>en</td>\n",
       "      <td>Şehir Üniversitesi (İnsan ve Toplum Bilimleri...</td>\n",
       "      <td>86.0</td>\n",
       "      <td>877.0</td>\n",
       "      <td>817.0</td>\n",
       "      <td>450639507</td>\n",
       "      <td>True</td>\n",
       "    </tr>\n",
       "    <tr>\n",
       "      <th>2.734041e+09</th>\n",
       "      <td>Şehir SBE</td>\n",
       "      <td>SehirSBE</td>\n",
       "      <td>tr</td>\n",
       "      <td>Şehir Üniversitesi (İnsan ve Toplum Bilimleri...</td>\n",
       "      <td>86.0</td>\n",
       "      <td>502.0</td>\n",
       "      <td>16.0</td>\n",
       "      <td>273404088</td>\n",
       "      <td>True</td>\n",
       "    </tr>\n",
       "    <tr>\n",
       "      <th>6.254630e+08</th>\n",
       "      <td>Şehir Sosyal Medya</td>\n",
       "      <td>sehirsosyal</td>\n",
       "      <td>tr</td>\n",
       "      <td>Şehir Üniversitesi (İnsan ve Toplum Bilimleri...</td>\n",
       "      <td>86.0</td>\n",
       "      <td>2240.0</td>\n",
       "      <td>1546.0</td>\n",
       "      <td>625463005</td>\n",
       "      <td>True</td>\n",
       "    </tr>\n",
       "    <tr>\n",
       "      <th>1.583167e+08</th>\n",
       "      <td>Semih BİLGE</td>\n",
       "      <td>eskisehir196526</td>\n",
       "      <td>tr</td>\n",
       "      <td>Efe Semih Demirtas</td>\n",
       "      <td>86.0</td>\n",
       "      <td>1465.0</td>\n",
       "      <td>1345.0</td>\n",
       "      <td>158316749</td>\n",
       "      <td>True</td>\n",
       "    </tr>\n",
       "    <tr>\n",
       "      <th>3.334986e+09</th>\n",
       "      <td>Lord Varys</td>\n",
       "      <td>sehirveitiraf</td>\n",
       "      <td>tr</td>\n",
       "      <td>Selda Ünvar Yılmaz</td>\n",
       "      <td>63.0</td>\n",
       "      <td>7.0</td>\n",
       "      <td>78.0</td>\n",
       "      <td>333498586</td>\n",
       "      <td>True</td>\n",
       "    </tr>\n",
       "  </tbody>\n",
       "</table>\n",
       "</div>"
      ],
      "text/plain": [
       "                            name      screen_name lang  \\\n",
       "id                                                       \n",
       "4.506395e+08      Şehir Politika    sehirpolitika   en   \n",
       "2.734041e+09           Şehir SBE         SehirSBE   tr   \n",
       "6.254630e+08  Şehir Sosyal Medya      sehirsosyal   tr   \n",
       "1.583167e+08         Semih BİLGE  eskisehir196526   tr   \n",
       "3.334986e+09          Lord Varys    sehirveitiraf   tr   \n",
       "\n",
       "                                                     match_name  match_ratio  \\\n",
       "id                                                                             \n",
       "4.506395e+08   Şehir Üniversitesi (İnsan ve Toplum Bilimleri...         86.0   \n",
       "2.734041e+09   Şehir Üniversitesi (İnsan ve Toplum Bilimleri...         86.0   \n",
       "6.254630e+08   Şehir Üniversitesi (İnsan ve Toplum Bilimleri...         86.0   \n",
       "1.583167e+08                                 Efe Semih Demirtas         86.0   \n",
       "3.334986e+09                                 Selda Ünvar Yılmaz         63.0   \n",
       "\n",
       "              followers_count  friends_count  truncated_id  is_org  \n",
       "id                                                                  \n",
       "4.506395e+08            877.0          817.0     450639507    True  \n",
       "2.734041e+09            502.0           16.0     273404088    True  \n",
       "6.254630e+08           2240.0         1546.0     625463005    True  \n",
       "1.583167e+08           1465.0         1345.0     158316749    True  \n",
       "3.334986e+09              7.0           78.0     333498586    True  "
      ]
     },
     "execution_count": 8,
     "metadata": {},
     "output_type": "execute_result"
    }
   ],
   "source": [
    "sehir_orgs.sample(5)"
   ]
  },
  {
   "cell_type": "code",
   "execution_count": 9,
   "metadata": {},
   "outputs": [
    {
     "data": {
      "text/html": [
       "<div>\n",
       "<style scoped>\n",
       "    .dataframe tbody tr th:only-of-type {\n",
       "        vertical-align: middle;\n",
       "    }\n",
       "\n",
       "    .dataframe tbody tr th {\n",
       "        vertical-align: top;\n",
       "    }\n",
       "\n",
       "    .dataframe thead th {\n",
       "        text-align: right;\n",
       "    }\n",
       "</style>\n",
       "<table border=\"1\" class=\"dataframe\">\n",
       "  <thead>\n",
       "    <tr style=\"text-align: right;\">\n",
       "      <th></th>\n",
       "      <th>id</th>\n",
       "      <th>name</th>\n",
       "      <th>screen_name</th>\n",
       "      <th>lang</th>\n",
       "      <th>match_name</th>\n",
       "      <th>match_ratio</th>\n",
       "      <th>followers_count</th>\n",
       "      <th>friends_count</th>\n",
       "      <th>truncated_id</th>\n",
       "      <th>is_org</th>\n",
       "    </tr>\n",
       "  </thead>\n",
       "  <tbody>\n",
       "    <tr>\n",
       "      <th>1</th>\n",
       "      <td>5.670900e+08</td>\n",
       "      <td>Övünç Meriç</td>\n",
       "      <td>ovuncmeric</td>\n",
       "      <td>tr</td>\n",
       "      <td>Kardelen Meric</td>\n",
       "      <td>77.0</td>\n",
       "      <td>569.0</td>\n",
       "      <td>1170.0</td>\n",
       "      <td>567090020</td>\n",
       "      <td>False</td>\n",
       "    </tr>\n",
       "    <tr>\n",
       "      <th>4</th>\n",
       "      <td>7.262076e+08</td>\n",
       "      <td>klasik</td>\n",
       "      <td>klasikyayinlari</td>\n",
       "      <td>tr</td>\n",
       "      <td>Yavuz Kasikci</td>\n",
       "      <td>75.0</td>\n",
       "      <td>6596.0</td>\n",
       "      <td>142.0</td>\n",
       "      <td>726207614</td>\n",
       "      <td>False</td>\n",
       "    </tr>\n",
       "    <tr>\n",
       "      <th>5</th>\n",
       "      <td>4.979428e+08</td>\n",
       "      <td>Küre Yayınları</td>\n",
       "      <td>kureyayinlari</td>\n",
       "      <td>tr</td>\n",
       "      <td>Merve Yakinlar</td>\n",
       "      <td>72.0</td>\n",
       "      <td>9158.0</td>\n",
       "      <td>166.0</td>\n",
       "      <td>497942798</td>\n",
       "      <td>False</td>\n",
       "    </tr>\n",
       "    <tr>\n",
       "      <th>6</th>\n",
       "      <td>2.674867e+09</td>\n",
       "      <td>Fatıma Tuba Yaylacı</td>\n",
       "      <td>fatimatubapetek</td>\n",
       "      <td>en</td>\n",
       "      <td>Fatima Tuba Yaylaci</td>\n",
       "      <td>94.0</td>\n",
       "      <td>844.0</td>\n",
       "      <td>246.0</td>\n",
       "      <td>267486658</td>\n",
       "      <td>False</td>\n",
       "    </tr>\n",
       "    <tr>\n",
       "      <th>7</th>\n",
       "      <td>1.439589e+09</td>\n",
       "      <td>Mahmut Koca</td>\n",
       "      <td>mkoca66</td>\n",
       "      <td>en</td>\n",
       "      <td>Mahmut Koca</td>\n",
       "      <td>100.0</td>\n",
       "      <td>1379.0</td>\n",
       "      <td>44.0</td>\n",
       "      <td>143958858</td>\n",
       "      <td>False</td>\n",
       "    </tr>\n",
       "  </tbody>\n",
       "</table>\n",
       "</div>"
      ],
      "text/plain": [
       "             id                 name      screen_name lang  \\\n",
       "1  5.670900e+08          Övünç Meriç       ovuncmeric   tr   \n",
       "4  7.262076e+08               klasik  klasikyayinlari   tr   \n",
       "5  4.979428e+08       Küre Yayınları    kureyayinlari   tr   \n",
       "6  2.674867e+09  Fatıma Tuba Yaylacı  fatimatubapetek   en   \n",
       "7  1.439589e+09          Mahmut Koca          mkoca66   en   \n",
       "\n",
       "             match_name  match_ratio  followers_count  friends_count  \\\n",
       "1        Kardelen Meric         77.0            569.0         1170.0   \n",
       "4         Yavuz Kasikci         75.0           6596.0          142.0   \n",
       "5        Merve Yakinlar         72.0           9158.0          166.0   \n",
       "6   Fatima Tuba Yaylaci         94.0            844.0          246.0   \n",
       "7           Mahmut Koca        100.0           1379.0           44.0   \n",
       "\n",
       "   truncated_id  is_org  \n",
       "1     567090020   False  \n",
       "4     726207614   False  \n",
       "5     497942798   False  \n",
       "6     267486658   False  \n",
       "7     143958858   False  "
      ]
     },
     "execution_count": 9,
     "metadata": {},
     "output_type": "execute_result"
    }
   ],
   "source": [
    "sehir_users.head(5)"
   ]
  },
  {
   "cell_type": "code",
   "execution_count": 10,
   "metadata": {},
   "outputs": [],
   "source": [
    "sehir_directory = pd.read_csv('../datasets/contacts.csv', \n",
    "                               encoding = \"ISO-8859-1\", \n",
    "                               usecols=['First Name', 'Last Name', 'Primary Email'])\n",
    "sehir_directory.replace(np.nan, '', regex=True, inplace=True)"
   ]
  },
  {
   "cell_type": "code",
   "execution_count": 11,
   "metadata": {},
   "outputs": [],
   "source": [
    "fullnames = [' '.join(first_last_name).lower() \n",
    "                 for first_last_name in sehir_directory[['First Name', 'Last Name']].values]"
   ]
  },
  {
   "cell_type": "code",
   "execution_count": null,
   "metadata": {},
   "outputs": [],
   "source": [
    "start = time.time()\n",
    "sehir_matches = Parallel(n_jobs=-1)(delayed(get_matches_dataframe)(\n",
    "    sehir_users[int(i*(len(sehir_users)/8)):int((i+1)*(len(sehir_users)/8))],\n",
    "    sehir_directory) for i in range(8))\n",
    "print(\"took: \", time.time()-start)"
   ]
  },
  {
   "cell_type": "code",
   "execution_count": null,
   "metadata": {},
   "outputs": [],
   "source": [
    "sehir_matches_df = pd.concat(sehir_matches)\n",
    "sehir_matches_df.index = range(len(sehir_matches_df))\n",
    "print(\"There are {} matches\".format(len(sehir_matches_df)))\n",
    "sehir_matches_df.sample(5)"
   ]
  },
  {
   "cell_type": "code",
   "execution_count": 480,
   "metadata": {},
   "outputs": [
    {
     "data": {
      "text/html": [
       "<div>\n",
       "<style scoped>\n",
       "    .dataframe tbody tr th:only-of-type {\n",
       "        vertical-align: middle;\n",
       "    }\n",
       "\n",
       "    .dataframe tbody tr th {\n",
       "        vertical-align: top;\n",
       "    }\n",
       "\n",
       "    .dataframe thead th {\n",
       "        text-align: right;\n",
       "    }\n",
       "</style>\n",
       "<table border=\"1\" class=\"dataframe\">\n",
       "  <thead>\n",
       "    <tr style=\"text-align: right;\">\n",
       "      <th></th>\n",
       "      <th>match_name</th>\n",
       "      <th>screen_name</th>\n",
       "      <th>match_ratio</th>\n",
       "    </tr>\n",
       "  </thead>\n",
       "  <tbody>\n",
       "    <tr>\n",
       "      <th>28057</th>\n",
       "      <td>fatma derya mentes</td>\n",
       "      <td>DeryaaSarii</td>\n",
       "      <td>90</td>\n",
       "    </tr>\n",
       "    <tr>\n",
       "      <th>10093</th>\n",
       "      <td>nur betã¼l yerli</td>\n",
       "      <td>bacimbilegin</td>\n",
       "      <td>90</td>\n",
       "    </tr>\n",
       "    <tr>\n",
       "      <th>20027</th>\n",
       "      <td>emine bayraktar</td>\n",
       "      <td>emine_blt_1</td>\n",
       "      <td>86</td>\n",
       "    </tr>\n",
       "    <tr>\n",
       "      <th>19182</th>\n",
       "      <td>etem hakan ergec</td>\n",
       "      <td>hakan_tunaa</td>\n",
       "      <td>86</td>\n",
       "    </tr>\n",
       "    <tr>\n",
       "      <th>3016</th>\n",
       "      <td>sami anis abuhamdeh</td>\n",
       "      <td>samiyigit_</td>\n",
       "      <td>86</td>\n",
       "    </tr>\n",
       "  </tbody>\n",
       "</table>\n",
       "</div>"
      ],
      "text/plain": [
       "                 match_name   screen_name  match_ratio\n",
       "28057    fatma derya mentes   DeryaaSarii           90\n",
       "10093      nur betã¼l yerli  bacimbilegin           90\n",
       "20027       emine bayraktar   emine_blt_1           86\n",
       "19182      etem hakan ergec   hakan_tunaa           86\n",
       "3016    sami anis abuhamdeh    samiyigit_           86"
      ]
     },
     "execution_count": 480,
     "metadata": {},
     "output_type": "execute_result"
    }
   ],
   "source": [
    "sehir_matches_df['match_ratio'] = sehir_matches_df.match_name.apply(lambda x: x[0][1])\n",
    "sehir_matches_df.match_name = sehir_matches_df.match_name.apply(lambda x: x[0][0])\n",
    "sehir_matches_df.sample(5)"
   ]
  },
  {
   "cell_type": "code",
   "execution_count": 481,
   "metadata": {},
   "outputs": [],
   "source": [
    "tu=twitter_users.drop(labels=[\"match_name\",\"match_ratio\"], axis=1)"
   ]
  },
  {
   "cell_type": "code",
   "execution_count": 482,
   "metadata": {},
   "outputs": [
    {
     "data": {
      "text/html": [
       "<div>\n",
       "<style scoped>\n",
       "    .dataframe tbody tr th:only-of-type {\n",
       "        vertical-align: middle;\n",
       "    }\n",
       "\n",
       "    .dataframe tbody tr th {\n",
       "        vertical-align: top;\n",
       "    }\n",
       "\n",
       "    .dataframe thead th {\n",
       "        text-align: right;\n",
       "    }\n",
       "</style>\n",
       "<table border=\"1\" class=\"dataframe\">\n",
       "  <thead>\n",
       "    <tr style=\"text-align: right;\">\n",
       "      <th></th>\n",
       "      <th>match_name</th>\n",
       "      <th>screen_name</th>\n",
       "      <th>match_ratio</th>\n",
       "      <th>name</th>\n",
       "      <th>lang</th>\n",
       "      <th>followers_count</th>\n",
       "      <th>friends_count</th>\n",
       "      <th>truncated_id</th>\n",
       "      <th>is_org</th>\n",
       "    </tr>\n",
       "    <tr>\n",
       "      <th>id</th>\n",
       "      <th></th>\n",
       "      <th></th>\n",
       "      <th></th>\n",
       "      <th></th>\n",
       "      <th></th>\n",
       "      <th></th>\n",
       "      <th></th>\n",
       "      <th></th>\n",
       "      <th></th>\n",
       "    </tr>\n",
       "  </thead>\n",
       "  <tbody>\n",
       "    <tr>\n",
       "      <th>9.970584e+17</th>\n",
       "      <td>azize fatma cakir</td>\n",
       "      <td>fgurbuz35</td>\n",
       "      <td>86</td>\n",
       "      <td>fatma gürbüz</td>\n",
       "      <td>tr</td>\n",
       "      <td>68.0</td>\n",
       "      <td>122.0</td>\n",
       "      <td>997058428</td>\n",
       "      <td>False</td>\n",
       "    </tr>\n",
       "    <tr>\n",
       "      <th>9.369498e+17</th>\n",
       "      <td>okan mergen</td>\n",
       "      <td>miraokan42</td>\n",
       "      <td>86</td>\n",
       "      <td>miraç okan ekmekci</td>\n",
       "      <td>tr</td>\n",
       "      <td>4.0</td>\n",
       "      <td>19.0</td>\n",
       "      <td>936949783</td>\n",
       "      <td>False</td>\n",
       "    </tr>\n",
       "    <tr>\n",
       "      <th>2.306379e+09</th>\n",
       "      <td>ä°stanbul åehir ãniversitesi ä°åletme enst...</td>\n",
       "      <td>CHPIstGenclik</td>\n",
       "      <td>86</td>\n",
       "      <td>CHP İstanbul Gençlik</td>\n",
       "      <td>tr</td>\n",
       "      <td>5735.0</td>\n",
       "      <td>3223.0</td>\n",
       "      <td>230637902</td>\n",
       "      <td>False</td>\n",
       "    </tr>\n",
       "    <tr>\n",
       "      <th>3.334179e+08</th>\n",
       "      <td>hanife kubra demirci</td>\n",
       "      <td>RabiaDeemirci</td>\n",
       "      <td>86</td>\n",
       "      <td>Rabia Demirci</td>\n",
       "      <td>tr</td>\n",
       "      <td>96.0</td>\n",
       "      <td>314.0</td>\n",
       "      <td>333417875</td>\n",
       "      <td>False</td>\n",
       "    </tr>\n",
       "    <tr>\n",
       "      <th>4.742273e+09</th>\n",
       "      <td>gizem serpil boylu</td>\n",
       "      <td>kronik__rehber</td>\n",
       "      <td>86</td>\n",
       "      <td>serpil.sedef</td>\n",
       "      <td>tr</td>\n",
       "      <td>49.0</td>\n",
       "      <td>113.0</td>\n",
       "      <td>474227276</td>\n",
       "      <td>False</td>\n",
       "    </tr>\n",
       "  </tbody>\n",
       "</table>\n",
       "</div>"
      ],
      "text/plain": [
       "                                                     match_name  \\\n",
       "id                                                                \n",
       "9.970584e+17                                  azize fatma cakir   \n",
       "9.369498e+17                                        okan mergen   \n",
       "2.306379e+09   ä°stanbul åehir ãniversitesi ä°åletme enst...   \n",
       "3.334179e+08                               hanife kubra demirci   \n",
       "4.742273e+09                                 gizem serpil boylu   \n",
       "\n",
       "                 screen_name  match_ratio                  name lang  \\\n",
       "id                                                                     \n",
       "9.970584e+17       fgurbuz35           86          fatma gürbüz   tr   \n",
       "9.369498e+17      miraokan42           86    miraç okan ekmekci   tr   \n",
       "2.306379e+09   CHPIstGenclik           86  CHP İstanbul Gençlik   tr   \n",
       "3.334179e+08   RabiaDeemirci           86         Rabia Demirci   tr   \n",
       "4.742273e+09  kronik__rehber           86          serpil.sedef   tr   \n",
       "\n",
       "              followers_count  friends_count  truncated_id  is_org  \n",
       "id                                                                  \n",
       "9.970584e+17             68.0          122.0     997058428   False  \n",
       "9.369498e+17              4.0           19.0     936949783   False  \n",
       "2.306379e+09           5735.0         3223.0     230637902   False  \n",
       "3.334179e+08             96.0          314.0     333417875   False  \n",
       "4.742273e+09             49.0          113.0     474227276   False  "
      ]
     },
     "execution_count": 482,
     "metadata": {},
     "output_type": "execute_result"
    }
   ],
   "source": [
    "twitter_users = sehir_matches_df.merge(tu, on=\"screen_name\")\n",
    "twitter_users = twitter_users.set_index(\"id\")\n",
    "twitter_users.head(5)"
   ]
  },
  {
   "cell_type": "code",
   "execution_count": 483,
   "metadata": {},
   "outputs": [],
   "source": [
    "sehir_orgs.to_csv(\"../datasets/orgs.csv\",index_label=\"id\")\n",
    "sehir_orgs.to_csv(\"../REST/static/orgs.csv\",index_label=\"id\")"
   ]
  },
  {
   "cell_type": "code",
   "execution_count": 484,
   "metadata": {},
   "outputs": [],
   "source": [
    "filtered_twu = twitter_users[twitter_users.match_ratio>95]\n",
    "filtered_twu = filtered_twu.append(twitter_users.loc[291122559])  # me: Ammar Rashed :)"
   ]
  },
  {
   "cell_type": "code",
   "execution_count": 485,
   "metadata": {},
   "outputs": [
    {
     "data": {
      "text/plain": [
       "(41768, 1087)"
      ]
     },
     "execution_count": 485,
     "metadata": {},
     "output_type": "execute_result"
    }
   ],
   "source": [
    "len(twitter_users), len(filtered_twu)"
   ]
  },
  {
   "cell_type": "code",
   "execution_count": 486,
   "metadata": {},
   "outputs": [
    {
     "data": {
      "text/html": [
       "<div>\n",
       "<style scoped>\n",
       "    .dataframe tbody tr th:only-of-type {\n",
       "        vertical-align: middle;\n",
       "    }\n",
       "\n",
       "    .dataframe tbody tr th {\n",
       "        vertical-align: top;\n",
       "    }\n",
       "\n",
       "    .dataframe thead th {\n",
       "        text-align: right;\n",
       "    }\n",
       "</style>\n",
       "<table border=\"1\" class=\"dataframe\">\n",
       "  <thead>\n",
       "    <tr style=\"text-align: right;\">\n",
       "      <th></th>\n",
       "      <th>match_name</th>\n",
       "      <th>screen_name</th>\n",
       "      <th>match_ratio</th>\n",
       "      <th>name</th>\n",
       "      <th>lang</th>\n",
       "      <th>followers_count</th>\n",
       "      <th>friends_count</th>\n",
       "      <th>truncated_id</th>\n",
       "      <th>is_org</th>\n",
       "    </tr>\n",
       "    <tr>\n",
       "      <th>id</th>\n",
       "      <th></th>\n",
       "      <th></th>\n",
       "      <th></th>\n",
       "      <th></th>\n",
       "      <th></th>\n",
       "      <th></th>\n",
       "      <th></th>\n",
       "      <th></th>\n",
       "      <th></th>\n",
       "    </tr>\n",
       "  </thead>\n",
       "  <tbody>\n",
       "    <tr>\n",
       "      <th>7.822273e+17</th>\n",
       "      <td>anisa tahiri</td>\n",
       "      <td>anisatahiri</td>\n",
       "      <td>100</td>\n",
       "      <td>Anisa Tahiri</td>\n",
       "      <td>en</td>\n",
       "      <td>28.0</td>\n",
       "      <td>184.0</td>\n",
       "      <td>782227273</td>\n",
       "      <td>False</td>\n",
       "    </tr>\n",
       "    <tr>\n",
       "      <th>4.883357e+08</th>\n",
       "      <td>durali topal</td>\n",
       "      <td>DuraliTopal</td>\n",
       "      <td>100</td>\n",
       "      <td>Durali topal</td>\n",
       "      <td>tr</td>\n",
       "      <td>86.0</td>\n",
       "      <td>72.0</td>\n",
       "      <td>488335702</td>\n",
       "      <td>False</td>\n",
       "    </tr>\n",
       "    <tr>\n",
       "      <th>7.514779e+17</th>\n",
       "      <td>yunus emre albayrak</td>\n",
       "      <td>yemrealbyrk</td>\n",
       "      <td>100</td>\n",
       "      <td>Yunus Emre Albayrak</td>\n",
       "      <td>tr</td>\n",
       "      <td>73.0</td>\n",
       "      <td>73.0</td>\n",
       "      <td>751477926</td>\n",
       "      <td>False</td>\n",
       "    </tr>\n",
       "    <tr>\n",
       "      <th>1.545633e+09</th>\n",
       "      <td>yasin saglam</td>\n",
       "      <td>YasinSaglam7</td>\n",
       "      <td>100</td>\n",
       "      <td>Yasin Saglam</td>\n",
       "      <td>en</td>\n",
       "      <td>54.0</td>\n",
       "      <td>161.0</td>\n",
       "      <td>154563318</td>\n",
       "      <td>False</td>\n",
       "    </tr>\n",
       "    <tr>\n",
       "      <th>1.405188e+08</th>\n",
       "      <td>koral ozgunay</td>\n",
       "      <td>koralozgunay</td>\n",
       "      <td>100</td>\n",
       "      <td>Koral Ozgunay</td>\n",
       "      <td>en</td>\n",
       "      <td>32.0</td>\n",
       "      <td>100.0</td>\n",
       "      <td>140518821</td>\n",
       "      <td>False</td>\n",
       "    </tr>\n",
       "  </tbody>\n",
       "</table>\n",
       "</div>"
      ],
      "text/plain": [
       "                       match_name   screen_name  match_ratio  \\\n",
       "id                                                             \n",
       "7.822273e+17         anisa tahiri   anisatahiri          100   \n",
       "4.883357e+08         durali topal   DuraliTopal          100   \n",
       "7.514779e+17  yunus emre albayrak   yemrealbyrk          100   \n",
       "1.545633e+09         yasin saglam  YasinSaglam7          100   \n",
       "1.405188e+08        koral ozgunay  koralozgunay          100   \n",
       "\n",
       "                             name lang  followers_count  friends_count  \\\n",
       "id                                                                       \n",
       "7.822273e+17         Anisa Tahiri   en             28.0          184.0   \n",
       "4.883357e+08         Durali topal   tr             86.0           72.0   \n",
       "7.514779e+17  Yunus Emre Albayrak   tr             73.0           73.0   \n",
       "1.545633e+09         Yasin Saglam   en             54.0          161.0   \n",
       "1.405188e+08        Koral Ozgunay   en             32.0          100.0   \n",
       "\n",
       "              truncated_id  is_org  \n",
       "id                                  \n",
       "7.822273e+17     782227273   False  \n",
       "4.883357e+08     488335702   False  \n",
       "7.514779e+17     751477926   False  \n",
       "1.545633e+09     154563318   False  \n",
       "1.405188e+08     140518821   False  "
      ]
     },
     "execution_count": 486,
     "metadata": {},
     "output_type": "execute_result"
    }
   ],
   "source": [
    "filtered_twu = pd.read_csv(\"../datasets/filtered_twitter_users.csv\", index_col=\"id\")\n",
    "filtered_twu.sample(5)"
   ]
  },
  {
   "cell_type": "code",
   "execution_count": 487,
   "metadata": {
    "scrolled": true
   },
   "outputs": [
    {
     "data": {
      "text/plain": [
       "match_name            ammar rasid\n",
       "screen_name        AmmarRashed_MB\n",
       "match_ratio                    87\n",
       "name                 Ammar Rashed\n",
       "lang                           en\n",
       "followers_count               392\n",
       "friends_count                 337\n",
       "truncated_id            291122559\n",
       "is_org                      False\n",
       "Name: 291122559.0, dtype: object"
      ]
     },
     "execution_count": 487,
     "metadata": {},
     "output_type": "execute_result"
    }
   ],
   "source": [
    "filtered_twu.loc[291122559]"
   ]
  },
  {
   "cell_type": "code",
   "execution_count": 488,
   "metadata": {},
   "outputs": [
    {
     "data": {
      "text/html": [
       "<div>\n",
       "<style scoped>\n",
       "    .dataframe tbody tr th:only-of-type {\n",
       "        vertical-align: middle;\n",
       "    }\n",
       "\n",
       "    .dataframe tbody tr th {\n",
       "        vertical-align: top;\n",
       "    }\n",
       "\n",
       "    .dataframe thead th {\n",
       "        text-align: right;\n",
       "    }\n",
       "</style>\n",
       "<table border=\"1\" class=\"dataframe\">\n",
       "  <thead>\n",
       "    <tr style=\"text-align: right;\">\n",
       "      <th></th>\n",
       "      <th>match_name</th>\n",
       "      <th>screen_name</th>\n",
       "      <th>match_ratio</th>\n",
       "      <th>name</th>\n",
       "      <th>lang</th>\n",
       "      <th>followers_count</th>\n",
       "      <th>friends_count</th>\n",
       "      <th>truncated_id</th>\n",
       "      <th>is_org</th>\n",
       "    </tr>\n",
       "    <tr>\n",
       "      <th>id</th>\n",
       "      <th></th>\n",
       "      <th></th>\n",
       "      <th></th>\n",
       "      <th></th>\n",
       "      <th></th>\n",
       "      <th></th>\n",
       "      <th></th>\n",
       "      <th></th>\n",
       "      <th></th>\n",
       "    </tr>\n",
       "  </thead>\n",
       "  <tbody>\n",
       "    <tr>\n",
       "      <th>14668733.0</th>\n",
       "      <td>ahmet bulut</td>\n",
       "      <td>kral</td>\n",
       "      <td>100</td>\n",
       "      <td>Ahmet Bulut</td>\n",
       "      <td>en</td>\n",
       "      <td>242.0</td>\n",
       "      <td>62.0</td>\n",
       "      <td>14668733</td>\n",
       "      <td>False</td>\n",
       "    </tr>\n",
       "  </tbody>\n",
       "</table>\n",
       "</div>"
      ],
      "text/plain": [
       "              match_name screen_name  match_ratio         name lang  \\\n",
       "id                                                                    \n",
       "14668733.0   ahmet bulut        kral          100  Ahmet Bulut   en   \n",
       "\n",
       "            followers_count  friends_count  truncated_id  is_org  \n",
       "id                                                                \n",
       "14668733.0            242.0           62.0      14668733   False  "
      ]
     },
     "execution_count": 488,
     "metadata": {},
     "output_type": "execute_result"
    }
   ],
   "source": [
    "filtered_twu[filtered_twu.screen_name.str.contains(\"kral\")]"
   ]
  },
  {
   "cell_type": "markdown",
   "metadata": {},
   "source": [
    "# Filter connections"
   ]
  },
  {
   "cell_type": "code",
   "execution_count": 489,
   "metadata": {},
   "outputs": [
    {
     "data": {
      "text/html": [
       "<div>\n",
       "<style scoped>\n",
       "    .dataframe tbody tr th:only-of-type {\n",
       "        vertical-align: middle;\n",
       "    }\n",
       "\n",
       "    .dataframe tbody tr th {\n",
       "        vertical-align: top;\n",
       "    }\n",
       "\n",
       "    .dataframe thead th {\n",
       "        text-align: right;\n",
       "    }\n",
       "</style>\n",
       "<table border=\"1\" class=\"dataframe\">\n",
       "  <thead>\n",
       "    <tr style=\"text-align: right;\">\n",
       "      <th></th>\n",
       "      <th>followers_count</th>\n",
       "      <th>friends_count</th>\n",
       "      <th>is_org</th>\n",
       "      <th>lang</th>\n",
       "      <th>match_name</th>\n",
       "      <th>match_ratio</th>\n",
       "      <th>name</th>\n",
       "      <th>screen_name</th>\n",
       "      <th>truncated_id</th>\n",
       "    </tr>\n",
       "    <tr>\n",
       "      <th>id</th>\n",
       "      <th></th>\n",
       "      <th></th>\n",
       "      <th></th>\n",
       "      <th></th>\n",
       "      <th></th>\n",
       "      <th></th>\n",
       "      <th></th>\n",
       "      <th></th>\n",
       "      <th></th>\n",
       "    </tr>\n",
       "  </thead>\n",
       "  <tbody>\n",
       "    <tr>\n",
       "      <th>8.619320e+17</th>\n",
       "      <td>15.0</td>\n",
       "      <td>90.0</td>\n",
       "      <td>False</td>\n",
       "      <td>tr</td>\n",
       "      <td>ferhat basboga</td>\n",
       "      <td>100.0</td>\n",
       "      <td>Ferhat basboga</td>\n",
       "      <td>basbogaferhat</td>\n",
       "      <td>861931997</td>\n",
       "    </tr>\n",
       "    <tr>\n",
       "      <th>5.868091e+08</th>\n",
       "      <td>301.0</td>\n",
       "      <td>197.0</td>\n",
       "      <td>False</td>\n",
       "      <td>tr</td>\n",
       "      <td>sude beyaz</td>\n",
       "      <td>100.0</td>\n",
       "      <td>Sude Beyaz</td>\n",
       "      <td>SudeBeyaz_</td>\n",
       "      <td>586809124</td>\n",
       "    </tr>\n",
       "    <tr>\n",
       "      <th>3.703673e+07</th>\n",
       "      <td>525.0</td>\n",
       "      <td>374.0</td>\n",
       "      <td>False</td>\n",
       "      <td>en</td>\n",
       "      <td>omer celebi</td>\n",
       "      <td>100.0</td>\n",
       "      <td>Omer Celebi</td>\n",
       "      <td>omerclb</td>\n",
       "      <td>37036731</td>\n",
       "    </tr>\n",
       "    <tr>\n",
       "      <th>3.207361e+09</th>\n",
       "      <td>10.0</td>\n",
       "      <td>16.0</td>\n",
       "      <td>False</td>\n",
       "      <td>tr</td>\n",
       "      <td>gulcan ayral</td>\n",
       "      <td>96.0</td>\n",
       "      <td>Gülcan Ayral</td>\n",
       "      <td>GulcanAyral</td>\n",
       "      <td>320736080</td>\n",
       "    </tr>\n",
       "    <tr>\n",
       "      <th>4.714839e+07</th>\n",
       "      <td>372.0</td>\n",
       "      <td>655.0</td>\n",
       "      <td>False</td>\n",
       "      <td>en</td>\n",
       "      <td>kasim kopuz</td>\n",
       "      <td>100.0</td>\n",
       "      <td>kasim kopuz</td>\n",
       "      <td>kkopuz</td>\n",
       "      <td>47148388</td>\n",
       "    </tr>\n",
       "  </tbody>\n",
       "</table>\n",
       "</div>"
      ],
      "text/plain": [
       "              followers_count  friends_count  is_org lang      match_name  \\\n",
       "id                                                                          \n",
       "8.619320e+17             15.0           90.0   False   tr  ferhat basboga   \n",
       "5.868091e+08            301.0          197.0   False   tr      sude beyaz   \n",
       "3.703673e+07            525.0          374.0   False   en     omer celebi   \n",
       "3.207361e+09             10.0           16.0   False   tr    gulcan ayral   \n",
       "4.714839e+07            372.0          655.0   False   en     kasim kopuz   \n",
       "\n",
       "              match_ratio            name    screen_name  truncated_id  \n",
       "id                                                                      \n",
       "8.619320e+17        100.0  Ferhat basboga  basbogaferhat     861931997  \n",
       "5.868091e+08        100.0      Sude Beyaz     SudeBeyaz_     586809124  \n",
       "3.703673e+07        100.0     Omer Celebi        omerclb      37036731  \n",
       "3.207361e+09         96.0    Gülcan Ayral    GulcanAyral     320736080  \n",
       "4.714839e+07        100.0     kasim kopuz         kkopuz      47148388  "
      ]
     },
     "execution_count": 489,
     "metadata": {},
     "output_type": "execute_result"
    }
   ],
   "source": [
    "twu_with_orgs = pd.concat([filtered_twu, sehir_orgs])\n",
    "twu_with_orgs.sample(5)"
   ]
  },
  {
   "cell_type": "code",
   "execution_count": 512,
   "metadata": {},
   "outputs": [
    {
     "data": {
      "text/plain": [
       "1318"
      ]
     },
     "execution_count": 512,
     "metadata": {},
     "output_type": "execute_result"
    }
   ],
   "source": [
    "assert len(twu_with_orgs) == len(filtered_twu) + len(sehir_orgs)\n",
    "len(twu_with_orgs)"
   ]
  },
  {
   "cell_type": "code",
   "execution_count": 493,
   "metadata": {},
   "outputs": [
    {
     "data": {
      "text/html": [
       "<div>\n",
       "<style scoped>\n",
       "    .dataframe tbody tr th:only-of-type {\n",
       "        vertical-align: middle;\n",
       "    }\n",
       "\n",
       "    .dataframe tbody tr th {\n",
       "        vertical-align: top;\n",
       "    }\n",
       "\n",
       "    .dataframe thead th {\n",
       "        text-align: right;\n",
       "    }\n",
       "</style>\n",
       "<table border=\"1\" class=\"dataframe\">\n",
       "  <thead>\n",
       "    <tr style=\"text-align: right;\">\n",
       "      <th></th>\n",
       "      <th>from_user_id</th>\n",
       "      <th>to_user_id</th>\n",
       "      <th>formation</th>\n",
       "    </tr>\n",
       "  </thead>\n",
       "  <tbody>\n",
       "    <tr>\n",
       "      <th>82793</th>\n",
       "      <td>709418275445280768</td>\n",
       "      <td>995806488</td>\n",
       "      <td>{'2018.05.24': True}</td>\n",
       "    </tr>\n",
       "    <tr>\n",
       "      <th>53209</th>\n",
       "      <td>1092981798</td>\n",
       "      <td>818364804</td>\n",
       "      <td>{'2018.05.24': True}</td>\n",
       "    </tr>\n",
       "    <tr>\n",
       "      <th>15941</th>\n",
       "      <td>103291872</td>\n",
       "      <td>3892757176</td>\n",
       "      <td>{'2018.05.24': True}</td>\n",
       "    </tr>\n",
       "    <tr>\n",
       "      <th>39179</th>\n",
       "      <td>2906238288</td>\n",
       "      <td>4249483061</td>\n",
       "      <td>{'2018.05.24': True}</td>\n",
       "    </tr>\n",
       "    <tr>\n",
       "      <th>120</th>\n",
       "      <td>106086098</td>\n",
       "      <td>107141880</td>\n",
       "      <td>{'2018.05.24': True}</td>\n",
       "    </tr>\n",
       "  </tbody>\n",
       "</table>\n",
       "</div>"
      ],
      "text/plain": [
       "             from_user_id  to_user_id             formation\n",
       "82793  709418275445280768   995806488  {'2018.05.24': True}\n",
       "53209          1092981798   818364804  {'2018.05.24': True}\n",
       "15941           103291872  3892757176  {'2018.05.24': True}\n",
       "39179          2906238288  4249483061  {'2018.05.24': True}\n",
       "120             106086098   107141880  {'2018.05.24': True}"
      ]
     },
     "execution_count": 493,
     "metadata": {},
     "output_type": "execute_result"
    }
   ],
   "source": [
    "# user_connections.formation = user_connections.formation.apply(lambda x:{\"2018.05.24\":True})\n",
    "user_connections.sample(5)"
   ]
  },
  {
   "cell_type": "code",
   "execution_count": 657,
   "metadata": {},
   "outputs": [],
   "source": [
    "ids = set(twu_with_orgs.index)\n",
    "def in_sehir(row, from_col=\"from_user_id\", to_col=\"to_user_id\"):\n",
    "    return row[from_col] in ids and row[to_col] in ids"
   ]
  },
  {
   "cell_type": "code",
   "execution_count": 658,
   "metadata": {},
   "outputs": [
    {
     "data": {
      "text/html": [
       "<div>\n",
       "<style scoped>\n",
       "    .dataframe tbody tr th:only-of-type {\n",
       "        vertical-align: middle;\n",
       "    }\n",
       "\n",
       "    .dataframe tbody tr th {\n",
       "        vertical-align: top;\n",
       "    }\n",
       "\n",
       "    .dataframe thead th {\n",
       "        text-align: right;\n",
       "    }\n",
       "</style>\n",
       "<table border=\"1\" class=\"dataframe\">\n",
       "  <thead>\n",
       "    <tr style=\"text-align: right;\">\n",
       "      <th></th>\n",
       "      <th>from_user_id</th>\n",
       "      <th>to_user_id</th>\n",
       "      <th>formation</th>\n",
       "    </tr>\n",
       "  </thead>\n",
       "  <tbody>\n",
       "    <tr>\n",
       "      <th>12776</th>\n",
       "      <td>796309949768957952</td>\n",
       "      <td>2847233849</td>\n",
       "      <td>{'2018.05.24': True}</td>\n",
       "    </tr>\n",
       "    <tr>\n",
       "      <th>7284</th>\n",
       "      <td>237290209</td>\n",
       "      <td>106086098</td>\n",
       "      <td>{'2018.05.24': True}</td>\n",
       "    </tr>\n",
       "    <tr>\n",
       "      <th>35869</th>\n",
       "      <td>450639507</td>\n",
       "      <td>3064906390</td>\n",
       "      <td>{'2018.05.24': True}</td>\n",
       "    </tr>\n",
       "    <tr>\n",
       "      <th>36077</th>\n",
       "      <td>450639507</td>\n",
       "      <td>1079409680</td>\n",
       "      <td>{'2018.05.24': True}</td>\n",
       "    </tr>\n",
       "    <tr>\n",
       "      <th>62919</th>\n",
       "      <td>2328411684</td>\n",
       "      <td>162310009</td>\n",
       "      <td>{'2018.05.24': True}</td>\n",
       "    </tr>\n",
       "  </tbody>\n",
       "</table>\n",
       "</div>"
      ],
      "text/plain": [
       "             from_user_id  to_user_id             formation\n",
       "12776  796309949768957952  2847233849  {'2018.05.24': True}\n",
       "7284            237290209   106086098  {'2018.05.24': True}\n",
       "35869           450639507  3064906390  {'2018.05.24': True}\n",
       "36077           450639507  1079409680  {'2018.05.24': True}\n",
       "62919          2328411684   162310009  {'2018.05.24': True}"
      ]
     },
     "execution_count": 658,
     "metadata": {},
     "output_type": "execute_result"
    }
   ],
   "source": [
    "user_connections[\"in_sehir\"] = user_connections.apply(lambda row: in_sehir(row), axis=1)\n",
    "sehir_connections = user_connections[user_connections.in_sehir].drop(\"in_sehir\", axis=1)\n",
    "sehir_connections.sample(5)"
   ]
  },
  {
   "cell_type": "code",
   "execution_count": 659,
   "metadata": {},
   "outputs": [
    {
     "data": {
      "text/plain": [
       "(93296, 5237)"
      ]
     },
     "execution_count": 659,
     "metadata": {},
     "output_type": "execute_result"
    }
   ],
   "source": [
    "len(user_connections),len(sehir_connections)"
   ]
  },
  {
   "cell_type": "markdown",
   "metadata": {},
   "source": [
    "## Adding older connections"
   ]
  },
  {
   "cell_type": "code",
   "execution_count": 518,
   "metadata": {},
   "outputs": [],
   "source": [
    "from datetime import datetime\n",
    "def get_dates(cons):\n",
    "    all_dates = set()\n",
    "    str2date = lambda strdate: datetime.strptime(strdate, '%Y.%m.%d')  # 2018.05.08\n",
    "\n",
    "    for dates in cons.formation.apply(lambda x: list(x)):\n",
    "        for date in dates:\n",
    "            all_dates.add(str2date(date))\n",
    "    return [d.strftime('%Y.%m.%d') for d in sorted(all_dates)]\n",
    "\n",
    "def present_in_date(changes_dates, queried_date):\n",
    "    \"\"\"\n",
    "    changes_dates = {d1:True, d2:False, d3:True} connection added or removed\n",
    "    \"\"\"\n",
    "    if changes_dates:\n",
    "        str2date = lambda strdate: datetime.strptime(strdate, '%Y.%m.%d')  # 2018.05.08\n",
    "        changes = sorted(changes_dates,key=lambda d: str2date(d))\n",
    "        queried_date = datetime.strptime(queried_date, '%Y.%m.%d')\n",
    "        present = False\n",
    "        for d in changes:\n",
    "            if queried_date < str2date(d):\n",
    "                break\n",
    "            present = changes_dates[d]\n",
    "        return present\n",
    "    else:\n",
    "        return False"
   ]
  },
  {
   "cell_type": "code",
   "execution_count": 500,
   "metadata": {},
   "outputs": [],
   "source": [
    "con2 = psycopg2.connect('dbname=old host=localhost user=postgres password=1_sehir_1')\n",
    "\n",
    "old_cons = pd.read_sql(\"SELECT * FROM twitter_connection\", con2).drop('id', axis=1)"
   ]
  },
  {
   "cell_type": "code",
   "execution_count": 502,
   "metadata": {},
   "outputs": [
    {
     "data": {
      "text/html": [
       "<div>\n",
       "<style scoped>\n",
       "    .dataframe tbody tr th:only-of-type {\n",
       "        vertical-align: middle;\n",
       "    }\n",
       "\n",
       "    .dataframe tbody tr th {\n",
       "        vertical-align: top;\n",
       "    }\n",
       "\n",
       "    .dataframe thead th {\n",
       "        text-align: right;\n",
       "    }\n",
       "</style>\n",
       "<table border=\"1\" class=\"dataframe\">\n",
       "  <thead>\n",
       "    <tr style=\"text-align: right;\">\n",
       "      <th></th>\n",
       "      <th>from_user_id</th>\n",
       "      <th>to_user_id</th>\n",
       "      <th>formation</th>\n",
       "    </tr>\n",
       "  </thead>\n",
       "  <tbody>\n",
       "    <tr>\n",
       "      <th>12947</th>\n",
       "      <td>736829699918340096</td>\n",
       "      <td>1978734690</td>\n",
       "      <td>{'2018.05.08': True}</td>\n",
       "    </tr>\n",
       "    <tr>\n",
       "      <th>33100</th>\n",
       "      <td>552041002</td>\n",
       "      <td>737056442</td>\n",
       "      <td>{'2018.05.08': True}</td>\n",
       "    </tr>\n",
       "    <tr>\n",
       "      <th>5583</th>\n",
       "      <td>722494878177996800</td>\n",
       "      <td>106086098</td>\n",
       "      <td>{'2018.05.08': True}</td>\n",
       "    </tr>\n",
       "    <tr>\n",
       "      <th>27336</th>\n",
       "      <td>275030892</td>\n",
       "      <td>174415744</td>\n",
       "      <td>{'2018.05.08': True}</td>\n",
       "    </tr>\n",
       "    <tr>\n",
       "      <th>29969</th>\n",
       "      <td>302851095</td>\n",
       "      <td>847741204204634112</td>\n",
       "      <td>{'2018.05.08': True}</td>\n",
       "    </tr>\n",
       "  </tbody>\n",
       "</table>\n",
       "</div>"
      ],
      "text/plain": [
       "             from_user_id          to_user_id             formation\n",
       "12947  736829699918340096          1978734690  {'2018.05.08': True}\n",
       "33100           552041002           737056442  {'2018.05.08': True}\n",
       "5583   722494878177996800           106086098  {'2018.05.08': True}\n",
       "27336           275030892           174415744  {'2018.05.08': True}\n",
       "29969           302851095  847741204204634112  {'2018.05.08': True}"
      ]
     },
     "execution_count": 502,
     "metadata": {},
     "output_type": "execute_result"
    }
   ],
   "source": [
    "old_cons.sample(5)"
   ]
  },
  {
   "cell_type": "code",
   "execution_count": 503,
   "metadata": {},
   "outputs": [
    {
     "data": {
      "text/html": [
       "<div>\n",
       "<style scoped>\n",
       "    .dataframe tbody tr th:only-of-type {\n",
       "        vertical-align: middle;\n",
       "    }\n",
       "\n",
       "    .dataframe tbody tr th {\n",
       "        vertical-align: top;\n",
       "    }\n",
       "\n",
       "    .dataframe thead th {\n",
       "        text-align: right;\n",
       "    }\n",
       "</style>\n",
       "<table border=\"1\" class=\"dataframe\">\n",
       "  <thead>\n",
       "    <tr style=\"text-align: right;\">\n",
       "      <th></th>\n",
       "      <th>from_user_id</th>\n",
       "      <th>to_user_id</th>\n",
       "      <th>formation</th>\n",
       "    </tr>\n",
       "  </thead>\n",
       "  <tbody>\n",
       "    <tr>\n",
       "      <th>156</th>\n",
       "      <td>106086098</td>\n",
       "      <td>405717491</td>\n",
       "      <td>{'2018.05.08': True}</td>\n",
       "    </tr>\n",
       "    <tr>\n",
       "      <th>8332</th>\n",
       "      <td>2644456425</td>\n",
       "      <td>106086098</td>\n",
       "      <td>{'2018.05.08': True}</td>\n",
       "    </tr>\n",
       "    <tr>\n",
       "      <th>36150</th>\n",
       "      <td>450639507</td>\n",
       "      <td>159967656</td>\n",
       "      <td>{'2018.05.08': True}</td>\n",
       "    </tr>\n",
       "    <tr>\n",
       "      <th>13199</th>\n",
       "      <td>239427912</td>\n",
       "      <td>736829699918340096</td>\n",
       "      <td>{'2018.05.08': True}</td>\n",
       "    </tr>\n",
       "    <tr>\n",
       "      <th>20502</th>\n",
       "      <td>1036789573</td>\n",
       "      <td>1666891914</td>\n",
       "      <td>{'2018.05.08': True}</td>\n",
       "    </tr>\n",
       "  </tbody>\n",
       "</table>\n",
       "</div>"
      ],
      "text/plain": [
       "       from_user_id          to_user_id             formation\n",
       "156       106086098           405717491  {'2018.05.08': True}\n",
       "8332     2644456425           106086098  {'2018.05.08': True}\n",
       "36150     450639507           159967656  {'2018.05.08': True}\n",
       "13199     239427912  736829699918340096  {'2018.05.08': True}\n",
       "20502    1036789573          1666891914  {'2018.05.08': True}"
      ]
     },
     "execution_count": 503,
     "metadata": {},
     "output_type": "execute_result"
    }
   ],
   "source": [
    "old_cons[\"in_sehir\"] = old_cons.apply(lambda row: in_sehir(row), axis=1)\n",
    "old_sehir = old_cons[old_cons.in_sehir].drop(\"in_sehir\", axis=1)\n",
    "old_sehir.sample(5)"
   ]
  },
  {
   "cell_type": "code",
   "execution_count": 504,
   "metadata": {},
   "outputs": [
    {
     "data": {
      "text/plain": [
       "(39848, 4652)"
      ]
     },
     "execution_count": 504,
     "metadata": {},
     "output_type": "execute_result"
    }
   ],
   "source": [
    "len(old_cons),len(old_sehir)"
   ]
  },
  {
   "cell_type": "code",
   "execution_count": 511,
   "metadata": {},
   "outputs": [
    {
     "data": {
      "text/plain": [
       "10366"
      ]
     },
     "execution_count": 511,
     "metadata": {},
     "output_type": "execute_result"
    }
   ],
   "source": [
    "concat_cons = pd.concat([sehir_connections, old_sehir])\n",
    "assert len(concat_cons) == len(old_sehir)+len(sehir_connections)\n",
    "len(concat_cons)"
   ]
  },
  {
   "cell_type": "code",
   "execution_count": 583,
   "metadata": {},
   "outputs": [],
   "source": [
    "def optimize_dates(dates_):\n",
    "    dates = {list(d.keys())[0]:d[list(d.keys())[0]] for d in dates_}\n",
    "    str2date = lambda strdate: datetime.strptime(strdate, '%Y.%m.%d')  # 2018.05.08\n",
    "    sorted_dates = sorted(dates, key=lambda d:str2date(d))\n",
    "    optimized_dates = {sorted_dates[0]: True}\n",
    "    for d in range(1, len(sorted_dates)):\n",
    "        if dates[sorted_dates[d-1]] != dates[sorted_dates[d]]:\n",
    "            optimized_dates[sorted_dates[d]] = dates[sorted_dates[d]]\n",
    "    return str(optimized_dates)"
   ]
  },
  {
   "cell_type": "code",
   "execution_count": 586,
   "metadata": {},
   "outputs": [
    {
     "data": {
      "text/plain": [
       "5728"
      ]
     },
     "execution_count": 586,
     "metadata": {},
     "output_type": "execute_result"
    }
   ],
   "source": [
    "grouped_cons = concat_cons.groupby([\"from_user_id\",\"to_user_id\"])[\"formation\"]\\\n",
    "                    .apply(lambda x:optimize_dates(x)).reset_index()\n",
    "len(grouped_cons)"
   ]
  },
  {
   "cell_type": "code",
   "execution_count": 588,
   "metadata": {},
   "outputs": [
    {
     "data": {
      "text/plain": [
       "(4652, 5714)"
      ]
     },
     "execution_count": 588,
     "metadata": {},
     "output_type": "execute_result"
    }
   ],
   "source": [
    "len(old_sehir), len(sehir_connections)"
   ]
  },
  {
   "cell_type": "code",
   "execution_count": 589,
   "metadata": {},
   "outputs": [
    {
     "data": {
      "text/html": [
       "<div>\n",
       "<style scoped>\n",
       "    .dataframe tbody tr th:only-of-type {\n",
       "        vertical-align: middle;\n",
       "    }\n",
       "\n",
       "    .dataframe tbody tr th {\n",
       "        vertical-align: top;\n",
       "    }\n",
       "\n",
       "    .dataframe thead th {\n",
       "        text-align: right;\n",
       "    }\n",
       "</style>\n",
       "<table border=\"1\" class=\"dataframe\">\n",
       "  <thead>\n",
       "    <tr style=\"text-align: right;\">\n",
       "      <th></th>\n",
       "      <th>from_user_id</th>\n",
       "      <th>to_user_id</th>\n",
       "      <th>formation</th>\n",
       "    </tr>\n",
       "  </thead>\n",
       "  <tbody>\n",
       "    <tr>\n",
       "      <th>103</th>\n",
       "      <td>54890014</td>\n",
       "      <td>3892757176</td>\n",
       "      <td>{'2018.05.08': True}</td>\n",
       "    </tr>\n",
       "    <tr>\n",
       "      <th>3005</th>\n",
       "      <td>2203396100</td>\n",
       "      <td>47148388</td>\n",
       "      <td>{'2018.05.24': True}</td>\n",
       "    </tr>\n",
       "    <tr>\n",
       "      <th>1344</th>\n",
       "      <td>450639507</td>\n",
       "      <td>174415744</td>\n",
       "      <td>{'2018.05.08': True}</td>\n",
       "    </tr>\n",
       "    <tr>\n",
       "      <th>4231</th>\n",
       "      <td>3434564488</td>\n",
       "      <td>334139315</td>\n",
       "      <td>{'2018.05.24': True}</td>\n",
       "    </tr>\n",
       "    <tr>\n",
       "      <th>801</th>\n",
       "      <td>266826023</td>\n",
       "      <td>106086098</td>\n",
       "      <td>{'2018.05.08': True}</td>\n",
       "    </tr>\n",
       "  </tbody>\n",
       "</table>\n",
       "</div>"
      ],
      "text/plain": [
       "      from_user_id  to_user_id             formation\n",
       "103       54890014  3892757176  {'2018.05.08': True}\n",
       "3005    2203396100    47148388  {'2018.05.24': True}\n",
       "1344     450639507   174415744  {'2018.05.08': True}\n",
       "4231    3434564488   334139315  {'2018.05.24': True}\n",
       "801      266826023   106086098  {'2018.05.08': True}"
      ]
     },
     "execution_count": 589,
     "metadata": {},
     "output_type": "execute_result"
    }
   ],
   "source": [
    "str2dict = lambda d : ast.literal_eval(d)\n",
    "grouped_cons.formation = grouped_cons.formation.apply(lambda d: str2dict(d))\n",
    "grouped_cons.sample(5)"
   ]
  },
  {
   "cell_type": "code",
   "execution_count": 675,
   "metadata": {},
   "outputs": [],
   "source": [
    "twu_with_orgs.to_csv(\"../datasets/filtered_twitter_users.csv\", index_label=\"id\")\n",
    "twu_with_orgs.to_csv(\"../REST/static/filtered_twitter_users.csv\", index_label=\"id\")\n",
    "\n",
    "grouped_cons.to_csv(\"../datasets/filtered_twitter_connections.csv\", index_label=\"id\")\n",
    "grouped_cons.to_csv(\"../REST/static/filtered_twitter_connections.csv\", index_label=\"id\")"
   ]
  },
  {
   "cell_type": "markdown",
   "metadata": {},
   "source": [
    "## Construct the network"
   ]
  },
  {
   "cell_type": "code",
   "execution_count": 604,
   "metadata": {},
   "outputs": [
    {
     "data": {
      "text/plain": [
       "['2018.05.08', '2018.05.24']"
      ]
     },
     "execution_count": 604,
     "metadata": {},
     "output_type": "execute_result"
    }
   ],
   "source": [
    "dates = get_dates(grouped_cons)\n",
    "dates"
   ]
  },
  {
   "cell_type": "code",
   "execution_count": 608,
   "metadata": {},
   "outputs": [
    {
     "data": {
      "text/html": [
       "<div>\n",
       "<style scoped>\n",
       "    .dataframe tbody tr th:only-of-type {\n",
       "        vertical-align: middle;\n",
       "    }\n",
       "\n",
       "    .dataframe tbody tr th {\n",
       "        vertical-align: top;\n",
       "    }\n",
       "\n",
       "    .dataframe thead th {\n",
       "        text-align: right;\n",
       "    }\n",
       "</style>\n",
       "<table border=\"1\" class=\"dataframe\">\n",
       "  <thead>\n",
       "    <tr style=\"text-align: right;\">\n",
       "      <th></th>\n",
       "      <th>from_user_id</th>\n",
       "      <th>to_user_id</th>\n",
       "      <th>formation</th>\n",
       "      <th>first_date</th>\n",
       "    </tr>\n",
       "  </thead>\n",
       "  <tbody>\n",
       "    <tr>\n",
       "      <th>4445</th>\n",
       "      <td>4354816696</td>\n",
       "      <td>113954902</td>\n",
       "      <td>{'2018.05.24': True}</td>\n",
       "      <td>False</td>\n",
       "    </tr>\n",
       "    <tr>\n",
       "      <th>4118</th>\n",
       "      <td>3299537073</td>\n",
       "      <td>106086098</td>\n",
       "      <td>{'2018.05.08': True}</td>\n",
       "      <td>True</td>\n",
       "    </tr>\n",
       "    <tr>\n",
       "      <th>3893</th>\n",
       "      <td>2940722500</td>\n",
       "      <td>955847747093057537</td>\n",
       "      <td>{'2018.05.08': True}</td>\n",
       "      <td>True</td>\n",
       "    </tr>\n",
       "    <tr>\n",
       "      <th>4210</th>\n",
       "      <td>3407552944</td>\n",
       "      <td>334139315</td>\n",
       "      <td>{'2018.05.24': True}</td>\n",
       "      <td>False</td>\n",
       "    </tr>\n",
       "    <tr>\n",
       "      <th>5603</th>\n",
       "      <td>945405496466575360</td>\n",
       "      <td>847741204204634112</td>\n",
       "      <td>{'2018.05.08': True}</td>\n",
       "      <td>True</td>\n",
       "    </tr>\n",
       "  </tbody>\n",
       "</table>\n",
       "</div>"
      ],
      "text/plain": [
       "            from_user_id          to_user_id             formation  first_date\n",
       "4445          4354816696           113954902  {'2018.05.24': True}       False\n",
       "4118          3299537073           106086098  {'2018.05.08': True}        True\n",
       "3893          2940722500  955847747093057537  {'2018.05.08': True}        True\n",
       "4210          3407552944           334139315  {'2018.05.24': True}       False\n",
       "5603  945405496466575360  847741204204634112  {'2018.05.08': True}        True"
      ]
     },
     "execution_count": 608,
     "metadata": {},
     "output_type": "execute_result"
    }
   ],
   "source": [
    "grouped_cons[\"first_date\"] = grouped_cons.formation.apply(\n",
    "    lambda ds: present_in_date(ds, dates[0]))\n",
    "grouped_cons.sample(5, random_state=42)"
   ]
  },
  {
   "cell_type": "code",
   "execution_count": 664,
   "metadata": {},
   "outputs": [],
   "source": [
    "G = nx.DiGraph()\n",
    "# for _, row in user_connections.iterrows():\n",
    "for _, row in grouped_cons[grouped_cons.first_date==True].iterrows():    \n",
    "    from_ = truncate(row[\"from_user_id\"])\n",
    "    to = truncate(row[\"to_user_id\"])\n",
    "    if from_ in twu_with_orgs.truncated_id and to in twu_with_orgs.truncated_id:\n",
    "        G.add_edge(from_, to)"
   ]
  },
  {
   "cell_type": "code",
   "execution_count": 665,
   "metadata": {},
   "outputs": [],
   "source": [
    "augs = [\"name\", \"screen_name\",\"match_name\", \"followers_count\",\"friends_count\", \"lang\"]\n",
    "for node in G.nodes():\n",
    "    user = twu_with_orgs.loc[node]\n",
    "    for aug in augs:\n",
    "        if aug==\"lang\":\n",
    "            m = user[aug]\n",
    "        elif type(user[aug])==str:\n",
    "            m = clean(user[aug])\n",
    "        else:\n",
    "            m = user[aug]\n",
    "        G.nodes[node][aug] = m"
   ]
  },
  {
   "cell_type": "code",
   "execution_count": 666,
   "metadata": {},
   "outputs": [
    {
     "data": {
      "text/plain": [
       "404"
      ]
     },
     "execution_count": 666,
     "metadata": {},
     "output_type": "execute_result"
    }
   ],
   "source": [
    "len(G.nodes())"
   ]
  },
  {
   "cell_type": "code",
   "execution_count": 667,
   "metadata": {},
   "outputs": [
    {
     "data": {
      "text/plain": [
       "771"
      ]
     },
     "execution_count": 667,
     "metadata": {},
     "output_type": "execute_result"
    }
   ],
   "source": [
    "len(G.edges())"
   ]
  },
  {
   "cell_type": "code",
   "execution_count": 668,
   "metadata": {},
   "outputs": [],
   "source": [
    "for ix,deg in G.degree(G.nodes()):\n",
    "    G.node[ix]['degree'] = deg\n",
    "    G.node[ix]['parity'] = (1-deg%2)\n",
    "    \n",
    "for ix,in_deg in G.in_degree(G.nodes()):\n",
    "    G.node[ix]['in_degree'] = in_deg\n",
    "    \n",
    "for ix,out_deg in G.out_degree(G.nodes()):\n",
    "    G.node[ix]['out_degree'] = out_deg"
   ]
  },
  {
   "cell_type": "code",
   "execution_count": 669,
   "metadata": {},
   "outputs": [],
   "source": [
    "evc = nx.eigenvector_centrality(G)\n",
    "closeness = nx.closeness_centrality(G)\n",
    "betweenness = nx.betweenness_centrality(G)\n",
    "pagerank = nx.pagerank(G)\n",
    "nxg = G.to_undirected()\n",
    "clustering = nx.clustering(nxg)"
   ]
  },
  {
   "cell_type": "code",
   "execution_count": 670,
   "metadata": {},
   "outputs": [],
   "source": [
    "metrics = {\"eigenvector_centrality\":evc,\n",
    "           \"closeness_centrality\":closeness,\n",
    "          \"betweenness\":betweenness,\n",
    "          \"pagerank\":pagerank,\n",
    "          \"clustering_coefficient\":clustering}"
   ]
  },
  {
   "cell_type": "code",
   "execution_count": 671,
   "metadata": {},
   "outputs": [],
   "source": [
    "for metric_name, metric in metrics.items():\n",
    "    for ix,v in metric.items():\n",
    "        G.nodes[ix][metric_name] = v"
   ]
  },
  {
   "cell_type": "code",
   "execution_count": 672,
   "metadata": {},
   "outputs": [
    {
     "data": {
      "text/plain": [
       "(396662786,\n",
       " {'betweenness': 0.0,\n",
       "  'closeness_centrality': 0.0,\n",
       "  'degree': 1,\n",
       "  'eigenvector_centrality': 1.6665676702304377e-22,\n",
       "  'followers_count': 33.0,\n",
       "  'friends_count': 284.0,\n",
       "  'in_degree': 0,\n",
       "  'lang': 'tr',\n",
       "  'match_name': ' sehir mba',\n",
       "  'name': 'nemasehir',\n",
       "  'out_degree': 1,\n",
       "  'pagerank': 0.0004939318456630349,\n",
       "  'parity': 0,\n",
       "  'screen_name': 'nemasehir'})"
      ]
     },
     "execution_count": 672,
     "metadata": {},
     "output_type": "execute_result"
    }
   ],
   "source": [
    "list(G.nodes(data=True))[0]"
   ]
  },
  {
   "cell_type": "code",
   "execution_count": 673,
   "metadata": {},
   "outputs": [],
   "source": [
    "import json\n",
    "from networkx.readwrite import json_graph\n",
    "data = nx.node_link_data(G)\n",
    "with open('../REST/static/networks/twitter_users_graph2.json', 'w') as f:\n",
    "    json.dump(data, f, indent=4)"
   ]
  },
  {
   "cell_type": "markdown",
   "metadata": {},
   "source": [
    "## Calculating Homophily"
   ]
  },
  {
   "cell_type": "code",
   "execution_count": 625,
   "metadata": {},
   "outputs": [],
   "source": [
    "def homophily(nw, metric=\"lang\"):\n",
    "    langs_probs = dict()\n",
    "    for n in nw.nodes():\n",
    "        user = nw.nodes[n]\n",
    "        langs_probs.setdefault(user[metric], 0)\n",
    "        langs_probs[user[metric]] += 1\n",
    "    heterogeneity_fraction_norm = 1 - sum(\n",
    "        [(float(i)/len(nw.nodes()))**2 for i in langs_probs.values()])\n",
    "    cross_edges = sum(\n",
    "        [int(nw.nodes[f][metric] != nw.nodes[t][metric] ) for f,t in nw.edges()])\n",
    "    cross_metric_ratio = cross_edges/float(len(nw.edges()))\n",
    "    print(\"cross-metric edges ratio: \", cross_metric_ratio)\n",
    "    print(\"Heterogeneity Fraction Norm\", heterogeneity_fraction_norm)\n",
    "    return cross_metric_ratio < heterogeneity_fraction_norm"
   ]
  },
  {
   "cell_type": "code",
   "execution_count": 626,
   "metadata": {
    "scrolled": true
   },
   "outputs": [
    {
     "name": "stdout",
     "output_type": "stream",
     "text": [
      "cross-metric edges ratio:  0.48249027237354086\n",
      "Heterogeneity Fraction Norm 0.454747083619253\n"
     ]
    },
    {
     "data": {
      "text/plain": [
       "False"
      ]
     },
     "execution_count": 626,
     "metadata": {},
     "output_type": "execute_result"
    }
   ],
   "source": [
    "homophily(G)"
   ]
  },
  {
   "cell_type": "markdown",
   "metadata": {},
   "source": [
    "# Transitivity"
   ]
  },
  {
   "cell_type": "code",
   "execution_count": 3,
   "metadata": {},
   "outputs": [
    {
     "data": {
      "text/plain": [
       "0.016792666543739957"
      ]
     },
     "execution_count": 3,
     "metadata": {},
     "output_type": "execute_result"
    }
   ],
   "source": [
    "nx.transitivity(G)"
   ]
  }
 ],
 "metadata": {
  "kernelspec": {
   "display_name": "Python 3",
   "language": "python",
   "name": "python3"
  },
  "language_info": {
   "codemirror_mode": {
    "name": "ipython",
    "version": 3
   },
   "file_extension": ".py",
   "mimetype": "text/x-python",
   "name": "python",
   "nbconvert_exporter": "python",
   "pygments_lexer": "ipython3",
   "version": "3.5.2"
  }
 },
 "nbformat": 4,
 "nbformat_minor": 2
}
