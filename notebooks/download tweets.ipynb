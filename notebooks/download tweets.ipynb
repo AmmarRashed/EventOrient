{
 "cells": [
  {
   "cell_type": "code",
   "execution_count": 1,
   "metadata": {},
   "outputs": [],
   "source": [
    "import sys\n",
    "sys.path.append('../ML_Analysis')"
   ]
  },
  {
   "cell_type": "code",
   "execution_count": 2,
   "metadata": {},
   "outputs": [],
   "source": [
    "import pandas as pd\n",
    "import numpy as np\n",
    "import gensim as gn\n",
    "import tweepy\n",
    "from parse import parse\n",
    "\n",
    "import pickle"
   ]
  },
  {
   "cell_type": "code",
   "execution_count": 13,
   "metadata": {},
   "outputs": [],
   "source": [
    "from AdaptiveOnlineClustering import AdaptiveOnlineClustering as aoc"
   ]
  },
  {
   "cell_type": "code",
   "execution_count": 5,
   "metadata": {},
   "outputs": [],
   "source": [
    "path = 'Downloads/sehir_matches.csv'\n",
    "sehir_twitter = pd.read_csv(path)"
   ]
  },
  {
   "cell_type": "code",
   "execution_count": null,
   "metadata": {},
   "outputs": [],
   "source": [
    "template = 'api_key:{api_key};api_secret:{api_secret};access_token:{access_token};access_secret:{access_secret};'\n",
    "\n",
    "with open('cr', 'r') as f:\n",
    "    credentials = parse(template, f.read().replace('\\n', ''))"
   ]
  },
  {
   "cell_type": "code",
   "execution_count": null,
   "metadata": {},
   "outputs": [],
   "source": [
    "auth = tweepy.OAuthHandler(credentials['api_key'], credentials['api_secret'])\n",
    "auth.set_access_token(credentials['access_token'], credentials['access_secret'])\n",
    "\n",
    "api = tweepy.API(auth)"
   ]
  },
  {
   "cell_type": "code",
   "execution_count": null,
   "metadata": {},
   "outputs": [],
   "source": [
    "sample = np.random.choice(sehir_twitter.twitter_screen_name, size=1000, replace=False)\n",
    "statuses = []\n",
    "\n",
    "for user in sample:\n",
    "    try:\n",
    "        statuses.append(api.user_timeline(user))\n",
    "        \n",
    "    except Exception as e:\n",
    "        print(e, user)"
   ]
  },
  {
   "cell_type": "code",
   "execution_count": null,
   "metadata": {},
   "outputs": [],
   "source": [
    "len(statuses)"
   ]
  },
  {
   "cell_type": "code",
   "execution_count": null,
   "metadata": {},
   "outputs": [],
   "source": [
    "pickle.dump(statuses, open('tweets.pkl', 'wb'))"
   ]
  },
  {
   "cell_type": "code",
   "execution_count": 12,
   "metadata": {},
   "outputs": [],
   "source": [
    "model = gn.models.KeyedVectors.load_word2vec_format('/home/ammar/NLP_data/GoogleNews-vectors-negative300.bin', binary=True)  "
   ]
  },
  {
   "cell_type": "code",
   "execution_count": 22,
   "metadata": {},
   "outputs": [],
   "source": [
    "tweets = pickle.load(open('../datasets/tweets.pkl', 'rb'))"
   ]
  },
  {
   "cell_type": "code",
   "execution_count": 6,
   "metadata": {},
   "outputs": [],
   "source": [
    "from sklearn.cluster import MiniBatchKMeans, Birch"
   ]
  },
  {
   "cell_type": "code",
   "execution_count": 15,
   "metadata": {},
   "outputs": [],
   "source": [
    "a = aoc(model, None)"
   ]
  },
  {
   "cell_type": "code",
   "execution_count": 39,
   "metadata": {},
   "outputs": [],
   "source": [
    "all_tweets = []\n",
    "\n",
    "for user in tweets:\n",
    "    for tweet in user:\n",
    "        if tweet.lang == 'en':\n",
    "            all_tweets.append(tweet)"
   ]
  },
  {
   "cell_type": "code",
   "execution_count": 40,
   "metadata": {},
   "outputs": [
    {
     "data": {
      "text/plain": [
       "878"
      ]
     },
     "execution_count": 40,
     "metadata": {},
     "output_type": "execute_result"
    }
   ],
   "source": [
    "len(all_tweets)"
   ]
  },
  {
   "cell_type": "code",
   "execution_count": 47,
   "metadata": {},
   "outputs": [],
   "source": [
    "tweets_v = [a.vectorize(i.text, language='en') for i in all_tweets]"
   ]
  },
  {
   "cell_type": "code",
   "execution_count": 48,
   "metadata": {},
   "outputs": [
    {
     "data": {
      "text/plain": [
       "(878, 300)"
      ]
     },
     "execution_count": 48,
     "metadata": {},
     "output_type": "execute_result"
    }
   ],
   "source": [
    "np.array(tweets_v).shape"
   ]
  },
  {
   "cell_type": "code",
   "execution_count": 54,
   "metadata": {},
   "outputs": [
    {
     "name": "stderr",
     "output_type": "stream",
     "text": [
      "/usr/local/lib/python3.5/dist-packages/sklearn/cluster/k_means_.py:1418: RuntimeWarning: init_size=300 should be larger than k=500. Setting it to 3*k\n",
      "  init_size=init_size)\n"
     ]
    }
   ],
   "source": [
    "mbk = MiniBatchKMeans(n_clusters=500).fit(tweets_v)"
   ]
  },
  {
   "cell_type": "code",
   "execution_count": 57,
   "metadata": {},
   "outputs": [
    {
     "data": {
      "text/plain": [
       "array([  7,   8,   3,   5, 112,  11,   2,   5,   2,   4, 119,   6,   4,\n",
       "        26,   4,   4,   1,  25,  11,   6,   3,   3,   2,   1,   1,   2,\n",
       "         3,   4,   7,  25,   9,   2,   4,  13,  20,   6,   4,   6,   1,\n",
       "         6,   2,   3,   2,   2,   2,   3,   4, 105,   2,   9,   3,   3,\n",
       "        13,   5,   2,   2,   1,   3,   4,   3,   3,   3,   4,   1,   5,\n",
       "         2,   5,   1,   4,   3,   1,   3,   3,  30,   3,   3,   2,  77,\n",
       "         3,   1,   1,   1,   3,   2,   5,   2,   2,   3,   2,   1,   2,\n",
       "         5,   4,   2,  17,   1,   5,   8,  10,   2,   2,   1,   6,   1,\n",
       "         1,  18,   2,   4,   1,   1,   3,   2,   2,   1,   2,   2,   5,\n",
       "         3,   4,   1,   1,   9,   5,   2,   7,   4,   2,   1,   3,   3,\n",
       "         1,   4,   6,   1,   3,   2,   3,   1,   1,   1,   1,   6,   1,\n",
       "         3,   2,   2,   5,   1,   2,   1,   2,   3,   2,   4,   1,   2,\n",
       "         3,   6,   4,   3,   1,   1,   1,   1,   2,   1,   4,   3,   2,\n",
       "         4,   3,   2,   2,   4,   8,   1,  10,   1,   2,   3,   1,  26,\n",
       "         2,   1,   5,   1,   3,   2,   2,   1,   4,   2,   2,  10,   4,\n",
       "         5,   6,   1,   9,   3,   7,   6,   2,   2,   1,   1,  14,   1,\n",
       "         1,   3,   2,   4,   2,   2,   1,   2,  22,   2,   2,   4,   2,\n",
       "         2,   6,   3,   1,   5,   7,   1,   3,   3,   3,   3,   6,   3,\n",
       "         5,   3,   7,   1,   3,   2,   7,   2,   4,   1,   1,   1,   2,\n",
       "         2,   2,   4,   1,   1,   4,   9,   4,   1,   2,   2,   4,   3,\n",
       "         1,   4,   1,   2,   3,   3,  18,   5,   1,   1,   4,   1,   3,\n",
       "        12,   3,   4,   3,   1,   2,   4,   1,   6,   2,   1,   4,   1,\n",
       "         5,   6,   3,   1,   5,   1,   6,   3,   9,   3,   1,   2,   3,\n",
       "         4,   1,   1,   7,   3,   1,   5,   1,   1,   5,   5,   4,   1,\n",
       "         3,   5,   3,   4,  16,   1,   5,   1,   3,   1,   2,   3,   2,\n",
       "         3,   2,   3,   2,   5,   3,   5,   4,   3,   2,   6,   4,   1,\n",
       "         3,   1,   4,   7,   3,   3,   7,   2,   1,   2,   3,   1,   5,\n",
       "         4,   1,   4,   3,   1,   1,  17,   5,   1,   3,   2,   2,   2,\n",
       "         1,   3,   2,   1,   3,   4,   5,   2,   1,   5,   2,   1,   2,\n",
       "         5,   2,   3,   3,   2,   4,   4,   6,   2,   3,   1,   3,   2,\n",
       "         1,   2,   2,   3,   2,   3,  10,   4,   3,   1,   1,   5,   2,\n",
       "         2,   3,   4,   2,   2,   5,   2,   5,   1,   4,   1,   5,   7,\n",
       "         1,   5,   1,   4,   4,   1,   1,   4,   3,   3,   9,   1,   1,\n",
       "         1,   2,   2,   6,   4,   6,   3,   3,   1,   1,   2,   4,   6,\n",
       "         6,   4,   1,   5,   3,   3,   3,   2,   3,   2,   2,   2,   4,\n",
       "         4,   1,   2,   4,   1,   1,   2,   3,  28,   1,   4,   4,   1,\n",
       "         3,   7,   2,   8,   4,   4,   3,   1,   1,   2,   2,   4,   7,\n",
       "         3,   4,   1,  85,   2,  55,   3,   2,   1,   2,   5,   1,   2,\n",
       "         1,   1,   3,   2,   4,   5], dtype=int32)"
      ]
     },
     "execution_count": 57,
     "metadata": {},
     "output_type": "execute_result"
    }
   ],
   "source": [
    "mbk.counts_"
   ]
  },
  {
   "cell_type": "code",
   "execution_count": 10,
   "metadata": {},
   "outputs": [],
   "source": [
    "for t in tweets[0][:100]:\n",
    "    lang = t.lang\n",
    "    if lang != \"en\": continue\n",
    "    text = t.text\n",
    "    vect = a.vectorize(text, lang)\n",
    "#     mbk.partial_fit(vect)\n",
    "    mbk.fit_transform(vect)\n",
    "    "
   ]
  },
  {
   "cell_type": "code",
   "execution_count": 9,
   "metadata": {},
   "outputs": [],
   "source": [
    "for t in tweets[1][:100]:\n",
    "    lang = t.lang\n",
    "    if lang != \"en\": continue\n",
    "    text = t.text\n",
    "    vect = a.vectorize(text, lang)\n",
    "    mbk.partial_fit(vect)\n",
    "    "
   ]
  },
  {
   "cell_type": "code",
   "execution_count": 10,
   "metadata": {},
   "outputs": [
    {
     "ename": "AttributeError",
     "evalue": "'MiniBatchKMeans' object has no attribute 'count_'",
     "output_type": "error",
     "traceback": [
      "\u001b[0;31m---------------------------------------------------------------------------\u001b[0m",
      "\u001b[0;31mAttributeError\u001b[0m                            Traceback (most recent call last)",
      "\u001b[0;32m<ipython-input-10-3649c5292685>\u001b[0m in \u001b[0;36m<module>\u001b[0;34m()\u001b[0m\n\u001b[0;32m----> 1\u001b[0;31m \u001b[0mmbk\u001b[0m\u001b[0;34m.\u001b[0m\u001b[0mcount_\u001b[0m\u001b[0;34m\u001b[0m\u001b[0m\n\u001b[0m",
      "\u001b[0;31mAttributeError\u001b[0m: 'MiniBatchKMeans' object has no attribute 'count_'"
     ]
    }
   ],
   "source": [
    "mbk.c"
   ]
  },
  {
   "cell_type": "code",
   "execution_count": null,
   "metadata": {},
   "outputs": [],
   "source": []
  }
 ],
 "metadata": {
  "kernelspec": {
   "display_name": "Python 3",
   "language": "python",
   "name": "python3"
  },
  "language_info": {
   "codemirror_mode": {
    "name": "ipython",
    "version": 3
   },
   "file_extension": ".py",
   "mimetype": "text/x-python",
   "name": "python",
   "nbconvert_exporter": "python",
   "pygments_lexer": "ipython3",
   "version": "3.5.2"
  }
 },
 "nbformat": 4,
 "nbformat_minor": 2
}
