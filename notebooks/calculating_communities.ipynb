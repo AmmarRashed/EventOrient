{
 "cells": [
  {
   "cell_type": "code",
   "execution_count": 14,
   "metadata": {},
   "outputs": [],
   "source": [
    "import snap\n",
    "import time, pandas as pd, pickle, json, networkx as nx, numpy as np\n",
    "from networkx.readwrite import json_graph"
   ]
  },
  {
   "cell_type": "code",
   "execution_count": 16,
   "metadata": {},
   "outputs": [
    {
     "data": {
      "text/html": [
       "<div>\n",
       "<style scoped>\n",
       "    .dataframe tbody tr th:only-of-type {\n",
       "        vertical-align: middle;\n",
       "    }\n",
       "\n",
       "    .dataframe tbody tr th {\n",
       "        vertical-align: top;\n",
       "    }\n",
       "\n",
       "    .dataframe thead th {\n",
       "        text-align: right;\n",
       "    }\n",
       "</style>\n",
       "<table border=\"1\" class=\"dataframe\">\n",
       "  <thead>\n",
       "    <tr style=\"text-align: right;\">\n",
       "      <th></th>\n",
       "      <th>from_user_id</th>\n",
       "      <th>to_user_id</th>\n",
       "      <th>formation</th>\n",
       "    </tr>\n",
       "  </thead>\n",
       "  <tbody>\n",
       "    <tr>\n",
       "      <th>13820</th>\n",
       "      <td>272006436</td>\n",
       "      <td>99515495</td>\n",
       "      <td>{'2018.05.07': True}</td>\n",
       "    </tr>\n",
       "    <tr>\n",
       "      <th>11090</th>\n",
       "      <td>123545757</td>\n",
       "      <td>437858563</td>\n",
       "      <td>{'2018.05.07': True}</td>\n",
       "    </tr>\n",
       "    <tr>\n",
       "      <th>9498</th>\n",
       "      <td>979272110</td>\n",
       "      <td>999498842</td>\n",
       "      <td>{'2018.05.05': True}</td>\n",
       "    </tr>\n",
       "    <tr>\n",
       "      <th>5394</th>\n",
       "      <td>548750474</td>\n",
       "      <td>985207736</td>\n",
       "      <td>{'2018.05.04': True}</td>\n",
       "    </tr>\n",
       "    <tr>\n",
       "      <th>10287</th>\n",
       "      <td>154837447</td>\n",
       "      <td>778977823</td>\n",
       "      <td>{'2018.05.06': True}</td>\n",
       "    </tr>\n",
       "  </tbody>\n",
       "</table>\n",
       "</div>"
      ],
      "text/plain": [
       "       from_user_id  to_user_id             formation\n",
       "13820     272006436    99515495  {'2018.05.07': True}\n",
       "11090     123545757   437858563  {'2018.05.07': True}\n",
       "9498      979272110   999498842  {'2018.05.05': True}\n",
       "5394      548750474   985207736  {'2018.05.04': True}\n",
       "10287     154837447   778977823  {'2018.05.06': True}"
      ]
     },
     "execution_count": 16,
     "metadata": {},
     "output_type": "execute_result"
    }
   ],
   "source": [
    "cons = pd.read_csv(\"../REST/static/random_connections.csv\", index_col=\"Unnamed: 0\")\n",
    "cons.sample(5)"
   ]
  },
  {
   "cell_type": "code",
   "execution_count": 17,
   "metadata": {},
   "outputs": [
    {
     "data": {
      "text/html": [
       "<div>\n",
       "<style scoped>\n",
       "    .dataframe tbody tr th:only-of-type {\n",
       "        vertical-align: middle;\n",
       "    }\n",
       "\n",
       "    .dataframe tbody tr th {\n",
       "        vertical-align: top;\n",
       "    }\n",
       "\n",
       "    .dataframe thead th {\n",
       "        text-align: right;\n",
       "    }\n",
       "</style>\n",
       "<table border=\"1\" class=\"dataframe\">\n",
       "  <thead>\n",
       "    <tr style=\"text-align: right;\">\n",
       "      <th></th>\n",
       "      <th>match_name</th>\n",
       "      <th>screen_name</th>\n",
       "      <th>match_ratio</th>\n",
       "      <th>tw_id</th>\n",
       "      <th>name</th>\n",
       "      <th>lang</th>\n",
       "      <th>followers_count</th>\n",
       "      <th>friends_count</th>\n",
       "      <th>is_org</th>\n",
       "      <th>community</th>\n",
       "    </tr>\n",
       "    <tr>\n",
       "      <th>id</th>\n",
       "      <th></th>\n",
       "      <th></th>\n",
       "      <th></th>\n",
       "      <th></th>\n",
       "      <th></th>\n",
       "      <th></th>\n",
       "      <th></th>\n",
       "      <th></th>\n",
       "      <th></th>\n",
       "      <th></th>\n",
       "    </tr>\n",
       "  </thead>\n",
       "  <tbody>\n",
       "    <tr>\n",
       "      <th>769479365</th>\n",
       "      <td>kariyer merkezi</td>\n",
       "      <td>ikmkariyer</td>\n",
       "      <td>95</td>\n",
       "      <td>7.694794e+17</td>\n",
       "      <td>İst. Kariyer Merkezi</td>\n",
       "      <td>tr</td>\n",
       "      <td>135.0</td>\n",
       "      <td>1065.0</td>\n",
       "      <td>False</td>\n",
       "      <td>33</td>\n",
       "    </tr>\n",
       "    <tr>\n",
       "      <th>757405478</th>\n",
       "      <td>mehmet arif ergun</td>\n",
       "      <td>ErgunMehmetA</td>\n",
       "      <td>91</td>\n",
       "      <td>7.574055e+17</td>\n",
       "      <td>Mehmet Ali Ergun</td>\n",
       "      <td>en</td>\n",
       "      <td>41.0</td>\n",
       "      <td>145.0</td>\n",
       "      <td>False</td>\n",
       "      <td>22</td>\n",
       "    </tr>\n",
       "    <tr>\n",
       "      <th>209749537</th>\n",
       "      <td>zafer demir</td>\n",
       "      <td>ZaferDemir_fr</td>\n",
       "      <td>100</td>\n",
       "      <td>2.097495e+08</td>\n",
       "      <td>Zafer Demir</td>\n",
       "      <td>fr</td>\n",
       "      <td>448.0</td>\n",
       "      <td>1812.0</td>\n",
       "      <td>False</td>\n",
       "      <td>36</td>\n",
       "    </tr>\n",
       "    <tr>\n",
       "      <th>152042796</th>\n",
       "      <td>ebubekir ceylan</td>\n",
       "      <td>ceylaneb</td>\n",
       "      <td>100</td>\n",
       "      <td>1.520428e+09</td>\n",
       "      <td>ebubekir ceylan</td>\n",
       "      <td>tr</td>\n",
       "      <td>2809.0</td>\n",
       "      <td>1259.0</td>\n",
       "      <td>False</td>\n",
       "      <td>3</td>\n",
       "    </tr>\n",
       "    <tr>\n",
       "      <th>915539516</th>\n",
       "      <td>merve akkus</td>\n",
       "      <td>merakks</td>\n",
       "      <td>91</td>\n",
       "      <td>9.155395e+08</td>\n",
       "      <td>merve akkuş</td>\n",
       "      <td>tr</td>\n",
       "      <td>60.0</td>\n",
       "      <td>247.0</td>\n",
       "      <td>False</td>\n",
       "      <td>27</td>\n",
       "    </tr>\n",
       "  </tbody>\n",
       "</table>\n",
       "</div>"
      ],
      "text/plain": [
       "                  match_name    screen_name  match_ratio         tw_id  \\\n",
       "id                                                                       \n",
       "769479365    kariyer merkezi     ikmkariyer           95  7.694794e+17   \n",
       "757405478  mehmet arif ergun   ErgunMehmetA           91  7.574055e+17   \n",
       "209749537        zafer demir  ZaferDemir_fr          100  2.097495e+08   \n",
       "152042796    ebubekir ceylan       ceylaneb          100  1.520428e+09   \n",
       "915539516        merve akkus        merakks           91  9.155395e+08   \n",
       "\n",
       "                           name lang  followers_count  friends_count  is_org  \\\n",
       "id                                                                             \n",
       "769479365  İst. Kariyer Merkezi   tr            135.0         1065.0   False   \n",
       "757405478      Mehmet Ali Ergun   en             41.0          145.0   False   \n",
       "209749537           Zafer Demir   fr            448.0         1812.0   False   \n",
       "152042796       ebubekir ceylan   tr           2809.0         1259.0   False   \n",
       "915539516           merve akkuş   tr             60.0          247.0   False   \n",
       "\n",
       "           community  \n",
       "id                    \n",
       "769479365         33  \n",
       "757405478         22  \n",
       "209749537         36  \n",
       "152042796          3  \n",
       "915539516         27  "
      ]
     },
     "execution_count": 17,
     "metadata": {},
     "output_type": "execute_result"
    }
   ],
   "source": [
    "twitter_users = pd.read_csv(\"../REST/static/twitter_users.csv\", index_col=\"id\")\n",
    "twitter_users.sample(5)"
   ]
  },
  {
   "cell_type": "code",
   "execution_count": 21,
   "metadata": {},
   "outputs": [],
   "source": [
    "nxg = nx.DiGraph()\n",
    "truncate = lambda x: int(str(int(x))[:9])\n",
    "for _, row in cons.iterrows():    \n",
    "    from_ = truncate(row[\"from_user_id\"])\n",
    "    to = truncate(row[\"to_user_id\"])\n",
    "    if from_ in twitter_users.index and to in twitter_users.index:\n",
    "        nxg.add_edge(from_, to)\n",
    "nxg = nxg.to_directed()"
   ]
  },
  {
   "cell_type": "code",
   "execution_count": 2,
   "metadata": {},
   "outputs": [],
   "source": [
    "# with open('../REST/static/networks/twitter_users_graph2.json', 'r') as f:\n",
    "#     data = json.load(f)\n",
    "#     nxg = json_graph.node_link_graph(data, directed=True)\n",
    "# nxg = nxg.to_directed()"
   ]
  },
  {
   "cell_type": "code",
   "execution_count": 22,
   "metadata": {},
   "outputs": [],
   "source": [
    "g = snap.PUNGraph.New()"
   ]
  },
  {
   "cell_type": "code",
   "execution_count": 23,
   "metadata": {},
   "outputs": [],
   "source": [
    "for n in nxg.nodes():\n",
    "    g.AddNode(n)"
   ]
  },
  {
   "cell_type": "code",
   "execution_count": 24,
   "metadata": {},
   "outputs": [],
   "source": [
    "for f,t in nxg.edges():\n",
    "    g.AddEdge(f, t)"
   ]
  },
  {
   "cell_type": "code",
   "execution_count": 25,
   "metadata": {},
   "outputs": [],
   "source": [
    "CmtyV = snap.TCnComV()"
   ]
  },
  {
   "cell_type": "markdown",
   "metadata": {},
   "source": [
    "## Calculating communities for nodes that had an edge at least once"
   ]
  },
  {
   "cell_type": "code",
   "execution_count": null,
   "metadata": {},
   "outputs": [],
   "source": [
    "start = time.time()\n",
    "modularity = snap.CommunityGirvanNewman(g, CmtyV)\n",
    "print(time.time()-start)"
   ]
  },
  {
   "cell_type": "code",
   "execution_count": null,
   "metadata": {},
   "outputs": [],
   "source": [
    "nodes_communities = {} # {node: [community]}\n",
    "for i, Cmty in enumerate(CmtyV):\n",
    "    print (\"Community: \")\n",
    "    for NI in Cmty:\n",
    "        nodes_communities.setdefault(NI, [])\n",
    "        nodes_communities[NI].append(i)\n",
    "        print (NI)\n",
    "print (\"The modularity of the network is %f\" % modularity)"
   ]
  },
  {
   "cell_type": "code",
   "execution_count": null,
   "metadata": {},
   "outputs": [],
   "source": [
    "twitter_users[\"community\"] = twitter_users.index.apply(lambda node: \" \".join([str(com) for com in nodes_communities[node]]))\n",
    "twitter_users.sample(5)"
   ]
  },
  {
   "cell_type": "code",
   "execution_count": null,
   "metadata": {},
   "outputs": [],
   "source": [
    "twitter_users.to_csv(\"../REST/static/twitter_users.csv\", index_label=\"id\")"
   ]
  },
  {
   "cell_type": "markdown",
   "metadata": {},
   "source": [
    "## Or, Augmenting the network directly"
   ]
  },
  {
   "cell_type": "code",
   "execution_count": null,
   "metadata": {},
   "outputs": [],
   "source": [
    "for node in nxg.nodes():\n",
    "    nxg.nodes[node][\"community\"] = \" \".join([str(com) for com in nodes_communities[node]])"
   ]
  },
  {
   "cell_type": "code",
   "execution_count": null,
   "metadata": {},
   "outputs": [],
   "source": [
    "def networkx_to_snappy(nxg, directed=False):\n",
    "    if directed:\n",
    "        g = snap.PNGraph.New()\n",
    "    else:\n",
    "        g = snap.PUNGraph.New()\n",
    "        \n",
    "    for n in nxg.nodes():\n",
    "        g.AddNode(n)\n",
    "    for f,t in nxg.edges():\n",
    "        g.AddEdge(f, t)\n",
    "        \n",
    "    return g"
   ]
  },
  {
   "cell_type": "code",
   "execution_count": null,
   "metadata": {},
   "outputs": [],
   "source": [
    "data = nx.node_link_data(nxg)\n",
    "data[\"modularity\"] = modularity\n",
    "data[\"number_of_communities\"] = len(CmtyV)\n",
    "\n",
    "snappy_directed = networkx_to_snappy(nxg, True)\n",
    "snappy_undirected = networkx_to_snappy(nxg, True)\n",
    "\n",
    "diam_directed = snap.GetBfsFullDiam(snappy_directed, 100, True)\n",
    "diam_undirected = snap.GetBfsFullDiam(snappy_undirected, 100, False)\n",
    "\n",
    "data[\"diameter_directed\"]=diam_directed\n",
    "data[\"diameter_undirected\"]=diam_undirected\n",
    "with open('../visualization/twitter_users_graph2.json', 'w') as f:\n",
    "    json.dump(data, f, indent=4)\n",
    "    \n",
    "with open('../REST/static/networks/twitter_users_graph2.json', 'w') as f:\n",
    "    json.dump(data, f, indent=4)"
   ]
  }
 ],
 "metadata": {
  "kernelspec": {
   "display_name": "Python 2",
   "language": "python",
   "name": "python2"
  },
  "language_info": {
   "codemirror_mode": {
    "name": "ipython",
    "version": 2
   },
   "file_extension": ".py",
   "mimetype": "text/x-python",
   "name": "python",
   "nbconvert_exporter": "python",
   "pygments_lexer": "ipython2",
   "version": "2.7.12"
  }
 },
 "nbformat": 4,
 "nbformat_minor": 2
}
