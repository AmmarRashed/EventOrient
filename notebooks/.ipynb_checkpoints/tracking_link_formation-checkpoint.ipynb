{
 "cells": [
  {
   "cell_type": "code",
   "execution_count": 1,
   "metadata": {},
   "outputs": [],
   "source": [
    "import psycopg2\n",
    "\n",
    "import pandas as pd\n",
    "import numpy as np\n",
    "\n",
    "from copy import deepcopy\n",
    "\n",
    "import ast\n",
    "import random\n",
    "import networkx as nx\n",
    "import time, unicodedata\n",
    "import itertools\n",
    "\n",
    "from fuzzywuzzy import fuzz\n",
    "from fuzzywuzzy import process\n",
    "\n",
    "from joblib import Parallel, delayed"
   ]
  },
  {
   "cell_type": "code",
   "execution_count": 2,
   "metadata": {},
   "outputs": [],
   "source": [
    "def clean(name, min_len=5, junk_replacement=''):\n",
    "    try:\n",
    "        cleaned = unicodedata.normalize('NFKD', name).encode('ascii', 'ignore').lower().decode(\"ascii\")\n",
    "    except TypeError:\n",
    "        return junk_replacement\n",
    "    if len(cleaned) < min_len:\n",
    "        return junk_replacement\n",
    "    return cleaned\n",
    "\n",
    "def get_matches_edit_distance(item, choices, limit, scorer=fuzz.WRatio):\n",
    "    return process.extract(item, choices, limit=limit, scorer=scorer)\n",
    "counter = 0\n",
    "def get_sehir_twitter_matches(twitter_users, sehir_directory, limit=1):\n",
    "    global fullnames, counter\n",
    "    twitter_user_by_screen_name = twitter_users.set_index('screen_name')\n",
    "    start = time.time()\n",
    "    for screen_name in twitter_users['screen_name']:\n",
    "        twitter_name = twitter_user_by_screen_name.loc[screen_name]['name']\n",
    "        match_name = get_matches_edit_distance(twitter_name, fullnames, limit)\n",
    "        counter += 1\n",
    "#         if counter %100 == 0:\n",
    "#             print(counter, \"out of \", len(twitter_users))\n",
    "#             start_ = time.time()\n",
    "#             print(start_-start, \"seconds\")\n",
    "#             start = start_\n",
    "        yield (screen_name, match_name)\n",
    "        \n",
    "def filter_matches_by_threshold(matches_dict, threshold=70):\n",
    "    filtered_dict = dict()\n",
    "    for screen_name, matches in matches_dict.items():\n",
    "        filtered = [(match, score) for match, score in matches if score > threshold]\n",
    "        \n",
    "        if filtered:\n",
    "            filtered_dict[screen_name] = filtered\n",
    "        \n",
    "    return filtered_dict\n",
    "\n",
    "def get_matches_dataframe(twitter_users, sehir_directory, threshold=70, limit=1):\n",
    "    matches = {screen_name : match_name for screen_name, match_name in \n",
    "               get_sehir_twitter_matches(twitter_users, sehir_directory, limit=limit)}\n",
    "    \n",
    "    filtered_matches = filter_matches_by_threshold(matches, threshold=threshold)\n",
    "    screen_names = filtered_matches.keys()\n",
    "    return pd.DataFrame({'screen_name': list(screen_names),\n",
    "                         'match_name': [filtered_matches[screen_name] for screen_name in screen_names]})"
   ]
  },
  {
   "cell_type": "code",
   "execution_count": 3,
   "metadata": {},
   "outputs": [],
   "source": [
    "connection = psycopg2.connect('dbname=link_formation host=localhost user=postgres password=1_sehir_1')\n",
    "\n",
    "user_connections = pd.read_sql(\"SELECT * FROM twitter_connection\", connection).drop('id', axis=1)"
   ]
  },
  {
   "cell_type": "code",
   "execution_count": 4,
   "metadata": {
    "scrolled": false
   },
   "outputs": [
    {
     "data": {
      "text/html": [
       "<div>\n",
       "<style scoped>\n",
       "    .dataframe tbody tr th:only-of-type {\n",
       "        vertical-align: middle;\n",
       "    }\n",
       "\n",
       "    .dataframe tbody tr th {\n",
       "        vertical-align: top;\n",
       "    }\n",
       "\n",
       "    .dataframe thead th {\n",
       "        text-align: right;\n",
       "    }\n",
       "</style>\n",
       "<table border=\"1\" class=\"dataframe\">\n",
       "  <thead>\n",
       "    <tr style=\"text-align: right;\">\n",
       "      <th></th>\n",
       "      <th>id</th>\n",
       "      <th>name</th>\n",
       "      <th>screen_name</th>\n",
       "      <th>lang</th>\n",
       "      <th>match_name</th>\n",
       "      <th>match_ratio</th>\n",
       "      <th>followers_count</th>\n",
       "      <th>friends_count</th>\n",
       "      <th>truncated_id</th>\n",
       "    </tr>\n",
       "  </thead>\n",
       "  <tbody>\n",
       "    <tr>\n",
       "      <th>23840</th>\n",
       "      <td>4.108840e+08</td>\n",
       "      <td>orhanvahitguler</td>\n",
       "      <td>orhan_vahit</td>\n",
       "      <td>tr</td>\n",
       "      <td>Orhan Guler</td>\n",
       "      <td>77.0</td>\n",
       "      <td>97.0</td>\n",
       "      <td>501.0</td>\n",
       "      <td>410884010</td>\n",
       "    </tr>\n",
       "    <tr>\n",
       "      <th>33392</th>\n",
       "      <td>9.661978e+17</td>\n",
       "      <td>Gökhan Bozbaş دـ گوكخان بوزباش</td>\n",
       "      <td>gbozbash</td>\n",
       "      <td>tr</td>\n",
       "      <td>Gokhan Bora Esmer</td>\n",
       "      <td>74.0</td>\n",
       "      <td>113.0</td>\n",
       "      <td>281.0</td>\n",
       "      <td>966197821</td>\n",
       "    </tr>\n",
       "    <tr>\n",
       "      <th>23967</th>\n",
       "      <td>6.154104e+08</td>\n",
       "      <td>Trend Topics</td>\n",
       "      <td>TrendTopics3D</td>\n",
       "      <td>tr</td>\n",
       "      <td>trend micro</td>\n",
       "      <td>70.0</td>\n",
       "      <td>31.0</td>\n",
       "      <td>369.0</td>\n",
       "      <td>615410354</td>\n",
       "    </tr>\n",
       "    <tr>\n",
       "      <th>7595</th>\n",
       "      <td>1.006486e+09</td>\n",
       "      <td>Aysel İşler</td>\n",
       "      <td>psikologvari</td>\n",
       "      <td>tr</td>\n",
       "      <td>Aysel Isler</td>\n",
       "      <td>95.0</td>\n",
       "      <td>112.0</td>\n",
       "      <td>174.0</td>\n",
       "      <td>100648551</td>\n",
       "    </tr>\n",
       "    <tr>\n",
       "      <th>37939</th>\n",
       "      <td>9.423449e+17</td>\n",
       "      <td>Hasan Nayir</td>\n",
       "      <td>hasannyr</td>\n",
       "      <td>tr</td>\n",
       "      <td>Hasan Huseyin Ates</td>\n",
       "      <td>86.0</td>\n",
       "      <td>12.0</td>\n",
       "      <td>45.0</td>\n",
       "      <td>942344857</td>\n",
       "    </tr>\n",
       "  </tbody>\n",
       "</table>\n",
       "</div>"
      ],
      "text/plain": [
       "                 id                            name    screen_name lang  \\\n",
       "23840  4.108840e+08                 orhanvahitguler    orhan_vahit   tr   \n",
       "33392  9.661978e+17  Gökhan Bozbaş دـ گوكخان بوزباش       gbozbash   tr   \n",
       "23967  6.154104e+08                    Trend Topics  TrendTopics3D   tr   \n",
       "7595   1.006486e+09                     Aysel İşler   psikologvari   tr   \n",
       "37939  9.423449e+17                     Hasan Nayir       hasannyr   tr   \n",
       "\n",
       "                match_name  match_ratio  followers_count  friends_count  \\\n",
       "23840          Orhan Guler         77.0             97.0          501.0   \n",
       "33392    Gokhan Bora Esmer         74.0            113.0          281.0   \n",
       "23967          trend micro         70.0             31.0          369.0   \n",
       "7595           Aysel Isler         95.0            112.0          174.0   \n",
       "37939   Hasan Huseyin Ates         86.0             12.0           45.0   \n",
       "\n",
       "       truncated_id  \n",
       "23840     410884010  \n",
       "33392     966197821  \n",
       "23967     615410354  \n",
       "7595      100648551  \n",
       "37939     942344857  "
      ]
     },
     "execution_count": 4,
     "metadata": {},
     "output_type": "execute_result"
    }
   ],
   "source": [
    "truncate = lambda x: int(str(int(x))[:9])\n",
    "\n",
    "twitter_users = pd.read_sql(\"SELECT * FROM twitter_user\", connection)\n",
    "twitter_users = twitter_users.where(twitter_users.match_name.str.len()>6)\\\n",
    "                             .dropna()\n",
    "twitter_users[\"truncated_id\"] = twitter_users.id.apply(truncate)\n",
    "\n",
    "#         .where(twitter_users.match_ratio>85)\n",
    "# .where(~twitter_users.name.str.contains(\"(?i)sehir\"))\\\n",
    "twitter_users.sample(5)"
   ]
  },
  {
   "cell_type": "code",
   "execution_count": 5,
   "metadata": {},
   "outputs": [
    {
     "data": {
      "text/html": [
       "<div>\n",
       "<style scoped>\n",
       "    .dataframe tbody tr th:only-of-type {\n",
       "        vertical-align: middle;\n",
       "    }\n",
       "\n",
       "    .dataframe tbody tr th {\n",
       "        vertical-align: top;\n",
       "    }\n",
       "\n",
       "    .dataframe thead th {\n",
       "        text-align: right;\n",
       "    }\n",
       "</style>\n",
       "<table border=\"1\" class=\"dataframe\">\n",
       "  <thead>\n",
       "    <tr style=\"text-align: right;\">\n",
       "      <th></th>\n",
       "      <th>id</th>\n",
       "      <th>name</th>\n",
       "      <th>screen_name</th>\n",
       "      <th>lang</th>\n",
       "      <th>match_name</th>\n",
       "      <th>match_ratio</th>\n",
       "      <th>followers_count</th>\n",
       "      <th>friends_count</th>\n",
       "      <th>truncated_id</th>\n",
       "      <th>is_org</th>\n",
       "    </tr>\n",
       "  </thead>\n",
       "  <tbody>\n",
       "    <tr>\n",
       "      <th>47427</th>\n",
       "      <td>8.903012e+17</td>\n",
       "      <td>Pınar</td>\n",
       "      <td>pinaarshn</td>\n",
       "      <td>tr</td>\n",
       "      <td>P�nar Akan</td>\n",
       "      <td>90.0</td>\n",
       "      <td>150.0</td>\n",
       "      <td>203.0</td>\n",
       "      <td>890301167</td>\n",
       "      <td>False</td>\n",
       "    </tr>\n",
       "    <tr>\n",
       "      <th>15790</th>\n",
       "      <td>7.348590e+17</td>\n",
       "      <td>Şüheda Düzcan</td>\n",
       "      <td>suhedaduzcan</td>\n",
       "      <td>tr</td>\n",
       "      <td>Suheda Duzcan</td>\n",
       "      <td>87.0</td>\n",
       "      <td>22.0</td>\n",
       "      <td>75.0</td>\n",
       "      <td>734858958</td>\n",
       "      <td>False</td>\n",
       "    </tr>\n",
       "    <tr>\n",
       "      <th>46492</th>\n",
       "      <td>3.515267e+08</td>\n",
       "      <td>Ege Üniversitesi</td>\n",
       "      <td>UniversiteEge</td>\n",
       "      <td>tr</td>\n",
       "      <td>Şehir Üniversitesi (İnsan ve Toplum Bilimleri...</td>\n",
       "      <td>86.0</td>\n",
       "      <td>112638.0</td>\n",
       "      <td>72.0</td>\n",
       "      <td>351526708</td>\n",
       "      <td>False</td>\n",
       "    </tr>\n",
       "    <tr>\n",
       "      <th>45576</th>\n",
       "      <td>2.389975e+09</td>\n",
       "      <td>Havva Deniz</td>\n",
       "      <td>hdeniz_psy</td>\n",
       "      <td>tr</td>\n",
       "      <td>Havva Deniz Mollaibrahimoglu</td>\n",
       "      <td>90.0</td>\n",
       "      <td>157.0</td>\n",
       "      <td>920.0</td>\n",
       "      <td>238997521</td>\n",
       "      <td>False</td>\n",
       "    </tr>\n",
       "    <tr>\n",
       "      <th>53647</th>\n",
       "      <td>3.907069e+08</td>\n",
       "      <td>ali tekin</td>\n",
       "      <td>35_arap</td>\n",
       "      <td>tr</td>\n",
       "      <td>Ali Ihsan Aydin</td>\n",
       "      <td>86.0</td>\n",
       "      <td>40.0</td>\n",
       "      <td>63.0</td>\n",
       "      <td>390706947</td>\n",
       "      <td>False</td>\n",
       "    </tr>\n",
       "  </tbody>\n",
       "</table>\n",
       "</div>"
      ],
      "text/plain": [
       "                 id              name    screen_name lang  \\\n",
       "47427  8.903012e+17             Pınar      pinaarshn   tr   \n",
       "15790  7.348590e+17     Şüheda Düzcan   suhedaduzcan   tr   \n",
       "46492  3.515267e+08  Ege Üniversitesi  UniversiteEge   tr   \n",
       "45576  2.389975e+09       Havva Deniz     hdeniz_psy   tr   \n",
       "53647  3.907069e+08         ali tekin        35_arap   tr   \n",
       "\n",
       "                                              match_name  match_ratio  \\\n",
       "47427                                         P�nar Akan         90.0   \n",
       "15790                                      Suheda Duzcan         87.0   \n",
       "46492   Şehir Üniversitesi (İnsan ve Toplum Bilimleri...         86.0   \n",
       "45576                       Havva Deniz Mollaibrahimoglu         90.0   \n",
       "53647                                    Ali Ihsan Aydin         86.0   \n",
       "\n",
       "       followers_count  friends_count  truncated_id  is_org  \n",
       "47427            150.0          203.0     890301167   False  \n",
       "15790             22.0           75.0     734858958   False  \n",
       "46492         112638.0           72.0     351526708   False  \n",
       "45576            157.0          920.0     238997521   False  \n",
       "53647             40.0           63.0     390706947   False  "
      ]
     },
     "execution_count": 5,
     "metadata": {},
     "output_type": "execute_result"
    }
   ],
   "source": [
    "is_org = lambda x:\"sehir\" in clean(x)\n",
    "twitter_users[\"is_org\"] = twitter_users.screen_name.apply(is_org)\n",
    "twitter_users.sample(5)"
   ]
  },
  {
   "cell_type": "code",
   "execution_count": 6,
   "metadata": {},
   "outputs": [],
   "source": [
    "sehir_orgs = twitter_users[twitter_users.is_org==True].set_index(\"id\")\n",
    "sehir_users = twitter_users[twitter_users.is_org==False]"
   ]
  },
  {
   "cell_type": "code",
   "execution_count": 7,
   "metadata": {},
   "outputs": [
    {
     "data": {
      "text/plain": [
       "231"
      ]
     },
     "execution_count": 7,
     "metadata": {},
     "output_type": "execute_result"
    }
   ],
   "source": [
    "len(sehir_orgs)"
   ]
  },
  {
   "cell_type": "code",
   "execution_count": 8,
   "metadata": {},
   "outputs": [
    {
     "data": {
      "text/html": [
       "<div>\n",
       "<style scoped>\n",
       "    .dataframe tbody tr th:only-of-type {\n",
       "        vertical-align: middle;\n",
       "    }\n",
       "\n",
       "    .dataframe tbody tr th {\n",
       "        vertical-align: top;\n",
       "    }\n",
       "\n",
       "    .dataframe thead th {\n",
       "        text-align: right;\n",
       "    }\n",
       "</style>\n",
       "<table border=\"1\" class=\"dataframe\">\n",
       "  <thead>\n",
       "    <tr style=\"text-align: right;\">\n",
       "      <th></th>\n",
       "      <th>name</th>\n",
       "      <th>screen_name</th>\n",
       "      <th>lang</th>\n",
       "      <th>match_name</th>\n",
       "      <th>match_ratio</th>\n",
       "      <th>followers_count</th>\n",
       "      <th>friends_count</th>\n",
       "      <th>truncated_id</th>\n",
       "      <th>is_org</th>\n",
       "    </tr>\n",
       "    <tr>\n",
       "      <th>id</th>\n",
       "      <th></th>\n",
       "      <th></th>\n",
       "      <th></th>\n",
       "      <th></th>\n",
       "      <th></th>\n",
       "      <th></th>\n",
       "      <th></th>\n",
       "      <th></th>\n",
       "      <th></th>\n",
       "    </tr>\n",
       "  </thead>\n",
       "  <tbody>\n",
       "    <tr>\n",
       "      <th>8.192692e+17</th>\n",
       "      <td>Sehir Alumni</td>\n",
       "      <td>sehir_alumni</td>\n",
       "      <td>en</td>\n",
       "      <td>Sehir Sehir</td>\n",
       "      <td>95.0</td>\n",
       "      <td>281.0</td>\n",
       "      <td>5.0</td>\n",
       "      <td>819269230</td>\n",
       "      <td>True</td>\n",
       "    </tr>\n",
       "    <tr>\n",
       "      <th>3.334986e+09</th>\n",
       "      <td>Lord Varys</td>\n",
       "      <td>sehirveitiraf</td>\n",
       "      <td>tr</td>\n",
       "      <td>Selda Ünvar Yılmaz</td>\n",
       "      <td>63.0</td>\n",
       "      <td>7.0</td>\n",
       "      <td>78.0</td>\n",
       "      <td>333498586</td>\n",
       "      <td>True</td>\n",
       "    </tr>\n",
       "    <tr>\n",
       "      <th>9.952556e+17</th>\n",
       "      <td>Şehir Activity</td>\n",
       "      <td>SehirActivity</td>\n",
       "      <td>tr</td>\n",
       "      <td>Şehir Üniversitesi (İnsan ve Toplum Bilimleri...</td>\n",
       "      <td>86.0</td>\n",
       "      <td>0.0</td>\n",
       "      <td>14.0</td>\n",
       "      <td>995255575</td>\n",
       "      <td>True</td>\n",
       "    </tr>\n",
       "    <tr>\n",
       "      <th>7.588890e+08</th>\n",
       "      <td>Cihan Cobanoglu</td>\n",
       "      <td>cihansehiruni</td>\n",
       "      <td>tr</td>\n",
       "      <td>Cihan Cobanoglu</td>\n",
       "      <td>100.0</td>\n",
       "      <td>420.0</td>\n",
       "      <td>1001.0</td>\n",
       "      <td>758889025</td>\n",
       "      <td>True</td>\n",
       "    </tr>\n",
       "    <tr>\n",
       "      <th>9.629691e+17</th>\n",
       "      <td>Şehir Üni Genç Önder</td>\n",
       "      <td>sehirgenconder</td>\n",
       "      <td>tr</td>\n",
       "      <td>Şehir Üniversitesi (İnsan ve Toplum Bilimleri...</td>\n",
       "      <td>86.0</td>\n",
       "      <td>79.0</td>\n",
       "      <td>223.0</td>\n",
       "      <td>962969120</td>\n",
       "      <td>True</td>\n",
       "    </tr>\n",
       "  </tbody>\n",
       "</table>\n",
       "</div>"
      ],
      "text/plain": [
       "                              name     screen_name lang  \\\n",
       "id                                                        \n",
       "8.192692e+17          Sehir Alumni    sehir_alumni   en   \n",
       "3.334986e+09            Lord Varys   sehirveitiraf   tr   \n",
       "9.952556e+17        Şehir Activity   SehirActivity   tr   \n",
       "7.588890e+08       Cihan Cobanoglu   cihansehiruni   tr   \n",
       "9.629691e+17  Şehir Üni Genç Önder  sehirgenconder   tr   \n",
       "\n",
       "                                                     match_name  match_ratio  \\\n",
       "id                                                                             \n",
       "8.192692e+17                                        Sehir Sehir         95.0   \n",
       "3.334986e+09                                 Selda Ünvar Yılmaz         63.0   \n",
       "9.952556e+17   Şehir Üniversitesi (İnsan ve Toplum Bilimleri...         86.0   \n",
       "7.588890e+08                                    Cihan Cobanoglu        100.0   \n",
       "9.629691e+17   Şehir Üniversitesi (İnsan ve Toplum Bilimleri...         86.0   \n",
       "\n",
       "              followers_count  friends_count  truncated_id  is_org  \n",
       "id                                                                  \n",
       "8.192692e+17            281.0            5.0     819269230    True  \n",
       "3.334986e+09              7.0           78.0     333498586    True  \n",
       "9.952556e+17              0.0           14.0     995255575    True  \n",
       "7.588890e+08            420.0         1001.0     758889025    True  \n",
       "9.629691e+17             79.0          223.0     962969120    True  "
      ]
     },
     "execution_count": 8,
     "metadata": {},
     "output_type": "execute_result"
    }
   ],
   "source": [
    "sehir_orgs.sample(5)"
   ]
  },
  {
   "cell_type": "code",
   "execution_count": 9,
   "metadata": {},
   "outputs": [
    {
     "data": {
      "text/html": [
       "<div>\n",
       "<style scoped>\n",
       "    .dataframe tbody tr th:only-of-type {\n",
       "        vertical-align: middle;\n",
       "    }\n",
       "\n",
       "    .dataframe tbody tr th {\n",
       "        vertical-align: top;\n",
       "    }\n",
       "\n",
       "    .dataframe thead th {\n",
       "        text-align: right;\n",
       "    }\n",
       "</style>\n",
       "<table border=\"1\" class=\"dataframe\">\n",
       "  <thead>\n",
       "    <tr style=\"text-align: right;\">\n",
       "      <th></th>\n",
       "      <th>id</th>\n",
       "      <th>name</th>\n",
       "      <th>screen_name</th>\n",
       "      <th>lang</th>\n",
       "      <th>match_name</th>\n",
       "      <th>match_ratio</th>\n",
       "      <th>followers_count</th>\n",
       "      <th>friends_count</th>\n",
       "      <th>truncated_id</th>\n",
       "      <th>is_org</th>\n",
       "    </tr>\n",
       "  </thead>\n",
       "  <tbody>\n",
       "    <tr>\n",
       "      <th>1</th>\n",
       "      <td>5.670900e+08</td>\n",
       "      <td>Övünç Meriç</td>\n",
       "      <td>ovuncmeric</td>\n",
       "      <td>tr</td>\n",
       "      <td>Kardelen Meric</td>\n",
       "      <td>77.0</td>\n",
       "      <td>569.0</td>\n",
       "      <td>1170.0</td>\n",
       "      <td>567090020</td>\n",
       "      <td>False</td>\n",
       "    </tr>\n",
       "    <tr>\n",
       "      <th>4</th>\n",
       "      <td>7.262076e+08</td>\n",
       "      <td>klasik</td>\n",
       "      <td>klasikyayinlari</td>\n",
       "      <td>tr</td>\n",
       "      <td>Yavuz Kasikci</td>\n",
       "      <td>75.0</td>\n",
       "      <td>6596.0</td>\n",
       "      <td>142.0</td>\n",
       "      <td>726207614</td>\n",
       "      <td>False</td>\n",
       "    </tr>\n",
       "    <tr>\n",
       "      <th>5</th>\n",
       "      <td>4.979428e+08</td>\n",
       "      <td>Küre Yayınları</td>\n",
       "      <td>kureyayinlari</td>\n",
       "      <td>tr</td>\n",
       "      <td>Merve Yakinlar</td>\n",
       "      <td>72.0</td>\n",
       "      <td>9158.0</td>\n",
       "      <td>166.0</td>\n",
       "      <td>497942798</td>\n",
       "      <td>False</td>\n",
       "    </tr>\n",
       "    <tr>\n",
       "      <th>6</th>\n",
       "      <td>2.674867e+09</td>\n",
       "      <td>Fatıma Tuba Yaylacı</td>\n",
       "      <td>fatimatubapetek</td>\n",
       "      <td>en</td>\n",
       "      <td>Fatima Tuba Yaylaci</td>\n",
       "      <td>94.0</td>\n",
       "      <td>844.0</td>\n",
       "      <td>246.0</td>\n",
       "      <td>267486658</td>\n",
       "      <td>False</td>\n",
       "    </tr>\n",
       "    <tr>\n",
       "      <th>7</th>\n",
       "      <td>1.439589e+09</td>\n",
       "      <td>Mahmut Koca</td>\n",
       "      <td>mkoca66</td>\n",
       "      <td>en</td>\n",
       "      <td>Mahmut Koca</td>\n",
       "      <td>100.0</td>\n",
       "      <td>1379.0</td>\n",
       "      <td>44.0</td>\n",
       "      <td>143958858</td>\n",
       "      <td>False</td>\n",
       "    </tr>\n",
       "  </tbody>\n",
       "</table>\n",
       "</div>"
      ],
      "text/plain": [
       "             id                 name      screen_name lang  \\\n",
       "1  5.670900e+08          Övünç Meriç       ovuncmeric   tr   \n",
       "4  7.262076e+08               klasik  klasikyayinlari   tr   \n",
       "5  4.979428e+08       Küre Yayınları    kureyayinlari   tr   \n",
       "6  2.674867e+09  Fatıma Tuba Yaylacı  fatimatubapetek   en   \n",
       "7  1.439589e+09          Mahmut Koca          mkoca66   en   \n",
       "\n",
       "             match_name  match_ratio  followers_count  friends_count  \\\n",
       "1        Kardelen Meric         77.0            569.0         1170.0   \n",
       "4         Yavuz Kasikci         75.0           6596.0          142.0   \n",
       "5        Merve Yakinlar         72.0           9158.0          166.0   \n",
       "6   Fatima Tuba Yaylaci         94.0            844.0          246.0   \n",
       "7           Mahmut Koca        100.0           1379.0           44.0   \n",
       "\n",
       "   truncated_id  is_org  \n",
       "1     567090020   False  \n",
       "4     726207614   False  \n",
       "5     497942798   False  \n",
       "6     267486658   False  \n",
       "7     143958858   False  "
      ]
     },
     "execution_count": 9,
     "metadata": {},
     "output_type": "execute_result"
    }
   ],
   "source": [
    "sehir_users.head(5)"
   ]
  },
  {
   "cell_type": "code",
   "execution_count": 10,
   "metadata": {},
   "outputs": [],
   "source": [
    "sehir_directory = pd.read_csv('../datasets/contacts.csv', \n",
    "                               encoding = \"ISO-8859-1\", \n",
    "                               usecols=['First Name', 'Last Name', 'Primary Email'])\n",
    "sehir_directory.replace(np.nan, '', regex=True, inplace=True)"
   ]
  },
  {
   "cell_type": "code",
   "execution_count": 11,
   "metadata": {},
   "outputs": [],
   "source": [
    "fullnames = [' '.join(first_last_name).lower() \n",
    "                 for first_last_name in sehir_directory[['First Name', 'Last Name']].values]"
   ]
  },
  {
   "cell_type": "code",
   "execution_count": null,
   "metadata": {},
   "outputs": [],
   "source": [
    "start = time.time()\n",
    "sehir_matches = Parallel(n_jobs=-1)(delayed(get_matches_dataframe)(\n",
    "    sehir_users[int(i*(len(sehir_users)/8)):int((i+1)*(len(sehir_users)/8))],\n",
    "    sehir_directory) for i in range(8))\n",
    "print(\"took: \", time.time()-start)"
   ]
  },
  {
   "cell_type": "code",
   "execution_count": null,
   "metadata": {},
   "outputs": [],
   "source": [
    "sehir_matches_df = pd.concat(sehir_matches)\n",
    "sehir_matches_df.index = range(len(sehir_matches_df))\n",
    "print(\"There are {} matches\".format(len(sehir_matches_df)))\n",
    "sehir_matches_df.sample(5)"
   ]
  },
  {
   "cell_type": "code",
   "execution_count": 480,
   "metadata": {},
   "outputs": [
    {
     "data": {
      "text/html": [
       "<div>\n",
       "<style scoped>\n",
       "    .dataframe tbody tr th:only-of-type {\n",
       "        vertical-align: middle;\n",
       "    }\n",
       "\n",
       "    .dataframe tbody tr th {\n",
       "        vertical-align: top;\n",
       "    }\n",
       "\n",
       "    .dataframe thead th {\n",
       "        text-align: right;\n",
       "    }\n",
       "</style>\n",
       "<table border=\"1\" class=\"dataframe\">\n",
       "  <thead>\n",
       "    <tr style=\"text-align: right;\">\n",
       "      <th></th>\n",
       "      <th>match_name</th>\n",
       "      <th>screen_name</th>\n",
       "      <th>match_ratio</th>\n",
       "    </tr>\n",
       "  </thead>\n",
       "  <tbody>\n",
       "    <tr>\n",
       "      <th>28057</th>\n",
       "      <td>fatma derya mentes</td>\n",
       "      <td>DeryaaSarii</td>\n",
       "      <td>90</td>\n",
       "    </tr>\n",
       "    <tr>\n",
       "      <th>10093</th>\n",
       "      <td>nur betã¼l yerli</td>\n",
       "      <td>bacimbilegin</td>\n",
       "      <td>90</td>\n",
       "    </tr>\n",
       "    <tr>\n",
       "      <th>20027</th>\n",
       "      <td>emine bayraktar</td>\n",
       "      <td>emine_blt_1</td>\n",
       "      <td>86</td>\n",
       "    </tr>\n",
       "    <tr>\n",
       "      <th>19182</th>\n",
       "      <td>etem hakan ergec</td>\n",
       "      <td>hakan_tunaa</td>\n",
       "      <td>86</td>\n",
       "    </tr>\n",
       "    <tr>\n",
       "      <th>3016</th>\n",
       "      <td>sami anis abuhamdeh</td>\n",
       "      <td>samiyigit_</td>\n",
       "      <td>86</td>\n",
       "    </tr>\n",
       "  </tbody>\n",
       "</table>\n",
       "</div>"
      ],
      "text/plain": [
       "                 match_name   screen_name  match_ratio\n",
       "28057    fatma derya mentes   DeryaaSarii           90\n",
       "10093      nur betã¼l yerli  bacimbilegin           90\n",
       "20027       emine bayraktar   emine_blt_1           86\n",
       "19182      etem hakan ergec   hakan_tunaa           86\n",
       "3016    sami anis abuhamdeh    samiyigit_           86"
      ]
     },
     "execution_count": 480,
     "metadata": {},
     "output_type": "execute_result"
    }
   ],
   "source": [
    "sehir_matches_df['match_ratio'] = sehir_matches_df.match_name.apply(lambda x: x[0][1])\n",
    "sehir_matches_df.match_name = sehir_matches_df.match_name.apply(lambda x: x[0][0])\n",
    "sehir_matches_df.sample(5)"
   ]
  },
  {
   "cell_type": "code",
   "execution_count": 481,
   "metadata": {},
   "outputs": [],
   "source": [
    "tu=twitter_users.drop(labels=[\"match_name\",\"match_ratio\"], axis=1)"
   ]
  },
  {
   "cell_type": "code",
   "execution_count": 482,
   "metadata": {},
   "outputs": [
    {
     "data": {
      "text/html": [
       "<div>\n",
       "<style scoped>\n",
       "    .dataframe tbody tr th:only-of-type {\n",
       "        vertical-align: middle;\n",
       "    }\n",
       "\n",
       "    .dataframe tbody tr th {\n",
       "        vertical-align: top;\n",
       "    }\n",
       "\n",
       "    .dataframe thead th {\n",
       "        text-align: right;\n",
       "    }\n",
       "</style>\n",
       "<table border=\"1\" class=\"dataframe\">\n",
       "  <thead>\n",
       "    <tr style=\"text-align: right;\">\n",
       "      <th></th>\n",
       "      <th>match_name</th>\n",
       "      <th>screen_name</th>\n",
       "      <th>match_ratio</th>\n",
       "      <th>name</th>\n",
       "      <th>lang</th>\n",
       "      <th>followers_count</th>\n",
       "      <th>friends_count</th>\n",
       "      <th>truncated_id</th>\n",
       "      <th>is_org</th>\n",
       "    </tr>\n",
       "    <tr>\n",
       "      <th>id</th>\n",
       "      <th></th>\n",
       "      <th></th>\n",
       "      <th></th>\n",
       "      <th></th>\n",
       "      <th></th>\n",
       "      <th></th>\n",
       "      <th></th>\n",
       "      <th></th>\n",
       "      <th></th>\n",
       "    </tr>\n",
       "  </thead>\n",
       "  <tbody>\n",
       "    <tr>\n",
       "      <th>9.970584e+17</th>\n",
       "      <td>azize fatma cakir</td>\n",
       "      <td>fgurbuz35</td>\n",
       "      <td>86</td>\n",
       "      <td>fatma gürbüz</td>\n",
       "      <td>tr</td>\n",
       "      <td>68.0</td>\n",
       "      <td>122.0</td>\n",
       "      <td>997058428</td>\n",
       "      <td>False</td>\n",
       "    </tr>\n",
       "    <tr>\n",
       "      <th>9.369498e+17</th>\n",
       "      <td>okan mergen</td>\n",
       "      <td>miraokan42</td>\n",
       "      <td>86</td>\n",
       "      <td>miraç okan ekmekci</td>\n",
       "      <td>tr</td>\n",
       "      <td>4.0</td>\n",
       "      <td>19.0</td>\n",
       "      <td>936949783</td>\n",
       "      <td>False</td>\n",
       "    </tr>\n",
       "    <tr>\n",
       "      <th>2.306379e+09</th>\n",
       "      <td>ä°stanbul åehir ãniversitesi ä°åletme enst...</td>\n",
       "      <td>CHPIstGenclik</td>\n",
       "      <td>86</td>\n",
       "      <td>CHP İstanbul Gençlik</td>\n",
       "      <td>tr</td>\n",
       "      <td>5735.0</td>\n",
       "      <td>3223.0</td>\n",
       "      <td>230637902</td>\n",
       "      <td>False</td>\n",
       "    </tr>\n",
       "    <tr>\n",
       "      <th>3.334179e+08</th>\n",
       "      <td>hanife kubra demirci</td>\n",
       "      <td>RabiaDeemirci</td>\n",
       "      <td>86</td>\n",
       "      <td>Rabia Demirci</td>\n",
       "      <td>tr</td>\n",
       "      <td>96.0</td>\n",
       "      <td>314.0</td>\n",
       "      <td>333417875</td>\n",
       "      <td>False</td>\n",
       "    </tr>\n",
       "    <tr>\n",
       "      <th>4.742273e+09</th>\n",
       "      <td>gizem serpil boylu</td>\n",
       "      <td>kronik__rehber</td>\n",
       "      <td>86</td>\n",
       "      <td>serpil.sedef</td>\n",
       "      <td>tr</td>\n",
       "      <td>49.0</td>\n",
       "      <td>113.0</td>\n",
       "      <td>474227276</td>\n",
       "      <td>False</td>\n",
       "    </tr>\n",
       "  </tbody>\n",
       "</table>\n",
       "</div>"
      ],
      "text/plain": [
       "                                                     match_name  \\\n",
       "id                                                                \n",
       "9.970584e+17                                  azize fatma cakir   \n",
       "9.369498e+17                                        okan mergen   \n",
       "2.306379e+09   ä°stanbul åehir ãniversitesi ä°åletme enst...   \n",
       "3.334179e+08                               hanife kubra demirci   \n",
       "4.742273e+09                                 gizem serpil boylu   \n",
       "\n",
       "                 screen_name  match_ratio                  name lang  \\\n",
       "id                                                                     \n",
       "9.970584e+17       fgurbuz35           86          fatma gürbüz   tr   \n",
       "9.369498e+17      miraokan42           86    miraç okan ekmekci   tr   \n",
       "2.306379e+09   CHPIstGenclik           86  CHP İstanbul Gençlik   tr   \n",
       "3.334179e+08   RabiaDeemirci           86         Rabia Demirci   tr   \n",
       "4.742273e+09  kronik__rehber           86          serpil.sedef   tr   \n",
       "\n",
       "              followers_count  friends_count  truncated_id  is_org  \n",
       "id                                                                  \n",
       "9.970584e+17             68.0          122.0     997058428   False  \n",
       "9.369498e+17              4.0           19.0     936949783   False  \n",
       "2.306379e+09           5735.0         3223.0     230637902   False  \n",
       "3.334179e+08             96.0          314.0     333417875   False  \n",
       "4.742273e+09             49.0          113.0     474227276   False  "
      ]
     },
     "execution_count": 482,
     "metadata": {},
     "output_type": "execute_result"
    }
   ],
   "source": [
    "twitter_users = sehir_matches_df.merge(tu, on=\"screen_name\")\n",
    "twitter_users = twitter_users.set_index(\"id\")\n",
    "twitter_users.head(5)"
   ]
  },
  {
   "cell_type": "code",
   "execution_count": 483,
   "metadata": {},
   "outputs": [],
   "source": [
    "sehir_orgs.to_csv(\"../datasets/orgs.csv\",index_label=\"id\")\n",
    "sehir_orgs.to_csv(\"../REST/static/orgs.csv\",index_label=\"id\")"
   ]
  },
  {
   "cell_type": "code",
   "execution_count": 13,
   "metadata": {},
   "outputs": [
    {
     "data": {
      "text/html": [
       "<div>\n",
       "<style scoped>\n",
       "    .dataframe tbody tr th:only-of-type {\n",
       "        vertical-align: middle;\n",
       "    }\n",
       "\n",
       "    .dataframe tbody tr th {\n",
       "        vertical-align: top;\n",
       "    }\n",
       "\n",
       "    .dataframe thead th {\n",
       "        text-align: right;\n",
       "    }\n",
       "</style>\n",
       "<table border=\"1\" class=\"dataframe\">\n",
       "  <thead>\n",
       "    <tr style=\"text-align: right;\">\n",
       "      <th></th>\n",
       "      <th>match_name</th>\n",
       "      <th>screen_name</th>\n",
       "      <th>match_ratio</th>\n",
       "      <th>name</th>\n",
       "      <th>lang</th>\n",
       "      <th>followers_count</th>\n",
       "      <th>friends_count</th>\n",
       "      <th>truncated_id</th>\n",
       "      <th>is_org</th>\n",
       "    </tr>\n",
       "    <tr>\n",
       "      <th>id</th>\n",
       "      <th></th>\n",
       "      <th></th>\n",
       "      <th></th>\n",
       "      <th></th>\n",
       "      <th></th>\n",
       "      <th></th>\n",
       "      <th></th>\n",
       "      <th></th>\n",
       "      <th></th>\n",
       "    </tr>\n",
       "  </thead>\n",
       "  <tbody>\n",
       "    <tr>\n",
       "      <th>2.398736e+08</th>\n",
       "      <td>emre ceran</td>\n",
       "      <td>aeozyurt</td>\n",
       "      <td>86</td>\n",
       "      <td>Ahmet Emre Özyurt</td>\n",
       "      <td>tr</td>\n",
       "      <td>408.0</td>\n",
       "      <td>208.0</td>\n",
       "      <td>239873566</td>\n",
       "      <td>False</td>\n",
       "    </tr>\n",
       "    <tr>\n",
       "      <th>4.871276e+09</th>\n",
       "      <td>ali ãakmak</td>\n",
       "      <td>_SoWesata</td>\n",
       "      <td>86</td>\n",
       "      <td>Ali Yılmaz ϜϓſϞ 🇹🇷🇺🇦</td>\n",
       "      <td>tr</td>\n",
       "      <td>299.0</td>\n",
       "      <td>391.0</td>\n",
       "      <td>487127612</td>\n",
       "      <td>False</td>\n",
       "    </tr>\n",
       "    <tr>\n",
       "      <th>2.499717e+09</th>\n",
       "      <td>yonis mohamud esse</td>\n",
       "      <td>nryyol55</td>\n",
       "      <td>72</td>\n",
       "      <td>hamuş</td>\n",
       "      <td>tr</td>\n",
       "      <td>12.0</td>\n",
       "      <td>181.0</td>\n",
       "      <td>249971689</td>\n",
       "      <td>False</td>\n",
       "    </tr>\n",
       "    <tr>\n",
       "      <th>8.913728e+17</th>\n",
       "      <td>mustafa enes akturkoglu</td>\n",
       "      <td>eneskahyaoglu1_</td>\n",
       "      <td>86</td>\n",
       "      <td>Enes Kahyaoğlu</td>\n",
       "      <td>tr</td>\n",
       "      <td>193.0</td>\n",
       "      <td>724.0</td>\n",
       "      <td>891372848</td>\n",
       "      <td>False</td>\n",
       "    </tr>\n",
       "    <tr>\n",
       "      <th>3.405437e+09</th>\n",
       "      <td>adobe user</td>\n",
       "      <td>saypirvumin</td>\n",
       "      <td>86</td>\n",
       "      <td>saypır evli user</td>\n",
       "      <td>tr</td>\n",
       "      <td>14188.0</td>\n",
       "      <td>93.0</td>\n",
       "      <td>340543717</td>\n",
       "      <td>False</td>\n",
       "    </tr>\n",
       "  </tbody>\n",
       "</table>\n",
       "</div>"
      ],
      "text/plain": [
       "                            match_name      screen_name  match_ratio  \\\n",
       "id                                                                     \n",
       "2.398736e+08                emre ceran         aeozyurt           86   \n",
       "4.871276e+09               ali ãakmak        _SoWesata           86   \n",
       "2.499717e+09        yonis mohamud esse         nryyol55           72   \n",
       "8.913728e+17   mustafa enes akturkoglu  eneskahyaoglu1_           86   \n",
       "3.405437e+09                adobe user      saypirvumin           86   \n",
       "\n",
       "                              name lang  followers_count  friends_count  \\\n",
       "id                                                                        \n",
       "2.398736e+08     Ahmet Emre Özyurt   tr            408.0          208.0   \n",
       "4.871276e+09  Ali Yılmaz ϜϓſϞ 🇹🇷🇺🇦   tr            299.0          391.0   \n",
       "2.499717e+09                 hamuş   tr             12.0          181.0   \n",
       "8.913728e+17        Enes Kahyaoğlu   tr            193.0          724.0   \n",
       "3.405437e+09      saypır evli user   tr          14188.0           93.0   \n",
       "\n",
       "              truncated_id  is_org  \n",
       "id                                  \n",
       "2.398736e+08     239873566   False  \n",
       "4.871276e+09     487127612   False  \n",
       "2.499717e+09     249971689   False  \n",
       "8.913728e+17     891372848   False  \n",
       "3.405437e+09     340543717   False  "
      ]
     },
     "execution_count": 13,
     "metadata": {},
     "output_type": "execute_result"
    }
   ],
   "source": [
    "twitter_users = pd.read_csv(\"../datasets/twitter_users.csv\", index_col=\"id\")\n",
    "twitter_users.sample(5)"
   ]
  },
  {
   "cell_type": "code",
   "execution_count": 14,
   "metadata": {},
   "outputs": [],
   "source": [
    "filtered_twu = twitter_users[twitter_users.match_ratio>90]\n",
    "filtered_twu = filtered_twu.append(twitter_users.loc[291122559])  # me: Ammar Rashed :)"
   ]
  },
  {
   "cell_type": "code",
   "execution_count": 15,
   "metadata": {},
   "outputs": [
    {
     "data": {
      "text/plain": [
       "(41768, 2618)"
      ]
     },
     "execution_count": 15,
     "metadata": {},
     "output_type": "execute_result"
    }
   ],
   "source": [
    "len(twitter_users), len(filtered_twu)"
   ]
  },
  {
   "cell_type": "code",
   "execution_count": 18,
   "metadata": {},
   "outputs": [
    {
     "data": {
      "text/html": [
       "<div>\n",
       "<style scoped>\n",
       "    .dataframe tbody tr th:only-of-type {\n",
       "        vertical-align: middle;\n",
       "    }\n",
       "\n",
       "    .dataframe tbody tr th {\n",
       "        vertical-align: top;\n",
       "    }\n",
       "\n",
       "    .dataframe thead th {\n",
       "        text-align: right;\n",
       "    }\n",
       "</style>\n",
       "<table border=\"1\" class=\"dataframe\">\n",
       "  <thead>\n",
       "    <tr style=\"text-align: right;\">\n",
       "      <th></th>\n",
       "      <th>match_name</th>\n",
       "      <th>screen_name</th>\n",
       "      <th>match_ratio</th>\n",
       "      <th>name</th>\n",
       "      <th>lang</th>\n",
       "      <th>followers_count</th>\n",
       "      <th>friends_count</th>\n",
       "      <th>truncated_id</th>\n",
       "      <th>is_org</th>\n",
       "    </tr>\n",
       "    <tr>\n",
       "      <th>id</th>\n",
       "      <th></th>\n",
       "      <th></th>\n",
       "      <th></th>\n",
       "      <th></th>\n",
       "      <th></th>\n",
       "      <th></th>\n",
       "      <th></th>\n",
       "      <th></th>\n",
       "      <th></th>\n",
       "    </tr>\n",
       "  </thead>\n",
       "  <tbody>\n",
       "    <tr>\n",
       "      <th>9.688809e+17</th>\n",
       "      <td>hafsa nur aslanoglu</td>\n",
       "      <td>narkabuguhna</td>\n",
       "      <td>95</td>\n",
       "      <td>Hafsa Nur Aslanoğlu</td>\n",
       "      <td>tr</td>\n",
       "      <td>164.0</td>\n",
       "      <td>226.0</td>\n",
       "      <td>968880888</td>\n",
       "      <td>False</td>\n",
       "    </tr>\n",
       "    <tr>\n",
       "      <th>1.602070e+09</th>\n",
       "      <td>mustafa can</td>\n",
       "      <td>mustafacan29665</td>\n",
       "      <td>100</td>\n",
       "      <td>mustafa can</td>\n",
       "      <td>tr</td>\n",
       "      <td>7.0</td>\n",
       "      <td>45.0</td>\n",
       "      <td>160206994</td>\n",
       "      <td>False</td>\n",
       "    </tr>\n",
       "    <tr>\n",
       "      <th>9.388624e+17</th>\n",
       "      <td>ismail havuz</td>\n",
       "      <td>ismaily01363798</td>\n",
       "      <td>92</td>\n",
       "      <td>ismail yavuz</td>\n",
       "      <td>tr</td>\n",
       "      <td>0.0</td>\n",
       "      <td>64.0</td>\n",
       "      <td>938862447</td>\n",
       "      <td>False</td>\n",
       "    </tr>\n",
       "    <tr>\n",
       "      <th>7.285541e+17</th>\n",
       "      <td>demet erdogan</td>\n",
       "      <td>Dmt_Erdgn</td>\n",
       "      <td>92</td>\n",
       "      <td>Demet Erdoğan</td>\n",
       "      <td>en</td>\n",
       "      <td>26.0</td>\n",
       "      <td>15.0</td>\n",
       "      <td>728554070</td>\n",
       "      <td>False</td>\n",
       "    </tr>\n",
       "    <tr>\n",
       "      <th>3.670781e+08</th>\n",
       "      <td>mustafa bal</td>\n",
       "      <td>mustafaunal83</td>\n",
       "      <td>91</td>\n",
       "      <td>mustafa ünal</td>\n",
       "      <td>tr</td>\n",
       "      <td>496.0</td>\n",
       "      <td>4976.0</td>\n",
       "      <td>367078062</td>\n",
       "      <td>False</td>\n",
       "    </tr>\n",
       "  </tbody>\n",
       "</table>\n",
       "</div>"
      ],
      "text/plain": [
       "                       match_name      screen_name  match_ratio  \\\n",
       "id                                                                \n",
       "9.688809e+17  hafsa nur aslanoglu     narkabuguhna           95   \n",
       "1.602070e+09          mustafa can  mustafacan29665          100   \n",
       "9.388624e+17         ismail havuz  ismaily01363798           92   \n",
       "7.285541e+17        demet erdogan        Dmt_Erdgn           92   \n",
       "3.670781e+08          mustafa bal    mustafaunal83           91   \n",
       "\n",
       "                             name lang  followers_count  friends_count  \\\n",
       "id                                                                       \n",
       "9.688809e+17  Hafsa Nur Aslanoğlu   tr            164.0          226.0   \n",
       "1.602070e+09          mustafa can   tr              7.0           45.0   \n",
       "9.388624e+17         ismail yavuz   tr              0.0           64.0   \n",
       "7.285541e+17        Demet Erdoğan   en             26.0           15.0   \n",
       "3.670781e+08         mustafa ünal   tr            496.0         4976.0   \n",
       "\n",
       "              truncated_id  is_org  \n",
       "id                                  \n",
       "9.688809e+17     968880888   False  \n",
       "1.602070e+09     160206994   False  \n",
       "9.388624e+17     938862447   False  \n",
       "7.285541e+17     728554070   False  \n",
       "3.670781e+08     367078062   False  "
      ]
     },
     "execution_count": 18,
     "metadata": {},
     "output_type": "execute_result"
    }
   ],
   "source": [
    "filtered_twu = pd.read_csv(\"../datasets/filtered_twitter_users.csv\", index_col=\"id\")\n",
    "filtered_twu.sample(5)"
   ]
  },
  {
   "cell_type": "code",
   "execution_count": 19,
   "metadata": {
    "scrolled": true
   },
   "outputs": [
    {
     "data": {
      "text/plain": [
       "match_name            ammar rasid\n",
       "screen_name        AmmarRashed_MB\n",
       "match_ratio                    87\n",
       "name                 Ammar Rashed\n",
       "lang                           en\n",
       "followers_count               392\n",
       "friends_count                 337\n",
       "truncated_id            291122559\n",
       "is_org                      False\n",
       "Name: 291122559.0, dtype: object"
      ]
     },
     "execution_count": 19,
     "metadata": {},
     "output_type": "execute_result"
    }
   ],
   "source": [
    "filtered_twu.loc[291122559]"
   ]
  },
  {
   "cell_type": "code",
   "execution_count": 20,
   "metadata": {},
   "outputs": [
    {
     "data": {
      "text/html": [
       "<div>\n",
       "<style scoped>\n",
       "    .dataframe tbody tr th:only-of-type {\n",
       "        vertical-align: middle;\n",
       "    }\n",
       "\n",
       "    .dataframe tbody tr th {\n",
       "        vertical-align: top;\n",
       "    }\n",
       "\n",
       "    .dataframe thead th {\n",
       "        text-align: right;\n",
       "    }\n",
       "</style>\n",
       "<table border=\"1\" class=\"dataframe\">\n",
       "  <thead>\n",
       "    <tr style=\"text-align: right;\">\n",
       "      <th></th>\n",
       "      <th>match_name</th>\n",
       "      <th>screen_name</th>\n",
       "      <th>match_ratio</th>\n",
       "      <th>name</th>\n",
       "      <th>lang</th>\n",
       "      <th>followers_count</th>\n",
       "      <th>friends_count</th>\n",
       "      <th>truncated_id</th>\n",
       "      <th>is_org</th>\n",
       "    </tr>\n",
       "    <tr>\n",
       "      <th>id</th>\n",
       "      <th></th>\n",
       "      <th></th>\n",
       "      <th></th>\n",
       "      <th></th>\n",
       "      <th></th>\n",
       "      <th></th>\n",
       "      <th></th>\n",
       "      <th></th>\n",
       "      <th></th>\n",
       "    </tr>\n",
       "  </thead>\n",
       "  <tbody>\n",
       "    <tr>\n",
       "      <th>1.466873e+07</th>\n",
       "      <td>ahmet bulut</td>\n",
       "      <td>kral</td>\n",
       "      <td>100</td>\n",
       "      <td>Ahmet Bulut</td>\n",
       "      <td>en</td>\n",
       "      <td>242.0</td>\n",
       "      <td>62.0</td>\n",
       "      <td>14668733</td>\n",
       "      <td>False</td>\n",
       "    </tr>\n",
       "    <tr>\n",
       "      <th>2.387189e+09</th>\n",
       "      <td>mehmet yilmaz</td>\n",
       "      <td>kralyoshi</td>\n",
       "      <td>92</td>\n",
       "      <td>Mehmet Yılmaz</td>\n",
       "      <td>tr</td>\n",
       "      <td>5.0</td>\n",
       "      <td>203.0</td>\n",
       "      <td>238718926</td>\n",
       "      <td>False</td>\n",
       "    </tr>\n",
       "  </tbody>\n",
       "</table>\n",
       "</div>"
      ],
      "text/plain": [
       "                 match_name screen_name  match_ratio           name lang  \\\n",
       "id                                                                         \n",
       "1.466873e+07    ahmet bulut        kral          100    Ahmet Bulut   en   \n",
       "2.387189e+09  mehmet yilmaz   kralyoshi           92  Mehmet Yılmaz   tr   \n",
       "\n",
       "              followers_count  friends_count  truncated_id  is_org  \n",
       "id                                                                  \n",
       "1.466873e+07            242.0           62.0      14668733   False  \n",
       "2.387189e+09              5.0          203.0     238718926   False  "
      ]
     },
     "execution_count": 20,
     "metadata": {},
     "output_type": "execute_result"
    }
   ],
   "source": [
    "filtered_twu[filtered_twu.screen_name.str.contains(\"kral\")]"
   ]
  },
  {
   "cell_type": "markdown",
   "metadata": {},
   "source": [
    "# Filter connections"
   ]
  },
  {
   "cell_type": "code",
   "execution_count": 21,
   "metadata": {},
   "outputs": [
    {
     "data": {
      "text/html": [
       "<div>\n",
       "<style scoped>\n",
       "    .dataframe tbody tr th:only-of-type {\n",
       "        vertical-align: middle;\n",
       "    }\n",
       "\n",
       "    .dataframe tbody tr th {\n",
       "        vertical-align: top;\n",
       "    }\n",
       "\n",
       "    .dataframe thead th {\n",
       "        text-align: right;\n",
       "    }\n",
       "</style>\n",
       "<table border=\"1\" class=\"dataframe\">\n",
       "  <thead>\n",
       "    <tr style=\"text-align: right;\">\n",
       "      <th></th>\n",
       "      <th>followers_count</th>\n",
       "      <th>friends_count</th>\n",
       "      <th>is_org</th>\n",
       "      <th>lang</th>\n",
       "      <th>match_name</th>\n",
       "      <th>match_ratio</th>\n",
       "      <th>name</th>\n",
       "      <th>screen_name</th>\n",
       "      <th>truncated_id</th>\n",
       "    </tr>\n",
       "    <tr>\n",
       "      <th>id</th>\n",
       "      <th></th>\n",
       "      <th></th>\n",
       "      <th></th>\n",
       "      <th></th>\n",
       "      <th></th>\n",
       "      <th></th>\n",
       "      <th></th>\n",
       "      <th></th>\n",
       "      <th></th>\n",
       "    </tr>\n",
       "  </thead>\n",
       "  <tbody>\n",
       "    <tr>\n",
       "      <th>8.634731e+17</th>\n",
       "      <td>54.0</td>\n",
       "      <td>123.0</td>\n",
       "      <td>False</td>\n",
       "      <td>tr</td>\n",
       "      <td>oguzhan tezel</td>\n",
       "      <td>92.0</td>\n",
       "      <td>Oğuzhan Tezel</td>\n",
       "      <td>oguzhaantezel</td>\n",
       "      <td>863473065</td>\n",
       "    </tr>\n",
       "    <tr>\n",
       "      <th>1.030123e+08</th>\n",
       "      <td>18.0</td>\n",
       "      <td>199.0</td>\n",
       "      <td>False</td>\n",
       "      <td>en</td>\n",
       "      <td>zeynep yilmaz</td>\n",
       "      <td>92.0</td>\n",
       "      <td>zeynep yılmaz</td>\n",
       "      <td>zeynep2</td>\n",
       "      <td>103012327</td>\n",
       "    </tr>\n",
       "    <tr>\n",
       "      <th>9.097353e+17</th>\n",
       "      <td>48.0</td>\n",
       "      <td>202.0</td>\n",
       "      <td>False</td>\n",
       "      <td>tr</td>\n",
       "      <td>omer faruk kacmen</td>\n",
       "      <td>94.0</td>\n",
       "      <td>Ömer Faruk Kaçmen</td>\n",
       "      <td>kacmenomer</td>\n",
       "      <td>909735272</td>\n",
       "    </tr>\n",
       "    <tr>\n",
       "      <th>7.999770e+08</th>\n",
       "      <td>10.0</td>\n",
       "      <td>185.0</td>\n",
       "      <td>False</td>\n",
       "      <td>tr</td>\n",
       "      <td>reyhan reyhan</td>\n",
       "      <td>95.0</td>\n",
       "      <td>Osman &amp; Reyhan</td>\n",
       "      <td>osmanfidan7</td>\n",
       "      <td>799977030</td>\n",
       "    </tr>\n",
       "    <tr>\n",
       "      <th>2.544539e+09</th>\n",
       "      <td>86.0</td>\n",
       "      <td>397.0</td>\n",
       "      <td>False</td>\n",
       "      <td>tr</td>\n",
       "      <td>mustafa demir</td>\n",
       "      <td>96.0</td>\n",
       "      <td>Mustafa özdemir</td>\n",
       "      <td>Mustafa78778240</td>\n",
       "      <td>254453852</td>\n",
       "    </tr>\n",
       "  </tbody>\n",
       "</table>\n",
       "</div>"
      ],
      "text/plain": [
       "              followers_count  friends_count  is_org lang         match_name  \\\n",
       "id                                                                             \n",
       "8.634731e+17             54.0          123.0   False   tr      oguzhan tezel   \n",
       "1.030123e+08             18.0          199.0   False   en      zeynep yilmaz   \n",
       "9.097353e+17             48.0          202.0   False   tr  omer faruk kacmen   \n",
       "7.999770e+08             10.0          185.0   False   tr      reyhan reyhan   \n",
       "2.544539e+09             86.0          397.0   False   tr      mustafa demir   \n",
       "\n",
       "              match_ratio               name      screen_name  truncated_id  \n",
       "id                                                                           \n",
       "8.634731e+17         92.0      Oğuzhan Tezel    oguzhaantezel     863473065  \n",
       "1.030123e+08         92.0      zeynep yılmaz          zeynep2     103012327  \n",
       "9.097353e+17         94.0  Ömer Faruk Kaçmen       kacmenomer     909735272  \n",
       "7.999770e+08         95.0     Osman & Reyhan      osmanfidan7     799977030  \n",
       "2.544539e+09         96.0    Mustafa özdemir  Mustafa78778240     254453852  "
      ]
     },
     "execution_count": 21,
     "metadata": {},
     "output_type": "execute_result"
    }
   ],
   "source": [
    "twu_with_orgs = pd.concat([filtered_twu, sehir_orgs])\n",
    "twu_with_orgs.sample(5)"
   ]
  },
  {
   "cell_type": "code",
   "execution_count": 22,
   "metadata": {},
   "outputs": [
    {
     "data": {
      "text/plain": [
       "2849"
      ]
     },
     "execution_count": 22,
     "metadata": {},
     "output_type": "execute_result"
    }
   ],
   "source": [
    "assert len(twu_with_orgs) == len(filtered_twu) + len(sehir_orgs)\n",
    "len(twu_with_orgs)"
   ]
  },
  {
   "cell_type": "code",
   "execution_count": 24,
   "metadata": {},
   "outputs": [
    {
     "data": {
      "text/html": [
       "<div>\n",
       "<style scoped>\n",
       "    .dataframe tbody tr th:only-of-type {\n",
       "        vertical-align: middle;\n",
       "    }\n",
       "\n",
       "    .dataframe tbody tr th {\n",
       "        vertical-align: top;\n",
       "    }\n",
       "\n",
       "    .dataframe thead th {\n",
       "        text-align: right;\n",
       "    }\n",
       "</style>\n",
       "<table border=\"1\" class=\"dataframe\">\n",
       "  <thead>\n",
       "    <tr style=\"text-align: right;\">\n",
       "      <th></th>\n",
       "      <th>from_user_id</th>\n",
       "      <th>to_user_id</th>\n",
       "      <th>formation</th>\n",
       "    </tr>\n",
       "  </thead>\n",
       "  <tbody>\n",
       "    <tr>\n",
       "      <th>49206</th>\n",
       "      <td>59108737</td>\n",
       "      <td>1537318436</td>\n",
       "      <td>{'2018.05.24': True}</td>\n",
       "    </tr>\n",
       "    <tr>\n",
       "      <th>51761</th>\n",
       "      <td>2749898057</td>\n",
       "      <td>222806278</td>\n",
       "      <td>{'2018.05.24': True}</td>\n",
       "    </tr>\n",
       "    <tr>\n",
       "      <th>56601</th>\n",
       "      <td>1519685490</td>\n",
       "      <td>2612870692</td>\n",
       "      <td>{'2018.05.24': True}</td>\n",
       "    </tr>\n",
       "    <tr>\n",
       "      <th>49407</th>\n",
       "      <td>1317272377</td>\n",
       "      <td>1537318436</td>\n",
       "      <td>{'2018.05.24': True}</td>\n",
       "    </tr>\n",
       "    <tr>\n",
       "      <th>20297</th>\n",
       "      <td>3299537073</td>\n",
       "      <td>1666891914</td>\n",
       "      <td>{'2018.05.24': True}</td>\n",
       "    </tr>\n",
       "  </tbody>\n",
       "</table>\n",
       "</div>"
      ],
      "text/plain": [
       "       from_user_id  to_user_id             formation\n",
       "49206      59108737  1537318436  {'2018.05.24': True}\n",
       "51761    2749898057   222806278  {'2018.05.24': True}\n",
       "56601    1519685490  2612870692  {'2018.05.24': True}\n",
       "49407    1317272377  1537318436  {'2018.05.24': True}\n",
       "20297    3299537073  1666891914  {'2018.05.24': True}"
      ]
     },
     "execution_count": 24,
     "metadata": {},
     "output_type": "execute_result"
    }
   ],
   "source": [
    "# user_connections.formation = user_connections.formation.apply(lambda x:{\"2018.05.24\":True})\n",
    "user_connections.sample(5)"
   ]
  },
  {
   "cell_type": "code",
   "execution_count": 25,
   "metadata": {},
   "outputs": [],
   "source": [
    "ids = set(twu_with_orgs.index)\n",
    "def in_sehir(row, from_col=\"from_user_id\", to_col=\"to_user_id\"):\n",
    "    return row[from_col] in ids and row[to_col] in ids"
   ]
  },
  {
   "cell_type": "code",
   "execution_count": 26,
   "metadata": {},
   "outputs": [
    {
     "data": {
      "text/html": [
       "<div>\n",
       "<style scoped>\n",
       "    .dataframe tbody tr th:only-of-type {\n",
       "        vertical-align: middle;\n",
       "    }\n",
       "\n",
       "    .dataframe tbody tr th {\n",
       "        vertical-align: top;\n",
       "    }\n",
       "\n",
       "    .dataframe thead th {\n",
       "        text-align: right;\n",
       "    }\n",
       "</style>\n",
       "<table border=\"1\" class=\"dataframe\">\n",
       "  <thead>\n",
       "    <tr style=\"text-align: right;\">\n",
       "      <th></th>\n",
       "      <th>from_user_id</th>\n",
       "      <th>to_user_id</th>\n",
       "      <th>formation</th>\n",
       "    </tr>\n",
       "  </thead>\n",
       "  <tbody>\n",
       "    <tr>\n",
       "      <th>47891</th>\n",
       "      <td>3421922319</td>\n",
       "      <td>843946061626576896</td>\n",
       "      <td>{'2018.05.24': True}</td>\n",
       "    </tr>\n",
       "    <tr>\n",
       "      <th>18308</th>\n",
       "      <td>1036789573</td>\n",
       "      <td>2545544532</td>\n",
       "      <td>{'2018.05.24': True}</td>\n",
       "    </tr>\n",
       "    <tr>\n",
       "      <th>29763</th>\n",
       "      <td>1040271559</td>\n",
       "      <td>1979040049</td>\n",
       "      <td>{'2018.05.24': True}</td>\n",
       "    </tr>\n",
       "    <tr>\n",
       "      <th>34538</th>\n",
       "      <td>1941077114</td>\n",
       "      <td>609301446</td>\n",
       "      <td>{'2018.05.24': True}</td>\n",
       "    </tr>\n",
       "    <tr>\n",
       "      <th>22252</th>\n",
       "      <td>386018373</td>\n",
       "      <td>443551180</td>\n",
       "      <td>{'2018.05.24': True}</td>\n",
       "    </tr>\n",
       "  </tbody>\n",
       "</table>\n",
       "</div>"
      ],
      "text/plain": [
       "       from_user_id          to_user_id             formation\n",
       "47891    3421922319  843946061626576896  {'2018.05.24': True}\n",
       "18308    1036789573          2545544532  {'2018.05.24': True}\n",
       "29763    1040271559          1979040049  {'2018.05.24': True}\n",
       "34538    1941077114           609301446  {'2018.05.24': True}\n",
       "22252     386018373           443551180  {'2018.05.24': True}"
      ]
     },
     "execution_count": 26,
     "metadata": {},
     "output_type": "execute_result"
    }
   ],
   "source": [
    "user_connections[\"in_sehir\"] = user_connections.apply(lambda row: in_sehir(row), axis=1)\n",
    "sehir_connections = user_connections[user_connections.in_sehir].drop(\"in_sehir\", axis=1)\n",
    "sehir_connections.sample(5)"
   ]
  },
  {
   "cell_type": "code",
   "execution_count": 27,
   "metadata": {},
   "outputs": [
    {
     "data": {
      "text/plain": [
       "(93296, 9020)"
      ]
     },
     "execution_count": 27,
     "metadata": {},
     "output_type": "execute_result"
    }
   ],
   "source": [
    "len(user_connections),len(sehir_connections)"
   ]
  },
  {
   "cell_type": "markdown",
   "metadata": {},
   "source": [
    "## Adding older connections"
   ]
  },
  {
   "cell_type": "code",
   "execution_count": 28,
   "metadata": {},
   "outputs": [],
   "source": [
    "from datetime import datetime\n",
    "def get_dates(cons):\n",
    "    all_dates = set()\n",
    "    str2date = lambda strdate: datetime.strptime(strdate, '%Y.%m.%d')  # 2018.05.08\n",
    "\n",
    "    for dates in cons.formation.apply(lambda x: list(x)):\n",
    "        for date in dates:\n",
    "            all_dates.add(str2date(date))\n",
    "    return [d.strftime('%Y.%m.%d') for d in sorted(all_dates)]\n",
    "\n",
    "def present_in_date(changes_dates, queried_date):\n",
    "    \"\"\"\n",
    "    changes_dates = {d1:True, d2:False, d3:True} connection added or removed\n",
    "    \"\"\"\n",
    "    if changes_dates:\n",
    "        str2date = lambda strdate: datetime.strptime(strdate, '%Y.%m.%d')  # 2018.05.08\n",
    "        changes = sorted(changes_dates,key=lambda d: str2date(d))\n",
    "        queried_date = datetime.strptime(queried_date, '%Y.%m.%d')\n",
    "        present = False\n",
    "        for d in changes:\n",
    "            if queried_date < str2date(d):\n",
    "                break\n",
    "            present = changes_dates[d]\n",
    "        return present\n",
    "    else:\n",
    "        return False"
   ]
  },
  {
   "cell_type": "code",
   "execution_count": 29,
   "metadata": {},
   "outputs": [],
   "source": [
    "con2 = psycopg2.connect('dbname=old host=localhost user=postgres password=1_sehir_1')\n",
    "\n",
    "old_cons = pd.read_sql(\"SELECT * FROM twitter_connection\", con2).drop('id', axis=1)"
   ]
  },
  {
   "cell_type": "code",
   "execution_count": 30,
   "metadata": {},
   "outputs": [
    {
     "data": {
      "text/html": [
       "<div>\n",
       "<style scoped>\n",
       "    .dataframe tbody tr th:only-of-type {\n",
       "        vertical-align: middle;\n",
       "    }\n",
       "\n",
       "    .dataframe tbody tr th {\n",
       "        vertical-align: top;\n",
       "    }\n",
       "\n",
       "    .dataframe thead th {\n",
       "        text-align: right;\n",
       "    }\n",
       "</style>\n",
       "<table border=\"1\" class=\"dataframe\">\n",
       "  <thead>\n",
       "    <tr style=\"text-align: right;\">\n",
       "      <th></th>\n",
       "      <th>from_user_id</th>\n",
       "      <th>to_user_id</th>\n",
       "      <th>formation</th>\n",
       "    </tr>\n",
       "  </thead>\n",
       "  <tbody>\n",
       "    <tr>\n",
       "      <th>11107</th>\n",
       "      <td>613357064</td>\n",
       "      <td>106086098</td>\n",
       "      <td>{'2018.05.08': True}</td>\n",
       "    </tr>\n",
       "    <tr>\n",
       "      <th>19715</th>\n",
       "      <td>795546530845442048</td>\n",
       "      <td>1666891914</td>\n",
       "      <td>{'2018.05.08': True}</td>\n",
       "    </tr>\n",
       "    <tr>\n",
       "      <th>31943</th>\n",
       "      <td>3292423005</td>\n",
       "      <td>458521438</td>\n",
       "      <td>{'2018.05.08': True}</td>\n",
       "    </tr>\n",
       "    <tr>\n",
       "      <th>13495</th>\n",
       "      <td>989570894585528320</td>\n",
       "      <td>3892757176</td>\n",
       "      <td>{'2018.05.08': True}</td>\n",
       "    </tr>\n",
       "    <tr>\n",
       "      <th>35707</th>\n",
       "      <td>450639507</td>\n",
       "      <td>172846089</td>\n",
       "      <td>{'2018.05.08': True}</td>\n",
       "    </tr>\n",
       "  </tbody>\n",
       "</table>\n",
       "</div>"
      ],
      "text/plain": [
       "             from_user_id  to_user_id             formation\n",
       "11107           613357064   106086098  {'2018.05.08': True}\n",
       "19715  795546530845442048  1666891914  {'2018.05.08': True}\n",
       "31943          3292423005   458521438  {'2018.05.08': True}\n",
       "13495  989570894585528320  3892757176  {'2018.05.08': True}\n",
       "35707           450639507   172846089  {'2018.05.08': True}"
      ]
     },
     "execution_count": 30,
     "metadata": {},
     "output_type": "execute_result"
    }
   ],
   "source": [
    "old_cons.sample(5)"
   ]
  },
  {
   "cell_type": "code",
   "execution_count": 31,
   "metadata": {},
   "outputs": [
    {
     "data": {
      "text/html": [
       "<div>\n",
       "<style scoped>\n",
       "    .dataframe tbody tr th:only-of-type {\n",
       "        vertical-align: middle;\n",
       "    }\n",
       "\n",
       "    .dataframe tbody tr th {\n",
       "        vertical-align: top;\n",
       "    }\n",
       "\n",
       "    .dataframe thead th {\n",
       "        text-align: right;\n",
       "    }\n",
       "</style>\n",
       "<table border=\"1\" class=\"dataframe\">\n",
       "  <thead>\n",
       "    <tr style=\"text-align: right;\">\n",
       "      <th></th>\n",
       "      <th>from_user_id</th>\n",
       "      <th>to_user_id</th>\n",
       "      <th>formation</th>\n",
       "    </tr>\n",
       "  </thead>\n",
       "  <tbody>\n",
       "    <tr>\n",
       "      <th>11195</th>\n",
       "      <td>300804736</td>\n",
       "      <td>106086098</td>\n",
       "      <td>{'2018.05.08': True}</td>\n",
       "    </tr>\n",
       "    <tr>\n",
       "      <th>30617</th>\n",
       "      <td>783385197186256896</td>\n",
       "      <td>4091594428</td>\n",
       "      <td>{'2018.05.08': True}</td>\n",
       "    </tr>\n",
       "    <tr>\n",
       "      <th>7501</th>\n",
       "      <td>260874526</td>\n",
       "      <td>106086098</td>\n",
       "      <td>{'2018.05.08': True}</td>\n",
       "    </tr>\n",
       "    <tr>\n",
       "      <th>31678</th>\n",
       "      <td>789462997</td>\n",
       "      <td>1222491402</td>\n",
       "      <td>{'2018.05.08': True}</td>\n",
       "    </tr>\n",
       "    <tr>\n",
       "      <th>6300</th>\n",
       "      <td>2787503142</td>\n",
       "      <td>106086098</td>\n",
       "      <td>{'2018.05.08': True}</td>\n",
       "    </tr>\n",
       "  </tbody>\n",
       "</table>\n",
       "</div>"
      ],
      "text/plain": [
       "             from_user_id  to_user_id             formation\n",
       "11195           300804736   106086098  {'2018.05.08': True}\n",
       "30617  783385197186256896  4091594428  {'2018.05.08': True}\n",
       "7501            260874526   106086098  {'2018.05.08': True}\n",
       "31678           789462997  1222491402  {'2018.05.08': True}\n",
       "6300           2787503142   106086098  {'2018.05.08': True}"
      ]
     },
     "execution_count": 31,
     "metadata": {},
     "output_type": "execute_result"
    }
   ],
   "source": [
    "old_cons[\"in_sehir\"] = old_cons.apply(lambda row: in_sehir(row), axis=1)\n",
    "old_sehir = old_cons[old_cons.in_sehir].drop(\"in_sehir\", axis=1)\n",
    "old_sehir.sample(5)"
   ]
  },
  {
   "cell_type": "code",
   "execution_count": 32,
   "metadata": {},
   "outputs": [
    {
     "data": {
      "text/plain": [
       "(39848, 6200)"
      ]
     },
     "execution_count": 32,
     "metadata": {},
     "output_type": "execute_result"
    }
   ],
   "source": [
    "len(old_cons),len(old_sehir)"
   ]
  },
  {
   "cell_type": "code",
   "execution_count": 33,
   "metadata": {},
   "outputs": [
    {
     "data": {
      "text/plain": [
       "15220"
      ]
     },
     "execution_count": 33,
     "metadata": {},
     "output_type": "execute_result"
    }
   ],
   "source": [
    "concat_cons = pd.concat([sehir_connections, old_sehir])\n",
    "assert len(concat_cons) == len(old_sehir)+len(sehir_connections)\n",
    "len(concat_cons)"
   ]
  },
  {
   "cell_type": "code",
   "execution_count": 34,
   "metadata": {},
   "outputs": [],
   "source": [
    "def optimize_dates(dates_):\n",
    "    dates = {list(d.keys())[0]:d[list(d.keys())[0]] for d in dates_}\n",
    "    str2date = lambda strdate: datetime.strptime(strdate, '%Y.%m.%d')  # 2018.05.08\n",
    "    sorted_dates = sorted(dates, key=lambda d:str2date(d))\n",
    "    optimized_dates = {sorted_dates[0]: True}\n",
    "    for d in range(1, len(sorted_dates)):\n",
    "        if dates[sorted_dates[d-1]] != dates[sorted_dates[d]]:\n",
    "            optimized_dates[sorted_dates[d]] = dates[sorted_dates[d]]\n",
    "    return str(optimized_dates)"
   ]
  },
  {
   "cell_type": "code",
   "execution_count": 35,
   "metadata": {},
   "outputs": [
    {
     "data": {
      "text/plain": [
       "9031"
      ]
     },
     "execution_count": 35,
     "metadata": {},
     "output_type": "execute_result"
    }
   ],
   "source": [
    "grouped_cons = concat_cons.groupby([\"from_user_id\",\"to_user_id\"])[\"formation\"]\\\n",
    "                    .apply(lambda x:optimize_dates(x)).reset_index()\n",
    "len(grouped_cons)"
   ]
  },
  {
   "cell_type": "code",
   "execution_count": 36,
   "metadata": {},
   "outputs": [
    {
     "data": {
      "text/plain": [
       "(6200, 9020)"
      ]
     },
     "execution_count": 36,
     "metadata": {},
     "output_type": "execute_result"
    }
   ],
   "source": [
    "len(old_sehir), len(sehir_connections)"
   ]
  },
  {
   "cell_type": "code",
   "execution_count": 37,
   "metadata": {},
   "outputs": [
    {
     "data": {
      "text/html": [
       "<div>\n",
       "<style scoped>\n",
       "    .dataframe tbody tr th:only-of-type {\n",
       "        vertical-align: middle;\n",
       "    }\n",
       "\n",
       "    .dataframe tbody tr th {\n",
       "        vertical-align: top;\n",
       "    }\n",
       "\n",
       "    .dataframe thead th {\n",
       "        text-align: right;\n",
       "    }\n",
       "</style>\n",
       "<table border=\"1\" class=\"dataframe\">\n",
       "  <thead>\n",
       "    <tr style=\"text-align: right;\">\n",
       "      <th></th>\n",
       "      <th>from_user_id</th>\n",
       "      <th>to_user_id</th>\n",
       "      <th>formation</th>\n",
       "    </tr>\n",
       "  </thead>\n",
       "  <tbody>\n",
       "    <tr>\n",
       "      <th>8991</th>\n",
       "      <td>970643320107126784</td>\n",
       "      <td>870255908642856960</td>\n",
       "      <td>{'2018.05.08': True}</td>\n",
       "    </tr>\n",
       "    <tr>\n",
       "      <th>384</th>\n",
       "      <td>97633683</td>\n",
       "      <td>2612870692</td>\n",
       "      <td>{'2018.05.24': True}</td>\n",
       "    </tr>\n",
       "    <tr>\n",
       "      <th>4543</th>\n",
       "      <td>1392659191</td>\n",
       "      <td>1666891914</td>\n",
       "      <td>{'2018.05.08': True}</td>\n",
       "    </tr>\n",
       "    <tr>\n",
       "      <th>2890</th>\n",
       "      <td>526351576</td>\n",
       "      <td>1400588754</td>\n",
       "      <td>{'2018.05.24': True}</td>\n",
       "    </tr>\n",
       "    <tr>\n",
       "      <th>3215</th>\n",
       "      <td>614648680</td>\n",
       "      <td>162310009</td>\n",
       "      <td>{'2018.05.24': True}</td>\n",
       "    </tr>\n",
       "  </tbody>\n",
       "</table>\n",
       "</div>"
      ],
      "text/plain": [
       "            from_user_id          to_user_id             formation\n",
       "8991  970643320107126784  870255908642856960  {'2018.05.08': True}\n",
       "384             97633683          2612870692  {'2018.05.24': True}\n",
       "4543          1392659191          1666891914  {'2018.05.08': True}\n",
       "2890           526351576          1400588754  {'2018.05.24': True}\n",
       "3215           614648680           162310009  {'2018.05.24': True}"
      ]
     },
     "execution_count": 37,
     "metadata": {},
     "output_type": "execute_result"
    }
   ],
   "source": [
    "str2dict = lambda d : ast.literal_eval(d)\n",
    "grouped_cons.formation = grouped_cons.formation.apply(lambda d: str2dict(d))\n",
    "grouped_cons.sample(5)"
   ]
  },
  {
   "cell_type": "code",
   "execution_count": 38,
   "metadata": {},
   "outputs": [],
   "source": [
    "twu_with_orgs.to_csv(\"../datasets/filtered_twitter_users.csv\", index_label=\"id\")\n",
    "twu_with_orgs.to_csv(\"../REST/static/filtered_twitter_users.csv\", index_label=\"id\")\n",
    "\n",
    "grouped_cons.to_csv(\"../datasets/filtered_twitter_connections.csv\", index_label=\"id\")\n",
    "grouped_cons.to_csv(\"../REST/static/filtered_twitter_connections.csv\", index_label=\"id\")"
   ]
  },
  {
   "cell_type": "markdown",
   "metadata": {},
   "source": [
    "## Construct the network"
   ]
  },
  {
   "cell_type": "code",
   "execution_count": 39,
   "metadata": {},
   "outputs": [
    {
     "data": {
      "text/plain": [
       "['2018.05.08', '2018.05.24']"
      ]
     },
     "execution_count": 39,
     "metadata": {},
     "output_type": "execute_result"
    }
   ],
   "source": [
    "dates = get_dates(grouped_cons)\n",
    "dates"
   ]
  },
  {
   "cell_type": "code",
   "execution_count": 40,
   "metadata": {},
   "outputs": [
    {
     "data": {
      "text/html": [
       "<div>\n",
       "<style scoped>\n",
       "    .dataframe tbody tr th:only-of-type {\n",
       "        vertical-align: middle;\n",
       "    }\n",
       "\n",
       "    .dataframe tbody tr th {\n",
       "        vertical-align: top;\n",
       "    }\n",
       "\n",
       "    .dataframe thead th {\n",
       "        text-align: right;\n",
       "    }\n",
       "</style>\n",
       "<table border=\"1\" class=\"dataframe\">\n",
       "  <thead>\n",
       "    <tr style=\"text-align: right;\">\n",
       "      <th></th>\n",
       "      <th>from_user_id</th>\n",
       "      <th>to_user_id</th>\n",
       "      <th>formation</th>\n",
       "      <th>first_date</th>\n",
       "    </tr>\n",
       "  </thead>\n",
       "  <tbody>\n",
       "    <tr>\n",
       "      <th>2373</th>\n",
       "      <td>450639507</td>\n",
       "      <td>151606317</td>\n",
       "      <td>{'2018.05.08': True}</td>\n",
       "      <td>True</td>\n",
       "    </tr>\n",
       "    <tr>\n",
       "      <th>7802</th>\n",
       "      <td>4576344862</td>\n",
       "      <td>564388225</td>\n",
       "      <td>{'2018.05.08': True}</td>\n",
       "      <td>True</td>\n",
       "    </tr>\n",
       "    <tr>\n",
       "      <th>5123</th>\n",
       "      <td>1727958896</td>\n",
       "      <td>174415744</td>\n",
       "      <td>{'2018.05.08': True}</td>\n",
       "      <td>True</td>\n",
       "    </tr>\n",
       "    <tr>\n",
       "      <th>6108</th>\n",
       "      <td>2590180702</td>\n",
       "      <td>1222491402</td>\n",
       "      <td>{'2018.05.08': True}</td>\n",
       "      <td>True</td>\n",
       "    </tr>\n",
       "    <tr>\n",
       "      <th>6011</th>\n",
       "      <td>2529427087</td>\n",
       "      <td>609301446</td>\n",
       "      <td>{'2018.05.08': True}</td>\n",
       "      <td>True</td>\n",
       "    </tr>\n",
       "  </tbody>\n",
       "</table>\n",
       "</div>"
      ],
      "text/plain": [
       "      from_user_id  to_user_id             formation  first_date\n",
       "2373     450639507   151606317  {'2018.05.08': True}        True\n",
       "7802    4576344862   564388225  {'2018.05.08': True}        True\n",
       "5123    1727958896   174415744  {'2018.05.08': True}        True\n",
       "6108    2590180702  1222491402  {'2018.05.08': True}        True\n",
       "6011    2529427087   609301446  {'2018.05.08': True}        True"
      ]
     },
     "execution_count": 40,
     "metadata": {},
     "output_type": "execute_result"
    }
   ],
   "source": [
    "grouped_cons[\"first_date\"] = grouped_cons.formation.apply(\n",
    "    lambda ds: present_in_date(ds, dates[0]))\n",
    "grouped_cons.sample(5, random_state=42)"
   ]
  },
  {
   "cell_type": "code",
   "execution_count": 41,
   "metadata": {},
   "outputs": [],
   "source": [
    "G = nx.DiGraph()\n",
    "# for _, row in user_connections.iterrows():\n",
    "for _, row in grouped_cons[grouped_cons.first_date==True].iterrows():    \n",
    "    from_ = truncate(row[\"from_user_id\"])\n",
    "    to = truncate(row[\"to_user_id\"])\n",
    "    if from_ in twu_with_orgs.truncated_id and to in twu_with_orgs.truncated_id:\n",
    "        G.add_edge(from_, to)"
   ]
  },
  {
   "cell_type": "code",
   "execution_count": 42,
   "metadata": {},
   "outputs": [],
   "source": [
    "augs = [\"name\", \"screen_name\",\"match_name\", \"followers_count\",\"friends_count\", \"lang\"]\n",
    "for node in G.nodes():\n",
    "    user = twu_with_orgs.loc[node]\n",
    "    for aug in augs:\n",
    "        if aug==\"lang\":\n",
    "            m = user[aug]\n",
    "        elif type(user[aug])==str:\n",
    "            m = clean(user[aug])\n",
    "        else:\n",
    "            m = user[aug]\n",
    "        G.nodes[node][aug] = m"
   ]
  },
  {
   "cell_type": "code",
   "execution_count": 43,
   "metadata": {},
   "outputs": [
    {
     "data": {
      "text/plain": [
       "722"
      ]
     },
     "execution_count": 43,
     "metadata": {},
     "output_type": "execute_result"
    }
   ],
   "source": [
    "len(G.nodes())"
   ]
  },
  {
   "cell_type": "code",
   "execution_count": 44,
   "metadata": {},
   "outputs": [
    {
     "data": {
      "text/plain": [
       "1280"
      ]
     },
     "execution_count": 44,
     "metadata": {},
     "output_type": "execute_result"
    }
   ],
   "source": [
    "len(G.edges())"
   ]
  },
  {
   "cell_type": "code",
   "execution_count": 45,
   "metadata": {},
   "outputs": [],
   "source": [
    "for ix,deg in G.degree(G.nodes()):\n",
    "    G.node[ix]['degree'] = deg\n",
    "    G.node[ix]['parity'] = (1-deg%2)\n",
    "    \n",
    "for ix,in_deg in G.in_degree(G.nodes()):\n",
    "    G.node[ix]['in_degree'] = in_deg\n",
    "    \n",
    "for ix,out_deg in G.out_degree(G.nodes()):\n",
    "    G.node[ix]['out_degree'] = out_deg"
   ]
  },
  {
   "cell_type": "code",
   "execution_count": 46,
   "metadata": {},
   "outputs": [],
   "source": [
    "evc = nx.eigenvector_centrality(G)\n",
    "closeness = nx.closeness_centrality(G)\n",
    "betweenness = nx.betweenness_centrality(G)\n",
    "pagerank = nx.pagerank(G)\n",
    "nxg = G.to_undirected()\n",
    "clustering = nx.clustering(nxg)"
   ]
  },
  {
   "cell_type": "code",
   "execution_count": 47,
   "metadata": {},
   "outputs": [],
   "source": [
    "metrics = {\"eigenvector_centrality\":evc,\n",
    "           \"closeness_centrality\":closeness,\n",
    "          \"betweenness\":betweenness,\n",
    "          \"pagerank\":pagerank,\n",
    "          \"clustering_coefficient\":clustering}"
   ]
  },
  {
   "cell_type": "code",
   "execution_count": 48,
   "metadata": {},
   "outputs": [],
   "source": [
    "for metric_name, metric in metrics.items():\n",
    "    for ix,v in metric.items():\n",
    "        G.nodes[ix][metric_name] = v"
   ]
  },
  {
   "cell_type": "code",
   "execution_count": 49,
   "metadata": {},
   "outputs": [
    {
     "data": {
      "text/plain": [
       "(396662786,\n",
       " {'betweenness': 0.0,\n",
       "  'closeness_centrality': 0.0,\n",
       "  'clustering_coefficient': 0,\n",
       "  'degree': 1,\n",
       "  'eigenvector_centrality': 6.741618620868637e-27,\n",
       "  'followers_count': 33.0,\n",
       "  'friends_count': 284.0,\n",
       "  'in_degree': 0,\n",
       "  'lang': 'tr',\n",
       "  'match_name': ' sehir mba',\n",
       "  'name': 'nemasehir',\n",
       "  'out_degree': 1,\n",
       "  'pagerank': 0.0002640177962431144,\n",
       "  'parity': 0,\n",
       "  'screen_name': 'nemasehir'})"
      ]
     },
     "execution_count": 49,
     "metadata": {},
     "output_type": "execute_result"
    }
   ],
   "source": [
    "list(G.nodes(data=True))[0]"
   ]
  },
  {
   "cell_type": "code",
   "execution_count": 50,
   "metadata": {},
   "outputs": [],
   "source": [
    "import json\n",
    "from networkx.readwrite import json_graph\n",
    "data = nx.node_link_data(G)\n",
    "with open('../REST/static/networks/twitter_users_graph2.json', 'w') as f:\n",
    "    json.dump(data, f, indent=4)"
   ]
  },
  {
   "cell_type": "markdown",
   "metadata": {},
   "source": [
    "## Calculating Homophily"
   ]
  },
  {
   "cell_type": "code",
   "execution_count": 51,
   "metadata": {},
   "outputs": [],
   "source": [
    "def homophily(nw, metric=\"lang\"):\n",
    "    langs_probs = dict()\n",
    "    for n in nw.nodes():\n",
    "        user = nw.nodes[n]\n",
    "        langs_probs.setdefault(user[metric], 0)\n",
    "        langs_probs[user[metric]] += 1\n",
    "    heterogeneity_fraction_norm = 1 - sum(\n",
    "        [(float(i)/len(nw.nodes()))**2 for i in langs_probs.values()])\n",
    "    cross_edges = sum(\n",
    "        [int(nw.nodes[f][metric] != nw.nodes[t][metric] ) for f,t in nw.edges()])\n",
    "    cross_metric_ratio = cross_edges/float(len(nw.edges()))\n",
    "    print(\"cross-metric edges ratio: \", cross_metric_ratio)\n",
    "    print(\"Heterogeneity Fraction Norm\", heterogeneity_fraction_norm)\n",
    "    return cross_metric_ratio < heterogeneity_fraction_norm"
   ]
  },
  {
   "cell_type": "code",
   "execution_count": 52,
   "metadata": {
    "scrolled": true
   },
   "outputs": [
    {
     "name": "stdout",
     "output_type": "stream",
     "text": [
      "cross-metric edges ratio:  0.4578125\n",
      "Heterogeneity Fraction Norm 0.39950199891038296\n"
     ]
    },
    {
     "data": {
      "text/plain": [
       "False"
      ]
     },
     "execution_count": 52,
     "metadata": {},
     "output_type": "execute_result"
    }
   ],
   "source": [
    "homophily(G)"
   ]
  },
  {
   "cell_type": "markdown",
   "metadata": {},
   "source": [
    "# Transitivity"
   ]
  },
  {
   "cell_type": "code",
   "execution_count": 53,
   "metadata": {},
   "outputs": [
    {
     "data": {
      "text/plain": [
       "0.024470693113438823"
      ]
     },
     "execution_count": 53,
     "metadata": {},
     "output_type": "execute_result"
    }
   ],
   "source": [
    "nx.transitivity(G)"
   ]
  },
  {
   "cell_type": "code",
   "execution_count": null,
   "metadata": {},
   "outputs": [],
   "source": []
  }
 ],
 "metadata": {
  "kernelspec": {
   "display_name": "Python 3",
   "language": "python",
   "name": "python3"
  },
  "language_info": {
   "codemirror_mode": {
    "name": "ipython",
    "version": 3
   },
   "file_extension": ".py",
   "mimetype": "text/x-python",
   "name": "python",
   "nbconvert_exporter": "python",
   "pygments_lexer": "ipython3",
   "version": "3.5.2"
  }
 },
 "nbformat": 4,
 "nbformat_minor": 2
}
