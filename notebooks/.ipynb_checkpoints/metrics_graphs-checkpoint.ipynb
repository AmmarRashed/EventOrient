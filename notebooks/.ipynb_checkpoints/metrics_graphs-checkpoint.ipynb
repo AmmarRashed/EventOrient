{
 "cells": [
  {
   "cell_type": "code",
   "execution_count": 1,
   "metadata": {},
   "outputs": [],
   "source": [
    "import snap\n",
    "import time, gensim, pickle, json, networkx as nx, numpy as np\n",
    "from networkx.readwrite import json_graph\n",
    "\n",
    "import matplotlib.pyplot as plt\n",
    "%matplotlib inline"
   ]
  },
  {
   "cell_type": "code",
   "execution_count": 2,
   "metadata": {},
   "outputs": [],
   "source": [
    "with open('twitter_users_graph2.json', 'r') as f:\n",
    "    data = json.load(f)\n",
    "    nxg = json_graph.node_link_graph(data, directed=True)\n",
    "nxg = nxg.to_directed()"
   ]
  },
  {
   "cell_type": "code",
   "execution_count": 3,
   "metadata": {},
   "outputs": [],
   "source": [
    "def networkx_to_snappy(nxg, directed=False):\n",
    "    if directed:\n",
    "        g = snap.PNGraph.New()\n",
    "    else:\n",
    "        g = snap.PUNGraph.New()\n",
    "        \n",
    "    for n in nxg.nodes():\n",
    "        g.AddNode(n)\n",
    "    for f,t in nxg.edges():\n",
    "        g.AddEdge(f, t)\n",
    "        \n",
    "    return g\n",
    "    "
   ]
  },
  {
   "cell_type": "markdown",
   "metadata": {},
   "source": [
    "## 1) Degree\n",
    "## 2) Betweenness\n",
    "## 3) Eigenvector Centrality\n",
    "## 4) Closeness Centrality\n",
    "## 5) Page rank\n",
    "## 6) Modularity*\n",
    "## 7) Network Diameter*\n",
    "## 8) Number of Communities*\n",
    "#### * means this metric is for the network as a whole, not the average of each node"
   ]
  },
  {
   "cell_type": "markdown",
   "metadata": {},
   "source": [
    "# Degree"
   ]
  },
  {
   "cell_type": "code",
   "execution_count": 4,
   "metadata": {},
   "outputs": [
    {
     "data": {
      "text/plain": [
       "<Container object of 54 artists>"
      ]
     },
     "execution_count": 4,
     "metadata": {},
     "output_type": "execute_result"
    },
    {
     "data": {
      "image/png": "[encoded data removed]",
      "text/plain": [
       "<matplotlib.figure.Figure at 0x7ffb337d0190>"
      ]
     },
     "metadata": {},
     "output_type": "display_data"
    }
   ],
   "source": [
    "# Histogram\n",
    "Graph = networkx_to_snappy(nxg, directed=True)\n",
    "DegToCntV = snap.TIntPrV()\n",
    "snap.GetDegCnt(Graph, DegToCntV)\n",
    "degrees_counts = sorted([(item.GetVal1(),item.GetVal2()) for item in DegToCntV])\n",
    "plt.bar([x[0] for x in degrees_counts], [y[1] for y in degrees_counts])"
   ]
  },
  {
   "cell_type": "code",
   "execution_count": 5,
   "metadata": {},
   "outputs": [
    {
     "data": {
      "text/plain": [
       "[(2, 900),\n",
       " (4, 250),\n",
       " (6, 98),\n",
       " (8, 60),\n",
       " (10, 28),\n",
       " (12, 20),\n",
       " (14, 11),\n",
       " (16, 15),\n",
       " (18, 7),\n",
       " (20, 6),\n",
       " (22, 7),\n",
       " (24, 9),\n",
       " (26, 1),\n",
       " (28, 4),\n",
       " (30, 2),\n",
       " (32, 1),\n",
       " (34, 3),\n",
       " (36, 3),\n",
       " (38, 1),\n",
       " (40, 1),\n",
       " (42, 4),\n",
       " (44, 1),\n",
       " (48, 2),\n",
       " (58, 2),\n",
       " (60, 1),\n",
       " (62, 1),\n",
       " (64, 2),\n",
       " (66, 3),\n",
       " (68, 1),\n",
       " (72, 1),\n",
       " (76, 1),\n",
       " (80, 1),\n",
       " (84, 1),\n",
       " (86, 1),\n",
       " (90, 1),\n",
       " (96, 1),\n",
       " (102, 2),\n",
       " (104, 1),\n",
       " (112, 1),\n",
       " (116, 1),\n",
       " (126, 1),\n",
       " (156, 1),\n",
       " (170, 1),\n",
       " (176, 1),\n",
       " (196, 1),\n",
       " (210, 1),\n",
       " (224, 1),\n",
       " (228, 1),\n",
       " (246, 1),\n",
       " (258, 1),\n",
       " (262, 1),\n",
       " (292, 1),\n",
       " (326, 1),\n",
       " (360, 1)]"
      ]
     },
     "execution_count": 5,
     "metadata": {},
     "output_type": "execute_result"
    }
   ],
   "source": [
    "degrees_counts"
   ]
  },
  {
   "cell_type": "code",
   "execution_count": 6,
   "metadata": {},
   "outputs": [
    {
     "data": {
      "text/plain": [
       "<Container object of 15 artists>"
      ]
     },
     "execution_count": 6,
     "metadata": {},
     "output_type": "execute_result"
    },
    {
     "data": {
      "image/png": "[encoded data removed]",
      "text/plain": [
       "<matplotlib.figure.Figure at 0x7ffaf3d4f990>"
      ]
     },
     "metadata": {},
     "output_type": "display_data"
    }
   ],
   "source": [
    "plt.bar([x[0] for x in degrees_counts[:15]], [y[1] for y in degrees_counts[:15]])"
   ]
  },
  {
   "cell_type": "markdown",
   "metadata": {},
   "source": [
    "# Let's flood our graph\n",
    "<img src=\"https://www.nasa.gov/images/content/134306main_pia06674.gif\" />"
   ]
  },
  {
   "cell_type": "code",
   "execution_count": 7,
   "metadata": {},
   "outputs": [],
   "source": [
    "for ix,deg in nxg.degree(nxg.nodes()):\n",
    "    nxg.node[ix]['degree'] = deg\n",
    "    nxg.node[ix]['parity'] = (1-deg%2)\n",
    "    \n",
    "for ix,in_deg in nxg.in_degree(nxg.nodes()):\n",
    "    nxg.node[ix]['in_degree'] = in_deg\n",
    "    \n",
    "for ix,out_deg in nxg.out_degree(nxg.nodes()):\n",
    "    nxg.node[ix]['out_degree'] = out_deg"
   ]
  },
  {
   "cell_type": "code",
   "execution_count": 8,
   "metadata": {},
   "outputs": [
    {
     "name": "stdout",
     "output_type": "stream",
     "text": [
      "('Took: ', 11.656232833862305)\n"
     ]
    }
   ],
   "source": [
    "start = time.time()\n",
    "evc = nx.eigenvector_centrality(nxg)\n",
    "closeness = nx.closeness_centrality(nxg)\n",
    "betweenness = nx.betweenness_centrality(nxg)\n",
    "pagerank = nx.pagerank(nxg)\n",
    "cntr_metrics = {\"eigenvector_centrality\":evc,\n",
    "           \"closeness_centrality\":closeness,\n",
    "              \"betweenness\":betweenness,\n",
    "               \"pagerank\":pagerank}\n",
    "print(\"Took: \", time.time()-start)"
   ]
  },
  {
   "cell_type": "code",
   "execution_count": 9,
   "metadata": {},
   "outputs": [],
   "source": [
    "for metric_name, metric in cntr_metrics.items():\n",
    "    for ix,v in metric.items():\n",
    "        nxg.node[ix][metric_name] = v"
   ]
  },
  {
   "cell_type": "code",
   "execution_count": 22,
   "metadata": {},
   "outputs": [
    {
     "data": {
      "text/plain": [
       "{u'betweenness': 4.383264653312519e-05,\n",
       " u'cleaned_twitter_name': u'mehmet ekinci',\n",
       " u'closeness_centrality': 0.2862431800467654,\n",
       " u'degree': 6,\n",
       " u'eigenvector_centrality': 0.013167920875487035,\n",
       " u'favourites_count': 21273,\n",
       " u'followers_count': 35287,\n",
       " u'friends_count': 595,\n",
       " 'in_degree': 3,\n",
       " u'lang': u'tr',\n",
       " 'out_degree': 3,\n",
       " 'pagerank': 0.0005010176118114327,\n",
       " u'parity': 1,\n",
       " u'sehir_matches': u' mehmet akinci',\n",
       " u'statuses_count': 24993,\n",
       " u'twitter_name': u'Mehmet EK\\u0130NC\\u0130',\n",
       " u'twitter_screen_name': u'MehmetEkinci63'}"
      ]
     },
     "execution_count": 22,
     "metadata": {},
     "output_type": "execute_result"
    }
   ],
   "source": [
    "nxg.nodes[133]"
   ]
  },
  {
   "cell_type": "code",
   "execution_count": 31,
   "metadata": {},
   "outputs": [],
   "source": [
    "def get_island(graph, level, metric):\n",
    "    island = graph.copy()\n",
    "    for node in graph.nodes():\n",
    "        if graph.nodes[node][metric]<level:\n",
    "            island.remove_node(node)\n",
    "            \n",
    "    return island"
   ]
  },
  {
   "cell_type": "code",
   "execution_count": 32,
   "metadata": {},
   "outputs": [],
   "source": [
    "cntr_range = [i/10.0 for i in range(11)]  # 0 to 1\n",
    "ranges = [(\"degree\",range(0, 31, 2)),\n",
    "          (\"in_degree\",range(0, 31, 2)),\n",
    "          (\"out_degree\",range(0, 31, 2)),\n",
    "          (\"eigenvector_centrality\",cntr_range),\n",
    "          (\"closeness_centrality\",cntr_range),\n",
    "          (\"betweenness\",cntr_range),\n",
    "          (\"pagerank\",cntr_range)]\n",
    "\n",
    "## for parallelization\n",
    "def get_islands(metric, range_):\n",
    "    return {level:get_island(nxg, level, metric) for level in range_}"
   ]
  },
  {
   "cell_type": "code",
   "execution_count": 33,
   "metadata": {},
   "outputs": [],
   "source": [
    "# from joblib import parallel, delay\n",
    "\n",
    "# islands = Parallel(n_jobs=-1)(\n",
    "#                             delayed(get_islands)\n",
    "#                             (metric, range_)\n",
    "#                             for metric,range_ in ranges)"
   ]
  },
  {
   "cell_type": "code",
   "execution_count": 54,
   "metadata": {},
   "outputs": [],
   "source": [
    "islands = {metric:get_islands(metric, range_) for metric,range_ in ranges}"
   ]
  },
  {
   "cell_type": "code",
   "execution_count": 55,
   "metadata": {},
   "outputs": [
    {
     "data": {
      "text/plain": [
       "['closeness_centrality',\n",
       " 'out_degree',\n",
       " 'degree',\n",
       " 'in_degree',\n",
       " 'betweenness',\n",
       " 'eigenvector_centrality',\n",
       " 'pagerank']"
      ]
     },
     "execution_count": 55,
     "metadata": {},
     "output_type": "execute_result"
    }
   ],
   "source": [
    "islands.keys()"
   ]
  },
  {
   "cell_type": "code",
   "execution_count": 56,
   "metadata": {},
   "outputs": [],
   "source": [
    "def get_avg_metric(graph, metric):\n",
    "    result = 0.0\n",
    "    for node in graph.nodes():\n",
    "        result += graph.nodes[node][metric]\n",
    "    return result/len(graph.nodes)"
   ]
  },
  {
   "cell_type": "code",
   "execution_count": 68,
   "metadata": {},
   "outputs": [],
   "source": [
    "def describe_island(island):\n",
    "    if len(island.nodes())<1:\n",
    "        description = {\"modularity\":None,\n",
    "            \"communities\":None,\n",
    "            \"diameter_dir\":None,\n",
    "            \"diameter_undir\": None}\n",
    "        for metric, _ in ranges:\n",
    "            description[\"avg_\"+metric] = None\n",
    "        return description\n",
    "    island_snappy = networkx_to_snappy(island)\n",
    "    CmtyV = snap.TCnComV()\n",
    "    start = time.time()\n",
    "    \n",
    "    modularity = snap.CommunityGirvanNewman(island_snappy, CmtyV)\n",
    "    num_of_communities = len(CmtyV)\n",
    "    print(\"calculated modularity, Took: \", time.time()-start)\n",
    "    directed_island_snappy = networkx_to_snappy(island, True)\n",
    "    diam_directed = snap.GetBfsFullDiam(directed_island_snappy, 100, True)\n",
    "    diam_undirected = snap.GetBfsFullDiam(island_snappy, 100, False)\n",
    "    description = {\"modularity\":modularity,\n",
    "            \"communities\":num_of_communities,\n",
    "            \"diameter_dir\":diam_directed,\n",
    "            \"diameter_undir\": diam_undirected}\n",
    "    for metric, _ in ranges:\n",
    "        description[\"avg_\"+metric] = get_avg_metric(island, metric)\n",
    "    return description"
   ]
  },
  {
   "cell_type": "code",
   "execution_count": 69,
   "metadata": {},
   "outputs": [
    {
     "name": "stdout",
     "output_type": "stream",
     "text": [
      "('calculated modularity, Took: ', 531.4226760864258)\n",
      "('calculated modularity, Took: ', 555.4742681980133)\n",
      "('calculated modularity, Took: ', 0.00011110305786132812)\n",
      "('calculated modularity, Took: ', 22.356173038482666)\n",
      "('calculated modularity, Took: ', 534.9627759456635)\n",
      "('calculated modularity, Took: ', 529.5784118175507)\n",
      "('calculated modularity, Took: ', 131.06810879707336)\n",
      "('calculated modularity, Took: ', 17.28294801712036)\n",
      "('calculated modularity, Took: ', 4.977022886276245)\n",
      "('calculated modularity, Took: ', 2.0906341075897217)\n",
      "('calculated modularity, Took: ', 0.9230711460113525)\n",
      "('calculated modularity, Took: ', 0.4794158935546875)\n",
      "('calculated modularity, Took: ', 0.2424330711364746)\n",
      "('calculated modularity, Took: ', 0.18091988563537598)\n",
      "('calculated modularity, Took: ', 0.08350610733032227)\n",
      "('calculated modularity, Took: ', 0.05338692665100098)\n",
      "('calculated modularity, Took: ', 0.03132200241088867)\n",
      "('calculated modularity, Took: ', 0.0260159969329834)\n",
      "('calculated modularity, Took: ', 0.019368886947631836)\n",
      "('calculated modularity, Took: ', 0.02037811279296875)\n",
      "('calculated modularity, Took: ', 0.017274856567382812)\n",
      "('calculated modularity, Took: ', 510.8799650669098)\n",
      "('calculated modularity, Took: ', 517.3421769142151)\n",
      "('calculated modularity, Took: ', 131.26611709594727)\n",
      "('calculated modularity, Took: ', 43.06263303756714)\n",
      "('calculated modularity, Took: ', 16.746690034866333)\n",
      "('calculated modularity, Took: ', 7.748662948608398)\n",
      "('calculated modularity, Took: ', 4.428833961486816)\n",
      "('calculated modularity, Took: ', 2.558933973312378)\n",
      "('calculated modularity, Took: ', 1.9104340076446533)\n",
      "('calculated modularity, Took: ', 1.2346999645233154)\n",
      "('calculated modularity, Took: ', 0.8562610149383545)\n",
      "('calculated modularity, Took: ', 0.5848979949951172)\n",
      "('calculated modularity, Took: ', 0.450300931930542)\n",
      "('calculated modularity, Took: ', 0.22712492942810059)\n",
      "('calculated modularity, Took: ', 0.2230842113494873)\n",
      "('calculated modularity, Took: ', 0.1587228775024414)\n",
      "('calculated modularity, Took: ', 508.02774119377136)\n",
      "('calculated modularity, Took: ', 125.08723497390747)\n",
      "('calculated modularity, Took: ', 16.80989408493042)\n",
      "('calculated modularity, Took: ', 4.308665990829468)\n",
      "('calculated modularity, Took: ', 1.9113779067993164)\n",
      "('calculated modularity, Took: ', 0.857184886932373)\n",
      "('calculated modularity, Took: ', 0.4493448734283447)\n",
      "('calculated modularity, Took: ', 0.22046613693237305)\n",
      "('calculated modularity, Took: ', 0.13558602333068848)\n",
      "('calculated modularity, Took: ', 0.07599115371704102)\n",
      "('calculated modularity, Took: ', 0.04996991157531738)\n",
      "('calculated modularity, Took: ', 0.026997089385986328)\n",
      "('calculated modularity, Took: ', 0.02486109733581543)\n",
      "('calculated modularity, Took: ', 0.018698930740356445)\n",
      "('calculated modularity, Took: ', 0.01842784881591797)\n",
      "('calculated modularity, Took: ', 0.014266014099121094)\n",
      "('calculated modularity, Took: ', 512.6037359237671)\n",
      "('calculated modularity, Took: ', 4.601478576660156e-05)\n",
      "('calculated modularity, Took: ', 531.3913540840149)\n",
      "('calculated modularity, Took: ', 7.987022399902344e-05)\n",
      "('calculated modularity, Took: ', 8.821487426757812e-06)\n",
      "('calculated modularity, Took: ', 0.01503896713256836)\n",
      "('calculated modularity, Took: ', 534.7258689403534)\n"
     ]
    }
   ],
   "source": [
    "islands_described = {metric:{\n",
    "    level:describe_island(island) for level, island in levels.items()}\n",
    "                     for metric,levels in islands.items()}"
   ]
  },
  {
   "cell_type": "code",
   "execution_count": 70,
   "metadata": {},
   "outputs": [],
   "source": [
    "with open('../datasets/twitter_islands.pkl', 'wb') as f:\n",
    "    pickle.dump(islands, f, protocol=2)\n",
    "    \n",
    "with open('../datasets/twitter_islands_describ.pkl', 'wb') as f:\n",
    "    pickle.dump(islands_described, f, protocol=2)"
   ]
  },
  {
   "cell_type": "code",
   "execution_count": 71,
   "metadata": {},
   "outputs": [],
   "source": [
    "data = nx.node_link_data(nxg)\n",
    "with open('../visualization/twitter_users_graph2.json', 'w') as f:\n",
    "    json.dump(data, f, indent=4)\n",
    "    \n",
    "with open('../REST/static/networks/twitter_users_graph2.json', 'w') as f:\n",
    "    json.dump(data, f, indent=4)"
   ]
  },
  {
   "cell_type": "code",
   "execution_count": null,
   "metadata": {},
   "outputs": [],
   "source": []
  }
 ],
 "metadata": {
  "kernelspec": {
   "display_name": "Python 3",
   "language": "python",
   "name": "python3"
  },
  "language_info": {
   "codemirror_mode": {
    "name": "ipython",
    "version": 2
   },
   "file_extension": ".py",
   "mimetype": "text/x-python",
   "name": "python",
   "nbconvert_exporter": "python",
   "pygments_lexer": "ipython2",
   "version": "2.7.12"
  }
 },
 "nbformat": 4,
 "nbformat_minor": 2
}
