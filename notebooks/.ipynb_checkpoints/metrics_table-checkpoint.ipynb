{
 "cells": [
  {
   "cell_type": "code",
   "execution_count": 1,
   "metadata": {},
   "outputs": [],
   "source": [
    "import pandas as pd\n",
    "import numpy as np\n",
    "\n",
    "from copy import deepcopy\n",
    "\n",
    "import ast\n",
    "import random\n",
    "import networkx as nx\n",
    "import time, unicodedata\n",
    "import itertools\n",
    "\n",
    "import snap\n",
    "import time, pandas as pd, pickle, json, networkx as nx, numpy as np\n",
    "from networkx.readwrite import json_graph"
   ]
  },
  {
   "cell_type": "code",
   "execution_count": 2,
   "metadata": {},
   "outputs": [],
   "source": [
    "def homophily(nw, metric=\"lang\"):\n",
    "    langs_probs = dict()\n",
    "    for n in nw.nodes():\n",
    "        user = nw.nodes[n]\n",
    "        langs_probs.setdefault(user[metric], 0)\n",
    "        langs_probs[user[metric]] += 1\n",
    "    heterogeneity_fraction_norm = 1 - sum(\n",
    "        [(float(i)/len(nw.nodes()))**2 for i in langs_probs.values()])\n",
    "    cross_edges = sum(\n",
    "        [int(nw.nodes[f][metric] != nw.nodes[t][metric] ) for f,t in nw.edges()])\n",
    "    cross_metric_ratio = cross_edges/float(len(nw.edges()))\n",
    "    print(\"cross-metric edges ratio: \", cross_metric_ratio)\n",
    "    print(\"Heterogeneity Fraction Norm\", heterogeneity_fraction_norm)\n",
    "    return cross_metric_ratio < heterogeneity_fraction_norm"
   ]
  },
  {
   "cell_type": "markdown",
   "metadata": {},
   "source": [
    "# Affiliation Network"
   ]
  },
  {
   "cell_type": "code",
   "execution_count": 3,
   "metadata": {},
   "outputs": [],
   "source": [
    "with open('temp.json', 'r') as f:\n",
    "    data = json.load(f)\n",
    "    g = json_graph.node_link_graph(data, directed=True)\n",
    "g = g.to_directed()"
   ]
  },
  {
   "cell_type": "code",
   "execution_count": 4,
   "metadata": {},
   "outputs": [
    {
     "name": "stdout",
     "output_type": "stream",
     "text": [
      "('cross-metric edges ratio: ', 0.48250218722659666)\n",
      "('Heterogeneity Fraction Norm', 0.3827768503830924)\n"
     ]
    },
    {
     "data": {
      "text/plain": [
       "False"
      ]
     },
     "execution_count": 4,
     "metadata": {},
     "output_type": "execute_result"
    }
   ],
   "source": [
    "homophily(g)"
   ]
  },
  {
   "cell_type": "code",
   "execution_count": 5,
   "metadata": {},
   "outputs": [],
   "source": [
    "def networkx_to_snappy(nxg, directed=False):\n",
    "    if directed:\n",
    "        g = snap.PNGraph.New()\n",
    "    else:\n",
    "        g = snap.PUNGraph.New()\n",
    "        \n",
    "    for n in nxg.nodes():\n",
    "        g.AddNode(n)\n",
    "    for f,t in nxg.edges():\n",
    "        g.AddEdge(f, t)\n",
    "        \n",
    "    return g"
   ]
  },
  {
   "cell_type": "code",
   "execution_count": 6,
   "metadata": {},
   "outputs": [],
   "source": [
    "snappy_directed = networkx_to_snappy(g, True)\n",
    "snappy_undirected = networkx_to_snappy(g, False)"
   ]
  },
  {
   "cell_type": "code",
   "execution_count": 7,
   "metadata": {},
   "outputs": [],
   "source": [
    "diam_directed = snap.GetBfsFullDiam(snappy_directed, 100, True)\n",
    "diam_undirected = snap.GetBfsFullDiam(snappy_undirected, 100, False)"
   ]
  },
  {
   "cell_type": "code",
   "execution_count": 8,
   "metadata": {},
   "outputs": [],
   "source": [
    "CmtyV = snap.TCnComV()"
   ]
  },
  {
   "cell_type": "code",
   "execution_count": 35,
   "metadata": {},
   "outputs": [],
   "source": [
    "modularity = snap.CommunityGirvanNewman(snappy_undirected, CmtyV)"
   ]
  },
  {
   "cell_type": "code",
   "execution_count": 9,
   "metadata": {},
   "outputs": [
    {
     "data": {
      "text/plain": [
       "0.05140437213350742"
      ]
     },
     "execution_count": 9,
     "metadata": {},
     "output_type": "execute_result"
    }
   ],
   "source": [
    "nx.transitivity(g)"
   ]
  },
  {
   "cell_type": "markdown",
   "metadata": {},
   "source": [
    "# Users only network"
   ]
  },
  {
   "cell_type": "code",
   "execution_count": 29,
   "metadata": {},
   "outputs": [],
   "source": [
    "with open('temp2.json', 'r') as f:\n",
    "    data2 = json.load(f)\n",
    "    g2 = json_graph.node_link_graph(data2, directed=True)\n",
    "g2 = g2.to_directed()"
   ]
  },
  {
   "cell_type": "code",
   "execution_count": 42,
   "metadata": {},
   "outputs": [
    {
     "name": "stdout",
     "output_type": "stream",
     "text": [
      "('cross-metric edges ratio: ', 0.5173501577287066)\n",
      "('Heterogeneity Fraction Norm', 0.39109723833231247)\n"
     ]
    },
    {
     "data": {
      "text/plain": [
       "False"
      ]
     },
     "execution_count": 42,
     "metadata": {},
     "output_type": "execute_result"
    }
   ],
   "source": [
    "homophily(g2)"
   ]
  },
  {
   "cell_type": "code",
   "execution_count": 31,
   "metadata": {},
   "outputs": [],
   "source": [
    "snappy_directed2 = networkx_to_snappy(g2, True)\n",
    "snappy_undirected2 = networkx_to_snappy(g2, False)"
   ]
  },
  {
   "cell_type": "code",
   "execution_count": 32,
   "metadata": {},
   "outputs": [],
   "source": [
    "modularity2 = snap.CommunityGirvanNewman(snappy_undirected2, CmtyV)"
   ]
  },
  {
   "cell_type": "code",
   "execution_count": 33,
   "metadata": {},
   "outputs": [
    {
     "data": {
      "text/plain": [
       "0.0455287502267368"
      ]
     },
     "execution_count": 33,
     "metadata": {},
     "output_type": "execute_result"
    }
   ],
   "source": [
    "nx.transitivity(g2)"
   ]
  },
  {
   "cell_type": "code",
   "execution_count": 34,
   "metadata": {},
   "outputs": [
    {
     "data": {
      "text/plain": [
       "0.6190589366596185"
      ]
     },
     "execution_count": 34,
     "metadata": {},
     "output_type": "execute_result"
    }
   ],
   "source": [
    "modularity2"
   ]
  },
  {
   "cell_type": "code",
   "execution_count": 36,
   "metadata": {},
   "outputs": [
    {
     "data": {
      "text/plain": [
       "(0.4535644037504194, 0.6190589366596185)"
      ]
     },
     "execution_count": 36,
     "metadata": {},
     "output_type": "execute_result"
    }
   ],
   "source": [
    "modularity, modularity2"
   ]
  },
  {
   "cell_type": "code",
   "execution_count": 30,
   "metadata": {},
   "outputs": [
    {
     "data": {
      "text/plain": [
       "(1041, 554)"
      ]
     },
     "execution_count": 30,
     "metadata": {},
     "output_type": "execute_result"
    }
   ],
   "source": [
    "len(g.nodes()), len(g2.nodes())"
   ]
  },
  {
   "cell_type": "code",
   "execution_count": 39,
   "metadata": {},
   "outputs": [],
   "source": [
    "diam_directed2 = snap.GetBfsFullDiam(snappy_directed2, 100, True)\n",
    "diam_undirected2 = snap.GetBfsFullDiam(snappy_undirected2, 100, False)"
   ]
  },
  {
   "cell_type": "code",
   "execution_count": 41,
   "metadata": {},
   "outputs": [
    {
     "data": {
      "text/plain": [
       "(4, 0)"
      ]
     },
     "execution_count": 41,
     "metadata": {},
     "output_type": "execute_result"
    }
   ],
   "source": [
    "diam_undirected, diam_undirected2"
   ]
  },
  {
   "cell_type": "code",
   "execution_count": null,
   "metadata": {},
   "outputs": [],
   "source": []
  }
 ],
 "metadata": {
  "kernelspec": {
   "display_name": "Python 3",
   "language": "python",
   "name": "python3"
  },
  "language_info": {
   "codemirror_mode": {
    "name": "ipython",
    "version": 2
   },
   "file_extension": ".py",
   "mimetype": "text/x-python",
   "name": "python",
   "nbconvert_exporter": "python",
   "pygments_lexer": "ipython2",
   "version": "2.7.12"
  }
 },
 "nbformat": 4,
 "nbformat_minor": 2
}
