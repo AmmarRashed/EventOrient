{
 "cells": [
  {
   "cell_type": "code",
   "execution_count": 1,
   "metadata": {},
   "outputs": [],
   "source": [
    "import snap\n",
    "\n",
    "from joblib import Parallel, delayed\n",
    "from datetime import datetime\n",
    "\n",
    "import ast, operator\n",
    "from copy import deepcopy\n",
    "\n",
    "import time, pandas as pd, pickle, json, networkx as nx, numpy as np\n",
    "from networkx.readwrite import json_graph"
   ]
  },
  {
   "cell_type": "code",
   "execution_count": 2,
   "metadata": {},
   "outputs": [],
   "source": [
    "def networkx_to_snappy(nxg, directed=False):\n",
    "    if directed:\n",
    "        g = snap.PNGraph.New()\n",
    "    else:\n",
    "        g = snap.PUNGraph.New()\n",
    "        \n",
    "    for n in nxg.nodes():\n",
    "        g.AddNode(n)\n",
    "    for f,t in nxg.edges():\n",
    "        g.AddEdge(f, t)\n",
    "        \n",
    "    return g"
   ]
  },
  {
   "cell_type": "code",
   "execution_count": 3,
   "metadata": {},
   "outputs": [],
   "source": [
    "data = json.load(open(\"../REST/static/networks/latest_tw_ntw.json\"))\n",
    "nxg = json_graph.node_link_graph(data, directed=True)\n",
    "del data"
   ]
  },
  {
   "cell_type": "markdown",
   "metadata": {},
   "source": [
    "### Delete focal connections"
   ]
  },
  {
   "cell_type": "code",
   "execution_count": 4,
   "metadata": {},
   "outputs": [],
   "source": [
    "for node in list(nxg.nodes):\n",
    "    if nxg.nodes[node]['community'] == 'foci':\n",
    "        nxg.remove_node(node)"
   ]
  },
  {
   "cell_type": "markdown",
   "metadata": {},
   "source": [
    "### Calculating Strongly-Connected components \n",
    "#### <a href=\"https://www.geeksforgeeks.org/strongly-connected-components/\">Kosaraju's algorithm</a>\n",
    "<img src=\"https://github.com/AmmarRashed/EventOrient/blob/master/misc/pics/scc.jpeg?raw=true\">"
   ]
  },
  {
   "cell_type": "code",
   "execution_count": 5,
   "metadata": {},
   "outputs": [],
   "source": [
    "snappy_directed = networkx_to_snappy(nxg, True)\n",
    "components = snap.TCnComV()\n",
    "sccs = snap.GetSccs(snappy_directed, components)"
   ]
  },
  {
   "cell_type": "code",
   "execution_count": 6,
   "metadata": {},
   "outputs": [
    {
     "name": "stdout",
     "output_type": "stream",
     "text": [
      "Size of component: 163\n",
      "Size of component: 6\n",
      "Size of component: 5\n",
      "Size of component: 3\n"
     ]
    }
   ],
   "source": [
    "for CnCom in components:\n",
    "    if (CnCom.Len()>1):\n",
    "        print (\"Size of component: %d\" % CnCom.Len())"
   ]
  },
  {
   "cell_type": "code",
   "execution_count": 7,
   "metadata": {},
   "outputs": [],
   "source": [
    "super_graph = nx.Graph()"
   ]
  },
  {
   "cell_type": "code",
   "execution_count": 8,
   "metadata": {},
   "outputs": [],
   "source": [
    "for i,c1 in enumerate(components):\n",
    "#     if c1.Len()>1:\n",
    "    for j, c2 in enumerate(components):\n",
    "        if  i != j:\n",
    "            weight = 0\n",
    "            for n1 in c1:\n",
    "                for n2 in c2:\n",
    "                    if nxg.has_edge(n1, n2):\n",
    "                        weight += 1\n",
    "            if weight>0:\n",
    "                super_graph.add_edge(i, j, weight=weight)"
   ]
  },
  {
   "cell_type": "code",
   "execution_count": null,
   "metadata": {},
   "outputs": [],
   "source": [
    "def get_communities_distribution(component, actual_size=False):\n",
    "    coms = dict()\n",
    "    for node in component:\n",
    "        com = nxg.nodes[node]['community']\n",
    "        coms.setdefault(com, 0)\n",
    "        coms[com] += 1\n",
    "    \n",
    "    if not actual_size:\n",
    "        for community, size in coms.items():\n",
    "            coms[community] = round(float(size)/len(component),3)\n",
    "    return sorted(coms.iteritems(), key=lambda x:x[1], reverse=True)"
   ]
  },
  {
   "cell_type": "code",
   "execution_count": null,
   "metadata": {},
   "outputs": [],
   "source": [
    "for ix,deg in super_graph.degree(super_graph.nodes()):\n",
    "    nodes = list(set(components[ix]))\n",
    "    names = [nxg.nodes[n]['name'] for n in nodes]\n",
    "    super_graph.node[ix]['degree'] = deg\n",
    "    super_graph.nodes[ix]['nodes'] = nodes\n",
    "    super_graph.nodes[ix]['names'] = names\n",
    "    coms = get_communities_distribution(nodes)\n",
    "    if len(coms) > 1:\n",
    "        print(coms)\n",
    "    max_community = max(coms, key=operator.itemgetter(1))[0]\n",
    "    super_graph.nodes[ix]['biggest_community'] = max_community\n",
    "    super_graph.nodes[ix]['communities count'] = len(coms)\n",
    "    super_graph.nodes[ix]['communities distribution'] = coms"
   ]
  },
  {
   "cell_type": "code",
   "execution_count": null,
   "metadata": {},
   "outputs": [],
   "source": [
    "data = nx.node_link_data(super_graph)\n",
    "with open('../REST/static/networks/SCC_graph.json', 'w') as f:\n",
    "    json.dump(data, f, indent=4)\n",
    "    \n",
    "with open('../visualization/SCC_graph.json', 'w') as f:\n",
    "    json.dump(data, f, indent=4)"
   ]
  }
 ],
 "metadata": {
  "kernelspec": {
   "display_name": "Python 3",
   "language": "python",
   "name": "python3"
  },
  "language_info": {
   "codemirror_mode": {
    "name": "ipython",
    "version": 2
   },
   "file_extension": ".py",
   "mimetype": "text/x-python",
   "name": "python",
   "nbconvert_exporter": "python",
   "pygments_lexer": "ipython2",
   "version": "2.7.12"
  }
 },
 "nbformat": 4,
 "nbformat_minor": 2
}
