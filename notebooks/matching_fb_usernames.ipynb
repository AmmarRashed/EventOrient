{
 "cells": [
  {
   "cell_type": "code",
   "execution_count": 1,
   "metadata": {},
   "outputs": [],
   "source": [
    "from SehirParser import *\n",
    "\n",
    "import psycopg2\n",
    "\n",
    "import ast"
   ]
  },
  {
   "cell_type": "code",
   "execution_count": 2,
   "metadata": {},
   "outputs": [
    {
     "data": {
      "text/html": [
       "<div>\n",
       "<style scoped>\n",
       "    .dataframe tbody tr th:only-of-type {\n",
       "        vertical-align: middle;\n",
       "    }\n",
       "\n",
       "    .dataframe tbody tr th {\n",
       "        vertical-align: top;\n",
       "    }\n",
       "\n",
       "    .dataframe thead th {\n",
       "        text-align: right;\n",
       "    }\n",
       "</style>\n",
       "<table border=\"1\" class=\"dataframe\">\n",
       "  <thead>\n",
       "    <tr style=\"text-align: right;\">\n",
       "      <th></th>\n",
       "      <th>id</th>\n",
       "      <th>title</th>\n",
       "      <th>membership</th>\n",
       "      <th>first_name</th>\n",
       "      <th>middle_name</th>\n",
       "      <th>last_name</th>\n",
       "      <th>nick_name</th>\n",
       "      <th>full_name</th>\n",
       "    </tr>\n",
       "  </thead>\n",
       "  <tbody>\n",
       "    <tr>\n",
       "      <th>0</th>\n",
       "      <td>532625750441045</td>\n",
       "      <td>NaN</td>\n",
       "      <td>Sehir Dersler&amp;Hocalar</td>\n",
       "      <td>ecenur</td>\n",
       "      <td>NaN</td>\n",
       "      <td>temelli</td>\n",
       "      <td>NaN</td>\n",
       "      <td>ecenur temelli</td>\n",
       "    </tr>\n",
       "    <tr>\n",
       "      <th>1</th>\n",
       "      <td>388277361642482</td>\n",
       "      <td>NaN</td>\n",
       "      <td>Sehir Dersler&amp;Hocalar</td>\n",
       "      <td>ahmet</td>\n",
       "      <td>selman</td>\n",
       "      <td>kus</td>\n",
       "      <td>NaN</td>\n",
       "      <td>ahmet selman kus</td>\n",
       "    </tr>\n",
       "    <tr>\n",
       "      <th>2</th>\n",
       "      <td>2063118013923420</td>\n",
       "      <td>NaN</td>\n",
       "      <td>Sehir Dersler&amp;Hocalar</td>\n",
       "      <td>aysecan</td>\n",
       "      <td>NaN</td>\n",
       "      <td>gurbuzler</td>\n",
       "      <td>NaN</td>\n",
       "      <td>aysecan gurbuzler</td>\n",
       "    </tr>\n",
       "    <tr>\n",
       "      <th>3</th>\n",
       "      <td>197256327682579</td>\n",
       "      <td>NaN</td>\n",
       "      <td>Sehir Dersler&amp;Hocalar</td>\n",
       "      <td>ask</td>\n",
       "      <td>NaN</td>\n",
       "      <td>ihya</td>\n",
       "      <td>NaN</td>\n",
       "      <td>ask ihya</td>\n",
       "    </tr>\n",
       "    <tr>\n",
       "      <th>4</th>\n",
       "      <td>324997921353280</td>\n",
       "      <td>NaN</td>\n",
       "      <td>Sehir Dersler&amp;Hocalar</td>\n",
       "      <td>farhana</td>\n",
       "      <td>NaN</td>\n",
       "      <td>zakaria</td>\n",
       "      <td>NaN</td>\n",
       "      <td>farhana zakaria</td>\n",
       "    </tr>\n",
       "  </tbody>\n",
       "</table>\n",
       "</div>"
      ],
      "text/plain": [
       "                 id title             membership first_name middle_name  \\\n",
       "0   532625750441045   NaN  Sehir Dersler&Hocalar     ecenur         NaN   \n",
       "1   388277361642482   NaN  Sehir Dersler&Hocalar      ahmet      selman   \n",
       "2  2063118013923420   NaN  Sehir Dersler&Hocalar    aysecan         NaN   \n",
       "3   197256327682579   NaN  Sehir Dersler&Hocalar        ask         NaN   \n",
       "4   324997921353280   NaN  Sehir Dersler&Hocalar    farhana         NaN   \n",
       "\n",
       "   last_name  nick_name          full_name  \n",
       "0    temelli        NaN     ecenur temelli  \n",
       "1        kus        NaN   ahmet selman kus  \n",
       "2  gurbuzler        NaN  aysecan gurbuzler  \n",
       "3       ihya        NaN           ask ihya  \n",
       "4    zakaria        NaN    farhana zakaria  "
      ]
     },
     "execution_count": 2,
     "metadata": {},
     "output_type": "execute_result"
    }
   ],
   "source": [
    "df = pd.read_csv(\"datasets/fb_users2.csv\", index_col=\"Unnamed: 0\")\n",
    "df.head()"
   ]
  },
  {
   "cell_type": "code",
   "execution_count": 3,
   "metadata": {},
   "outputs": [
    {
     "data": {
      "text/html": [
       "<div>\n",
       "<style scoped>\n",
       "    .dataframe tbody tr th:only-of-type {\n",
       "        vertical-align: middle;\n",
       "    }\n",
       "\n",
       "    .dataframe tbody tr th {\n",
       "        vertical-align: top;\n",
       "    }\n",
       "\n",
       "    .dataframe thead th {\n",
       "        text-align: right;\n",
       "    }\n",
       "</style>\n",
       "<table border=\"1\" class=\"dataframe\">\n",
       "  <thead>\n",
       "    <tr style=\"text-align: right;\">\n",
       "      <th></th>\n",
       "      <th>id</th>\n",
       "      <th>title</th>\n",
       "      <th>first_name</th>\n",
       "      <th>middle_name</th>\n",
       "      <th>last_name</th>\n",
       "      <th>nick_name</th>\n",
       "      <th>full_name</th>\n",
       "    </tr>\n",
       "    <tr>\n",
       "      <th>membership</th>\n",
       "      <th></th>\n",
       "      <th></th>\n",
       "      <th></th>\n",
       "      <th></th>\n",
       "      <th></th>\n",
       "      <th></th>\n",
       "      <th></th>\n",
       "    </tr>\n",
       "  </thead>\n",
       "  <tbody>\n",
       "    <tr>\n",
       "      <th>Sehir Dersler&amp;Hocalar</th>\n",
       "      <td>2346</td>\n",
       "      <td>1</td>\n",
       "      <td>2341</td>\n",
       "      <td>506</td>\n",
       "      <td>2341</td>\n",
       "      <td>0</td>\n",
       "      <td>2341</td>\n",
       "    </tr>\n",
       "    <tr>\n",
       "      <th>Sehir Duyuru</th>\n",
       "      <td>309</td>\n",
       "      <td>1</td>\n",
       "      <td>305</td>\n",
       "      <td>61</td>\n",
       "      <td>306</td>\n",
       "      <td>0</td>\n",
       "      <td>306</td>\n",
       "    </tr>\n",
       "    <tr>\n",
       "      <th>Sehir Lessons&amp;Teachers</th>\n",
       "      <td>39</td>\n",
       "      <td>0</td>\n",
       "      <td>39</td>\n",
       "      <td>10</td>\n",
       "      <td>39</td>\n",
       "      <td>0</td>\n",
       "      <td>39</td>\n",
       "    </tr>\n",
       "    <tr>\n",
       "      <th>Sehir Mezunlari</th>\n",
       "      <td>35</td>\n",
       "      <td>1</td>\n",
       "      <td>35</td>\n",
       "      <td>7</td>\n",
       "      <td>34</td>\n",
       "      <td>0</td>\n",
       "      <td>35</td>\n",
       "    </tr>\n",
       "    <tr>\n",
       "      <th>Sehir Muhendislik</th>\n",
       "      <td>25</td>\n",
       "      <td>0</td>\n",
       "      <td>25</td>\n",
       "      <td>3</td>\n",
       "      <td>25</td>\n",
       "      <td>0</td>\n",
       "      <td>25</td>\n",
       "    </tr>\n",
       "  </tbody>\n",
       "</table>\n",
       "</div>"
      ],
      "text/plain": [
       "                          id  title  first_name  middle_name  last_name  \\\n",
       "membership                                                                \n",
       "Sehir Dersler&Hocalar   2346      1        2341          506       2341   \n",
       "Sehir Duyuru             309      1         305           61        306   \n",
       "Sehir Lessons&Teachers    39      0          39           10         39   \n",
       "Sehir Mezunlari           35      1          35            7         34   \n",
       "Sehir Muhendislik         25      0          25            3         25   \n",
       "\n",
       "                        nick_name  full_name  \n",
       "membership                                    \n",
       "Sehir Dersler&Hocalar           0       2341  \n",
       "Sehir Duyuru                    0        306  \n",
       "Sehir Lessons&Teachers          0         39  \n",
       "Sehir Mezunlari                 0         35  \n",
       "Sehir Muhendislik               0         25  "
      ]
     },
     "execution_count": 3,
     "metadata": {},
     "output_type": "execute_result"
    }
   ],
   "source": [
    "df.groupby(\"membership\").count()"
   ]
  },
  {
   "cell_type": "code",
   "execution_count": 4,
   "metadata": {},
   "outputs": [],
   "source": [
    "# df.head(10).to_csv(\"datasets/fb_users_toy.csv\")"
   ]
  },
  {
   "cell_type": "code",
   "execution_count": 5,
   "metadata": {},
   "outputs": [],
   "source": [
    "cols = {\"id\":\"id\", \"name\":\"full_name\", \"screen_name\":\"full_name\"}\n",
    "fb_sp = SehirParser('datasets/contacts.csv', \"datasets/fb_users2.csv\", cols)"
   ]
  },
  {
   "cell_type": "code",
   "execution_count": 6,
   "metadata": {},
   "outputs": [
    {
     "data": {
      "text/plain": [
       "2754"
      ]
     },
     "execution_count": 6,
     "metadata": {},
     "output_type": "execute_result"
    }
   ],
   "source": [
    "fb_sp.twitter_users_count"
   ]
  },
  {
   "cell_type": "code",
   "execution_count": 7,
   "metadata": {},
   "outputs": [
    {
     "name": "stderr",
     "output_type": "stream",
     "text": [
      "/home/ammar/Sehir_Network_Analysis/SehirParser.py:53: UserWarning: NaN name\n",
      "  warnings.warn(\"NaN name\")\n",
      "/home/ammar/Sehir_Network_Analysis/SehirParser.py:53: UserWarning: NaN name\n",
      "  warnings.warn(\"NaN name\")\n",
      "/home/ammar/Sehir_Network_Analysis/SehirParser.py:53: UserWarning: NaN name\n",
      "  warnings.warn(\"NaN name\")\n",
      "/home/ammar/Sehir_Network_Analysis/SehirParser.py:53: UserWarning: NaN name\n",
      "  warnings.warn(\"NaN name\")\n",
      "/home/ammar/Sehir_Network_Analysis/SehirParser.py:53: UserWarning: NaN name\n",
      "  warnings.warn(\"NaN name\")\n"
     ]
    }
   ],
   "source": [
    "fb_df, sehir_matches_fb_df = fb_sp.get_sehir_matches_df()"
   ]
  },
  {
   "cell_type": "code",
   "execution_count": 8,
   "metadata": {},
   "outputs": [
    {
     "data": {
      "text/html": [
       "<div>\n",
       "<style scoped>\n",
       "    .dataframe tbody tr th:only-of-type {\n",
       "        vertical-align: middle;\n",
       "    }\n",
       "\n",
       "    .dataframe tbody tr th {\n",
       "        vertical-align: top;\n",
       "    }\n",
       "\n",
       "    .dataframe thead th {\n",
       "        text-align: right;\n",
       "    }\n",
       "</style>\n",
       "<table border=\"1\" class=\"dataframe\">\n",
       "  <thead>\n",
       "    <tr style=\"text-align: right;\">\n",
       "      <th></th>\n",
       "      <th>full_name</th>\n",
       "      <th>sehir_matches</th>\n",
       "    </tr>\n",
       "  </thead>\n",
       "  <tbody>\n",
       "    <tr>\n",
       "      <th>0</th>\n",
       "      <td>tevfik melih ertuzun</td>\n",
       "      <td>[(tevfik melih ertuzun, 100)]</td>\n",
       "    </tr>\n",
       "    <tr>\n",
       "      <th>1</th>\n",
       "      <td>yavuz gozeller</td>\n",
       "      <td>[(yavuz gozeller, 100)]</td>\n",
       "    </tr>\n",
       "    <tr>\n",
       "      <th>2</th>\n",
       "      <td>hamza msrl</td>\n",
       "      <td>[(hamza misirli, 87)]</td>\n",
       "    </tr>\n",
       "    <tr>\n",
       "      <th>3</th>\n",
       "      <td>derya guven</td>\n",
       "      <td>[(derya guven, 100)]</td>\n",
       "    </tr>\n",
       "    <tr>\n",
       "      <th>4</th>\n",
       "      <td>abdullah eser</td>\n",
       "      <td>[(abdullah eser, 100)]</td>\n",
       "    </tr>\n",
       "  </tbody>\n",
       "</table>\n",
       "</div>"
      ],
      "text/plain": [
       "              full_name                  sehir_matches\n",
       "0  tevfik melih ertuzun  [(tevfik melih ertuzun, 100)]\n",
       "1        yavuz gozeller        [(yavuz gozeller, 100)]\n",
       "2            hamza msrl          [(hamza misirli, 87)]\n",
       "3           derya guven           [(derya guven, 100)]\n",
       "4         abdullah eser         [(abdullah eser, 100)]"
      ]
     },
     "execution_count": 8,
     "metadata": {},
     "output_type": "execute_result"
    }
   ],
   "source": [
    "sehir_matches_fb_df.head()"
   ]
  },
  {
   "cell_type": "code",
   "execution_count": 9,
   "metadata": {},
   "outputs": [
    {
     "data": {
      "text/plain": [
       "1916"
      ]
     },
     "execution_count": 9,
     "metadata": {},
     "output_type": "execute_result"
    }
   ],
   "source": [
    "len(sehir_matches_fb_df)"
   ]
  },
  {
   "cell_type": "code",
   "execution_count": 10,
   "metadata": {},
   "outputs": [
    {
     "data": {
      "text/html": [
       "<div>\n",
       "<style scoped>\n",
       "    .dataframe tbody tr th:only-of-type {\n",
       "        vertical-align: middle;\n",
       "    }\n",
       "\n",
       "    .dataframe tbody tr th {\n",
       "        vertical-align: top;\n",
       "    }\n",
       "\n",
       "    .dataframe thead th {\n",
       "        text-align: right;\n",
       "    }\n",
       "</style>\n",
       "<table border=\"1\" class=\"dataframe\">\n",
       "  <thead>\n",
       "    <tr style=\"text-align: right;\">\n",
       "      <th></th>\n",
       "      <th>full_name</th>\n",
       "      <th>sehir_matches</th>\n",
       "      <th>membership</th>\n",
       "    </tr>\n",
       "    <tr>\n",
       "      <th>fb_ID</th>\n",
       "      <th></th>\n",
       "      <th></th>\n",
       "      <th></th>\n",
       "    </tr>\n",
       "  </thead>\n",
       "  <tbody>\n",
       "    <tr>\n",
       "      <th>1510343515752802</th>\n",
       "      <td>tevfik melih ertuzun</td>\n",
       "      <td>tevfik melih ertuzun</td>\n",
       "      <td>Sehir Dersler&amp;Hocalar</td>\n",
       "    </tr>\n",
       "    <tr>\n",
       "      <th>10156003240154666</th>\n",
       "      <td>yavuz gozeller</td>\n",
       "      <td>yavuz gozeller</td>\n",
       "      <td>Sehir Dersler&amp;Hocalar</td>\n",
       "    </tr>\n",
       "    <tr>\n",
       "      <th>380747599053506</th>\n",
       "      <td>hamza msrl</td>\n",
       "      <td>hamza misirli</td>\n",
       "      <td>Sehir Dersler&amp;Hocalar</td>\n",
       "    </tr>\n",
       "    <tr>\n",
       "      <th>10212503946487716</th>\n",
       "      <td>derya guven</td>\n",
       "      <td>derya guven</td>\n",
       "      <td>Sehir Dersler&amp;Hocalar</td>\n",
       "    </tr>\n",
       "    <tr>\n",
       "      <th>1975299406043917</th>\n",
       "      <td>abdullah eser</td>\n",
       "      <td>abdullah eser</td>\n",
       "      <td>Sehir Dersler&amp;Hocalar</td>\n",
       "    </tr>\n",
       "  </tbody>\n",
       "</table>\n",
       "</div>"
      ],
      "text/plain": [
       "                              full_name         sehir_matches  \\\n",
       "fb_ID                                                           \n",
       "1510343515752802   tevfik melih ertuzun  tevfik melih ertuzun   \n",
       "10156003240154666        yavuz gozeller        yavuz gozeller   \n",
       "380747599053506              hamza msrl         hamza misirli   \n",
       "10212503946487716           derya guven           derya guven   \n",
       "1975299406043917          abdullah eser         abdullah eser   \n",
       "\n",
       "                              membership  \n",
       "fb_ID                                     \n",
       "1510343515752802   Sehir Dersler&Hocalar  \n",
       "10156003240154666  Sehir Dersler&Hocalar  \n",
       "380747599053506    Sehir Dersler&Hocalar  \n",
       "10212503946487716  Sehir Dersler&Hocalar  \n",
       "1975299406043917   Sehir Dersler&Hocalar  "
      ]
     },
     "execution_count": 10,
     "metadata": {},
     "output_type": "execute_result"
    }
   ],
   "source": [
    "fb_df[\"sehir_matches\"] = fb_df[\"sehir_matches\"].apply(lambda x: x[0][0])\n",
    "fb_df = fb_df.rename(columns={\"GUID\":\"fb_ID\"}).set_index(\"fb_ID\")\n",
    "fb_df = fb_df[[\"full_name\",\"sehir_matches\",\"membership\"]]\n",
    "fb_df.head()"
   ]
  },
  {
   "cell_type": "code",
   "execution_count": 11,
   "metadata": {},
   "outputs": [],
   "source": [
    "fb_df.to_csv('datasets/sehir_fb_matches2.csv', index_label=\"fb_ID\")"
   ]
  },
  {
   "cell_type": "code",
   "execution_count": 12,
   "metadata": {},
   "outputs": [
    {
     "data": {
      "text/plain": [
       "1940"
      ]
     },
     "execution_count": 12,
     "metadata": {},
     "output_type": "execute_result"
    }
   ],
   "source": [
    "len(fb_df)"
   ]
  },
  {
   "cell_type": "code",
   "execution_count": 13,
   "metadata": {},
   "outputs": [
    {
     "data": {
      "text/plain": [
       "(1874, 2)"
      ]
     },
     "execution_count": 13,
     "metadata": {},
     "output_type": "execute_result"
    }
   ],
   "source": [
    "fb_df.groupby(\"sehir_matches\").count().shape"
   ]
  },
  {
   "cell_type": "markdown",
   "metadata": {},
   "source": [
    "## Twitter matches"
   ]
  },
  {
   "cell_type": "code",
   "execution_count": 17,
   "metadata": {},
   "outputs": [
    {
     "data": {
      "text/html": [
       "<div>\n",
       "<style scoped>\n",
       "    .dataframe tbody tr th:only-of-type {\n",
       "        vertical-align: middle;\n",
       "    }\n",
       "\n",
       "    .dataframe tbody tr th {\n",
       "        vertical-align: top;\n",
       "    }\n",
       "\n",
       "    .dataframe thead th {\n",
       "        text-align: right;\n",
       "    }\n",
       "</style>\n",
       "<table border=\"1\" class=\"dataframe\">\n",
       "  <thead>\n",
       "    <tr style=\"text-align: right;\">\n",
       "      <th></th>\n",
       "      <th>sehir_matches</th>\n",
       "      <th>twitter_screen_name</th>\n",
       "      <th>profile_description</th>\n",
       "      <th>followers_count</th>\n",
       "      <th>friends_count</th>\n",
       "      <th>favourites_count</th>\n",
       "      <th>statuses_count</th>\n",
       "      <th>lang</th>\n",
       "      <th>twitter_name</th>\n",
       "    </tr>\n",
       "    <tr>\n",
       "      <th>twitter_ID</th>\n",
       "      <th></th>\n",
       "      <th></th>\n",
       "      <th></th>\n",
       "      <th></th>\n",
       "      <th></th>\n",
       "      <th></th>\n",
       "      <th></th>\n",
       "      <th></th>\n",
       "      <th></th>\n",
       "    </tr>\n",
       "  </thead>\n",
       "  <tbody>\n",
       "    <tr>\n",
       "      <th>1032253818</th>\n",
       "      <td>cem kurtulus</td>\n",
       "      <td>cemkurtulmus</td>\n",
       "      <td>NaN</td>\n",
       "      <td>426</td>\n",
       "      <td>284</td>\n",
       "      <td>945</td>\n",
       "      <td>1727</td>\n",
       "      <td>tr</td>\n",
       "      <td>cemkurtulmus</td>\n",
       "    </tr>\n",
       "    <tr>\n",
       "      <th>1241505234</th>\n",
       "      <td>caner ozdemir</td>\n",
       "      <td>AMASYABELBASKAN</td>\n",
       "      <td>NaN</td>\n",
       "      <td>4338</td>\n",
       "      <td>333</td>\n",
       "      <td>65</td>\n",
       "      <td>3559</td>\n",
       "      <td>tr</td>\n",
       "      <td>cafer ozdemir</td>\n",
       "    </tr>\n",
       "    <tr>\n",
       "      <th>190493057</th>\n",
       "      <td>ebru gunes</td>\n",
       "      <td>EbruGundes</td>\n",
       "      <td>NaN</td>\n",
       "      <td>2019824</td>\n",
       "      <td>46</td>\n",
       "      <td>3</td>\n",
       "      <td>5214</td>\n",
       "      <td>tr</td>\n",
       "      <td>ebru gundes</td>\n",
       "    </tr>\n",
       "    <tr>\n",
       "      <th>145723363</th>\n",
       "      <td>sumeyye zengin</td>\n",
       "      <td>summeye</td>\n",
       "      <td>NaN</td>\n",
       "      <td>116</td>\n",
       "      <td>358</td>\n",
       "      <td>288</td>\n",
       "      <td>634</td>\n",
       "      <td>tr</td>\n",
       "      <td>sumeyye zengin</td>\n",
       "    </tr>\n",
       "    <tr>\n",
       "      <th>2279504925</th>\n",
       "      <td>ahmet kaya</td>\n",
       "      <td>ahmet_kayaa44</td>\n",
       "      <td>NaN</td>\n",
       "      <td>450</td>\n",
       "      <td>1949</td>\n",
       "      <td>45</td>\n",
       "      <td>46</td>\n",
       "      <td>tr</td>\n",
       "      <td>ahmet kaya</td>\n",
       "    </tr>\n",
       "  </tbody>\n",
       "</table>\n",
       "</div>"
      ],
      "text/plain": [
       "             sehir_matches twitter_screen_name profile_description  \\\n",
       "twitter_ID                                                           \n",
       "1032253818    cem kurtulus        cemkurtulmus                 NaN   \n",
       "1241505234   caner ozdemir     AMASYABELBASKAN                 NaN   \n",
       "190493057       ebru gunes          EbruGundes                 NaN   \n",
       "145723363   sumeyye zengin             summeye                 NaN   \n",
       "2279504925      ahmet kaya       ahmet_kayaa44                 NaN   \n",
       "\n",
       "            followers_count  friends_count  favourites_count  statuses_count  \\\n",
       "twitter_ID                                                                     \n",
       "1032253818              426            284               945            1727   \n",
       "1241505234             4338            333                65            3559   \n",
       "190493057           2019824             46                 3            5214   \n",
       "145723363               116            358               288             634   \n",
       "2279504925              450           1949                45              46   \n",
       "\n",
       "           lang    twitter_name  \n",
       "twitter_ID                       \n",
       "1032253818   tr    cemkurtulmus  \n",
       "1241505234   tr   cafer ozdemir  \n",
       "190493057    tr     ebru gundes  \n",
       "145723363    tr  sumeyye zengin  \n",
       "2279504925   tr      ahmet kaya  "
      ]
     },
     "execution_count": 17,
     "metadata": {},
     "output_type": "execute_result"
    }
   ],
   "source": [
    "twitter_matches_by_guid = pd.read_csv('datasets/sehir_matches.csv', index_col=\"GUID.1\").drop(\"GUID\", axis=1)\n",
    "twitter_matches_by_guid[\"sehir_matches\"] = twitter_matches_by_guid[\"sehir_matches\"].apply(lambda x: ast.literal_eval(x)[0][0])\n",
    "twitter_matches_by_guid = twitter_matches_by_guid.drop(\"twitter_name\",axis=1).reset_index()\\\n",
    "                                .rename(columns={\n",
    "                                    \"cleaned_twitter_name\":\"twitter_name\",\n",
    "                                    \"GUID.1\":\"twitter_ID\"}).set_index(\"twitter_ID\")\n",
    "twitter_matches_by_guid.head()"
   ]
  },
  {
   "cell_type": "code",
   "execution_count": 18,
   "metadata": {},
   "outputs": [
    {
     "data": {
      "text/plain": [
       "(1519, 8)"
      ]
     },
     "execution_count": 18,
     "metadata": {},
     "output_type": "execute_result"
    }
   ],
   "source": [
    "twitter_matches_by_guid.groupby(\"sehir_matches\").count().shape"
   ]
  },
  {
   "cell_type": "code",
   "execution_count": 19,
   "metadata": {},
   "outputs": [
    {
     "data": {
      "text/html": [
       "<div>\n",
       "<style scoped>\n",
       "    .dataframe tbody tr th:only-of-type {\n",
       "        vertical-align: middle;\n",
       "    }\n",
       "\n",
       "    .dataframe tbody tr th {\n",
       "        vertical-align: top;\n",
       "    }\n",
       "\n",
       "    .dataframe thead th {\n",
       "        text-align: right;\n",
       "    }\n",
       "</style>\n",
       "<table border=\"1\" class=\"dataframe\">\n",
       "  <thead>\n",
       "    <tr style=\"text-align: right;\">\n",
       "      <th></th>\n",
       "      <th>twitter_ID</th>\n",
       "      <th>sehir_matches</th>\n",
       "      <th>twitter_screen_name</th>\n",
       "      <th>profile_description</th>\n",
       "      <th>followers_count</th>\n",
       "      <th>friends_count</th>\n",
       "      <th>favourites_count</th>\n",
       "      <th>statuses_count</th>\n",
       "      <th>lang</th>\n",
       "      <th>twitter_name</th>\n",
       "      <th>fb_ID</th>\n",
       "      <th>full_name</th>\n",
       "      <th>membership</th>\n",
       "    </tr>\n",
       "  </thead>\n",
       "  <tbody>\n",
       "    <tr>\n",
       "      <th>0</th>\n",
       "      <td>190493057</td>\n",
       "      <td>ebru gunes</td>\n",
       "      <td>EbruGundes</td>\n",
       "      <td>NaN</td>\n",
       "      <td>2019824</td>\n",
       "      <td>46</td>\n",
       "      <td>3</td>\n",
       "      <td>5214</td>\n",
       "      <td>tr</td>\n",
       "      <td>ebru gundes</td>\n",
       "      <td>967246670094604</td>\n",
       "      <td>ebru gunes</td>\n",
       "      <td>Sehir Dersler&amp;Hocalar</td>\n",
       "    </tr>\n",
       "    <tr>\n",
       "      <th>1</th>\n",
       "      <td>150218525</td>\n",
       "      <td>ebru gunes</td>\n",
       "      <td>burcugunes</td>\n",
       "      <td>NaN</td>\n",
       "      <td>653528</td>\n",
       "      <td>126</td>\n",
       "      <td>1708</td>\n",
       "      <td>1789</td>\n",
       "      <td>tr</td>\n",
       "      <td>burcu gunes</td>\n",
       "      <td>967246670094604</td>\n",
       "      <td>ebru gunes</td>\n",
       "      <td>Sehir Dersler&amp;Hocalar</td>\n",
       "    </tr>\n",
       "    <tr>\n",
       "      <th>2</th>\n",
       "      <td>2279504925</td>\n",
       "      <td>ahmet kaya</td>\n",
       "      <td>ahmet_kayaa44</td>\n",
       "      <td>NaN</td>\n",
       "      <td>450</td>\n",
       "      <td>1949</td>\n",
       "      <td>45</td>\n",
       "      <td>46</td>\n",
       "      <td>tr</td>\n",
       "      <td>ahmet kaya</td>\n",
       "      <td>10156243626489736</td>\n",
       "      <td>ahmet kaya</td>\n",
       "      <td>Sehir Duyuru</td>\n",
       "    </tr>\n",
       "    <tr>\n",
       "      <th>3</th>\n",
       "      <td>183210005</td>\n",
       "      <td>ahmet kaya</td>\n",
       "      <td>AhmetKaya_Fan</td>\n",
       "      <td>Cihan Kaya #AhmetKaya Sevdasıdır Kavgamız http...</td>\n",
       "      <td>139316</td>\n",
       "      <td>296</td>\n",
       "      <td>35491</td>\n",
       "      <td>33185</td>\n",
       "      <td>tr</td>\n",
       "      <td>ahmet kaya</td>\n",
       "      <td>10156243626489736</td>\n",
       "      <td>ahmet kaya</td>\n",
       "      <td>Sehir Duyuru</td>\n",
       "    </tr>\n",
       "    <tr>\n",
       "      <th>4</th>\n",
       "      <td>791882910</td>\n",
       "      <td>ahmet kaya</td>\n",
       "      <td>sozlerimle</td>\n",
       "      <td>Akşamlar böyle biter. Hep böyle dertli biter.</td>\n",
       "      <td>131960</td>\n",
       "      <td>33</td>\n",
       "      <td>5500</td>\n",
       "      <td>7018</td>\n",
       "      <td>tr</td>\n",
       "      <td>ahmet kaya</td>\n",
       "      <td>10156243626489736</td>\n",
       "      <td>ahmet kaya</td>\n",
       "      <td>Sehir Duyuru</td>\n",
       "    </tr>\n",
       "  </tbody>\n",
       "</table>\n",
       "</div>"
      ],
      "text/plain": [
       "   twitter_ID sehir_matches twitter_screen_name  \\\n",
       "0   190493057    ebru gunes          EbruGundes   \n",
       "1   150218525    ebru gunes          burcugunes   \n",
       "2  2279504925    ahmet kaya       ahmet_kayaa44   \n",
       "3   183210005    ahmet kaya       AhmetKaya_Fan   \n",
       "4   791882910    ahmet kaya          sozlerimle   \n",
       "\n",
       "                                 profile_description  followers_count  \\\n",
       "0                                                NaN          2019824   \n",
       "1                                                NaN           653528   \n",
       "2                                                NaN              450   \n",
       "3  Cihan Kaya #AhmetKaya Sevdasıdır Kavgamız http...           139316   \n",
       "4      Akşamlar böyle biter. Hep böyle dertli biter.           131960   \n",
       "\n",
       "   friends_count  favourites_count  statuses_count lang twitter_name  \\\n",
       "0             46                 3            5214   tr  ebru gundes   \n",
       "1            126              1708            1789   tr  burcu gunes   \n",
       "2           1949                45              46   tr   ahmet kaya   \n",
       "3            296             35491           33185   tr   ahmet kaya   \n",
       "4             33              5500            7018   tr   ahmet kaya   \n",
       "\n",
       "               fb_ID   full_name             membership  \n",
       "0    967246670094604  ebru gunes  Sehir Dersler&Hocalar  \n",
       "1    967246670094604  ebru gunes  Sehir Dersler&Hocalar  \n",
       "2  10156243626489736  ahmet kaya           Sehir Duyuru  \n",
       "3  10156243626489736  ahmet kaya           Sehir Duyuru  \n",
       "4  10156243626489736  ahmet kaya           Sehir Duyuru  "
      ]
     },
     "execution_count": 19,
     "metadata": {},
     "output_type": "execute_result"
    }
   ],
   "source": [
    "twitter_fb = twitter_matches_by_guid.reset_index().merge(fb_df.reset_index(), left_on=\"sehir_matches\", right_on=\"sehir_matches\")\n",
    "twitter_fb.head()"
   ]
  },
  {
   "cell_type": "code",
   "execution_count": 20,
   "metadata": {},
   "outputs": [
    {
     "data": {
      "text/html": [
       "<div>\n",
       "<style scoped>\n",
       "    .dataframe tbody tr th:only-of-type {\n",
       "        vertical-align: middle;\n",
       "    }\n",
       "\n",
       "    .dataframe tbody tr th {\n",
       "        vertical-align: top;\n",
       "    }\n",
       "\n",
       "    .dataframe thead th {\n",
       "        text-align: right;\n",
       "    }\n",
       "</style>\n",
       "<table border=\"1\" class=\"dataframe\">\n",
       "  <thead>\n",
       "    <tr style=\"text-align: right;\">\n",
       "      <th></th>\n",
       "      <th>twitter_ID</th>\n",
       "      <th>twitter_screen_name</th>\n",
       "      <th>profile_description</th>\n",
       "      <th>followers_count</th>\n",
       "      <th>friends_count</th>\n",
       "      <th>favourites_count</th>\n",
       "      <th>statuses_count</th>\n",
       "      <th>lang</th>\n",
       "      <th>twitter_name</th>\n",
       "      <th>fb_ID</th>\n",
       "      <th>full_name</th>\n",
       "      <th>membership</th>\n",
       "    </tr>\n",
       "    <tr>\n",
       "      <th>sehir_matches</th>\n",
       "      <th></th>\n",
       "      <th></th>\n",
       "      <th></th>\n",
       "      <th></th>\n",
       "      <th></th>\n",
       "      <th></th>\n",
       "      <th></th>\n",
       "      <th></th>\n",
       "      <th></th>\n",
       "      <th></th>\n",
       "      <th></th>\n",
       "      <th></th>\n",
       "    </tr>\n",
       "  </thead>\n",
       "  <tbody>\n",
       "    <tr>\n",
       "      <th>muhammed caki</th>\n",
       "      <td>849869543522656256</td>\n",
       "      <td>Muhamme74015968</td>\n",
       "      <td>Haber Gündem Spor Futbol Müzik</td>\n",
       "      <td>2</td>\n",
       "      <td>57</td>\n",
       "      <td>1</td>\n",
       "      <td>7</td>\n",
       "      <td>tr</td>\n",
       "      <td>muhammed ali</td>\n",
       "      <td>10211725757681071</td>\n",
       "      <td>muhammed cak</td>\n",
       "      <td>Sehir Dersler&amp;Hocalar</td>\n",
       "    </tr>\n",
       "    <tr>\n",
       "      <th>muhammed caki</th>\n",
       "      <td>401477209</td>\n",
       "      <td>maliustun</td>\n",
       "      <td>a değil.</td>\n",
       "      <td>366</td>\n",
       "      <td>271</td>\n",
       "      <td>1251</td>\n",
       "      <td>1186</td>\n",
       "      <td>tr</td>\n",
       "      <td>muhammed ali</td>\n",
       "      <td>10211725757681071</td>\n",
       "      <td>muhammed cak</td>\n",
       "      <td>Sehir Dersler&amp;Hocalar</td>\n",
       "    </tr>\n",
       "    <tr>\n",
       "      <th>muhammed caki</th>\n",
       "      <td>938059400744456192</td>\n",
       "      <td>Muhammed4166</td>\n",
       "      <td>NaN</td>\n",
       "      <td>335</td>\n",
       "      <td>2220</td>\n",
       "      <td>1068</td>\n",
       "      <td>114</td>\n",
       "      <td>tr</td>\n",
       "      <td>muhammed ali</td>\n",
       "      <td>10211725757681071</td>\n",
       "      <td>muhammed cak</td>\n",
       "      <td>Sehir Dersler&amp;Hocalar</td>\n",
       "    </tr>\n",
       "  </tbody>\n",
       "</table>\n",
       "</div>"
      ],
      "text/plain": [
       "                       twitter_ID twitter_screen_name  \\\n",
       "sehir_matches                                           \n",
       "muhammed caki  849869543522656256     Muhamme74015968   \n",
       "muhammed caki           401477209           maliustun   \n",
       "muhammed caki  938059400744456192        Muhammed4166   \n",
       "\n",
       "                          profile_description  followers_count  friends_count  \\\n",
       "sehir_matches                                                                   \n",
       "muhammed caki  Haber Gündem Spor Futbol Müzik                2             57   \n",
       "muhammed caki                        a değil.              366            271   \n",
       "muhammed caki                             NaN              335           2220   \n",
       "\n",
       "               favourites_count  statuses_count lang  twitter_name  \\\n",
       "sehir_matches                                                        \n",
       "muhammed caki                 1               7   tr  muhammed ali   \n",
       "muhammed caki              1251            1186   tr  muhammed ali   \n",
       "muhammed caki              1068             114   tr  muhammed ali   \n",
       "\n",
       "                           fb_ID     full_name             membership  \n",
       "sehir_matches                                                          \n",
       "muhammed caki  10211725757681071  muhammed cak  Sehir Dersler&Hocalar  \n",
       "muhammed caki  10211725757681071  muhammed cak  Sehir Dersler&Hocalar  \n",
       "muhammed caki  10211725757681071  muhammed cak  Sehir Dersler&Hocalar  "
      ]
     },
     "execution_count": 20,
     "metadata": {},
     "output_type": "execute_result"
    }
   ],
   "source": [
    "twitter_fb.set_index(\"sehir_matches\").loc[\"muhammed caki\"]"
   ]
  },
  {
   "cell_type": "code",
   "execution_count": 21,
   "metadata": {},
   "outputs": [
    {
     "data": {
      "text/plain": [
       "1940"
      ]
     },
     "execution_count": 21,
     "metadata": {},
     "output_type": "execute_result"
    }
   ],
   "source": [
    "len(fb_df)"
   ]
  },
  {
   "cell_type": "code",
   "execution_count": 22,
   "metadata": {},
   "outputs": [
    {
     "data": {
      "text/plain": [
       "720"
      ]
     },
     "execution_count": 22,
     "metadata": {},
     "output_type": "execute_result"
    }
   ],
   "source": [
    "len(twitter_fb)"
   ]
  },
  {
   "cell_type": "code",
   "execution_count": 23,
   "metadata": {},
   "outputs": [
    {
     "data": {
      "text/plain": [
       "(434, 12)"
      ]
     },
     "execution_count": 23,
     "metadata": {},
     "output_type": "execute_result"
    }
   ],
   "source": [
    "twitter_fb.groupby(\"sehir_matches\").count().shape"
   ]
  },
  {
   "cell_type": "code",
   "execution_count": 24,
   "metadata": {},
   "outputs": [],
   "source": [
    "twitter_fb.to_csv('datasets/twitter_fb_matches.csv', index_label=\"ID\")"
   ]
  },
  {
   "cell_type": "code",
   "execution_count": null,
   "metadata": {},
   "outputs": [],
   "source": []
  }
 ],
 "metadata": {
  "kernelspec": {
   "display_name": "Python 3",
   "language": "python",
   "name": "python3"
  },
  "language_info": {
   "codemirror_mode": {
    "name": "ipython",
    "version": 3
   },
   "file_extension": ".py",
   "mimetype": "text/x-python",
   "name": "python",
   "nbconvert_exporter": "python",
   "pygments_lexer": "ipython3",
   "version": "3.5.2"
  }
 },
 "nbformat": 4,
 "nbformat_minor": 2
}
