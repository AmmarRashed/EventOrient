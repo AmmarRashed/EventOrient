{
 "cells": [
  {
   "cell_type": "code",
   "execution_count": 1,
   "metadata": {},
   "outputs": [],
   "source": [
    "import networkx as nx\n",
    "import pandas as pd\n",
    "import json\n",
    "from networkx.readwrite import json_graph\n",
    "import itertools"
   ]
  },
  {
   "cell_type": "code",
   "execution_count": 2,
   "metadata": {},
   "outputs": [
    {
     "name": "stdout",
     "output_type": "stream",
     "text": [
      "(2746, 3)\n"
     ]
    },
    {
     "data": {
      "text/html": [
       "<div>\n",
       "<style scoped>\n",
       "    .dataframe tbody tr th:only-of-type {\n",
       "        vertical-align: middle;\n",
       "    }\n",
       "\n",
       "    .dataframe tbody tr th {\n",
       "        vertical-align: top;\n",
       "    }\n",
       "\n",
       "    .dataframe thead th {\n",
       "        text-align: right;\n",
       "    }\n",
       "</style>\n",
       "<table border=\"1\" class=\"dataframe\">\n",
       "  <thead>\n",
       "    <tr style=\"text-align: right;\">\n",
       "      <th></th>\n",
       "      <th>full_name</th>\n",
       "      <th>sehir_matches</th>\n",
       "      <th>membership</th>\n",
       "    </tr>\n",
       "    <tr>\n",
       "      <th>fb_ID</th>\n",
       "      <th></th>\n",
       "      <th></th>\n",
       "      <th></th>\n",
       "    </tr>\n",
       "  </thead>\n",
       "  <tbody>\n",
       "    <tr>\n",
       "      <th>1719024661487920</th>\n",
       "      <td>aykut sahin</td>\n",
       "      <td>aykut sahin</td>\n",
       "      <td>Sehir Dersler&amp;Hocalar</td>\n",
       "    </tr>\n",
       "    <tr>\n",
       "      <th>2054872011195704</th>\n",
       "      <td>ahmed el bhiri</td>\n",
       "      <td>ahmed bhiri</td>\n",
       "      <td>Sehir Dersler&amp;Hocalar</td>\n",
       "    </tr>\n",
       "    <tr>\n",
       "      <th>10210680285591082</th>\n",
       "      <td>sevva deniz bulut</td>\n",
       "      <td>sevva deniz bulut</td>\n",
       "      <td>Sehir Dersler&amp;Hocalar</td>\n",
       "    </tr>\n",
       "    <tr>\n",
       "      <th>10155572985146137</th>\n",
       "      <td>seval kavsut guleryuz</td>\n",
       "      <td>seval guleryuz</td>\n",
       "      <td>Sehir Dersler&amp;Hocalar</td>\n",
       "    </tr>\n",
       "    <tr>\n",
       "      <th>10215188262249069</th>\n",
       "      <td>malik ekicim</td>\n",
       "      <td>malik ismail ekicim</td>\n",
       "      <td>Sehir Dersler&amp;Hocalar</td>\n",
       "    </tr>\n",
       "  </tbody>\n",
       "</table>\n",
       "</div>"
      ],
      "text/plain": [
       "                               full_name        sehir_matches  \\\n",
       "fb_ID                                                           \n",
       "1719024661487920             aykut sahin          aykut sahin   \n",
       "2054872011195704          ahmed el bhiri          ahmed bhiri   \n",
       "10210680285591082      sevva deniz bulut    sevva deniz bulut   \n",
       "10155572985146137  seval kavsut guleryuz       seval guleryuz   \n",
       "10215188262249069           malik ekicim  malik ismail ekicim   \n",
       "\n",
       "                              membership  \n",
       "fb_ID                                     \n",
       "1719024661487920   Sehir Dersler&Hocalar  \n",
       "2054872011195704   Sehir Dersler&Hocalar  \n",
       "10210680285591082  Sehir Dersler&Hocalar  \n",
       "10155572985146137  Sehir Dersler&Hocalar  \n",
       "10215188262249069  Sehir Dersler&Hocalar  "
      ]
     },
     "execution_count": 2,
     "metadata": {},
     "output_type": "execute_result"
    }
   ],
   "source": [
    "fb_df = pd.read_csv('datasets/sehir_fb_matches2.csv', index_col=\"fb_ID\")\n",
    "print(fb_df.shape)\n",
    "fb_df.head()"
   ]
  },
  {
   "cell_type": "code",
   "execution_count": 43,
   "metadata": {},
   "outputs": [
    {
     "data": {
      "text/html": [
       "<div>\n",
       "<style scoped>\n",
       "    .dataframe tbody tr th:only-of-type {\n",
       "        vertical-align: middle;\n",
       "    }\n",
       "\n",
       "    .dataframe tbody tr th {\n",
       "        vertical-align: top;\n",
       "    }\n",
       "\n",
       "    .dataframe thead th {\n",
       "        text-align: right;\n",
       "    }\n",
       "</style>\n",
       "<table border=\"1\" class=\"dataframe\">\n",
       "  <thead>\n",
       "    <tr style=\"text-align: right;\">\n",
       "      <th></th>\n",
       "      <th>full_name</th>\n",
       "      <th>sehir_matches</th>\n",
       "      <th>membership</th>\n",
       "    </tr>\n",
       "    <tr>\n",
       "      <th>fb_ID</th>\n",
       "      <th></th>\n",
       "      <th></th>\n",
       "      <th></th>\n",
       "    </tr>\n",
       "  </thead>\n",
       "  <tbody>\n",
       "    <tr>\n",
       "      <th>10155959451848548</th>\n",
       "      <td>aysenur eser</td>\n",
       "      <td>aysenur eser</td>\n",
       "      <td>Sehir Muhendislik</td>\n",
       "    </tr>\n",
       "    <tr>\n",
       "      <th>10204105757400683</th>\n",
       "      <td>anl yasin ozkan</td>\n",
       "      <td>yasin caliskan</td>\n",
       "      <td>Sehir Mezunlari</td>\n",
       "    </tr>\n",
       "    <tr>\n",
       "      <th>1158523860950154</th>\n",
       "      <td>oguzhan sagoglu</td>\n",
       "      <td>oguzhan sagoglu</td>\n",
       "      <td>Sehir Mezunlari</td>\n",
       "    </tr>\n",
       "    <tr>\n",
       "      <th>1537874303000756</th>\n",
       "      <td>oktay akar</td>\n",
       "      <td>oktay karakoc</td>\n",
       "      <td>Sehir Lessons&amp;Teachers</td>\n",
       "    </tr>\n",
       "    <tr>\n",
       "      <th>1604454092970468</th>\n",
       "      <td>ahmed mohie eddin</td>\n",
       "      <td>amer nour eddin</td>\n",
       "      <td>Sehir Muhendislik</td>\n",
       "    </tr>\n",
       "  </tbody>\n",
       "</table>\n",
       "</div>"
      ],
      "text/plain": [
       "                           full_name    sehir_matches              membership\n",
       "fb_ID                                                                        \n",
       "10155959451848548       aysenur eser     aysenur eser       Sehir Muhendislik\n",
       "10204105757400683    anl yasin ozkan   yasin caliskan         Sehir Mezunlari\n",
       "1158523860950154     oguzhan sagoglu  oguzhan sagoglu         Sehir Mezunlari\n",
       "1537874303000756          oktay akar    oktay karakoc  Sehir Lessons&Teachers\n",
       "1604454092970468   ahmed mohie eddin  amer nour eddin       Sehir Muhendislik"
      ]
     },
     "execution_count": 43,
     "metadata": {},
     "output_type": "execute_result"
    }
   ],
   "source": [
    "## Discarding Sehir Dersler&Hocalar\n",
    "fb_df = fb_df[fb_df.membership != \"Sehir Dersler&Hocalar\"]\n",
    "fb_df = fb_df[fb_df.membership != \"Sehir Duyuru\"]\n",
    "fb_df.head()"
   ]
  },
  {
   "cell_type": "code",
   "execution_count": 125,
   "metadata": {},
   "outputs": [],
   "source": [
    "df_by_group = fb_df.reset_index().set_index(\"membership\")"
   ]
  },
  {
   "cell_type": "code",
   "execution_count": 126,
   "metadata": {},
   "outputs": [],
   "source": [
    "g = fb_df.groupby(\"membership\").count()\n",
    "groups = list(g.index)"
   ]
  },
  {
   "cell_type": "code",
   "execution_count": 127,
   "metadata": {},
   "outputs": [],
   "source": [
    "G = nx.Graph()\n",
    "users_ids = dict()  # user name > id\n",
    "ids_users = dict()  # user id > name\n",
    "edges_values = dict()  # {(from, to): streangth}"
   ]
  },
  {
   "cell_type": "code",
   "execution_count": 147,
   "metadata": {},
   "outputs": [
    {
     "data": {
      "text/plain": [
       "[10155959451848548,\n",
       " 1604454092970468,\n",
       " 1969509319729051,\n",
       " 1844885455772164,\n",
       " 360244767719265,\n",
       " 769153509959215,\n",
       " 910830722417581,\n",
       " 10216013491838477,\n",
       " 792704087568359,\n",
       " 1797189933648857,\n",
       " 1826652530687200,\n",
       " 10208493896464155,\n",
       " 1566763543410694,\n",
       " 1673312749396297,\n",
       " 1994511650809611,\n",
       " 2000402553534706,\n",
       " 10211200672308803,\n",
       " 10216026834050177,\n",
       " 1715244715201442,\n",
       " 10157048378379863,\n",
       " 1594010907302678,\n",
       " 10156033016467103,\n",
       " 526055684444241,\n",
       " 1734068939990594,\n",
       " 1801401966537900]"
      ]
     },
     "execution_count": 147,
     "metadata": {},
     "output_type": "execute_result"
    }
   ],
   "source": [
    "list(df_by_group.loc[\"Sehir Muhendislik\"][\"fb_ID\"])"
   ]
  },
  {
   "cell_type": "code",
   "execution_count": 128,
   "metadata": {},
   "outputs": [],
   "source": [
    "for group in groups:\n",
    "    members = list(df_by_group.loc[group][\"fb_ID\"])\n",
    "    for f_, t_ in itertools.product(members, members):\n",
    "        if f_ != t_:\n",
    "            \n",
    "            users_ids.setdefault(f_, len(users_ids))\n",
    "            ids_users[users_ids[f_]] = f_\n",
    "            \n",
    "            users_ids.setdefault(t_, len(users_ids))\n",
    "            ids_users[users_ids[t_]] = t_\n",
    "            f = users_ids[f_]\n",
    "            t = users_ids[t_]\n",
    "            if (f, t) in edges_values or (t, f) in edges_values:\n",
    "                try:\n",
    "                    edges_values[(f,t)][\"value\"] += 1\n",
    "                except KeyError:\n",
    "                    edges_values[(t,f)][\"value\"] += 1\n",
    "            else:\n",
    "                edges_values.setdefault((f, t), {\"value\": 1})\n",
    "                G.add_edge(f_, t_)"
   ]
  },
  {
   "cell_type": "code",
   "execution_count": 129,
   "metadata": {},
   "outputs": [
    {
     "data": {
      "text/plain": [
       "(99, 1636)"
      ]
     },
     "execution_count": 129,
     "metadata": {},
     "output_type": "execute_result"
    }
   ],
   "source": [
    "G.number_of_nodes(), G.number_of_edges()"
   ]
  },
  {
   "cell_type": "code",
   "execution_count": 130,
   "metadata": {},
   "outputs": [],
   "source": [
    "for ix in list(G.nodes()):\n",
    "    sehir_name = ids_users[ix]\n",
    "    G.node[ix][\"sehir name\"] = df_by_ix.loc[ix][\"sehir_matches\"]\n",
    "    G.node[ix][\"fb name\"] = df_by_ix.loc[ix][\"full_name\"]\n",
    "    G.node[ix].setdefault(\"group\", {})\n",
    "    G.node[ix][\"group\"][df_by_ix.loc[ix][\"membership\"]] = 1\n",
    "for ix in list(G.nodes()):\n",
    "    G.node[ix][\"group\"] = \", \".join(list(G.node[ix][\"group\"].keys()))"
   ]
  },
  {
   "cell_type": "code",
   "execution_count": 135,
   "metadata": {},
   "outputs": [
    {
     "data": {
      "text/plain": [
       "(0,\n",
       " {'fb name': 'aysenur eser',\n",
       "  'group': 'Sehir Muhendislik',\n",
       "  'sehir name': 'aysenur eser'})"
      ]
     },
     "execution_count": 135,
     "metadata": {},
     "output_type": "execute_result"
    }
   ],
   "source": [
    "list(G.nodes(data=True))[0]"
   ]
  },
  {
   "cell_type": "code",
   "execution_count": 136,
   "metadata": {},
   "outputs": [],
   "source": [
    "nx.set_edge_attributes(G, edges_values)"
   ]
  },
  {
   "cell_type": "code",
   "execution_count": 137,
   "metadata": {},
   "outputs": [
    {
     "data": {
      "text/plain": [
       "(0, 1, {'value': 1})"
      ]
     },
     "execution_count": 137,
     "metadata": {},
     "output_type": "execute_result"
    }
   ],
   "source": [
    "list(G.edges(data=True))[0]"
   ]
  },
  {
   "cell_type": "code",
   "execution_count": 138,
   "metadata": {},
   "outputs": [],
   "source": [
    "data = nx.node_link_data(G)\n",
    "with open('fb_users_by_groups.json', 'w') as f:\n",
    "    json.dump(data, f, indent=4)"
   ]
  },
  {
   "cell_type": "code",
   "execution_count": null,
   "metadata": {},
   "outputs": [],
   "source": []
  }
 ],
 "metadata": {
  "kernelspec": {
   "display_name": "Python 3",
   "language": "python",
   "name": "python3"
  },
  "language_info": {
   "codemirror_mode": {
    "name": "ipython",
    "version": 3
   },
   "file_extension": ".py",
   "mimetype": "text/x-python",
   "name": "python",
   "nbconvert_exporter": "python",
   "pygments_lexer": "ipython3",
   "version": "3.5.2"
  }
 },
 "nbformat": 4,
 "nbformat_minor": 2
}
