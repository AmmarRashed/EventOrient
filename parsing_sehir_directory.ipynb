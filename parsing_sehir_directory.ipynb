{
 "cells": [
  {
   "cell_type": "code",
   "execution_count": 1,
   "metadata": {},
   "outputs": [],
   "source": [
    "import psycopg2\n",
    "\n",
    "import pandas as pd\n",
    "import numpy as np\n",
    "\n",
    "from fuzzywuzzy import fuzz\n",
    "from fuzzywuzzy import process\n",
    "\n",
    "from copy import deepcopy\n",
    "\n",
    "import re, unicodedata\n",
    "\n",
    "from joblib import Parallel, delayed\n",
    "# from graph_tool.all import *"
   ]
  },
  {
   "cell_type": "markdown",
   "metadata": {},
   "source": [
    "### parse sehir contacts directory (full names, emails)"
   ]
  },
  {
   "cell_type": "code",
   "execution_count": 2,
   "metadata": {},
   "outputs": [],
   "source": [
    "sehir_directory = pd.read_csv('datasets/contacts.csv', \n",
    "                               encoding = \"ISO-8859-1\", \n",
    "                               usecols=['First Name', 'Last Name', 'Primary Email']).dropna()"
   ]
  },
  {
   "cell_type": "code",
   "execution_count": 3,
   "metadata": {},
   "outputs": [
    {
     "data": {
      "text/html": [
       "<div>\n",
       "<style scoped>\n",
       "    .dataframe tbody tr th:only-of-type {\n",
       "        vertical-align: middle;\n",
       "    }\n",
       "\n",
       "    .dataframe tbody tr th {\n",
       "        vertical-align: top;\n",
       "    }\n",
       "\n",
       "    .dataframe thead th {\n",
       "        text-align: right;\n",
       "    }\n",
       "</style>\n",
       "<table border=\"1\" class=\"dataframe\">\n",
       "  <thead>\n",
       "    <tr style=\"text-align: right;\">\n",
       "      <th></th>\n",
       "      <th>First Name</th>\n",
       "      <th>Last Name</th>\n",
       "      <th>Primary Email</th>\n",
       "    </tr>\n",
       "  </thead>\n",
       "  <tbody>\n",
       "    <tr>\n",
       "      <th>102</th>\n",
       "      <td>Burak</td>\n",
       "      <td>Fidan</td>\n",
       "      <td>burakfidan@std.sehir.edu.tr</td>\n",
       "    </tr>\n",
       "    <tr>\n",
       "      <th>103</th>\n",
       "      <td>Muhammed</td>\n",
       "      <td>Aydin</td>\n",
       "      <td>cihadaydin@std.sehir.edu.tr</td>\n",
       "    </tr>\n",
       "    <tr>\n",
       "      <th>104</th>\n",
       "      <td>Muhammet Masuk</td>\n",
       "      <td>Aktas</td>\n",
       "      <td>muhammetaktas@std.sehir.edu.tr</td>\n",
       "    </tr>\n",
       "    <tr>\n",
       "      <th>105</th>\n",
       "      <td>Sezer</td>\n",
       "      <td>Aktas</td>\n",
       "      <td>sezeraktas@std.sehir.edu.tr</td>\n",
       "    </tr>\n",
       "    <tr>\n",
       "      <th>106</th>\n",
       "      <td>Ayse Nur</td>\n",
       "      <td>Salk</td>\n",
       "      <td>aysesalk@std.sehir.edu.tr</td>\n",
       "    </tr>\n",
       "  </tbody>\n",
       "</table>\n",
       "</div>"
      ],
      "text/plain": [
       "         First Name Last Name                   Primary Email\n",
       "102           Burak     Fidan     burakfidan@std.sehir.edu.tr\n",
       "103        Muhammed     Aydin     cihadaydin@std.sehir.edu.tr\n",
       "104  Muhammet Masuk     Aktas  muhammetaktas@std.sehir.edu.tr\n",
       "105           Sezer     Aktas     sezeraktas@std.sehir.edu.tr\n",
       "106        Ayse Nur      Salk       aysesalk@std.sehir.edu.tr"
      ]
     },
     "execution_count": 3,
     "metadata": {},
     "output_type": "execute_result"
    }
   ],
   "source": [
    "sehir_directory.head()"
   ]
  },
  {
   "cell_type": "code",
   "execution_count": 4,
   "metadata": {},
   "outputs": [
    {
     "data": {
      "text/plain": [
       "'9088 sehir contacts'"
      ]
     },
     "execution_count": 4,
     "metadata": {},
     "output_type": "execute_result"
    }
   ],
   "source": [
    "\"{} sehir contacts\".format(len(sehir_directory))"
   ]
  },
  {
   "cell_type": "code",
   "execution_count": 5,
   "metadata": {},
   "outputs": [],
   "source": [
    "fullnames = [' '.join(first_last_name).lower() \n",
    "                 for first_last_name in sehir_directory[['First Name', 'Last Name']].values]"
   ]
  },
  {
   "cell_type": "code",
   "execution_count": 6,
   "metadata": {},
   "outputs": [],
   "source": [
    "def get_matches_edit_distance(item, choices, limit, scorer=fuzz.token_sort_ratio):\n",
    "    return process.extract(item, choices, limit=limit, scorer=scorer)\n",
    "counter = 0\n",
    "def get_sehir_twitter_matches(twitter_users, sehir_directory, limit=2):\n",
    "    global fullnames,twitter_users_count\n",
    "    twitter_user_by_screen_name = twitter_users.set_index('twitter_screen_name')\n",
    "    \n",
    "    for twitter_screen_name in twitter_users['twitter_screen_name']:\n",
    "        twitter_name = twitter_user_by_screen_name.loc[twitter_screen_name]['cleaned_twitter_name']\n",
    "        sehir_matches = get_matches_edit_distance(twitter_name, fullnames, limit)\n",
    "        counter += 1\n",
    "        if counter %100 == 0:\n",
    "            print(counter, \"out of \", twitter_users_count)\n",
    "        yield (twitter_screen_name, sehir_matches)\n",
    "        \n",
    "def filter_matches_by_threshold(matches_dict, threshold=70):\n",
    "    filtered_dict = dict()\n",
    "    for twitter_screen_name, matches in matches_dict.items():\n",
    "        filtered = [(match, score) for match, score in matches if score > threshold]\n",
    "        \n",
    "        if filtered:\n",
    "            filtered_dict[twitter_screen_name] = filtered\n",
    "        \n",
    "    return filtered_dict\n",
    "\n",
    "def get_matches_dataframe(twitter_users, sehir_directory, threshold, limit):\n",
    "    matches = {screen_name : sehir_matches for screen_name, sehir_matches in \n",
    "               get_sehir_twitter_matches(twitter_users, sehir_directory, limit=limit)}\n",
    "    \n",
    "    filtered_matches = filter_matches_by_threshold(matches, threshold=threshold)\n",
    "    screen_names = filtered_matches.keys()\n",
    "    return pd.DataFrame({'twitter_screen_name': list(screen_names),\n",
    "                         'sehir_matches': [filtered_matches[screen_name] for screen_name in screen_names]})\n",
    "\n",
    "def clean(name):\n",
    "    return unicodedata.normalize('NFKD', name).encode('ascii', 'ignore').lower().decode(\"ascii\")"
   ]
  },
  {
   "cell_type": "markdown",
   "metadata": {},
   "source": [
    "### connect to sql database"
   ]
  },
  {
   "cell_type": "code",
   "execution_count": 7,
   "metadata": {},
   "outputs": [],
   "source": [
    "connection = psycopg2.connect('dbname=twitter_accounts_new host=localhost user=postgres password=1_sehir_1')\n",
    "\n",
    "twitter_users = pd.read_sql(\"SELECT * FROM twitter_user\", connection)\\\n",
    ".rename(columns={'id': 'GUID', \n",
    "                 'name': 'twitter_name',\n",
    "                 'description': 'profile_description',\n",
    "                 'screen_name': 'twitter_screen_name'})\n",
    "\n",
    "user_connections = pd.read_sql(\"SELECT * FROM twitter_connection\", connection).drop('id', axis=1)"
   ]
  },
  {
   "cell_type": "code",
   "execution_count": 8,
   "metadata": {},
   "outputs": [
    {
     "data": {
      "text/html": [
       "<div>\n",
       "<style scoped>\n",
       "    .dataframe tbody tr th:only-of-type {\n",
       "        vertical-align: middle;\n",
       "    }\n",
       "\n",
       "    .dataframe tbody tr th {\n",
       "        vertical-align: top;\n",
       "    }\n",
       "\n",
       "    .dataframe thead th {\n",
       "        text-align: right;\n",
       "    }\n",
       "</style>\n",
       "<table border=\"1\" class=\"dataframe\">\n",
       "  <thead>\n",
       "    <tr style=\"text-align: right;\">\n",
       "      <th></th>\n",
       "      <th>GUID</th>\n",
       "      <th>twitter_name</th>\n",
       "      <th>twitter_screen_name</th>\n",
       "      <th>profile_description</th>\n",
       "      <th>followers_count</th>\n",
       "      <th>friends_count</th>\n",
       "      <th>favourites_count</th>\n",
       "      <th>statuses_count</th>\n",
       "      <th>lang</th>\n",
       "      <th>cleaned_twitter_name</th>\n",
       "    </tr>\n",
       "  </thead>\n",
       "  <tbody>\n",
       "    <tr>\n",
       "      <th>0</th>\n",
       "      <td>2924769794</td>\n",
       "      <td>Elif Öztürk</td>\n",
       "      <td>bidikshowtime</td>\n",
       "      <td>Çanakkale Fen Lisesi'nde okumuş, Boğaziçi Üniv...</td>\n",
       "      <td>46</td>\n",
       "      <td>146</td>\n",
       "      <td>1</td>\n",
       "      <td>2</td>\n",
       "      <td>en</td>\n",
       "      <td>elif ozturk</td>\n",
       "    </tr>\n",
       "    <tr>\n",
       "      <th>2</th>\n",
       "      <td>78362287</td>\n",
       "      <td>Ozan Kublay</td>\n",
       "      <td>ozankublay</td>\n",
       "      <td></td>\n",
       "      <td>307</td>\n",
       "      <td>892</td>\n",
       "      <td>1093</td>\n",
       "      <td>69</td>\n",
       "      <td>en</td>\n",
       "      <td>ozan kublay</td>\n",
       "    </tr>\n",
       "    <tr>\n",
       "      <th>3</th>\n",
       "      <td>927559556</td>\n",
       "      <td>Dilay Kirişçi</td>\n",
       "      <td>annebanafalbak</td>\n",
       "      <td></td>\n",
       "      <td>119</td>\n",
       "      <td>146</td>\n",
       "      <td>34</td>\n",
       "      <td>307</td>\n",
       "      <td>tr</td>\n",
       "      <td>dilay kirisci</td>\n",
       "    </tr>\n",
       "    <tr>\n",
       "      <th>4</th>\n",
       "      <td>567346178</td>\n",
       "      <td>Aslı Atay</td>\n",
       "      <td>asliatayy</td>\n",
       "      <td></td>\n",
       "      <td>156</td>\n",
       "      <td>523</td>\n",
       "      <td>69</td>\n",
       "      <td>1687</td>\n",
       "      <td>tr</td>\n",
       "      <td>asl atay</td>\n",
       "    </tr>\n",
       "    <tr>\n",
       "      <th>5</th>\n",
       "      <td>94153120</td>\n",
       "      <td>Özgecan</td>\n",
       "      <td>theewayfarer</td>\n",
       "      <td>Student athlete and research assistant</td>\n",
       "      <td>136</td>\n",
       "      <td>472</td>\n",
       "      <td>1097</td>\n",
       "      <td>1513</td>\n",
       "      <td>en</td>\n",
       "      <td>ozgecan</td>\n",
       "    </tr>\n",
       "  </tbody>\n",
       "</table>\n",
       "</div>"
      ],
      "text/plain": [
       "         GUID   twitter_name twitter_screen_name  \\\n",
       "0  2924769794    Elif Öztürk       bidikshowtime   \n",
       "2    78362287    Ozan Kublay          ozankublay   \n",
       "3   927559556  Dilay Kirişçi      annebanafalbak   \n",
       "4   567346178      Aslı Atay           asliatayy   \n",
       "5    94153120        Özgecan        theewayfarer   \n",
       "\n",
       "                                 profile_description  followers_count  \\\n",
       "0  Çanakkale Fen Lisesi'nde okumuş, Boğaziçi Üniv...               46   \n",
       "2                                                                 307   \n",
       "3                                                                 119   \n",
       "4                                                                 156   \n",
       "5             Student athlete and research assistant              136   \n",
       "\n",
       "   friends_count  favourites_count  statuses_count lang cleaned_twitter_name  \n",
       "0            146                 1               2   en          elif ozturk  \n",
       "2            892              1093              69   en          ozan kublay  \n",
       "3            146                34             307   tr        dilay kirisci  \n",
       "4            523                69            1687   tr             asl atay  \n",
       "5            472              1097            1513   en              ozgecan  "
      ]
     },
     "execution_count": 8,
     "metadata": {},
     "output_type": "execute_result"
    }
   ],
   "source": [
    "twitter_users[\"cleaned_twitter_name\"] = twitter_users[\"twitter_name\"].apply(lambda x:clean(x) if len(clean(x))>4 else np.NaN)\n",
    "twitter_users.dropna(inplace=True)\n",
    "twitter_users.head(5)"
   ]
  },
  {
   "cell_type": "code",
   "execution_count": 9,
   "metadata": {},
   "outputs": [
    {
     "data": {
      "text/plain": [
       "34142"
      ]
     },
     "execution_count": 9,
     "metadata": {},
     "output_type": "execute_result"
    }
   ],
   "source": [
    "twitter_users_count = len(twitter_users)\n",
    "twitter_users_count"
   ]
  },
  {
   "cell_type": "markdown",
   "metadata": {},
   "source": [
    "### user_connections contains follower/followee relationships by GUID"
   ]
  },
  {
   "cell_type": "code",
   "execution_count": 10,
   "metadata": {},
   "outputs": [
    {
     "data": {
      "text/html": [
       "<div>\n",
       "<style scoped>\n",
       "    .dataframe tbody tr th:only-of-type {\n",
       "        vertical-align: middle;\n",
       "    }\n",
       "\n",
       "    .dataframe tbody tr th {\n",
       "        vertical-align: top;\n",
       "    }\n",
       "\n",
       "    .dataframe thead th {\n",
       "        text-align: right;\n",
       "    }\n",
       "</style>\n",
       "<table border=\"1\" class=\"dataframe\">\n",
       "  <thead>\n",
       "    <tr style=\"text-align: right;\">\n",
       "      <th></th>\n",
       "      <th>from_user_id</th>\n",
       "      <th>to_user_id</th>\n",
       "    </tr>\n",
       "  </thead>\n",
       "  <tbody>\n",
       "    <tr>\n",
       "      <th>0</th>\n",
       "      <td>2924769794</td>\n",
       "      <td>566810673</td>\n",
       "    </tr>\n",
       "    <tr>\n",
       "      <th>1</th>\n",
       "      <td>2924769794</td>\n",
       "      <td>78362287</td>\n",
       "    </tr>\n",
       "  </tbody>\n",
       "</table>\n",
       "</div>"
      ],
      "text/plain": [
       "   from_user_id  to_user_id\n",
       "0    2924769794   566810673\n",
       "1    2924769794    78362287"
      ]
     },
     "execution_count": 10,
     "metadata": {},
     "output_type": "execute_result"
    }
   ],
   "source": [
    "user_connections.head(2)"
   ]
  },
  {
   "cell_type": "markdown",
   "metadata": {},
   "source": [
    "### matching subset of sehir twitter accounts _ALL_"
   ]
  },
  {
   "cell_type": "code",
   "execution_count": 11,
   "metadata": {},
   "outputs": [
    {
     "ename": "UnboundLocalError",
     "evalue": "local variable 'counter' referenced before assignment",
     "output_type": "error",
     "traceback": [
      "\u001b[0;31m---------------------------------------------------------------------------\u001b[0m",
      "\u001b[0;31mUnboundLocalError\u001b[0m                         Traceback (most recent call last)",
      "\u001b[0;32m<ipython-input-11-e8ba6c043251>\u001b[0m in \u001b[0;36m<module>\u001b[0;34m()\u001b[0m\n\u001b[1;32m      1\u001b[0m sehir_matches_df = get_matches_dataframe(twitter_users,\n\u001b[0;32m----> 2\u001b[0;31m                                          sehir_directory, threshold=80, limit=2)\n\u001b[0m",
      "\u001b[0;32m<ipython-input-6-f8cfcd5c6cb0>\u001b[0m in \u001b[0;36mget_matches_dataframe\u001b[0;34m(twitter_users, sehir_directory, threshold, limit)\u001b[0m\n\u001b[1;32m     26\u001b[0m \u001b[0;32mdef\u001b[0m \u001b[0mget_matches_dataframe\u001b[0m\u001b[0;34m(\u001b[0m\u001b[0mtwitter_users\u001b[0m\u001b[0;34m,\u001b[0m \u001b[0msehir_directory\u001b[0m\u001b[0;34m,\u001b[0m \u001b[0mthreshold\u001b[0m\u001b[0;34m,\u001b[0m \u001b[0mlimit\u001b[0m\u001b[0;34m)\u001b[0m\u001b[0;34m:\u001b[0m\u001b[0;34m\u001b[0m\u001b[0m\n\u001b[1;32m     27\u001b[0m     matches = {screen_name : sehir_matches for screen_name, sehir_matches in \n\u001b[0;32m---> 28\u001b[0;31m                get_sehir_twitter_matches(twitter_users, sehir_directory, limit=limit)}\n\u001b[0m\u001b[1;32m     29\u001b[0m \u001b[0;34m\u001b[0m\u001b[0m\n\u001b[1;32m     30\u001b[0m     \u001b[0mfiltered_matches\u001b[0m \u001b[0;34m=\u001b[0m \u001b[0mfilter_matches_by_threshold\u001b[0m\u001b[0;34m(\u001b[0m\u001b[0mmatches\u001b[0m\u001b[0;34m,\u001b[0m \u001b[0mthreshold\u001b[0m\u001b[0;34m=\u001b[0m\u001b[0mthreshold\u001b[0m\u001b[0;34m)\u001b[0m\u001b[0;34m\u001b[0m\u001b[0m\n",
      "\u001b[0;32m<ipython-input-6-f8cfcd5c6cb0>\u001b[0m in \u001b[0;36m<dictcomp>\u001b[0;34m(.0)\u001b[0m\n\u001b[1;32m     25\u001b[0m \u001b[0;34m\u001b[0m\u001b[0m\n\u001b[1;32m     26\u001b[0m \u001b[0;32mdef\u001b[0m \u001b[0mget_matches_dataframe\u001b[0m\u001b[0;34m(\u001b[0m\u001b[0mtwitter_users\u001b[0m\u001b[0;34m,\u001b[0m \u001b[0msehir_directory\u001b[0m\u001b[0;34m,\u001b[0m \u001b[0mthreshold\u001b[0m\u001b[0;34m,\u001b[0m \u001b[0mlimit\u001b[0m\u001b[0;34m)\u001b[0m\u001b[0;34m:\u001b[0m\u001b[0;34m\u001b[0m\u001b[0m\n\u001b[0;32m---> 27\u001b[0;31m     matches = {screen_name : sehir_matches for screen_name, sehir_matches in \n\u001b[0m\u001b[1;32m     28\u001b[0m                get_sehir_twitter_matches(twitter_users, sehir_directory, limit=limit)}\n\u001b[1;32m     29\u001b[0m \u001b[0;34m\u001b[0m\u001b[0m\n",
      "\u001b[0;32m<ipython-input-6-f8cfcd5c6cb0>\u001b[0m in \u001b[0;36mget_sehir_twitter_matches\u001b[0;34m(twitter_users, sehir_directory, limit)\u001b[0m\n\u001b[1;32m      9\u001b[0m         \u001b[0mtwitter_name\u001b[0m \u001b[0;34m=\u001b[0m \u001b[0mtwitter_user_by_screen_name\u001b[0m\u001b[0;34m.\u001b[0m\u001b[0mloc\u001b[0m\u001b[0;34m[\u001b[0m\u001b[0mtwitter_screen_name\u001b[0m\u001b[0;34m]\u001b[0m\u001b[0;34m[\u001b[0m\u001b[0;34m'cleaned_twitter_name'\u001b[0m\u001b[0;34m]\u001b[0m\u001b[0;34m\u001b[0m\u001b[0m\n\u001b[1;32m     10\u001b[0m         \u001b[0msehir_matches\u001b[0m \u001b[0;34m=\u001b[0m \u001b[0mget_matches_edit_distance\u001b[0m\u001b[0;34m(\u001b[0m\u001b[0mtwitter_name\u001b[0m\u001b[0;34m,\u001b[0m \u001b[0mfullnames\u001b[0m\u001b[0;34m,\u001b[0m \u001b[0mlimit\u001b[0m\u001b[0;34m)\u001b[0m\u001b[0;34m\u001b[0m\u001b[0m\n\u001b[0;32m---> 11\u001b[0;31m         \u001b[0mcounter\u001b[0m \u001b[0;34m+=\u001b[0m \u001b[0;36m1\u001b[0m\u001b[0;34m\u001b[0m\u001b[0m\n\u001b[0m\u001b[1;32m     12\u001b[0m         \u001b[0;32mif\u001b[0m \u001b[0mcounter\u001b[0m \u001b[0;34m%\u001b[0m\u001b[0;36m100\u001b[0m \u001b[0;34m==\u001b[0m \u001b[0;36m0\u001b[0m\u001b[0;34m:\u001b[0m\u001b[0;34m\u001b[0m\u001b[0m\n\u001b[1;32m     13\u001b[0m             \u001b[0mprint\u001b[0m\u001b[0;34m(\u001b[0m\u001b[0mcounter\u001b[0m\u001b[0;34m,\u001b[0m \u001b[0;34m\"out of \"\u001b[0m\u001b[0;34m,\u001b[0m \u001b[0mtwitter_users_count\u001b[0m\u001b[0;34m)\u001b[0m\u001b[0;34m\u001b[0m\u001b[0m\n",
      "\u001b[0;31mUnboundLocalError\u001b[0m: local variable 'counter' referenced before assignment"
     ]
    }
   ],
   "source": [
    "sehir_matches_df = get_matches_dataframe(twitter_users,\n",
    "                                         sehir_directory, threshold=80, limit=2)"
   ]
  },
  {
   "cell_type": "code",
   "execution_count": null,
   "metadata": {},
   "outputs": [],
   "source": [
    "print(\"There are {} matches\".format(len(sehir_matches_df)))\n",
    "sehir_matches_df.head(5)"
   ]
  },
  {
   "cell_type": "code",
   "execution_count": null,
   "metadata": {},
   "outputs": [],
   "source": [
    "merged = sehir_matches_df.merge(twitter_users, left_on='twitter_screen_name', right_on='twitter_screen_name')"
   ]
  },
  {
   "cell_type": "code",
   "execution_count": null,
   "metadata": {},
   "outputs": [],
   "source": [
    "merged[['GUID', 'twitter_screen_name', 'cleaned_twitter_name', 'sehir_matches']].tail(5)"
   ]
  },
  {
   "cell_type": "code",
   "execution_count": null,
   "metadata": {},
   "outputs": [],
   "source": [
    "merged.to_csv('datasets/sehir_matches.csv', index_label=\"GUID\")"
   ]
  },
  {
   "cell_type": "code",
   "execution_count": null,
   "metadata": {},
   "outputs": [],
   "source": [
    "merged = pd.read_csv('datasets/sehir_matches.csv', index_col=\"GUID\")"
   ]
  },
  {
   "cell_type": "code",
   "execution_count": null,
   "metadata": {},
   "outputs": [],
   "source": [
    "merged.head(5)"
   ]
  },
  {
   "cell_type": "code",
   "execution_count": null,
   "metadata": {},
   "outputs": [],
   "source": [
    "# merged.set_index('GUID.1').loc[291122559]"
   ]
  },
  {
   "cell_type": "code",
   "execution_count": null,
   "metadata": {},
   "outputs": [],
   "source": [
    "'{} twitter accounts have been matched successfully'.format(len(merged))"
   ]
  },
  {
   "cell_type": "code",
   "execution_count": null,
   "metadata": {},
   "outputs": [],
   "source": [
    "# sehir_matches_by_guid = merged.set_index('GUID')"
   ]
  },
  {
   "cell_type": "code",
   "execution_count": null,
   "metadata": {},
   "outputs": [],
   "source": [
    "number_of_matches, _ = merged.shape\n",
    "\n",
    "network = Graph(directed=True)\n",
    "network.add_vertex(number_of_matches)\n",
    "\n",
    "vprop = network.new_vertex_property(\"string\")\n",
    "\n",
    "for vertex, twitter_screen_name in zip(network.vertices(), merged['twitter_screen_name'].values):\n",
    "    vprop[vertex] = twitter_screen_name\n",
    "    \n",
    "network.vertex_properties[\"twitter_screen_name\"] = vprop\n",
    "\n",
    "for i, row in user_connections.iterrows():\n",
    "    from_ = row['from_user_id']\n",
    "    to = row['to_user_id']\n",
    "    \n",
    "    try:\n",
    "        network.add_edge(find_vertex(network, vprop, sehir_matches_by_guid.loc[from_]['twitter_name']), \n",
    "                         find_vertex(network, vprop, sehir_matches_by_guid.loc[to]['twitter_name']))\n",
    "    except Exception as e:\n",
    "        pass"
   ]
  },
  {
   "cell_type": "code",
   "execution_count": null,
   "metadata": {},
   "outputs": [],
   "source": [
    "graph_draw(network, vertex_text=network.vertex_properties[\"twitter_screen_name\"],\n",
    "           vertex_font_size=40,\n",
    "           output_size=(10000, 10000), output=\"sehir_subset.png\")"
   ]
  },
  {
   "cell_type": "code",
   "execution_count": null,
   "metadata": {},
   "outputs": [],
   "source": []
  }
 ],
 "metadata": {
  "anaconda-cloud": {},
  "kernelspec": {
   "display_name": "Python 3",
   "language": "python",
   "name": "python3"
  },
  "language_info": {
   "codemirror_mode": {
    "name": "ipython",
    "version": 3
   },
   "file_extension": ".py",
   "mimetype": "text/x-python",
   "name": "python",
   "nbconvert_exporter": "python",
   "pygments_lexer": "ipython3",
   "version": "3.5.2"
  }
 },
 "nbformat": 4,
 "nbformat_minor": 2
}
