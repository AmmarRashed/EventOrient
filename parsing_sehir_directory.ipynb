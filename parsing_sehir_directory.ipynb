{
 "cells": [
  {
   "cell_type": "code",
   "execution_count": 1,
   "metadata": {
    "collapsed": true
   },
   "outputs": [],
   "source": [
    "import psycopg2\n",
    "\n",
    "import pandas as pd\n",
    "import numpy as np\n",
    "\n",
    "from fuzzywuzzy import fuzz\n",
    "from fuzzywuzzy import process\n",
    "\n",
    "from copy import deepcopy"
   ]
  },
  {
   "cell_type": "markdown",
   "metadata": {},
   "source": [
    "### parse sehir contacts directory (full names, emails)"
   ]
  },
  {
   "cell_type": "code",
   "execution_count": 47,
   "metadata": {
    "collapsed": true
   },
   "outputs": [],
   "source": [
    "contacts = pd.read_csv('datasets/contacts.csv', \n",
    "                       encoding = \"ISO-8859-1\", \n",
    "                       usecols=['First Name', 'Last Name', 'Primary Email']).dropna()"
   ]
  },
  {
   "cell_type": "code",
   "execution_count": 108,
   "metadata": {},
   "outputs": [],
   "source": [
    "def get_matches_edit_distance(item, choices, limit, scorer=fuzz.token_sort_ratio):\n",
    "    return process.extract(item, choices, limit=limit, scorer=scorer)\n",
    "\n",
    "def get_sehir_twitter_matches(twitter_users, sehir_directory, limit=2):\n",
    "    fullnames = [' '.join(first_last_name) \n",
    "                 for first_last_name in sehir_directory[['First Name', 'Last Name']].values]\n",
    "    \n",
    "    twitter_user_by_screen_name = twitter_users.set_index('twitter_screen_name')\n",
    "    \n",
    "    for twitter_screen_name in twitter_users['twitter_screen_name']:\n",
    "        twitter_name = twitter_user_by_screen_name.loc[twitter_screen_name, 'twitter_name']\n",
    "        sehir_matches = get_matches_edit_distance(twitter_name, fullnames, limit)\n",
    "        \n",
    "        yield (twitter_screen_name, sehir_matches)\n",
    "        \n",
    "def filter_matches_by_threshold(matches_dict, threshold=70):\n",
    "    filtered_dict = dict()\n",
    "    for twitter_screen_name, matches in matches_dict.items():\n",
    "        filtered = [(match, score) for match, score in matches if score > threshold]\n",
    "        \n",
    "        if filtered:\n",
    "            filtered_dict[twitter_screen_name] = filtered\n",
    "        \n",
    "    return filtered_dict\n",
    "\n",
    "def get_matches_dataframe(twitter_users, sehir_directory, threshold, limit):\n",
    "    matches = {screen_name : sehir_matches for screen_name, sehir_matches in \n",
    "               get_sehir_twitter_matches(twitter_users, sehir_directory, limit=limit)}\n",
    "    \n",
    "    filtered_matches = filter_matches_by_threshold(matches, threshold=threshold)\n",
    "    screen_names = filtered_matches.keys()\n",
    "    return pd.DataFrame({'twitter_screen_name': list(screen_names),\n",
    "                         'sehir_matches': [filtered_matches[screen_name] for screen_name in screen_names]})"
   ]
  },
  {
   "cell_type": "markdown",
   "metadata": {},
   "source": [
    "### connect to sql database"
   ]
  },
  {
   "cell_type": "code",
   "execution_count": 80,
   "metadata": {
    "collapsed": true
   },
   "outputs": [],
   "source": [
    "connection = psycopg2.connect(\"dbname=twitter_accounts user=postgres\")\n",
    "\n",
    "twitter_users = pd.read_sql(\"SELECT * FROM twitter_user\", connection)\\\n",
    ".rename(columns={'id': 'GUID', \n",
    "                 'name': 'twitter_name',\n",
    "                 'description': 'profile_description',\n",
    "                 'screen_name': 'twitter_screen_name'})\n",
    "\n",
    "user_connections = pd.read_sql(\"SELECT * FROM twitter_connection\", connection).drop('id', axis=1)"
   ]
  },
  {
   "cell_type": "code",
   "execution_count": 81,
   "metadata": {},
   "outputs": [
    {
     "data": {
      "text/html": [
       "<div>\n",
       "<style>\n",
       "    .dataframe thead tr:only-child th {\n",
       "        text-align: right;\n",
       "    }\n",
       "\n",
       "    .dataframe thead th {\n",
       "        text-align: left;\n",
       "    }\n",
       "\n",
       "    .dataframe tbody tr th {\n",
       "        vertical-align: top;\n",
       "    }\n",
       "</style>\n",
       "<table border=\"1\" class=\"dataframe\">\n",
       "  <thead>\n",
       "    <tr style=\"text-align: right;\">\n",
       "      <th></th>\n",
       "      <th>GUID</th>\n",
       "      <th>twitter_name</th>\n",
       "      <th>twitter_screen_name</th>\n",
       "      <th>profile_description</th>\n",
       "      <th>followers_count</th>\n",
       "      <th>friends_count</th>\n",
       "      <th>favourites_count</th>\n",
       "      <th>statuses_count</th>\n",
       "      <th>lang</th>\n",
       "    </tr>\n",
       "  </thead>\n",
       "  <tbody>\n",
       "    <tr>\n",
       "      <th>0</th>\n",
       "      <td>106086098</td>\n",
       "      <td>ŞEHİR Üniversitesi</td>\n",
       "      <td>SehirUniversite</td>\n",
       "      <td>İstanbul Şehir Üniversitesi'nin Resmi Twitter ...</td>\n",
       "      <td>11367</td>\n",
       "      <td>165</td>\n",
       "      <td>387</td>\n",
       "      <td>3346</td>\n",
       "      <td>tr</td>\n",
       "    </tr>\n",
       "    <tr>\n",
       "      <th>1</th>\n",
       "      <td>813478272910630913</td>\n",
       "      <td>SehirCHES</td>\n",
       "      <td>SehirCHES</td>\n",
       "      <td>Official Twitter for @SehirUniversite 's Cente...</td>\n",
       "      <td>102</td>\n",
       "      <td>201</td>\n",
       "      <td>27</td>\n",
       "      <td>44</td>\n",
       "      <td>tr</td>\n",
       "    </tr>\n",
       "  </tbody>\n",
       "</table>\n",
       "</div>"
      ],
      "text/plain": [
       "                 GUID        twitter_name twitter_screen_name  \\\n",
       "0           106086098  ŞEHİR Üniversitesi     SehirUniversite   \n",
       "1  813478272910630913           SehirCHES           SehirCHES   \n",
       "\n",
       "                                 profile_description  followers_count  \\\n",
       "0  İstanbul Şehir Üniversitesi'nin Resmi Twitter ...            11367   \n",
       "1  Official Twitter for @SehirUniversite 's Cente...              102   \n",
       "\n",
       "   friends_count  favourites_count  statuses_count lang  \n",
       "0            165               387            3346   tr  \n",
       "1            201                27              44   tr  "
      ]
     },
     "execution_count": 81,
     "metadata": {},
     "output_type": "execute_result"
    }
   ],
   "source": [
    "twitter_users.head(2)"
   ]
  },
  {
   "cell_type": "markdown",
   "metadata": {},
   "source": [
    "### user_connections contains follower/followee relationships by GUID"
   ]
  },
  {
   "cell_type": "code",
   "execution_count": 82,
   "metadata": {},
   "outputs": [
    {
     "data": {
      "text/html": [
       "<div>\n",
       "<style>\n",
       "    .dataframe thead tr:only-child th {\n",
       "        text-align: right;\n",
       "    }\n",
       "\n",
       "    .dataframe thead th {\n",
       "        text-align: left;\n",
       "    }\n",
       "\n",
       "    .dataframe tbody tr th {\n",
       "        vertical-align: top;\n",
       "    }\n",
       "</style>\n",
       "<table border=\"1\" class=\"dataframe\">\n",
       "  <thead>\n",
       "    <tr style=\"text-align: right;\">\n",
       "      <th></th>\n",
       "      <th>from_user_id</th>\n",
       "      <th>to_user_id</th>\n",
       "    </tr>\n",
       "  </thead>\n",
       "  <tbody>\n",
       "    <tr>\n",
       "      <th>0</th>\n",
       "      <td>106086098</td>\n",
       "      <td>813478272910630913</td>\n",
       "    </tr>\n",
       "    <tr>\n",
       "      <th>1</th>\n",
       "      <td>106086098</td>\n",
       "      <td>835028362032742400</td>\n",
       "    </tr>\n",
       "  </tbody>\n",
       "</table>\n",
       "</div>"
      ],
      "text/plain": [
       "   from_user_id          to_user_id\n",
       "0     106086098  813478272910630913\n",
       "1     106086098  835028362032742400"
      ]
     },
     "execution_count": 82,
     "metadata": {},
     "output_type": "execute_result"
    }
   ],
   "source": [
    "user_connections.head(2)"
   ]
  },
  {
   "cell_type": "markdown",
   "metadata": {},
   "source": [
    "### matching subset of sehir twitter accounts (first 5000)"
   ]
  },
  {
   "cell_type": "code",
   "execution_count": 111,
   "metadata": {},
   "outputs": [
    {
     "name": "stderr",
     "output_type": "stream",
     "text": [
      "WARNING:root:Applied processor reduces input query to empty string, all comparisons will have score 0. [Query: '~']\n",
      "WARNING:root:Applied processor reduces input query to empty string, all comparisons will have score 0. [Query: ':::']\n",
      "WARNING:root:Applied processor reduces input query to empty string, all comparisons will have score 0. [Query: '😇']\n",
      "WARNING:root:Applied processor reduces input query to empty string, all comparisons will have score 0. [Query: '.']\n",
      "WARNING:root:Applied processor reduces input query to empty string, all comparisons will have score 0. [Query: '.']\n",
      "WARNING:root:Applied processor reduces input query to empty string, all comparisons will have score 0. [Query: '.']\n",
      "WARNING:root:Applied processor reduces input query to empty string, all comparisons will have score 0. [Query: '💼📝']\n",
      "WARNING:root:Applied processor reduces input query to empty string, all comparisons will have score 0. [Query: '.']\n",
      "WARNING:root:Applied processor reduces input query to empty string, all comparisons will have score 0. [Query: '🤸🏻‍♀️']\n",
      "WARNING:root:Applied processor reduces input query to empty string, all comparisons will have score 0. [Query: '💎']\n",
      "WARNING:root:Applied processor reduces input query to empty string, all comparisons will have score 0. [Query: '.']\n",
      "WARNING:root:Applied processor reduces input query to empty string, all comparisons will have score 0. [Query: '😃']\n",
      "WARNING:root:Applied processor reduces input query to empty string, all comparisons will have score 0. [Query: '❤❤❤']\n",
      "WARNING:root:Applied processor reduces input query to empty string, all comparisons will have score 0. [Query: '☇🌙']\n",
      "WARNING:root:Applied processor reduces input query to empty string, all comparisons will have score 0. [Query: '☁']\n",
      "WARNING:root:Applied processor reduces input query to empty string, all comparisons will have score 0. [Query: '-']\n",
      "WARNING:root:Applied processor reduces input query to empty string, all comparisons will have score 0. [Query: '.']\n",
      "WARNING:root:Applied processor reduces input query to empty string, all comparisons will have score 0. [Query: '.']\n",
      "WARNING:root:Applied processor reduces input query to empty string, all comparisons will have score 0. [Query: '🎬☕']\n",
      "WARNING:root:Applied processor reduces input query to empty string, all comparisons will have score 0. [Query: '✈️']\n",
      "WARNING:root:Applied processor reduces input query to empty string, all comparisons will have score 0. [Query: '.']\n",
      "WARNING:root:Applied processor reduces input query to empty string, all comparisons will have score 0. [Query: '🍀']\n",
      "WARNING:root:Applied processor reduces input query to empty string, all comparisons will have score 0. [Query: '.']\n",
      "WARNING:root:Applied processor reduces input query to empty string, all comparisons will have score 0. [Query: '🛠']\n",
      "WARNING:root:Applied processor reduces input query to empty string, all comparisons will have score 0. [Query: '💙💖💚💛💜']\n",
      "WARNING:root:Applied processor reduces input query to empty string, all comparisons will have score 0. [Query: '.']\n",
      "WARNING:root:Applied processor reduces input query to empty string, all comparisons will have score 0. [Query: '.']\n",
      "WARNING:root:Applied processor reduces input query to empty string, all comparisons will have score 0. [Query: '..']\n"
     ]
    }
   ],
   "source": [
    "sehir_matches_df = get_matches_dataframe(twitter_users[:5000],\n",
    "                                         sehir_directory, threshold=90, limit=2)\n",
    "\n",
    "merged = sehir_matches_df.merge(twitter_users, left_on='twitter_screen_name', right_on='twitter_screen_name')"
   ]
  },
  {
   "cell_type": "code",
   "execution_count": 116,
   "metadata": {},
   "outputs": [
    {
     "data": {
      "text/html": [
       "<div>\n",
       "<style>\n",
       "    .dataframe thead tr:only-child th {\n",
       "        text-align: right;\n",
       "    }\n",
       "\n",
       "    .dataframe thead th {\n",
       "        text-align: left;\n",
       "    }\n",
       "\n",
       "    .dataframe tbody tr th {\n",
       "        vertical-align: top;\n",
       "    }\n",
       "</style>\n",
       "<table border=\"1\" class=\"dataframe\">\n",
       "  <thead>\n",
       "    <tr style=\"text-align: right;\">\n",
       "      <th></th>\n",
       "      <th>GUID</th>\n",
       "      <th>twitter_screen_name</th>\n",
       "      <th>twitter_name</th>\n",
       "      <th>sehir_matches</th>\n",
       "    </tr>\n",
       "  </thead>\n",
       "  <tbody>\n",
       "    <tr>\n",
       "      <th>330</th>\n",
       "      <td>413849104</td>\n",
       "      <td>mustafacelen70</td>\n",
       "      <td>Mustafa ÇELEN</td>\n",
       "      <td>[(Mustafa Celen, 96)]</td>\n",
       "    </tr>\n",
       "    <tr>\n",
       "      <th>331</th>\n",
       "      <td>429101069</td>\n",
       "      <td>hamitokur</td>\n",
       "      <td>hamitokur</td>\n",
       "      <td>[(Hamit Okur, 95)]</td>\n",
       "    </tr>\n",
       "    <tr>\n",
       "      <th>332</th>\n",
       "      <td>3624969136</td>\n",
       "      <td>hasan_atan</td>\n",
       "      <td>Hasan ATAN</td>\n",
       "      <td>[(Hasan Atan, 100)]</td>\n",
       "    </tr>\n",
       "    <tr>\n",
       "      <th>333</th>\n",
       "      <td>397251795</td>\n",
       "      <td>zeynpchn</td>\n",
       "      <td>Zeynep Cihan</td>\n",
       "      <td>[(Zeynep Cihan, 100), (Zeynep Ilhan, 92)]</td>\n",
       "    </tr>\n",
       "    <tr>\n",
       "      <th>334</th>\n",
       "      <td>3234142326</td>\n",
       "      <td>MCanErim</td>\n",
       "      <td>Mehmet Can Erim</td>\n",
       "      <td>[(Mehmet Can Erim, 100)]</td>\n",
       "    </tr>\n",
       "  </tbody>\n",
       "</table>\n",
       "</div>"
      ],
      "text/plain": [
       "           GUID twitter_screen_name     twitter_name  \\\n",
       "330   413849104      mustafacelen70    Mustafa ÇELEN   \n",
       "331   429101069           hamitokur        hamitokur   \n",
       "332  3624969136          hasan_atan       Hasan ATAN   \n",
       "333   397251795            zeynpchn     Zeynep Cihan   \n",
       "334  3234142326            MCanErim  Mehmet Can Erim   \n",
       "\n",
       "                                 sehir_matches  \n",
       "330                      [(Mustafa Celen, 96)]  \n",
       "331                         [(Hamit Okur, 95)]  \n",
       "332                        [(Hasan Atan, 100)]  \n",
       "333  [(Zeynep Cihan, 100), (Zeynep Ilhan, 92)]  \n",
       "334                   [(Mehmet Can Erim, 100)]  "
      ]
     },
     "execution_count": 116,
     "metadata": {},
     "output_type": "execute_result"
    }
   ],
   "source": [
    "merged[['GUID', 'twitter_screen_name', 'twitter_name', 'sehir_matches']].tail(5)"
   ]
  },
  {
   "cell_type": "code",
   "execution_count": 117,
   "metadata": {
    "collapsed": true
   },
   "outputs": [],
   "source": [
    "merged.to_csv('datasets/sehir_matches.csv', index=False)"
   ]
  }
 ],
 "metadata": {
  "kernelspec": {
   "display_name": "Python 3",
   "language": "python",
   "name": "python3"
  },
  "language_info": {
   "codemirror_mode": {
    "name": "ipython",
    "version": 3
   },
   "file_extension": ".py",
   "mimetype": "text/x-python",
   "name": "python",
   "nbconvert_exporter": "python",
   "pygments_lexer": "ipython3",
   "version": "3.6.3"
  }
 },
 "nbformat": 4,
 "nbformat_minor": 2
}
