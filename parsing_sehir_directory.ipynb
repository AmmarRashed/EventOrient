{
 "cells": [
  {
   "cell_type": "code",
   "execution_count": 25,
   "metadata": {},
   "outputs": [],
   "source": [
    "import psycopg2\n",
    "\n",
    "import pandas as pd\n",
    "import numpy as np\n",
    "\n",
    "from fuzzywuzzy import fuzz\n",
    "from fuzzywuzzy import process\n",
    "\n",
    "from copy import deepcopy\n",
    "\n",
    "import re, unicodedata\n",
    "\n",
    "# from graph_tool.all import *"
   ]
  },
  {
   "cell_type": "markdown",
   "metadata": {},
   "source": [
    "### parse sehir contacts directory (full names, emails)"
   ]
  },
  {
   "cell_type": "code",
   "execution_count": 2,
   "metadata": {},
   "outputs": [],
   "source": [
    "sehir_directory = pd.read_csv('datasets/contacts.csv', \n",
    "                               encoding = \"ISO-8859-1\", \n",
    "                               usecols=['First Name', 'Last Name', 'Primary Email']).dropna()"
   ]
  },
  {
   "cell_type": "code",
   "execution_count": 3,
   "metadata": {},
   "outputs": [
    {
     "data": {
      "text/html": [
       "<div>\n",
       "<style scoped>\n",
       "    .dataframe tbody tr th:only-of-type {\n",
       "        vertical-align: middle;\n",
       "    }\n",
       "\n",
       "    .dataframe tbody tr th {\n",
       "        vertical-align: top;\n",
       "    }\n",
       "\n",
       "    .dataframe thead th {\n",
       "        text-align: right;\n",
       "    }\n",
       "</style>\n",
       "<table border=\"1\" class=\"dataframe\">\n",
       "  <thead>\n",
       "    <tr style=\"text-align: right;\">\n",
       "      <th></th>\n",
       "      <th>First Name</th>\n",
       "      <th>Last Name</th>\n",
       "      <th>Primary Email</th>\n",
       "    </tr>\n",
       "  </thead>\n",
       "  <tbody>\n",
       "    <tr>\n",
       "      <th>102</th>\n",
       "      <td>Burak</td>\n",
       "      <td>Fidan</td>\n",
       "      <td>burakfidan@std.sehir.edu.tr</td>\n",
       "    </tr>\n",
       "    <tr>\n",
       "      <th>103</th>\n",
       "      <td>Muhammed</td>\n",
       "      <td>Aydin</td>\n",
       "      <td>cihadaydin@std.sehir.edu.tr</td>\n",
       "    </tr>\n",
       "    <tr>\n",
       "      <th>104</th>\n",
       "      <td>Muhammet Masuk</td>\n",
       "      <td>Aktas</td>\n",
       "      <td>muhammetaktas@std.sehir.edu.tr</td>\n",
       "    </tr>\n",
       "    <tr>\n",
       "      <th>105</th>\n",
       "      <td>Sezer</td>\n",
       "      <td>Aktas</td>\n",
       "      <td>sezeraktas@std.sehir.edu.tr</td>\n",
       "    </tr>\n",
       "    <tr>\n",
       "      <th>106</th>\n",
       "      <td>Ayse Nur</td>\n",
       "      <td>Salk</td>\n",
       "      <td>aysesalk@std.sehir.edu.tr</td>\n",
       "    </tr>\n",
       "  </tbody>\n",
       "</table>\n",
       "</div>"
      ],
      "text/plain": [
       "         First Name Last Name                   Primary Email\n",
       "102           Burak     Fidan     burakfidan@std.sehir.edu.tr\n",
       "103        Muhammed     Aydin     cihadaydin@std.sehir.edu.tr\n",
       "104  Muhammet Masuk     Aktas  muhammetaktas@std.sehir.edu.tr\n",
       "105           Sezer     Aktas     sezeraktas@std.sehir.edu.tr\n",
       "106        Ayse Nur      Salk       aysesalk@std.sehir.edu.tr"
      ]
     },
     "execution_count": 3,
     "metadata": {},
     "output_type": "execute_result"
    }
   ],
   "source": [
    "sehir_directory.head()"
   ]
  },
  {
   "cell_type": "code",
   "execution_count": 23,
   "metadata": {},
   "outputs": [
    {
     "data": {
      "text/plain": [
       "'9088 sehir contacts'"
      ]
     },
     "execution_count": 23,
     "metadata": {},
     "output_type": "execute_result"
    }
   ],
   "source": [
    "\"{} sehir contacts\".format(len(sehir_directory))"
   ]
  },
  {
   "cell_type": "code",
   "execution_count": 4,
   "metadata": {},
   "outputs": [],
   "source": [
    "def get_matches_edit_distance(item, choices, limit, scorer=fuzz.token_sort_ratio):\n",
    "    return process.extract(item, choices, limit=limit, scorer=scorer)\n",
    "\n",
    "def get_sehir_twitter_matches(twitter_users, sehir_directory, limit=2):\n",
    "    fullnames = [' '.join(first_last_name).lower() \n",
    "                 for first_last_name in sehir_directory[['First Name', 'Last Name']].values]\n",
    "    \n",
    "    twitter_user_by_screen_name = twitter_users.set_index('twitter_screen_name')\n",
    "    \n",
    "    for twitter_screen_name in twitter_users['twitter_screen_name']:\n",
    "        twitter_name = twitter_user_by_screen_name.loc[twitter_screen_name]['cleaned_twitter_name']\n",
    "        sehir_matches = get_matches_edit_distance(twitter_name, fullnames, limit)\n",
    "        \n",
    "        yield (twitter_screen_name, sehir_matches)\n",
    "        \n",
    "def filter_matches_by_threshold(matches_dict, threshold=70):\n",
    "    filtered_dict = dict()\n",
    "    for twitter_screen_name, matches in matches_dict.items():\n",
    "        filtered = [(match, score) for match, score in matches if score > threshold]\n",
    "        \n",
    "        if filtered:\n",
    "            filtered_dict[twitter_screen_name] = filtered\n",
    "        \n",
    "    return filtered_dict\n",
    "\n",
    "def get_matches_dataframe(twitter_users, sehir_directory, threshold, limit):\n",
    "    matches = {screen_name : sehir_matches for screen_name, sehir_matches in \n",
    "               get_sehir_twitter_matches(twitter_users, sehir_directory, limit=limit)}\n",
    "    \n",
    "    filtered_matches = filter_matches_by_threshold(matches, threshold=threshold)\n",
    "    screen_names = filtered_matches.keys()\n",
    "    return pd.DataFrame({'twitter_screen_name': list(screen_names),\n",
    "                         'sehir_matches': [filtered_matches[screen_name] for screen_name in screen_names]})\n",
    "\n",
    "def clean(name):\n",
    "    return unicodedata.normalize('NFKD', name).encode('ascii', 'ignore').lower().decode(\"ascii\")"
   ]
  },
  {
   "cell_type": "markdown",
   "metadata": {},
   "source": [
    "### connect to sql database"
   ]
  },
  {
   "cell_type": "code",
   "execution_count": 5,
   "metadata": {},
   "outputs": [],
   "source": [
    "connection = psycopg2.connect('dbname=twitter_accounts host=localhost user=postgres password=1_sehir_1')\n",
    "\n",
    "twitter_users = pd.read_sql(\"SELECT * FROM twitter_user\", connection)\\\n",
    ".rename(columns={'id': 'GUID', \n",
    "                 'name': 'twitter_name',\n",
    "                 'description': 'profile_description',\n",
    "                 'screen_name': 'twitter_screen_name'})\n",
    "\n",
    "user_connections = pd.read_sql(\"SELECT * FROM twitter_connection\", connection).drop('id', axis=1)"
   ]
  },
  {
   "cell_type": "code",
   "execution_count": 68,
   "metadata": {},
   "outputs": [],
   "source": []
  },
  {
   "cell_type": "code",
   "execution_count": 6,
   "metadata": {},
   "outputs": [
    {
     "data": {
      "text/plain": [
       "79407"
      ]
     },
     "execution_count": 6,
     "metadata": {},
     "output_type": "execute_result"
    }
   ],
   "source": [
    "len(twitter_users)"
   ]
  },
  {
   "cell_type": "code",
   "execution_count": 7,
   "metadata": {},
   "outputs": [],
   "source": [
    "twitter_users[\"cleaned_twitter_name\"] = twitter_users[\"twitter_name\"].apply(lambda x:clean(x) if len(clean(x))>4 else np.NaN)"
   ]
  },
  {
   "cell_type": "code",
   "execution_count": 8,
   "metadata": {},
   "outputs": [],
   "source": [
    "twitter_users = twitter_users.dropna()"
   ]
  },
  {
   "cell_type": "code",
   "execution_count": 9,
   "metadata": {},
   "outputs": [
    {
     "data": {
      "text/plain": [
       "72090"
      ]
     },
     "execution_count": 9,
     "metadata": {},
     "output_type": "execute_result"
    }
   ],
   "source": [
    "len(twitter_users)"
   ]
  },
  {
   "cell_type": "code",
   "execution_count": 10,
   "metadata": {},
   "outputs": [
    {
     "data": {
      "text/html": [
       "<div>\n",
       "<style scoped>\n",
       "    .dataframe tbody tr th:only-of-type {\n",
       "        vertical-align: middle;\n",
       "    }\n",
       "\n",
       "    .dataframe tbody tr th {\n",
       "        vertical-align: top;\n",
       "    }\n",
       "\n",
       "    .dataframe thead th {\n",
       "        text-align: right;\n",
       "    }\n",
       "</style>\n",
       "<table border=\"1\" class=\"dataframe\">\n",
       "  <thead>\n",
       "    <tr style=\"text-align: right;\">\n",
       "      <th></th>\n",
       "      <th>GUID</th>\n",
       "      <th>twitter_name</th>\n",
       "      <th>twitter_screen_name</th>\n",
       "      <th>profile_description</th>\n",
       "      <th>favourites_count</th>\n",
       "      <th>statuses_count</th>\n",
       "      <th>lang</th>\n",
       "      <th>cleaned_twitter_name</th>\n",
       "    </tr>\n",
       "  </thead>\n",
       "  <tbody>\n",
       "    <tr>\n",
       "      <th>0</th>\n",
       "      <td>106086098</td>\n",
       "      <td>ŞEHİR Üniversitesi</td>\n",
       "      <td>SehirUniversite</td>\n",
       "      <td>İstanbul Şehir Üniversitesi'nin Resmi Twitter ...</td>\n",
       "      <td>384</td>\n",
       "      <td>3342</td>\n",
       "      <td>tr</td>\n",
       "      <td>sehir universitesi</td>\n",
       "    </tr>\n",
       "    <tr>\n",
       "      <th>1</th>\n",
       "      <td>835028362032742400</td>\n",
       "      <td>Girişimcilik Kulübü</td>\n",
       "      <td>SehirGirisim</td>\n",
       "      <td>İstanbul Şehir Üniversitesi Girişimcilik Kulüb...</td>\n",
       "      <td>80</td>\n",
       "      <td>76</td>\n",
       "      <td>tr</td>\n",
       "      <td>girisimcilik kulubu</td>\n",
       "    </tr>\n",
       "  </tbody>\n",
       "</table>\n",
       "</div>"
      ],
      "text/plain": [
       "                 GUID         twitter_name twitter_screen_name  \\\n",
       "0           106086098   ŞEHİR Üniversitesi     SehirUniversite   \n",
       "1  835028362032742400  Girişimcilik Kulübü        SehirGirisim   \n",
       "\n",
       "                                 profile_description  favourites_count  \\\n",
       "0  İstanbul Şehir Üniversitesi'nin Resmi Twitter ...               384   \n",
       "1  İstanbul Şehir Üniversitesi Girişimcilik Kulüb...                80   \n",
       "\n",
       "   statuses_count lang cleaned_twitter_name  \n",
       "0            3342   tr   sehir universitesi  \n",
       "1              76   tr  girisimcilik kulubu  "
      ]
     },
     "execution_count": 10,
     "metadata": {},
     "output_type": "execute_result"
    }
   ],
   "source": [
    "twitter_users.head(2)"
   ]
  },
  {
   "cell_type": "markdown",
   "metadata": {},
   "source": [
    "### user_connections contains follower/followee relationships by GUID"
   ]
  },
  {
   "cell_type": "code",
   "execution_count": 11,
   "metadata": {},
   "outputs": [
    {
     "data": {
      "text/html": [
       "<div>\n",
       "<style scoped>\n",
       "    .dataframe tbody tr th:only-of-type {\n",
       "        vertical-align: middle;\n",
       "    }\n",
       "\n",
       "    .dataframe tbody tr th {\n",
       "        vertical-align: top;\n",
       "    }\n",
       "\n",
       "    .dataframe thead th {\n",
       "        text-align: right;\n",
       "    }\n",
       "</style>\n",
       "<table border=\"1\" class=\"dataframe\">\n",
       "  <thead>\n",
       "    <tr style=\"text-align: right;\">\n",
       "      <th></th>\n",
       "      <th>from_user_id</th>\n",
       "      <th>to_user_id</th>\n",
       "    </tr>\n",
       "  </thead>\n",
       "  <tbody>\n",
       "    <tr>\n",
       "      <th>0</th>\n",
       "      <td>106086098</td>\n",
       "      <td>835028362032742400</td>\n",
       "    </tr>\n",
       "    <tr>\n",
       "      <th>1</th>\n",
       "      <td>106086098</td>\n",
       "      <td>3627550275</td>\n",
       "    </tr>\n",
       "  </tbody>\n",
       "</table>\n",
       "</div>"
      ],
      "text/plain": [
       "   from_user_id          to_user_id\n",
       "0     106086098  835028362032742400\n",
       "1     106086098          3627550275"
      ]
     },
     "execution_count": 11,
     "metadata": {},
     "output_type": "execute_result"
    }
   ],
   "source": [
    "user_connections.head(2)"
   ]
  },
  {
   "cell_type": "markdown",
   "metadata": {},
   "source": [
    "### matching subset of sehir twitter accounts _ALL_"
   ]
  },
  {
   "cell_type": "code",
   "execution_count": 12,
   "metadata": {},
   "outputs": [
    {
     "name": "stderr",
     "output_type": "stream",
     "text": [
      "WARNING:root:Applied processor reduces input query to empty string, all comparisons will have score 0. [Query: '.....']\n",
      "WARNING:root:Applied processor reduces input query to empty string, all comparisons will have score 0. [Query: '......']\n",
      "WARNING:root:Applied processor reduces input query to empty string, all comparisons will have score 0. [Query: '   . ']\n",
      "WARNING:root:Applied processor reduces input query to empty string, all comparisons will have score 0. [Query: '@**!!#:']\n",
      "WARNING:root:Applied processor reduces input query to empty string, all comparisons will have score 0. [Query: '......']\n",
      "WARNING:root:Applied processor reduces input query to empty string, all comparisons will have score 0. [Query: '.....']\n",
      "WARNING:root:Applied processor reduces input query to empty string, all comparisons will have score 0. [Query: '///////']\n",
      "WARNING:root:Applied processor reduces input query to empty string, all comparisons will have score 0. [Query: '........']\n",
      "WARNING:root:Applied processor reduces input query to empty string, all comparisons will have score 0. [Query: '.....']\n",
      "WARNING:root:Applied processor reduces input query to empty string, all comparisons will have score 0. [Query: '.......']\n",
      "WARNING:root:Applied processor reduces input query to empty string, all comparisons will have score 0. [Query: '.....']\n",
      "WARNING:root:Applied processor reduces input query to empty string, all comparisons will have score 0. [Query: '.....']\n",
      "WARNING:root:Applied processor reduces input query to empty string, all comparisons will have score 0. [Query: '......']\n",
      "WARNING:root:Applied processor reduces input query to empty string, all comparisons will have score 0. [Query: '.....']\n",
      "WARNING:root:Applied processor reduces input query to empty string, all comparisons will have score 0. [Query: '*** * * * * * * * * * * * * * * * * * * *']\n",
      "WARNING:root:Applied processor reduces input query to empty string, all comparisons will have score 0. [Query: '::..::']\n",
      "WARNING:root:Applied processor reduces input query to empty string, all comparisons will have score 0. [Query: '&&&&&&&&&&']\n",
      "WARNING:root:Applied processor reduces input query to empty string, all comparisons will have score 0. [Query: '........']\n",
      "WARNING:root:Applied processor reduces input query to empty string, all comparisons will have score 0. [Query: '..,,,,']\n",
      "WARNING:root:Applied processor reduces input query to empty string, all comparisons will have score 0. [Query: '.......']\n",
      "WARNING:root:Applied processor reduces input query to empty string, all comparisons will have score 0. [Query: '.....']\n",
      "WARNING:root:Applied processor reduces input query to empty string, all comparisons will have score 0. [Query: '........']\n",
      "WARNING:root:Applied processor reduces input query to empty string, all comparisons will have score 0. [Query: '.....']\n",
      "WARNING:root:Applied processor reduces input query to empty string, all comparisons will have score 0. [Query: '*   *']\n",
      "WARNING:root:Applied processor reduces input query to empty string, all comparisons will have score 0. [Query: '  -    ']\n",
      "WARNING:root:Applied processor reduces input query to empty string, all comparisons will have score 0. [Query: '......']\n",
      "WARNING:root:Applied processor reduces input query to empty string, all comparisons will have score 0. [Query: '  ....']\n",
      "WARNING:root:Applied processor reduces input query to empty string, all comparisons will have score 0. [Query: '.    ']\n",
      "WARNING:root:Applied processor reduces input query to empty string, all comparisons will have score 0. [Query: '       ']\n",
      "WARNING:root:Applied processor reduces input query to empty string, all comparisons will have score 0. [Query: '   -  ']\n",
      "WARNING:root:Applied processor reduces input query to empty string, all comparisons will have score 0. [Query: '      ']\n",
      "WARNING:root:Applied processor reduces input query to empty string, all comparisons will have score 0. [Query: ' .....  ......']\n",
      "WARNING:root:Applied processor reduces input query to empty string, all comparisons will have score 0. [Query: '     ']\n"
     ]
    }
   ],
   "source": [
    "sehir_matches_df = get_matches_dataframe(twitter_users,\n",
    "                                         sehir_directory, threshold=90, limit=2)"
   ]
  },
  {
   "cell_type": "code",
   "execution_count": 13,
   "metadata": {},
   "outputs": [
    {
     "name": "stdout",
     "output_type": "stream",
     "text": [
      "There are 3000 matches\n"
     ]
    },
    {
     "data": {
      "text/html": [
       "<div>\n",
       "<style scoped>\n",
       "    .dataframe tbody tr th:only-of-type {\n",
       "        vertical-align: middle;\n",
       "    }\n",
       "\n",
       "    .dataframe tbody tr th {\n",
       "        vertical-align: top;\n",
       "    }\n",
       "\n",
       "    .dataframe thead th {\n",
       "        text-align: right;\n",
       "    }\n",
       "</style>\n",
       "<table border=\"1\" class=\"dataframe\">\n",
       "  <thead>\n",
       "    <tr style=\"text-align: right;\">\n",
       "      <th></th>\n",
       "      <th>sehir_matches</th>\n",
       "      <th>twitter_screen_name</th>\n",
       "    </tr>\n",
       "  </thead>\n",
       "  <tbody>\n",
       "    <tr>\n",
       "      <th>0</th>\n",
       "      <td>[(elif ozturk, 100)]</td>\n",
       "      <td>bidikshowtime</td>\n",
       "    </tr>\n",
       "    <tr>\n",
       "      <th>1</th>\n",
       "      <td>[(mehmet ozdemir, 100)]</td>\n",
       "      <td>Mehmet317213</td>\n",
       "    </tr>\n",
       "    <tr>\n",
       "      <th>2</th>\n",
       "      <td>[(ahmet emir, 95), (ahmet demir98, 92)]</td>\n",
       "      <td>ahmetde43241739</td>\n",
       "    </tr>\n",
       "    <tr>\n",
       "      <th>3</th>\n",
       "      <td>[(mehmed celik, 92), (mehmed celik, 92)]</td>\n",
       "      <td>CelikMfc23</td>\n",
       "    </tr>\n",
       "    <tr>\n",
       "      <th>4</th>\n",
       "      <td>[(meliksah aydin, 92)]</td>\n",
       "      <td>MelisaA85500624</td>\n",
       "    </tr>\n",
       "  </tbody>\n",
       "</table>\n",
       "</div>"
      ],
      "text/plain": [
       "                              sehir_matches twitter_screen_name\n",
       "0                      [(elif ozturk, 100)]       bidikshowtime\n",
       "1                   [(mehmet ozdemir, 100)]        Mehmet317213\n",
       "2   [(ahmet emir, 95), (ahmet demir98, 92)]     ahmetde43241739\n",
       "3  [(mehmed celik, 92), (mehmed celik, 92)]          CelikMfc23\n",
       "4                    [(meliksah aydin, 92)]     MelisaA85500624"
      ]
     },
     "execution_count": 13,
     "metadata": {},
     "output_type": "execute_result"
    }
   ],
   "source": [
    "print(\"There are {} matches\".format(len(sehir_matches_df)))\n",
    "sehir_matches_df.head(5)"
   ]
  },
  {
   "cell_type": "code",
   "execution_count": 14,
   "metadata": {},
   "outputs": [],
   "source": [
    "merged = sehir_matches_df.merge(twitter_users, left_on='twitter_screen_name', right_on='twitter_screen_name')"
   ]
  },
  {
   "cell_type": "code",
   "execution_count": 15,
   "metadata": {},
   "outputs": [
    {
     "data": {
      "text/html": [
       "<div>\n",
       "<style scoped>\n",
       "    .dataframe tbody tr th:only-of-type {\n",
       "        vertical-align: middle;\n",
       "    }\n",
       "\n",
       "    .dataframe tbody tr th {\n",
       "        vertical-align: top;\n",
       "    }\n",
       "\n",
       "    .dataframe thead th {\n",
       "        text-align: right;\n",
       "    }\n",
       "</style>\n",
       "<table border=\"1\" class=\"dataframe\">\n",
       "  <thead>\n",
       "    <tr style=\"text-align: right;\">\n",
       "      <th></th>\n",
       "      <th>GUID</th>\n",
       "      <th>twitter_screen_name</th>\n",
       "      <th>cleaned_twitter_name</th>\n",
       "      <th>sehir_matches</th>\n",
       "    </tr>\n",
       "  </thead>\n",
       "  <tbody>\n",
       "    <tr>\n",
       "      <th>2995</th>\n",
       "      <td>935107166381510657</td>\n",
       "      <td>EnesAkt68970583</td>\n",
       "      <td>enes akturk</td>\n",
       "      <td>[(enis akturk, 91)]</td>\n",
       "    </tr>\n",
       "    <tr>\n",
       "      <th>2996</th>\n",
       "      <td>378511292</td>\n",
       "      <td>Support91000048</td>\n",
       "      <td>adil sava</td>\n",
       "      <td>[(adil sava, 100)]</td>\n",
       "    </tr>\n",
       "    <tr>\n",
       "      <th>2997</th>\n",
       "      <td>938006900951658496</td>\n",
       "      <td>Hakanyigit46</td>\n",
       "      <td>hakan yigit</td>\n",
       "      <td>[(hakan yigit, 100)]</td>\n",
       "    </tr>\n",
       "    <tr>\n",
       "      <th>2998</th>\n",
       "      <td>935177579195195392</td>\n",
       "      <td>Mustafa30586247</td>\n",
       "      <td>mustafa gul</td>\n",
       "      <td>[(mustafa gunel, 92), (mustafa gurel, 92)]</td>\n",
       "    </tr>\n",
       "    <tr>\n",
       "      <th>2999</th>\n",
       "      <td>898917016324722689</td>\n",
       "      <td>HasanCskn61</td>\n",
       "      <td>hasan coskun</td>\n",
       "      <td>[(hasan coskun, 100)]</td>\n",
       "    </tr>\n",
       "  </tbody>\n",
       "</table>\n",
       "</div>"
      ],
      "text/plain": [
       "                    GUID twitter_screen_name cleaned_twitter_name  \\\n",
       "2995  935107166381510657     EnesAkt68970583          enes akturk   \n",
       "2996           378511292     Support91000048            adil sava   \n",
       "2997  938006900951658496        Hakanyigit46          hakan yigit   \n",
       "2998  935177579195195392     Mustafa30586247          mustafa gul   \n",
       "2999  898917016324722689         HasanCskn61         hasan coskun   \n",
       "\n",
       "                                   sehir_matches  \n",
       "2995                         [(enis akturk, 91)]  \n",
       "2996                          [(adil sava, 100)]  \n",
       "2997                        [(hakan yigit, 100)]  \n",
       "2998  [(mustafa gunel, 92), (mustafa gurel, 92)]  \n",
       "2999                       [(hasan coskun, 100)]  "
      ]
     },
     "execution_count": 15,
     "metadata": {},
     "output_type": "execute_result"
    }
   ],
   "source": [
    "merged[['GUID', 'twitter_screen_name', 'cleaned_twitter_name', 'sehir_matches']].tail(5)"
   ]
  },
  {
   "cell_type": "code",
   "execution_count": 16,
   "metadata": {},
   "outputs": [],
   "source": [
    "merged.to_csv('datasets/sehir_matches.csv', index_label=\"GUID\")"
   ]
  },
  {
   "cell_type": "code",
   "execution_count": 17,
   "metadata": {},
   "outputs": [],
   "source": [
    "merged = pd.read_csv('datasets/sehir_matches.csv', index_col=\"GUID\")"
   ]
  },
  {
   "cell_type": "code",
   "execution_count": 18,
   "metadata": {},
   "outputs": [
    {
     "data": {
      "text/html": [
       "<div>\n",
       "<style scoped>\n",
       "    .dataframe tbody tr th:only-of-type {\n",
       "        vertical-align: middle;\n",
       "    }\n",
       "\n",
       "    .dataframe tbody tr th {\n",
       "        vertical-align: top;\n",
       "    }\n",
       "\n",
       "    .dataframe thead th {\n",
       "        text-align: right;\n",
       "    }\n",
       "</style>\n",
       "<table border=\"1\" class=\"dataframe\">\n",
       "  <thead>\n",
       "    <tr style=\"text-align: right;\">\n",
       "      <th></th>\n",
       "      <th>sehir_matches</th>\n",
       "      <th>twitter_screen_name</th>\n",
       "      <th>GUID.1</th>\n",
       "      <th>twitter_name</th>\n",
       "      <th>profile_description</th>\n",
       "      <th>favourites_count</th>\n",
       "      <th>statuses_count</th>\n",
       "      <th>lang</th>\n",
       "      <th>cleaned_twitter_name</th>\n",
       "    </tr>\n",
       "    <tr>\n",
       "      <th>GUID</th>\n",
       "      <th></th>\n",
       "      <th></th>\n",
       "      <th></th>\n",
       "      <th></th>\n",
       "      <th></th>\n",
       "      <th></th>\n",
       "      <th></th>\n",
       "      <th></th>\n",
       "      <th></th>\n",
       "    </tr>\n",
       "  </thead>\n",
       "  <tbody>\n",
       "    <tr>\n",
       "      <th>0</th>\n",
       "      <td>[('elif ozturk', 100)]</td>\n",
       "      <td>bidikshowtime</td>\n",
       "      <td>2924769794</td>\n",
       "      <td>Elif Öztürk</td>\n",
       "      <td>Çanakkale Fen Lisesi'nde okumuş, Boğaziçi Üniv...</td>\n",
       "      <td>1</td>\n",
       "      <td>2</td>\n",
       "      <td>en</td>\n",
       "      <td>elif ozturk</td>\n",
       "    </tr>\n",
       "    <tr>\n",
       "      <th>1</th>\n",
       "      <td>[('mehmet ozdemir', 100)]</td>\n",
       "      <td>Mehmet317213</td>\n",
       "      <td>936648794699116546</td>\n",
       "      <td>Mehmet Özdemir</td>\n",
       "      <td>NaN</td>\n",
       "      <td>0</td>\n",
       "      <td>0</td>\n",
       "      <td>tr</td>\n",
       "      <td>mehmet ozdemir</td>\n",
       "    </tr>\n",
       "    <tr>\n",
       "      <th>2</th>\n",
       "      <td>[('ahmet emir', 95), ('ahmet demir98', 92)]</td>\n",
       "      <td>ahmetde43241739</td>\n",
       "      <td>935555760322433025</td>\n",
       "      <td>ahmet demir</td>\n",
       "      <td>NaN</td>\n",
       "      <td>0</td>\n",
       "      <td>9</td>\n",
       "      <td>tr</td>\n",
       "      <td>ahmet demir</td>\n",
       "    </tr>\n",
       "    <tr>\n",
       "      <th>3</th>\n",
       "      <td>[('mehmed celik', 92), ('mehmed celik', 92)]</td>\n",
       "      <td>CelikMfc23</td>\n",
       "      <td>3311807019</td>\n",
       "      <td>Mehmet Celik</td>\n",
       "      <td>NaN</td>\n",
       "      <td>226</td>\n",
       "      <td>9</td>\n",
       "      <td>de</td>\n",
       "      <td>mehmet celik</td>\n",
       "    </tr>\n",
       "    <tr>\n",
       "      <th>4</th>\n",
       "      <td>[('meliksah aydin', 92)]</td>\n",
       "      <td>MelisaA85500624</td>\n",
       "      <td>934602584349986816</td>\n",
       "      <td>Melisa Aydin</td>\n",
       "      <td>NaN</td>\n",
       "      <td>0</td>\n",
       "      <td>0</td>\n",
       "      <td>tr</td>\n",
       "      <td>melisa aydin</td>\n",
       "    </tr>\n",
       "  </tbody>\n",
       "</table>\n",
       "</div>"
      ],
      "text/plain": [
       "                                     sehir_matches twitter_screen_name  \\\n",
       "GUID                                                                     \n",
       "0                           [('elif ozturk', 100)]       bidikshowtime   \n",
       "1                        [('mehmet ozdemir', 100)]        Mehmet317213   \n",
       "2      [('ahmet emir', 95), ('ahmet demir98', 92)]     ahmetde43241739   \n",
       "3     [('mehmed celik', 92), ('mehmed celik', 92)]          CelikMfc23   \n",
       "4                         [('meliksah aydin', 92)]     MelisaA85500624   \n",
       "\n",
       "                  GUID.1    twitter_name  \\\n",
       "GUID                                       \n",
       "0             2924769794     Elif Öztürk   \n",
       "1     936648794699116546  Mehmet Özdemir   \n",
       "2     935555760322433025     ahmet demir   \n",
       "3             3311807019    Mehmet Celik   \n",
       "4     934602584349986816    Melisa Aydin   \n",
       "\n",
       "                                    profile_description  favourites_count  \\\n",
       "GUID                                                                        \n",
       "0     Çanakkale Fen Lisesi'nde okumuş, Boğaziçi Üniv...                 1   \n",
       "1                                                   NaN                 0   \n",
       "2                                                   NaN                 0   \n",
       "3                                                   NaN               226   \n",
       "4                                                   NaN                 0   \n",
       "\n",
       "      statuses_count lang cleaned_twitter_name  \n",
       "GUID                                            \n",
       "0                  2   en          elif ozturk  \n",
       "1                  0   tr       mehmet ozdemir  \n",
       "2                  9   tr          ahmet demir  \n",
       "3                  9   de         mehmet celik  \n",
       "4                  0   tr         melisa aydin  "
      ]
     },
     "execution_count": 18,
     "metadata": {},
     "output_type": "execute_result"
    }
   ],
   "source": [
    "merged.head(5)"
   ]
  },
  {
   "cell_type": "code",
   "execution_count": 30,
   "metadata": {},
   "outputs": [
    {
     "data": {
      "text/plain": [
       "'3000 twitter accounts have been matched successfully'"
      ]
     },
     "execution_count": 30,
     "metadata": {},
     "output_type": "execute_result"
    }
   ],
   "source": [
    "'{} twitter accounts have been matched successfully'.format(len(merged))"
   ]
  },
  {
   "cell_type": "code",
   "execution_count": 28,
   "metadata": {},
   "outputs": [],
   "source": [
    "# sehir_matches_by_guid = merged.set_index('GUID')"
   ]
  },
  {
   "cell_type": "code",
   "execution_count": null,
   "metadata": {},
   "outputs": [],
   "source": [
    "number_of_matches, _ = merged.shape\n",
    "\n",
    "network = Graph(directed=True)\n",
    "network.add_vertex(number_of_matches)\n",
    "\n",
    "vprop = network.new_vertex_property(\"string\")\n",
    "\n",
    "for vertex, twitter_screen_name in zip(network.vertices(), merged['twitter_screen_name'].values):\n",
    "    vprop[vertex] = twitter_screen_name\n",
    "    \n",
    "network.vertex_properties[\"twitter_screen_name\"] = vprop\n",
    "\n",
    "for i, row in user_connections.iterrows():\n",
    "    from_ = row['from_user_id']\n",
    "    to = row['to_user_id']\n",
    "    \n",
    "    try:\n",
    "        network.add_edge(find_vertex(network, vprop, sehir_matches_by_guid.loc[from_]['twitter_name']), \n",
    "                         find_vertex(network, vprop, sehir_matches_by_guid.loc[to]['twitter_name']))\n",
    "    except Exception as e:\n",
    "        pass"
   ]
  },
  {
   "cell_type": "markdown",
   "metadata": {},
   "source": [
    "## Network has no edges only because a every small subset of the data was parsed"
   ]
  },
  {
   "cell_type": "code",
   "execution_count": null,
   "metadata": {},
   "outputs": [],
   "source": [
    "graph_draw(network, vertex_text=network.vertex_properties[\"twitter_screen_name\"],\n",
    "           vertex_font_size=40,\n",
    "           output_size=(10000, 10000), output=\"sehir_subset.png\")"
   ]
  },
  {
   "cell_type": "code",
   "execution_count": null,
   "metadata": {},
   "outputs": [],
   "source": []
  }
 ],
 "metadata": {
  "anaconda-cloud": {},
  "kernelspec": {
   "display_name": "Python 3",
   "language": "python",
   "name": "python3"
  },
  "language_info": {
   "codemirror_mode": {
    "name": "ipython",
    "version": 3
   },
   "file_extension": ".py",
   "mimetype": "text/x-python",
   "name": "python",
   "nbconvert_exporter": "python",
   "pygments_lexer": "ipython3",
   "version": "3.5.2"
  }
 },
 "nbformat": 4,
 "nbformat_minor": 2
}
